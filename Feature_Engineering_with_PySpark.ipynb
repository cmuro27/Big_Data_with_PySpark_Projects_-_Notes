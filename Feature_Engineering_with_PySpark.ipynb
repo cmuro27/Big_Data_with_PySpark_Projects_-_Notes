{
 "cells": [
  {
   "attachments": {},
   "cell_type": "markdown",
   "metadata": {},
   "source": [
    "# Feature engineering with PySpark - DataCamp\n",
    "### Notes by César Muro"
   ]
  },
  {
   "attachments": {},
   "cell_type": "markdown",
   "metadata": {},
   "source": [
    "Feature engineering is the process of using domain knowledge to create new features to help our models perform better.  \n",
    "* You need to research your data and become your own expert\n",
    "* Define goals of analysis\n",
    "* Be curious and ask questions\n"
   ]
  },
  {
   "cell_type": "code",
   "execution_count": 2,
   "metadata": {},
   "outputs": [],
   "source": [
    "import os\n",
    "import sys\n",
    "\n",
    "os.environ['PYSPARK_PYTHON']= sys.executable\n",
    "os.environ['PYSPARK_DRIVER_PYTHON']=sys.executable\n"
   ]
  },
  {
   "cell_type": "code",
   "execution_count": 3,
   "metadata": {},
   "outputs": [
    {
     "data": {
      "text/plain": [
       "'C:\\\\spark-3.3.2-bin-hadoop2'"
      ]
     },
     "execution_count": 3,
     "metadata": {},
     "output_type": "execute_result"
    }
   ],
   "source": [
    "import findspark\n",
    "findspark.init()\n",
    "findspark.find()"
   ]
  },
  {
   "cell_type": "code",
   "execution_count": 4,
   "metadata": {},
   "outputs": [],
   "source": [
    "from pyspark.sql import SparkSession\n",
    "spark=SparkSession.builder.getOrCreate()"
   ]
  },
  {
   "cell_type": "code",
   "execution_count": 5,
   "metadata": {},
   "outputs": [
    {
     "name": "stdout",
     "output_type": "stream",
     "text": [
      "PySpark version: 3.3.2\n",
      "Python version of Spark Context version :3.9\n",
      "The master of Spark Context in the PySpark shell is :local[*]\n"
     ]
    }
   ],
   "source": [
    "print(\"PySpark version: \"+ spark.version)\n",
    "print('Python version of Spark Context version :'+spark.sparkContext.pythonVer)\n",
    "print('The master of Spark Context in the PySpark shell is :'+spark.sparkContext.master)"
   ]
  },
  {
   "attachments": {},
   "cell_type": "markdown",
   "metadata": {},
   "source": [
    "We will be using parquet files. Parquet data is columnar, meaning that is organized by columns, an important feature for huge datasets.\n",
    "* They are structured, defined schema.\n",
    "   - Fields and Data Types defined\n",
    "   - Great for messy text data\n",
    "   - spark.read.parque('.parquet')"
   ]
  },
  {
   "cell_type": "code",
   "execution_count": 6,
   "metadata": {},
   "outputs": [
    {
     "name": "stdout",
     "output_type": "stream",
     "text": [
      "['No.', 'MLSID', 'StreetNumberNumeric', 'streetaddress', 'STREETNAME', 'PostalCode', 'StateOrProvince', 'City', 'SalesClosePrice', 'LISTDATE', 'LISTPRICE', 'LISTTYPE', 'OriginalListPrice', 'PricePerTSFT', 'FOUNDATIONSIZE', 'FENCE', 'MapLetter', 'LotSizeDimensions', 'SchoolDistrictNumber', 'DAYSONMARKET', 'offmarketdate', 'Fireplaces', 'RoomArea4', 'roomtype', 'ROOF', 'RoomFloor4', 'PotentialShortSale', 'PoolDescription', 'PDOM', 'GarageDescription', 'SQFTABOVEGROUND', 'Taxes', 'RoomFloor1', 'RoomArea1', 'TAXWITHASSESSMENTS', 'TAXYEAR', 'LivingArea', 'UNITNUMBER', 'YEARBUILT', 'ZONING', 'STYLE', 'ACRES', 'CoolingDescription', 'APPLIANCES', 'backonmarketdate', 'ROOMFAMILYCHAR', 'RoomArea3', 'EXTERIOR', 'RoomFloor3', 'RoomFloor2', 'RoomArea2', 'DiningRoomDescription', 'BASEMENT', 'BathsFull', 'BathsHalf', 'BATHQUARTER', 'BATHSTHREEQUARTER', 'Class', 'BATHSTOTAL', 'BATHDESC', 'RoomArea5', 'RoomFloor5', 'RoomArea6', 'RoomFloor6', 'RoomArea7', 'RoomFloor7', 'RoomArea8', 'RoomFloor8', 'Bedrooms', 'SQFTBELOWGROUND', 'AssumableMortgage', 'AssociationFee', 'ASSESSMENTPENDING', 'AssessedValuation']\n"
     ]
    }
   ],
   "source": [
    "# The dataset provided is in csv format, so we need to convert it to parquet format\n",
    "df_csv=spark.read.csv('feature_engineering_with_pyspark/2017_StPaul_MN_Real_Estate.csv',header=True)\n",
    "df_csv.write.parquet('Real_Estate.parquet', mode='overwrite')\n",
    "df=spark.read.parquet('Real_Estate.parquet')\n",
    "print(df.columns)\n"
   ]
  },
  {
   "attachments": {},
   "cell_type": "markdown",
   "metadata": {},
   "source": [
    "**Defining a problem**  \n",
    "We will define our problem and the context of our data.  \n",
    "We are going to build a model to predict how much  a house sells for\n",
    "* Given is listed price and features\n",
    "  - $X$, independent 'known' variables\n",
    "* How much to buy the house for\n",
    "  - $Y$, dependent 'unknown' variable\n",
    "  - SALESCLOSERPRICE"
   ]
  },
  {
   "attachments": {},
   "cell_type": "markdown",
   "metadata": {},
   "source": [
    "We need to understand the context and limitations of the data we have:\n",
    "* We only have a small geographical area, so apply our model to other areas is a serius risks\n",
    "* We only have residential data, so we should not expect to predict how much a business location is worth\n",
    "* We only have one year's worth of data which will make it hard to draw strong conclussion about seasonality in this dataset"
   ]
  },
  {
   "attachments": {},
   "cell_type": "markdown",
   "metadata": {},
   "source": [
    "What types of attributes are avalaible?  \n",
    "* Dates:  \n",
    "  - Data lsited\n",
    "  - Year built  \n",
    "* Location:  \n",
    "   - City\n",
    "   - School District\n",
    "   - Address\n",
    "* Size:  \n",
    "   - number of bedrooms and bathrooms\n",
    "   - living area  \n",
    "* Price\n",
    "   - List price\n",
    "   - Sales closing price\n",
    "* Amenities\n",
    "   - Pool\n",
    "   - Fireplace\n",
    "   - Garage\n",
    "* Construction Materials\n",
    "    - Siding\n",
    "    - Roofing"
   ]
  },
  {
   "attachments": {},
   "cell_type": "markdown",
   "metadata": {},
   "source": [
    "**Validating your data load**\n",
    "* df.count() for row count\n",
    "* df.columns a list of columns\n",
    "* len(df.columns)\n",
    "  \n",
    "Checking datatypes:  \n",
    "* df.dtypes  "
   ]
  },
  {
   "attachments": {},
   "cell_type": "markdown",
   "metadata": {},
   "source": [
    "What are we predicting?\n",
    "\n",
    "Which of these fields (or columns) is the value we are trying to predict for?\n",
    "\n",
    "*    TAXES\n",
    "*    SALESCLOSEPRICE\n",
    "*    DAYSONMARKET\n",
    "*    LISTPRICE\n"
   ]
  },
  {
   "cell_type": "code",
   "execution_count": 6,
   "metadata": {},
   "outputs": [
    {
     "name": "stdout",
     "output_type": "stream",
     "text": [
      "+-------+------------------+\n",
      "|summary|   SALESCLOSEPRICE|\n",
      "+-------+------------------+\n",
      "|  count|              5000|\n",
      "|   mean|       262804.4668|\n",
      "| stddev|140559.82591998563|\n",
      "|    min|            100000|\n",
      "|    max|             99900|\n",
      "+-------+------------------+\n",
      "\n"
     ]
    }
   ],
   "source": [
    "# Select our dependent variable\n",
    "Y_df = df.select(['SALESCLOSEPRICE'])\n",
    "\n",
    "# Display summary statistics\n",
    "Y_df.describe().show()"
   ]
  },
  {
   "attachments": {},
   "cell_type": "markdown",
   "metadata": {},
   "source": [
    "Verifying Data Load\n",
    "\n",
    "Let's suppose each month you get a new file. You know to expect a certain number of records and columns. In this exercise we will create a function that will validate the file loaded.\n",
    "\n",
    "*    Create a data validation function check_load() with parameters df a dataframe, num_records as the number of records and num_columns the number of columns.\n",
    "*    Using num_records create a check to see if the input dataframe df has the same amount with count().\n",
    "*    Compare input number of columns the input dataframe has withnum_columns by using len() on columns.\n",
    "*    If both of these return True, then print Validation Passed\n"
   ]
  },
  {
   "cell_type": "code",
   "execution_count": 7,
   "metadata": {},
   "outputs": [
    {
     "name": "stdout",
     "output_type": "stream",
     "text": [
      "Validation Passed\n"
     ]
    }
   ],
   "source": [
    "def check_load(df, num_records, num_columns):\n",
    "  # Takes a dataframe and compares record and column counts to input\n",
    "  # Message to return if the critera below aren't met\n",
    "  message = 'Validation Failed'\n",
    "  # Check number of records\n",
    "  if num_records == df.count():\n",
    "    # Check number of columns\n",
    "    if num_columns == len(df.columns):\n",
    "      # Success message\n",
    "      message = 'Validation Passed'\n",
    "  return message\n",
    "\n",
    "# Print the data validation message\n",
    "print(check_load(df, 5000, 74))"
   ]
  },
  {
   "attachments": {},
   "cell_type": "markdown",
   "metadata": {},
   "source": [
    "Verifying DataTypes\n",
    "\n",
    "In the age of data we have access to more attributes than we ever had before. To handle all of them we will build a lot of automation but at a minimum requires that their datatypes be correct. In this exercise we will validate a dictionary of attributes and their datatypes to see if they are correct. This dictionary is stored in the variable validation_dict and is available in your workspace.\n",
    "\n",
    "\n",
    "*    Using df create a list of attribute and datatype tuples with dtypes called actual_dtypes_list.\n",
    "*    Iterate through actual_dtypes_list, checking if the column names exist in the dictionary of expected dtypes validation_dict.\n",
    "*    For the keys that exist in the dictionary, check their dtypes and print those that match.\n"
   ]
  },
  {
   "cell_type": "code",
   "execution_count": 8,
   "metadata": {},
   "outputs": [
    {
     "name": "stdout",
     "output_type": "stream",
     "text": [
      "[('No.', 'string'), ('MLSID', 'string'), ('StreetNumberNumeric', 'string'), ('streetaddress', 'string'), ('STREETNAME', 'string'), ('PostalCode', 'string'), ('StateOrProvince', 'string'), ('City', 'string'), ('SalesClosePrice', 'string'), ('LISTDATE', 'string'), ('LISTPRICE', 'string'), ('LISTTYPE', 'string'), ('OriginalListPrice', 'string'), ('PricePerTSFT', 'string'), ('FOUNDATIONSIZE', 'string'), ('FENCE', 'string'), ('MapLetter', 'string'), ('LotSizeDimensions', 'string'), ('SchoolDistrictNumber', 'string'), ('DAYSONMARKET', 'string'), ('offmarketdate', 'string'), ('Fireplaces', 'string'), ('RoomArea4', 'string'), ('roomtype', 'string'), ('ROOF', 'string'), ('RoomFloor4', 'string'), ('PotentialShortSale', 'string'), ('PoolDescription', 'string'), ('PDOM', 'string'), ('GarageDescription', 'string'), ('SQFTABOVEGROUND', 'string'), ('Taxes', 'string'), ('RoomFloor1', 'string'), ('RoomArea1', 'string'), ('TAXWITHASSESSMENTS', 'string'), ('TAXYEAR', 'string'), ('LivingArea', 'string'), ('UNITNUMBER', 'string'), ('YEARBUILT', 'string'), ('ZONING', 'string'), ('STYLE', 'string'), ('ACRES', 'string'), ('CoolingDescription', 'string'), ('APPLIANCES', 'string'), ('backonmarketdate', 'string'), ('ROOMFAMILYCHAR', 'string'), ('RoomArea3', 'string'), ('EXTERIOR', 'string'), ('RoomFloor3', 'string'), ('RoomFloor2', 'string'), ('RoomArea2', 'string'), ('DiningRoomDescription', 'string'), ('BASEMENT', 'string'), ('BathsFull', 'string'), ('BathsHalf', 'string'), ('BATHQUARTER', 'string'), ('BATHSTHREEQUARTER', 'string'), ('Class', 'string'), ('BATHSTOTAL', 'string'), ('BATHDESC', 'string'), ('RoomArea5', 'string'), ('RoomFloor5', 'string'), ('RoomArea6', 'string'), ('RoomFloor6', 'string'), ('RoomArea7', 'string'), ('RoomFloor7', 'string'), ('RoomArea8', 'string'), ('RoomFloor8', 'string'), ('Bedrooms', 'string'), ('SQFTBELOWGROUND', 'string'), ('AssumableMortgage', 'string'), ('AssociationFee', 'string'), ('ASSESSMENTPENDING', 'string'), ('AssessedValuation', 'string')]\n",
      "AssumableMortgage has expected dtype.\n",
      "ASSESSMENTPENDING has expected dtype.\n"
     ]
    }
   ],
   "source": [
    "validation_dict= {'ASSESSMENTPENDING': 'string','AssessedValuation': 'double', 'AssociationFee': 'bigint',\n",
    "'AssumableMortgage': 'string','SQFTBELOWGROUND': 'bigint'}\n",
    "# create list of actual dtypes to check\n",
    "actual_dtypes_list = df.dtypes\n",
    "print(actual_dtypes_list)\n",
    "\n",
    "# Iterate through the list of actual dtypes tuples\n",
    "for attribute_tuple in actual_dtypes_list:\n",
    "  \n",
    "  # Check if column name is dictionary of expected dtypes\n",
    "  col_name = attribute_tuple[0]\n",
    "  if col_name in validation_dict:\n",
    "\n",
    "    # Compare attribute types\n",
    "    col_type = attribute_tuple[1]\n",
    "    if col_type == validation_dict[col_name]:\n",
    "      print(col_name + ' has expected dtype.')"
   ]
  },
  {
   "attachments": {},
   "cell_type": "markdown",
   "metadata": {},
   "source": [
    "**Visually Inspecting Data / EDA**  \n",
    "In the field, you will be tasked with using less than perfect data. This mean, we need to understand its strenghts, weaknesses, and limitations to leverage it effectively.  \n",
    "* Take a pick on each column to see what thet contain\n",
    "  - df.describe(['']).show(), df.describe().show()  \n",
    "* We also have agg methods:  \n",
    "  - df.agg({'SALESCLOSEPRICE': 'mean'}).collect()  \n",
    "* Covariance:  \n",
    "   - df.cov('col_1','col_2')\n",
    "    \n",
    "Notes on plotting:  \n",
    "* Plotting PySpark dataFrames using standard libraries like Seaborn requiere conversion to Pandas.  \n",
    "* WARNING: Sample PySpark dataFrames before converting to Pandas\n",
    "* sample(withReplacement, fraction, seed=None) \n",
    "* Seaborn distplot \n",
    "import seaborn as sns  \n",
    "sample_df=df.select(['SALESCLOSEPRICE]).sample(FALSE, 0.5,42)  \n",
    "pandas_df=sample_df.toPandas()  \n",
    "sns.distplot(pandas_df)\n",
    "* Seaborn: sns.lmplot(x,y,data)"
   ]
  },
  {
   "attachments": {},
   "cell_type": "markdown",
   "metadata": {},
   "source": [
    "Using Corr()\n",
    "\n",
    "The old adage 'Correlation does not imply Causation' is a cautionary tale. However, correlation does give us a good nudge to know where to start looking promising features to use in our models. Use this exercise to get a feel for searching through your data for the first time, trying to find patterns.  \n",
    "  \n",
    "\n",
    "*    Use a for loop iterate through the columns.\n",
    "*    In each loop cycle, compute the correlation between the current column and 'SALESCLOSEPRICE' using the corr() method.\n",
    "*    Create logic to update the maximum observed correlation and with which column.\n",
    "*    Print out the name of the column that has the maximum correlation with 'SALESCLOSEPRICE'.\n"
   ]
  },
  {
   "cell_type": "code",
   "execution_count": 9,
   "metadata": {},
   "outputs": [],
   "source": [
    "from pyspark.sql.functions import col\n",
    "columns=['FOUNDATIONSIZE','DAYSONMARKET','FIREPLACES', 'PDOM', 'SQFTABOVEGROUND', 'TAXES', 'TAXWITHASSESSMENTS',\n",
    " 'TAXYEAR', 'LIVINGAREA', 'YEARBUILT', 'ACRES', 'BACKONMARKETDATE', 'BATHSFULL', 'BATHSHALF', 'BATHQUARTER', 'BATHSTHREEQUARTER', 'BATHSTOTAL',\n",
    " 'BEDROOMS', 'SQFTBELOWGROUND', 'ASSOCIATIONFEE', 'ASSESSEDVALUATION']\n",
    "\n",
    "# We need the convert these columns to numeric type\n",
    "for column in columns:\n",
    "    df = df.withColumn(column, col(column).cast(\"double\"))\n"
   ]
  },
  {
   "cell_type": "code",
   "execution_count": 10,
   "metadata": {},
   "outputs": [
    {
     "name": "stdout",
     "output_type": "stream",
     "text": [
      "+---+-----+-------------------+--------------------+----------+----------+---------------+----------------+---------------+---------------+---------+---------------+-----------------+------------+--------------+----------------+---------+--------------------+--------------------+------------+---------------+----------+---------+--------------------+--------------------+----------+------------------+---------------+----+--------------------+---------------+------+----------+---------+------------------+-------+----------+----------+---------+------------------+--------------------+-----+------------------+--------------------+----------------+--------------------+---------+--------------------+----------+----------+---------+---------------------+--------------------+---------+---------+-----------+-----------------+-----+----------+--------------------+---------+----------+---------+----------+---------+----------+---------+----------+--------+---------------+-----------------+--------------+-----------------+-----------------+\n",
      "|No.|MLSID|StreetNumberNumeric|       streetaddress|STREETNAME|PostalCode|StateOrProvince|            City|SalesClosePrice|       LISTDATE|LISTPRICE|       LISTTYPE|OriginalListPrice|PricePerTSFT|FOUNDATIONSIZE|           FENCE|MapLetter|   LotSizeDimensions|SchoolDistrictNumber|DAYSONMARKET|  offmarketdate|FIREPLACES|RoomArea4|            roomtype|                ROOF|RoomFloor4|PotentialShortSale|PoolDescription|PDOM|   GarageDescription|SQFTABOVEGROUND| TAXES|RoomFloor1|RoomArea1|TAXWITHASSESSMENTS|TAXYEAR|LIVINGAREA|UNITNUMBER|YEARBUILT|            ZONING|               STYLE|ACRES|CoolingDescription|          APPLIANCES|BACKONMARKETDATE|      ROOMFAMILYCHAR|RoomArea3|            EXTERIOR|RoomFloor3|RoomFloor2|RoomArea2|DiningRoomDescription|            BASEMENT|BATHSFULL|BATHSHALF|BATHQUARTER|BATHSTHREEQUARTER|Class|BATHSTOTAL|            BATHDESC|RoomArea5|RoomFloor5|RoomArea6|RoomFloor6|RoomArea7|RoomFloor7|RoomArea8|RoomFloor8|BEDROOMS|SQFTBELOWGROUND|AssumableMortgage|ASSOCIATIONFEE|ASSESSMENTPENDING|ASSESSEDVALUATION|\n",
      "+---+-----+-------------------+--------------------+----------+----------+---------------+----------------+---------------+---------------+---------+---------------+-----------------+------------+--------------+----------------+---------+--------------------+--------------------+------------+---------------+----------+---------+--------------------+--------------------+----------+------------------+---------------+----+--------------------+---------------+------+----------+---------+------------------+-------+----------+----------+---------+------------------+--------------------+-----+------------------+--------------------+----------------+--------------------+---------+--------------------+----------+----------+---------+---------------------+--------------------+---------+---------+-----------+-----------------+-----+----------+--------------------+---------+----------+---------+----------+---------+----------+---------+----------+--------+---------------+-----------------+--------------+-----------------+-----------------+\n",
      "|  1| RMLS|              11511|11511 Stillwater ...|Stillwater|     55042|             MN|LELM - Lake Elmo|         143000| 7/15/2017 0:00|   139900|Exclusive Right|           139900|    145.9184|         980.0|           Other|       C4|             279X200|    834 - Stillwater|        10.0| 7/30/2017 0:00|       0.0|  12 x  9|Living Room, Dini...|                null|      Main|                No|           null|10.0|     Attached Garage|          980.0|1858.0|      Main|  16 x 13|            1858.0| 2017.0|     980.0|      null|   1950.0|Residential-Single|      (SF) One Story| 1.28|           Central|Range, Dishwasher...|            null|                null|     null|               Vinyl|      null|      Main|   9 x  7|       Eat In Kitchen|                Full|      1.0|      1.0|        0.0|              0.0|   SF|       2.0|Main Floor 3/4 Ba...|  13 x 11|      Main|  10 x 10|      Main|     null|      null|     null|      null|     3.0|            0.0|             null|           0.0|          Unknown|              0.0|\n",
      "|  2| RMLS|              11200|     11200 31st St N|      31st|     55042|             MN|LELM - Lake Elmo|         190000| 10/9/2017 0:00|   210000|Exclusive Right|           210000|     85.2783|        1144.0|            null|       C1|             100x140|    834 - Stillwater|         4.0|10/13/2017 0:00|       0.0|    11x11|Living Room, Dini...|Asphalt Shingles,...|      Main|                No|           null| 4.0|Attached Garage, ...|         1268.0|1640.0|      Main|    22x14|            1640.0| 2017.0|    2228.0|      null|   1971.0|Residential-Single|(SF) Split Entry ...| 0.32|           Central|Range, Microwave,...|            null|         Lower Level|    22x14|               Vinyl|     Lower|      Main|    11x12| Informal Dining R...|Full, Partial Fin...|      1.0|      0.0|        0.0|              2.0|   SF|       3.0|Main Floor Full B...|    15x11|      Main|    14x11|      Main|    10x11|      Main|    11x11|     Lower|     4.0|          960.0|             null|           0.0|          Unknown|              0.0|\n",
      "|  3| RMLS|               8583|8583 Stillwater B...|Stillwater|     55042|             MN|LELM - Lake Elmo|         225000| 6/26/2017 0:00|   225000|Exclusive Right|           225000|    204.1742|        1102.0|            None|       E1|             120x296|622 - North St Pa...|        28.0| 7/24/2017 0:00|       0.0|    14x12|Living Room, Dini...|                null|      Main|                No|           None|28.0|     Attached Garage|         1102.0|2390.0|      Main|    20x13|            2390.0| 2016.0|    1102.0|      null|   1949.0|Residential-Single|      (SF) One Story|0.822|            Window|Range, Microwave,...|            null|                null|     null|        Cement Board|      null|      Main|    18x11| Informal Dining Room|Full, Crawl Space...|      1.0|      0.0|        0.0|              0.0|   SF|       1.0|Main Floor Full Bath|    12x12|      Main|    12x12|      Main|     null|      null|     null|      null|     2.0|            0.0|    Not Assumable|           0.0|               No|              0.0|\n",
      "|  4| RMLS|               9350|      9350 31st St N|      31st|     55042|             MN|LELM - Lake Elmo|         265000| 8/25/2017 0:00|   230000|Exclusive Right|           230000|    162.3775|         959.0|            None|       A1|             208X208|    834 - Stillwater|        19.0| 9/13/2017 0:00|       1.0|    12X16|Living Room, Dini...|Asphalt Shingles,...|      Main|                No|           None|19.0|Attached Garage, ...|         1284.0|2146.0|      null|     null|            2146.0| 2017.0|    1632.0|      null|   1960.0|Residential-Single|      (SF) One Story| 0.94|           Central|Range, Washer, Dryer|            null|          Main Level|    25X13|              Stucco|      Main|      Main|    20X11|                 null|Full, Partial Fin...|      1.0|      1.0|        0.0|              0.0|   SF|       2.0|Main Floor Full B...|    13X11|      Main|    13X10|      Main|     null|      null|     null|      null|     2.0|          348.0|             null|           0.0|          Unknown|              0.0|\n",
      "|  5| RMLS|               2915|   2915 Inwood Ave N|    Inwood|     55042|             MN|LELM - Lake Elmo|         249900| 9/12/2017 0:00|   239900|Exclusive Right|           239900|    121.7836|        1026.0|      Chain Link|       E1|             116x200|622 - North St Pa...|        21.0| 10/3/2017 0:00|       1.0|    12x10|Living Room, Dini...|Asphalt Shingles,...|      Main|                No|           null|21.0|Attached Garage, ...|         1026.0|2010.0|      Main|    22x14|            2010.0| 2017.0|    2052.0|      null|   1978.0|Residential-Single|(SF) Split Entry ...|  0.0|           Central|Range, Exhaust Fa...|            null|         Lower Level|    22x18|               Vinyl|     Lower|      Main|    12x10| Breakfast Area, K...|Walkout, Full, Fi...|      1.0|      0.0|        0.0|              1.0|   SF|       2.0|Main Floor Full B...|    13x11|      Main|    13x12|      Main|    14x13|     Lower|     null|      null|     3.0|         1026.0|             null|           0.0|               No|              0.0|\n",
      "|  6| RMLS|               3604|   3604 Layton Ave N|    Layton|     55042|             MN|LELM - Lake Elmo|         255000| 4/10/2017 0:00|   239900|Exclusive Right|           239900|     182.534|        1152.0|            null|       C1|              50x150|    834 - Stillwater|        17.0| 4/27/2017 0:00|       1.0|  11 x 11|Living Room, Dini...|Asphalt Shingles,...|      Main|                No|           null|17.0|Attached Garage, ...|         1397.0|1491.0|      Main|  19 x 13|            1494.0| 2016.0|    1397.0|      null|   1965.0|Residential-Single|      (SF) One Story|0.172|           Central|Range, Microwave,...|            null|                null|     null|        Metal, Vinyl|      null|      Main|  10 x 13| Separate/Formal D...|Full, Sump Pump, ...|      2.0|      0.0|        0.0|              0.0|   SF|       2.0|Main Floor Full B...|25.5 x 11|      Main|  10 x 11|      Main| 9.5 x 10|      Main|     null|      null|     3.0|            0.0|    Not Assumable|           0.0|               No|              3.0|\n",
      "|  7| RMLS|               9957|9957 5th Street Ln N|5th Street|     55042|             MN|LELM - Lake Elmo|         248000|  6/8/2017 0:00|   250000|Exclusive Right|           265000|     137.931|         700.0|            null|       A4|              common|    834 - Stillwater|        32.0| 7/10/2017 0:00|       0.0|     14x9|Living Room, Dini...|Asphalt Shingles,...|      Main|                No|           null|19.0|Attached Garage, ...|         1798.0|2165.0|      Main|    13x15|            2168.0| 2017.0|    1798.0|      null|   2015.0|Residential-Single|    (TH) Side x Side| 0.05|           Central|Range, Microwave,...|            null|                Loft|     null|Shakes, Metal, Vi...|      null|      Main|    11x13| Informal Dining R...|                Slab|      1.0|      1.0|        0.0|              1.0|   SF|       3.0|Main Floor 1/2 Ba...|  13x19.6|     Upper|  11x13.6|     Upper|  11x13.6|     Upper|     null|      null|     3.0|            0.0|             null|         200.0|              Yes|              3.0|\n",
      "|  8| RMLS|               9934|9934 5th Street Ln N|5th Street|     55042|             MN|LELM - Lake Elmo|         245000| 11/5/2017 0:00|   254990|Exclusive Right|           273417|    141.3733|        1088.0|         Partial|       A4|              common|    834 - Stillwater|         5.0|11/10/2017 0:00|       0.0|   12 x 8|Living Room, Dini...|    Asphalt Shingles|      Main|                No|           null| 1.0|     Attached Garage|         1733.0|   0.0|      Main|  12 x 13|               0.0| 2017.0|    1733.0|      null|   2017.0|Residential-Single| (TH) Quad/4 Corners| 0.05|           Central|Range, Microwave,...|            null|Main Level, Famil...|     null|               Vinyl|      null|      Main|  12 x 10| Informal Dining R...|                None|      2.0|      1.0|        0.0|              0.0|   SF|       3.0|Main Floor 1/2 Ba...|  12 x 11|     Upper|  11 x 13|     Upper|  11 x 13|     Upper|     null|      null|     3.0|            0.0|             null|         200.0|               No|              0.0|\n",
      "|  9| RMLS|               9926|9926 5th Street Ln N|5th Street|     55042|             MN|LELM - Lake Elmo|         254990|10/12/2017 0:00|   254990|Exclusive Right|           273152|    147.1379|        1088.0|         Partial|       E1|              common|    834 - Stillwater|        23.0|11/11/2017 0:00|       0.0|   12 x 8|Living Room, Dini...|    Asphalt Shingles|      Main|                No|           null| 5.0|     Attached Garage|         1733.0|   0.0|      Main|  12 x 13|               0.0| 2017.0|    1733.0|      null|   2017.0|Residential-Single| (TH) Quad/4 Corners| 0.05|           Central|Range, Microwave,...|            null|                null|     null|               Vinyl|      null|      Main|  12 x 10| Informal Dining R...|                None|      1.0|      1.0|        0.0|              1.0|   SF|       3.0|Main Floor 1/2 Ba...|  12 x 11|     Upper|  11 x 13|     Upper|  11 x 13|     Upper|     null|      null|     3.0|            0.0|             null|         200.0|               No|              0.0|\n",
      "| 10| RMLS|               9928|9928 5th Street Ln N|5th Street|     55042|             MN|LELM - Lake Elmo|         250000|  9/2/2017 0:00|   255990|Exclusive Right|           273482|    144.2585|        1088.0|Privacy, Partial|       A4|              common|    834 - Stillwater|        73.0|11/20/2017 0:00|       0.0|   12 x 8|Living Room, Dini...|    Asphalt Shingles|      Main|                No|           null|11.0|     Attached Garage|         1733.0|   0.0|      Main|  12 x 13|               0.0| 2017.0|    1733.0|      null|   2017.0|Residential-Single| (TH) Quad/4 Corners| 0.05|           Central|Range, Microwave,...|            null|Main Level, Famil...|     null|               Vinyl|      null|      Main|  12 x 10| Informal Dining R...|                None|      1.0|      1.0|        0.0|              1.0|   SF|       3.0|Main Floor 1/2 Ba...|  12 x 11|     Upper|  11 x 13|     Upper|  11 x 13|     Upper|     null|      null|     3.0|            0.0|             null|         200.0|               No|              0.0|\n",
      "| 11| RMLS|               9902|9902 5th Street Ln N|5th Street|     55042|             MN|LELM - Lake Elmo|         254500| 5/19/2017 0:00|   259990|Exclusive Right|           267117|    146.8552|        1088.0|         Partial|       A4|              common|    834 - Stillwater|        80.0|  8/7/2017 0:00|       0.0|   12 x 8|Living Room, Dini...|    Asphalt Shingles|      Main|                No|           null| 7.0|     Attached Garage|         1733.0|   0.0|      Main|  12 x 13|               0.0| 2017.0|    1733.0|      null|   2017.0|Residential-Single| (TH) Quad/4 Corners| 0.05|           Central|Range, Microwave,...|            null|Main Level, Famil...|     null|               Vinyl|      null|      Main|  12 x 10| Informal Dining R...|                None|      1.0|      1.0|        0.0|              1.0|   SF|       3.0|Main Floor 1/2 Ba...|  12 x 11|     Upper|  11 x 13|     Upper|  11 x 13|     Upper|     null|      null|     3.0|            0.0|             null|         200.0|               No|              0.0|\n",
      "| 12| RMLS|               9904|9904 5th Street Ln N|5th Street|     55042|             MN|LELM - Lake Elmo|         253000| 5/11/2017 0:00|   259990|Exclusive Right|           268487|    145.9896|        1088.0|         Partial|       A4|              common|    834 - Stillwater|        79.0| 7/29/2017 0:00|       0.0|   12 x 8|Living Room, Dini...|    Asphalt Shingles|      Main|                No|           null|58.0|     Attached Garage|         1733.0|   0.0|      Main|  12 x 13|               0.0| 2017.0|    1733.0|      null|   2017.0|Residential-Single| (TH) Quad/4 Corners| 0.05|           Central|Range, Microwave,...|            null|                null|     null|               Vinyl|      null|      Main|  12 x 10| Informal Dining R...|                None|      1.0|      1.0|        0.0|              1.0|   SF|       3.0|Main Floor 1/2 Ba...|  12 x 11|     Upper|  11 x 13|     Upper|  11 x 13|     Upper|     null|      null|     3.0|            0.0|             null|         200.0|               No|              0.0|\n",
      "| 13| RMLS|               9894|9894 5th Street Ln N|5th Street|     55042|             MN|LELM - Lake Elmo|         257500| 3/12/2017 0:00|   259990|Exclusive Right|           268622|    148.5863|        1088.0|         Partial|       A4|              common|    834 - Stillwater|        12.0| 3/24/2017 0:00|       0.0|   12 x 8|Living Room, Dini...|    Asphalt Shingles|      Main|                No|           null| 8.0|     Attached Garage|         1733.0|   0.0|      Main|  12 x 13|               0.0| 2017.0|    1733.0|      null|   2017.0|Residential-Single| (TH) Quad/4 Corners| 0.05|           Central|Range, Microwave,...|            null|Main Level, Famil...|     null|               Vinyl|      null|      Main|  12 x 10| Informal Dining R...|                None|      2.0|      1.0|        0.0|              0.0|   SF|       3.0|Main Floor 1/2 Ba...|  12 x 11|     Upper|  11 x 13|     Upper|  11 x 13|     Upper|     null|      null|     3.0|            0.0|             null|         190.0|               No|              0.0|\n",
      "| 14| RMLS|               9892|    9892 5th St Ln N|    5th St|     55042|             MN|LELM - Lake Elmo|         272990|  3/6/2017 0:00|   269990|Exclusive Right|           279442|     154.844|        1088.0|Privacy, Partial|       A4|              COMMON|    834 - Stillwater|         1.0| 6/11/2017 0:00|       0.0|     12X8|Living Room, Dini...|Asphalt Shingles,...|      Main|                No|           null| 1.0|Attached Garage, ...|         1763.0|   0.0|      Main|    12X13|               0.0| 2016.0|    1763.0|      null|   2016.0|Residential-Single| (TH) Quad/4 Corners| 0.05|           Central|Range, Microwave,...|            null|Main Level, Great...|     null|Shakes, Metal, Vi...|      null|      Main|     3X10| Informal Dining R...|                None|      2.0|      1.0|        0.0|              0.0|   SF|       3.0|Main Floor 1/2 Ba...|    12X11|     Upper|    11X13|     Upper|    11X13|     Upper|     null|      null|     3.0|            0.0|             null|         200.0|               No|              0.0|\n",
      "| 15| RMLS|               9295|9295 Lake Jane Trl N| Lake Jane|     55042|             MN|LELM - Lake Elmo|         290000| 5/18/2017 0:00|   270000|Exclusive Right|           270000|    157.2668|        1844.0|            null|       A4|261 x 293 x 287 x...|    834 - Stillwater|        18.0|  6/5/2017 0:00|       1.0|    13x12|Living Room, Dini...|    Asphalt Shingles|      Main|                No|           None|18.0|Attached Garage, ...|         1844.0|2689.0|      Main|    21x19|            2692.0| 2017.0|    1844.0|      null|   1977.0|Residential-Single|      (SF) One Story|1.661|           Central|Cooktop, Wall Ove...|            null|                null|     null|  Metal, Brick/Stone|      null|      Main|    12x10| Informal Dining R...|Full, Concrete Bl...|      0.0|      0.0|        0.0|              3.0|   SF|       3.0|Main Floor 3/4 Ba...|    14x11|      Main|    12x11|      Main|     null|      null|     null|      null|     2.0|            0.0|             null|           0.0|              Yes|              3.0|\n",
      "| 16| RMLS|               9930|    9930 5th St Ln N|    5th St|     55042|             MN|LELM - Lake Elmo|         274000|10/15/2017 0:00|   274000|Exclusive Right|           274000|    155.4169|        1088.0|            null|       A4|               36X32|    834 - Stillwater|         2.0|10/17/2017 0:00|       0.0|     12X8|Living Room, Dini...|Asphalt Shingles,...|      Main|                No|           null| 2.0|Attached Garage, ...|         1763.0|   0.0|      Main|    12X13|               0.0| 2017.0|    1763.0|      null|   2017.0|Residential-Single| (TH) Quad/4 Corners| 0.05|           Central|Range, Microwave,...|            null|                Loft|     null|Shakes, Metal, Vi...|      null|      Main|     3X10| Informal Dining R...|                None|      1.0|      1.0|        0.0|              1.0|   SF|       3.0|Main Floor 1/2 Ba...|    12X11|     Upper|    11X13|     Upper|    11X13|     Upper|     null|      null|     3.0|            0.0|             null|         200.0|               No|              0.0|\n",
      "| 17| RMLS|               9898|    9898 5th St Ln N|    5th St|     55042|             MN|LELM - Lake Elmo|         274990| 9/10/2017 0:00|   274990|Exclusive Right|           289357|    155.9784|        1088.0|            null|       A4|               36X32|    834 - Stillwater|        12.0| 9/22/2017 0:00|       0.0|     12X8|Living Room, Dini...|Asphalt Shingles,...|      Main|                No|           null| 8.0|Attached Garage, ...|         1763.0|   0.0|      Main|    12X13|               0.0| 2017.0|    1763.0|      null|   2017.0|Residential-Single| (TH) Quad/4 Corners| 0.05|           Central|Range, Microwave,...|            null|                Loft|     null|Shakes, Metal, Vi...|      null|      Main|     3X10| Informal Dining R...|                None|      1.0|      1.0|        0.0|              1.0|   SF|       3.0|Main Floor 1/2 Ba...|    12X11|     Upper|    11X13|     Upper|    11X13|     Upper|     null|      null|     3.0|            0.0|             null|         200.0|               No|              0.0|\n",
      "| 18| RMLS|               9924|    9924 5th St Ln N|    5th St|     55042|             MN|LELM - Lake Elmo|         274000|  9/1/2017 0:00|   284990|Exclusive Right|           288342|    155.4169|        1088.0|Privacy, Partial|       A4|              COMMON|    834 - Stillwater|        45.0|10/16/2017 0:00|       0.0|     12X8|Living Room, Dini...|Asphalt Shingles,...|      Main|                No|           null|24.0|Attached Garage, ...|         1763.0|   0.0|      Main|    12X13|               0.0| 2017.0|    1763.0|      null|   2017.0|Residential-Single| (TH) Quad/4 Corners| 0.05|           Central|Range, Microwave,...|            null|Main Level, Great...|     null|Shakes, Metal, Vi...|      null|      Main|     3X10| Informal Dining R...|                None|      2.0|      1.0|        0.0|              0.0|   SF|       3.0|Main Floor 1/2 Ba...|    12X11|     Upper|    11X13|     Upper|    11X13|     Upper|     null|      null|     3.0|            0.0|             null|         200.0|               No|              0.0|\n",
      "| 19| RMLS|               9906|    9906 5th St Ln N|    5th St|     55042|             MN|LELM - Lake Elmo|         282000|  5/6/2017 0:00|   287452|Exclusive Right|           287452|    159.9546|        1088.0|            null|       A4|              COMMON|    834 - Stillwater|        31.0|  6/6/2017 0:00|       0.0|     12X8|Living Room, Dini...|Asphalt Shingles,...|      Main|                No|           null|31.0|Attached Garage, ...|         1763.0|   0.0|      Main|    12X13|               0.0| 2017.0|    1763.0|      null|   2017.0|Residential-Single| (TH) Quad/4 Corners| 0.05|           Central|Range, Microwave,...|            null|                Loft|     null|Shakes, Metal, Vi...|      null|      Main|     3X10| Informal Dining R...|                None|      1.0|      1.0|        0.0|              1.0|   SF|       3.0|Main Floor 1/2 Ba...|    12X11|     Upper|    11X13|     Upper|    11X13|     Upper|     null|      null|     3.0|            0.0|             null|         200.0|               No|              0.0|\n",
      "| 20| RMLS|               9938|    9938 5th St Ln N|    5th St|     55042|             MN|LELM - Lake Elmo|         280617| 8/11/2017 0:00|   288492|Exclusive Right|           288492|    159.1702|        1088.0|            null|       A4|              COMMON|    834 - Stillwater|        16.0| 8/27/2017 0:00|       0.0|     12X8|Living Room, Dini...|Asphalt Shingles,...|      Main|                No|           null|16.0|Attached Garage, ...|         1763.0|   0.0|      Main|    12X13|               0.0| 2017.0|    1763.0|      null|   2017.0|Residential-Single| (TH) Quad/4 Corners| 0.05|           Central|Range, Microwave,...|            null|                Loft|     null|Shakes, Metal, Vi...|      null|      Main|     3X10| Informal Dining R...|                None|      1.0|      1.0|        0.0|              1.0|   SF|       3.0|Main Floor 1/2 Ba...|    12X11|     Upper|    11X13|     Upper|    11X13|     Upper|     null|      null|     3.0|            0.0|             null|         200.0|               No|              0.0|\n",
      "+---+-----+-------------------+--------------------+----------+----------+---------------+----------------+---------------+---------------+---------+---------------+-----------------+------------+--------------+----------------+---------+--------------------+--------------------+------------+---------------+----------+---------+--------------------+--------------------+----------+------------------+---------------+----+--------------------+---------------+------+----------+---------+------------------+-------+----------+----------+---------+------------------+--------------------+-----+------------------+--------------------+----------------+--------------------+---------+--------------------+----------+----------+---------+---------------------+--------------------+---------+---------+-----------+-----------------+-----+----------+--------------------+---------+----------+---------+----------+---------+----------+---------+----------+--------+---------------+-----------------+--------------+-----------------+-----------------+\n",
      "only showing top 20 rows\n",
      "\n"
     ]
    }
   ],
   "source": [
    "df.show()"
   ]
  },
  {
   "cell_type": "code",
   "execution_count": 10,
   "metadata": {},
   "outputs": [
    {
     "name": "stdout",
     "output_type": "stream",
     "text": [
      "LIVINGAREA\n"
     ]
    }
   ],
   "source": [
    "df=df.withColumn('SalesClosePrice', df['SALESCLOSEPRICE'].cast(\"integer\"))\n",
    "# Name and value of col with max corr\n",
    "corr_max = 0\n",
    "corr_max_col = columns[0]\n",
    "\n",
    "# Loop to check all columns contained in list\n",
    "for col in columns:\n",
    "    # Check the correlation of a pair of columns\n",
    "    corr_val = df.corr('SalesClosePrice', col)\n",
    "    # Logic to compare corr_max with current corr_val\n",
    "    if corr_val > corr_max:\n",
    "        # Update the column name and corr value\n",
    "        corr_max = corr_val\n",
    "        corr_max_col = col\n",
    "\n",
    "print(corr_max_col)"
   ]
  },
  {
   "attachments": {},
   "cell_type": "markdown",
   "metadata": {},
   "source": [
    "Using Visualizations: distplot\n",
    "\n",
    "Understanding the distribution of our dependent variable is very important and can impact the type of model or preprocessing we do. A great way to do this is to plot it, however plotting is not a built in function in PySpark, we will need to take some intermediary steps to make sure it works correctly. In this exercise you will visualize the variable the 'LISTPRICE' variable, and you will gain more insights on its distribution by computing the skewness.\n",
    "\n",
    "The matplotlib.pyplot and seaborn packages have been imported for you with aliases plt and sns.\n",
    "\n",
    "\n",
    "*    Sample 50% of the dataframe df with sample() making sure to not use replacement and setting the random seed to 42.\n",
    "*    Convert the Spark DataFrame to a pandas.DataFrame() with toPandas().\n",
    "*    Plot a distribution plot using seaborn's distplot() method.\n",
    "*    Import the skewness() function from pyspark.sql.functions and compute it on the aggregate of the 'LISTPRICE' column with the agg() method. Remember to collect() your result to evaluate the computation.\n"
   ]
  },
  {
   "cell_type": "code",
   "execution_count": 29,
   "metadata": {},
   "outputs": [
    {
     "data": {
      "text/plain": [
       "[('No.', 'string'),\n",
       " ('MLSID', 'string'),\n",
       " ('StreetNumberNumeric', 'string'),\n",
       " ('streetaddress', 'string'),\n",
       " ('STREETNAME', 'string'),\n",
       " ('PostalCode', 'string'),\n",
       " ('StateOrProvince', 'string'),\n",
       " ('City', 'string'),\n",
       " ('SalesClosePrice', 'int'),\n",
       " ('LISTDATE', 'string'),\n",
       " ('LISTPRICE', 'int'),\n",
       " ('LISTTYPE', 'string'),\n",
       " ('OriginalListPrice', 'string'),\n",
       " ('PricePerTSFT', 'string'),\n",
       " ('FOUNDATIONSIZE', 'double'),\n",
       " ('FENCE', 'string'),\n",
       " ('MapLetter', 'string'),\n",
       " ('LotSizeDimensions', 'string'),\n",
       " ('SchoolDistrictNumber', 'string'),\n",
       " ('DAYSONMARKET', 'double'),\n",
       " ('offmarketdate', 'string'),\n",
       " ('FIREPLACES', 'double'),\n",
       " ('RoomArea4', 'string'),\n",
       " ('roomtype', 'string'),\n",
       " ('ROOF', 'string'),\n",
       " ('RoomFloor4', 'string'),\n",
       " ('PotentialShortSale', 'string'),\n",
       " ('PoolDescription', 'string'),\n",
       " ('PDOM', 'double'),\n",
       " ('GarageDescription', 'string'),\n",
       " ('SQFTABOVEGROUND', 'double'),\n",
       " ('TAXES', 'double'),\n",
       " ('RoomFloor1', 'string'),\n",
       " ('RoomArea1', 'string'),\n",
       " ('TAXWITHASSESSMENTS', 'double'),\n",
       " ('TAXYEAR', 'double'),\n",
       " ('LIVINGAREA', 'double'),\n",
       " ('UNITNUMBER', 'string'),\n",
       " ('YEARBUILT', 'double'),\n",
       " ('ZONING', 'string'),\n",
       " ('STYLE', 'string'),\n",
       " ('ACRES', 'double'),\n",
       " ('CoolingDescription', 'string'),\n",
       " ('APPLIANCES', 'string'),\n",
       " ('BACKONMARKETDATE', 'double'),\n",
       " ('ROOMFAMILYCHAR', 'string'),\n",
       " ('RoomArea3', 'string'),\n",
       " ('EXTERIOR', 'string'),\n",
       " ('RoomFloor3', 'string'),\n",
       " ('RoomFloor2', 'string'),\n",
       " ('RoomArea2', 'string'),\n",
       " ('DiningRoomDescription', 'string'),\n",
       " ('BASEMENT', 'string'),\n",
       " ('BATHSFULL', 'double'),\n",
       " ('BATHSHALF', 'double'),\n",
       " ('BATHQUARTER', 'double'),\n",
       " ('BATHSTHREEQUARTER', 'double'),\n",
       " ('Class', 'string'),\n",
       " ('BATHSTOTAL', 'double'),\n",
       " ('BATHDESC', 'string'),\n",
       " ('RoomArea5', 'string'),\n",
       " ('RoomFloor5', 'string'),\n",
       " ('RoomArea6', 'string'),\n",
       " ('RoomFloor6', 'string'),\n",
       " ('RoomArea7', 'string'),\n",
       " ('RoomFloor7', 'string'),\n",
       " ('RoomArea8', 'string'),\n",
       " ('RoomFloor8', 'string'),\n",
       " ('BEDROOMS', 'double'),\n",
       " ('SQFTBELOWGROUND', 'double'),\n",
       " ('AssumableMortgage', 'string'),\n",
       " ('ASSOCIATIONFEE', 'double'),\n",
       " ('ASSESSMENTPENDING', 'string'),\n",
       " ('ASSESSEDVALUATION', 'double')]"
      ]
     },
     "execution_count": 29,
     "metadata": {},
     "output_type": "execute_result"
    }
   ],
   "source": [
    "df.dtypes"
   ]
  },
  {
   "cell_type": "code",
   "execution_count": 11,
   "metadata": {},
   "outputs": [
    {
     "name": "stdout",
     "output_type": "stream",
     "text": [
      "[Row(skewness(LISTPRICE)=2.790448093916559)]\n"
     ]
    }
   ],
   "source": [
    "import pandas as pd\n",
    "import seaborn as sns\n",
    "import matplotlib.pyplot as plt\n",
    "%matplotlib inline\n",
    "\n",
    "df=df.withColumn(\"LISTPRICE\",df.LISTPRICE.cast(\"bigint\"))\n",
    "# Select a single column and sample and convert to pandas\n",
    "# sample 50% and not use replacement and setting the random seed to 42.\n",
    "sample_df = df.select(['LISTPRICE']).sample(False, .5, 42)\n",
    "pandas_df = sample_df.toPandas()\n",
    "\n",
    "\n",
    "# Queda pendiente esa gráfica\n",
    "#sns.displot(pandas_df.LISTPRICE)\n",
    "#plt.show()\n",
    "\n",
    "# Import skewness function\n",
    "from pyspark.sql.functions import skewness\n",
    "\n",
    "# Compute and print skewness of LISTPRICE\n",
    "print(df.agg({'LISTPRICE': 'skewness'}).collect())"
   ]
  },
  {
   "attachments": {},
   "cell_type": "markdown",
   "metadata": {},
   "source": [
    "Using Visualizations: lmplot\n",
    "\n",
    "Creating linear model plots helps us visualize if variables have relationships with the dependent variable. If they do they are good candidates to include in our analysis. If they don't it doesn't mean that we should throw them out, it means we may have to process or wrangle them before they can be used.\n",
    "\n",
    "\n",
    "*    Using the loaded data set df filter it down to the columns 'SALESCLOSEPRICE' and 'LIVINGAREA' with select().\n",
    "*    Sample 50% of the dataframe with sample() making sure to not use replacement and setting the random seed to 42.\n",
    "*    Convert the Spark DataFrame to a pandas.DataFrame() with toPandas().\n",
    "*    Using 'SALESCLOSEPRICE' as your dependent variable and 'LIVINGAREA' as your independent, plot a linear model plot using seaborn lmplot().\n"
   ]
  },
  {
   "cell_type": "code",
   "execution_count": 12,
   "metadata": {},
   "outputs": [
    {
     "data": {
      "image/png": "[encoded data removed]",
      "text/plain": [
       "<Figure size 360x360 with 1 Axes>"
      ]
     },
     "metadata": {
      "needs_background": "light"
     },
     "output_type": "display_data"
    }
   ],
   "source": [
    "# Select a the relevant columns and sample\n",
    "sample_df = df.select(['SALESCLOSEPRICE', 'LIVINGAREA']).sample(False, 0.5, 42)\n",
    "\n",
    "# Convert to pandas dataframe\n",
    "pandas_df = sample_df.toPandas()\n",
    "\n",
    "# Linear model plot of pandas_df\n",
    "sns.lmplot(x='LIVINGAREA', y='SALESCLOSEPRICE', data=pandas_df)\n",
    "plt.show()"
   ]
  },
  {
   "attachments": {},
   "cell_type": "markdown",
   "metadata": {},
   "source": [
    "## Wrangling with Spark Functions\n"
   ]
  },
  {
   "attachments": {},
   "cell_type": "markdown",
   "metadata": {},
   "source": [
    "**Dropping data**  \n",
    "Data can be:\n",
    "* Recorded worng\n",
    "* Contain extreme events\n",
    "* Formatted incorrectly\n",
    "* Duplications\n",
    "* Missing  \n",
    "  \n",
    "Multiple fields are not needed for our analysis \n",
    "* drop(\\* cols)  returns a new dataframe that drops the specified\n",
    "  \n",
    "Text filtering:  \n",
    "* where(condition), like(other), ∼ \n",
    "* Filter data wo within three standard deviations of the mean\n",
    "  \n",
    "std_val=df.agg({'SALESCLOSEPRICE': 'stddev'}).collect()[0][0]  \n",
    "mean_val=df.agg({'SALESCLOSEPRICE':'mean'}).collect()[0][0]    \n",
    "hi_bound=mean_val+(3\\* std_val)  \n",
    "low_bound=mean_val-(3\\* std_val)  \n",
    "df=df.where( (df['LISTPRICE'] < hi_bound) & (df['LISTPRICE']>low_bound) ) \n",
    "\n",
    "Dropping NAs or NULLs  \n",
    "DataFrame.dropna()   \n",
    "* how: any or all. If any, drop a record if it contains any nulls. If all, drop a record only if all its values are null  \n",
    "* tresh: int, default None if specified, drop records that have less tha thresh non-null values. This overwrites the how parameter.  \n",
    "* subset: optional list of columns names to consider    "
   ]
  },
  {
   "attachments": {},
   "cell_type": "markdown",
   "metadata": {},
   "source": [
    "df=df.dropna()  \n",
    "df=df.dropna(how='all',subset=['LISTPRICE', 'SALESCLOSEPRICE'])  \n",
    "df=df.dropna(thresh=2)  "
   ]
  },
  {
   "attachments": {},
   "cell_type": "markdown",
   "metadata": {},
   "source": [
    "Drop duplicates  \n",
    "* Two or more records contains all the same information\n",
    "* After dropping columns or joining datasets, check for duplicates \n",
    "   \n",
    "df.dropDuplicates(['streetaddress'])  "
   ]
  },
  {
   "attachments": {},
   "cell_type": "markdown",
   "metadata": {},
   "source": [
    "Dropping a list of columns\n",
    "\n",
    "Our data set is rich with a lot of features, but not all are valuable. We have many that are going to be hard to wrangle into anything useful. For now, let's remove any columns that aren't immediately useful by dropping them.  \n",
    "  \n",
    "\n",
    "*  'STREETNUMBERNUMERIC': The postal address number on the home\n",
    "*  'FIREPLACES': Number of Fireplaces in the home\n",
    "*  'LOTSIZEDIMENSIONS': Free text describing the lot shape\n",
    "*  'LISTTYPE': Set list of values of sale type\n",
    "*  'ACRES': Numeric area of lot size\n",
    "\n"
   ]
  },
  {
   "cell_type": "code",
   "execution_count": 13,
   "metadata": {},
   "outputs": [
    {
     "name": "stdout",
     "output_type": "stream",
     "text": [
      "+---+-----+-------------------+--------------------+----------+----------+---------------+----------------+---------------+---------------+---------+---------------+-----------------+------------+--------------+----------------+---------+--------------------+--------------------+------------+---------------+----------+---------+--------------------+--------------------+----------+------------------+--------------------+----+--------------------+---------------+------+----------+---------+------------------+-------+----------+----------+---------+--------------------+--------------------+-----+------------------+--------------------+----------------+--------------------+---------+--------------------+----------+----------+---------+---------------------+--------------------+---------+---------+-----------+-----------------+-----+----------+--------------------+---------+----------+---------+----------+---------+----------+---------+----------+--------+---------------+-----------------+--------------+-----------------+-----------------+\n",
      "|No.|MLSID|StreetNumberNumeric|       streetaddress|STREETNAME|PostalCode|StateOrProvince|            City|SalesClosePrice|       LISTDATE|LISTPRICE|       LISTTYPE|OriginalListPrice|PricePerTSFT|FOUNDATIONSIZE|           FENCE|MapLetter|   LotSizeDimensions|SchoolDistrictNumber|DAYSONMARKET|  offmarketdate|FIREPLACES|RoomArea4|            roomtype|                ROOF|RoomFloor4|PotentialShortSale|     PoolDescription|PDOM|   GarageDescription|SQFTABOVEGROUND| TAXES|RoomFloor1|RoomArea1|TAXWITHASSESSMENTS|TAXYEAR|LIVINGAREA|UNITNUMBER|YEARBUILT|              ZONING|               STYLE|ACRES|CoolingDescription|          APPLIANCES|BACKONMARKETDATE|      ROOMFAMILYCHAR|RoomArea3|            EXTERIOR|RoomFloor3|RoomFloor2|RoomArea2|DiningRoomDescription|            BASEMENT|BATHSFULL|BATHSHALF|BATHQUARTER|BATHSTHREEQUARTER|Class|BATHSTOTAL|            BATHDESC|RoomArea5|RoomFloor5|RoomArea6|RoomFloor6|RoomArea7|RoomFloor7|RoomArea8|RoomFloor8|BEDROOMS|SQFTBELOWGROUND|AssumableMortgage|ASSOCIATIONFEE|ASSESSMENTPENDING|ASSESSEDVALUATION|\n",
      "+---+-----+-------------------+--------------------+----------+----------+---------------+----------------+---------------+---------------+---------+---------------+-----------------+------------+--------------+----------------+---------+--------------------+--------------------+------------+---------------+----------+---------+--------------------+--------------------+----------+------------------+--------------------+----+--------------------+---------------+------+----------+---------+------------------+-------+----------+----------+---------+--------------------+--------------------+-----+------------------+--------------------+----------------+--------------------+---------+--------------------+----------+----------+---------+---------------------+--------------------+---------+---------+-----------+-----------------+-----+----------+--------------------+---------+----------+---------+----------+---------+----------+---------+----------+--------+---------------+-----------------+--------------+-----------------+-----------------+\n",
      "|  1| RMLS|              11511|11511 Stillwater ...|Stillwater|     55042|             MN|LELM - Lake Elmo|         143000| 7/15/2017 0:00|   139900|Exclusive Right|           139900|    145.9184|         980.0|           Other|       C4|             279X200|    834 - Stillwater|        10.0| 7/30/2017 0:00|       0.0|  12 x  9|Living Room, Dini...|                null|      Main|                No|                null|10.0|     Attached Garage|          980.0|1858.0|      Main|  16 x 13|            1858.0| 2017.0|     980.0|      null|   1950.0|  Residential-Single|      (SF) One Story| 1.28|           Central|Range, Dishwasher...|            null|                null|     null|               Vinyl|      null|      Main|   9 x  7|       Eat In Kitchen|                Full|      1.0|      1.0|        0.0|              0.0|   SF|       2.0|Main Floor 3/4 Ba...|  13 x 11|      Main|  10 x 10|      Main|     null|      null|     null|      null|     3.0|            0.0|             null|           0.0|          Unknown|              0.0|\n",
      "|  2| RMLS|              11200|     11200 31st St N|      31st|     55042|             MN|LELM - Lake Elmo|         190000| 10/9/2017 0:00|   210000|Exclusive Right|           210000|     85.2783|        1144.0|            null|       C1|             100x140|    834 - Stillwater|         4.0|10/13/2017 0:00|       0.0|    11x11|Living Room, Dini...|Asphalt Shingles,...|      Main|                No|                null| 4.0|Attached Garage, ...|         1268.0|1640.0|      Main|    22x14|            1640.0| 2017.0|    2228.0|      null|   1971.0|  Residential-Single|(SF) Split Entry ...| 0.32|           Central|Range, Microwave,...|            null|         Lower Level|    22x14|               Vinyl|     Lower|      Main|    11x12| Informal Dining R...|Full, Partial Fin...|      1.0|      0.0|        0.0|              2.0|   SF|       3.0|Main Floor Full B...|    15x11|      Main|    14x11|      Main|    10x11|      Main|    11x11|     Lower|     4.0|          960.0|             null|           0.0|          Unknown|              0.0|\n",
      "|  3| RMLS|               8583|8583 Stillwater B...|Stillwater|     55042|             MN|LELM - Lake Elmo|         225000| 6/26/2017 0:00|   225000|Exclusive Right|           225000|    204.1742|        1102.0|            None|       E1|             120x296|622 - North St Pa...|        28.0| 7/24/2017 0:00|       0.0|    14x12|Living Room, Dini...|                null|      Main|                No|                None|28.0|     Attached Garage|         1102.0|2390.0|      Main|    20x13|            2390.0| 2016.0|    1102.0|      null|   1949.0|  Residential-Single|      (SF) One Story|0.822|            Window|Range, Microwave,...|            null|                null|     null|        Cement Board|      null|      Main|    18x11| Informal Dining Room|Full, Crawl Space...|      1.0|      0.0|        0.0|              0.0|   SF|       1.0|Main Floor Full Bath|    12x12|      Main|    12x12|      Main|     null|      null|     null|      null|     2.0|            0.0|    Not Assumable|           0.0|               No|              0.0|\n",
      "|  4| RMLS|               9350|      9350 31st St N|      31st|     55042|             MN|LELM - Lake Elmo|         265000| 8/25/2017 0:00|   230000|Exclusive Right|           230000|    162.3775|         959.0|            None|       A1|             208X208|    834 - Stillwater|        19.0| 9/13/2017 0:00|       1.0|    12X16|Living Room, Dini...|Asphalt Shingles,...|      Main|                No|                None|19.0|Attached Garage, ...|         1284.0|2146.0|      null|     null|            2146.0| 2017.0|    1632.0|      null|   1960.0|  Residential-Single|      (SF) One Story| 0.94|           Central|Range, Washer, Dryer|            null|          Main Level|    25X13|              Stucco|      Main|      Main|    20X11|                 null|Full, Partial Fin...|      1.0|      1.0|        0.0|              0.0|   SF|       2.0|Main Floor Full B...|    13X11|      Main|    13X10|      Main|     null|      null|     null|      null|     2.0|          348.0|             null|           0.0|          Unknown|              0.0|\n",
      "|  5| RMLS|               2915|   2915 Inwood Ave N|    Inwood|     55042|             MN|LELM - Lake Elmo|         249900| 9/12/2017 0:00|   239900|Exclusive Right|           239900|    121.7836|        1026.0|      Chain Link|       E1|             116x200|622 - North St Pa...|        21.0| 10/3/2017 0:00|       1.0|    12x10|Living Room, Dini...|Asphalt Shingles,...|      Main|                No|                null|21.0|Attached Garage, ...|         1026.0|2010.0|      Main|    22x14|            2010.0| 2017.0|    2052.0|      null|   1978.0|  Residential-Single|(SF) Split Entry ...|  0.0|           Central|Range, Exhaust Fa...|            null|         Lower Level|    22x18|               Vinyl|     Lower|      Main|    12x10| Breakfast Area, K...|Walkout, Full, Fi...|      1.0|      0.0|        0.0|              1.0|   SF|       2.0|Main Floor Full B...|    13x11|      Main|    13x12|      Main|    14x13|     Lower|     null|      null|     3.0|         1026.0|             null|           0.0|               No|              0.0|\n",
      "|  6| RMLS|               3604|   3604 Layton Ave N|    Layton|     55042|             MN|LELM - Lake Elmo|         255000| 4/10/2017 0:00|   239900|Exclusive Right|           239900|     182.534|        1152.0|            null|       C1|              50x150|    834 - Stillwater|        17.0| 4/27/2017 0:00|       1.0|  11 x 11|Living Room, Dini...|Asphalt Shingles,...|      Main|                No|                null|17.0|Attached Garage, ...|         1397.0|1491.0|      Main|  19 x 13|            1494.0| 2016.0|    1397.0|      null|   1965.0|  Residential-Single|      (SF) One Story|0.172|           Central|Range, Microwave,...|            null|                null|     null|        Metal, Vinyl|      null|      Main|  10 x 13| Separate/Formal D...|Full, Sump Pump, ...|      2.0|      0.0|        0.0|              0.0|   SF|       2.0|Main Floor Full B...|25.5 x 11|      Main|  10 x 11|      Main| 9.5 x 10|      Main|     null|      null|     3.0|            0.0|    Not Assumable|           0.0|               No|              3.0|\n",
      "|  7| RMLS|               9957|9957 5th Street Ln N|5th Street|     55042|             MN|LELM - Lake Elmo|         248000|  6/8/2017 0:00|   250000|Exclusive Right|           265000|     137.931|         700.0|            null|       A4|              common|    834 - Stillwater|        32.0| 7/10/2017 0:00|       0.0|     14x9|Living Room, Dini...|Asphalt Shingles,...|      Main|                No|                null|19.0|Attached Garage, ...|         1798.0|2165.0|      Main|    13x15|            2168.0| 2017.0|    1798.0|      null|   2015.0|  Residential-Single|    (TH) Side x Side| 0.05|           Central|Range, Microwave,...|            null|                Loft|     null|Shakes, Metal, Vi...|      null|      Main|    11x13| Informal Dining R...|                Slab|      1.0|      1.0|        0.0|              1.0|   SF|       3.0|Main Floor 1/2 Ba...|  13x19.6|     Upper|  11x13.6|     Upper|  11x13.6|     Upper|     null|      null|     3.0|            0.0|             null|         200.0|              Yes|              3.0|\n",
      "|  8| RMLS|               9934|9934 5th Street Ln N|5th Street|     55042|             MN|LELM - Lake Elmo|         245000| 11/5/2017 0:00|   254990|Exclusive Right|           273417|    141.3733|        1088.0|         Partial|       A4|              common|    834 - Stillwater|         5.0|11/10/2017 0:00|       0.0|   12 x 8|Living Room, Dini...|    Asphalt Shingles|      Main|                No|                null| 1.0|     Attached Garage|         1733.0|   0.0|      Main|  12 x 13|               0.0| 2017.0|    1733.0|      null|   2017.0|  Residential-Single| (TH) Quad/4 Corners| 0.05|           Central|Range, Microwave,...|            null|Main Level, Famil...|     null|               Vinyl|      null|      Main|  12 x 10| Informal Dining R...|                None|      2.0|      1.0|        0.0|              0.0|   SF|       3.0|Main Floor 1/2 Ba...|  12 x 11|     Upper|  11 x 13|     Upper|  11 x 13|     Upper|     null|      null|     3.0|            0.0|             null|         200.0|               No|              0.0|\n",
      "|  9| RMLS|               9926|9926 5th Street Ln N|5th Street|     55042|             MN|LELM - Lake Elmo|         254990|10/12/2017 0:00|   254990|Exclusive Right|           273152|    147.1379|        1088.0|         Partial|       E1|              common|    834 - Stillwater|        23.0|11/11/2017 0:00|       0.0|   12 x 8|Living Room, Dini...|    Asphalt Shingles|      Main|                No|                null| 5.0|     Attached Garage|         1733.0|   0.0|      Main|  12 x 13|               0.0| 2017.0|    1733.0|      null|   2017.0|  Residential-Single| (TH) Quad/4 Corners| 0.05|           Central|Range, Microwave,...|            null|                null|     null|               Vinyl|      null|      Main|  12 x 10| Informal Dining R...|                None|      1.0|      1.0|        0.0|              1.0|   SF|       3.0|Main Floor 1/2 Ba...|  12 x 11|     Upper|  11 x 13|     Upper|  11 x 13|     Upper|     null|      null|     3.0|            0.0|             null|         200.0|               No|              0.0|\n",
      "| 10| RMLS|               9928|9928 5th Street Ln N|5th Street|     55042|             MN|LELM - Lake Elmo|         250000|  9/2/2017 0:00|   255990|Exclusive Right|           273482|    144.2585|        1088.0|Privacy, Partial|       A4|              common|    834 - Stillwater|        73.0|11/20/2017 0:00|       0.0|   12 x 8|Living Room, Dini...|    Asphalt Shingles|      Main|                No|                null|11.0|     Attached Garage|         1733.0|   0.0|      Main|  12 x 13|               0.0| 2017.0|    1733.0|      null|   2017.0|  Residential-Single| (TH) Quad/4 Corners| 0.05|           Central|Range, Microwave,...|            null|Main Level, Famil...|     null|               Vinyl|      null|      Main|  12 x 10| Informal Dining R...|                None|      1.0|      1.0|        0.0|              1.0|   SF|       3.0|Main Floor 1/2 Ba...|  12 x 11|     Upper|  11 x 13|     Upper|  11 x 13|     Upper|     null|      null|     3.0|            0.0|             null|         200.0|               No|              0.0|\n",
      "| 11| RMLS|               9902|9902 5th Street Ln N|5th Street|     55042|             MN|LELM - Lake Elmo|         254500| 5/19/2017 0:00|   259990|Exclusive Right|           267117|    146.8552|        1088.0|         Partial|       A4|              common|    834 - Stillwater|        80.0|  8/7/2017 0:00|       0.0|   12 x 8|Living Room, Dini...|    Asphalt Shingles|      Main|                No|                null| 7.0|     Attached Garage|         1733.0|   0.0|      Main|  12 x 13|               0.0| 2017.0|    1733.0|      null|   2017.0|  Residential-Single| (TH) Quad/4 Corners| 0.05|           Central|Range, Microwave,...|            null|Main Level, Famil...|     null|               Vinyl|      null|      Main|  12 x 10| Informal Dining R...|                None|      1.0|      1.0|        0.0|              1.0|   SF|       3.0|Main Floor 1/2 Ba...|  12 x 11|     Upper|  11 x 13|     Upper|  11 x 13|     Upper|     null|      null|     3.0|            0.0|             null|         200.0|               No|              0.0|\n",
      "| 12| RMLS|               9904|9904 5th Street Ln N|5th Street|     55042|             MN|LELM - Lake Elmo|         253000| 5/11/2017 0:00|   259990|Exclusive Right|           268487|    145.9896|        1088.0|         Partial|       A4|              common|    834 - Stillwater|        79.0| 7/29/2017 0:00|       0.0|   12 x 8|Living Room, Dini...|    Asphalt Shingles|      Main|                No|                null|58.0|     Attached Garage|         1733.0|   0.0|      Main|  12 x 13|               0.0| 2017.0|    1733.0|      null|   2017.0|  Residential-Single| (TH) Quad/4 Corners| 0.05|           Central|Range, Microwave,...|            null|                null|     null|               Vinyl|      null|      Main|  12 x 10| Informal Dining R...|                None|      1.0|      1.0|        0.0|              1.0|   SF|       3.0|Main Floor 1/2 Ba...|  12 x 11|     Upper|  11 x 13|     Upper|  11 x 13|     Upper|     null|      null|     3.0|            0.0|             null|         200.0|               No|              0.0|\n",
      "| 13| RMLS|               9894|9894 5th Street Ln N|5th Street|     55042|             MN|LELM - Lake Elmo|         257500| 3/12/2017 0:00|   259990|Exclusive Right|           268622|    148.5863|        1088.0|         Partial|       A4|              common|    834 - Stillwater|        12.0| 3/24/2017 0:00|       0.0|   12 x 8|Living Room, Dini...|    Asphalt Shingles|      Main|                No|                null| 8.0|     Attached Garage|         1733.0|   0.0|      Main|  12 x 13|               0.0| 2017.0|    1733.0|      null|   2017.0|  Residential-Single| (TH) Quad/4 Corners| 0.05|           Central|Range, Microwave,...|            null|Main Level, Famil...|     null|               Vinyl|      null|      Main|  12 x 10| Informal Dining R...|                None|      2.0|      1.0|        0.0|              0.0|   SF|       3.0|Main Floor 1/2 Ba...|  12 x 11|     Upper|  11 x 13|     Upper|  11 x 13|     Upper|     null|      null|     3.0|            0.0|             null|         190.0|               No|              0.0|\n",
      "| 14| RMLS|               9892|    9892 5th St Ln N|    5th St|     55042|             MN|LELM - Lake Elmo|         272990|  3/6/2017 0:00|   269990|Exclusive Right|           279442|     154.844|        1088.0|Privacy, Partial|       A4|              COMMON|    834 - Stillwater|         1.0| 6/11/2017 0:00|       0.0|     12X8|Living Room, Dini...|Asphalt Shingles,...|      Main|                No|                null| 1.0|Attached Garage, ...|         1763.0|   0.0|      Main|    12X13|               0.0| 2016.0|    1763.0|      null|   2016.0|  Residential-Single| (TH) Quad/4 Corners| 0.05|           Central|Range, Microwave,...|            null|Main Level, Great...|     null|Shakes, Metal, Vi...|      null|      Main|     3X10| Informal Dining R...|                None|      2.0|      1.0|        0.0|              0.0|   SF|       3.0|Main Floor 1/2 Ba...|    12X11|     Upper|    11X13|     Upper|    11X13|     Upper|     null|      null|     3.0|            0.0|             null|         200.0|               No|              0.0|\n",
      "| 15| RMLS|               9295|9295 Lake Jane Trl N| Lake Jane|     55042|             MN|LELM - Lake Elmo|         290000| 5/18/2017 0:00|   270000|Exclusive Right|           270000|    157.2668|        1844.0|            null|       A4|261 x 293 x 287 x...|    834 - Stillwater|        18.0|  6/5/2017 0:00|       1.0|    13x12|Living Room, Dini...|    Asphalt Shingles|      Main|                No|                None|18.0|Attached Garage, ...|         1844.0|2689.0|      Main|    21x19|            2692.0| 2017.0|    1844.0|      null|   1977.0|  Residential-Single|      (SF) One Story|1.661|           Central|Cooktop, Wall Ove...|            null|                null|     null|  Metal, Brick/Stone|      null|      Main|    12x10| Informal Dining R...|Full, Concrete Bl...|      0.0|      0.0|        0.0|              3.0|   SF|       3.0|Main Floor 3/4 Ba...|    14x11|      Main|    12x11|      Main|     null|      null|     null|      null|     2.0|            0.0|             null|           0.0|              Yes|              3.0|\n",
      "| 16| RMLS|               9930|    9930 5th St Ln N|    5th St|     55042|             MN|LELM - Lake Elmo|         274000|10/15/2017 0:00|   274000|Exclusive Right|           274000|    155.4169|        1088.0|            null|       A4|               36X32|    834 - Stillwater|         2.0|10/17/2017 0:00|       0.0|     12X8|Living Room, Dini...|Asphalt Shingles,...|      Main|                No|                null| 2.0|Attached Garage, ...|         1763.0|   0.0|      Main|    12X13|               0.0| 2017.0|    1763.0|      null|   2017.0|  Residential-Single| (TH) Quad/4 Corners| 0.05|           Central|Range, Microwave,...|            null|                Loft|     null|Shakes, Metal, Vi...|      null|      Main|     3X10| Informal Dining R...|                None|      1.0|      1.0|        0.0|              1.0|   SF|       3.0|Main Floor 1/2 Ba...|    12X11|     Upper|    11X13|     Upper|    11X13|     Upper|     null|      null|     3.0|            0.0|             null|         200.0|               No|              0.0|\n",
      "| 17| RMLS|               9898|    9898 5th St Ln N|    5th St|     55042|             MN|LELM - Lake Elmo|         274990| 9/10/2017 0:00|   274990|Exclusive Right|           289357|    155.9784|        1088.0|            null|       A4|               36X32|    834 - Stillwater|        12.0| 9/22/2017 0:00|       0.0|     12X8|Living Room, Dini...|Asphalt Shingles,...|      Main|                No|                null| 8.0|Attached Garage, ...|         1763.0|   0.0|      Main|    12X13|               0.0| 2017.0|    1763.0|      null|   2017.0|  Residential-Single| (TH) Quad/4 Corners| 0.05|           Central|Range, Microwave,...|            null|                Loft|     null|Shakes, Metal, Vi...|      null|      Main|     3X10| Informal Dining R...|                None|      1.0|      1.0|        0.0|              1.0|   SF|       3.0|Main Floor 1/2 Ba...|    12X11|     Upper|    11X13|     Upper|    11X13|     Upper|     null|      null|     3.0|            0.0|             null|         200.0|               No|              0.0|\n",
      "| 18| RMLS|               9924|    9924 5th St Ln N|    5th St|     55042|             MN|LELM - Lake Elmo|         274000|  9/1/2017 0:00|   284990|Exclusive Right|           288342|    155.4169|        1088.0|Privacy, Partial|       A4|              COMMON|    834 - Stillwater|        45.0|10/16/2017 0:00|       0.0|     12X8|Living Room, Dini...|Asphalt Shingles,...|      Main|                No|                null|24.0|Attached Garage, ...|         1763.0|   0.0|      Main|    12X13|               0.0| 2017.0|    1763.0|      null|   2017.0|  Residential-Single| (TH) Quad/4 Corners| 0.05|           Central|Range, Microwave,...|            null|Main Level, Great...|     null|Shakes, Metal, Vi...|      null|      Main|     3X10| Informal Dining R...|                None|      2.0|      1.0|        0.0|              0.0|   SF|       3.0|Main Floor 1/2 Ba...|    12X11|     Upper|    11X13|     Upper|    11X13|     Upper|     null|      null|     3.0|            0.0|             null|         200.0|               No|              0.0|\n",
      "| 19| RMLS|               9906|    9906 5th St Ln N|    5th St|     55042|             MN|LELM - Lake Elmo|         282000|  5/6/2017 0:00|   287452|Exclusive Right|           287452|    159.9546|        1088.0|            null|       A4|              COMMON|    834 - Stillwater|        31.0|  6/6/2017 0:00|       0.0|     12X8|Living Room, Dini...|Asphalt Shingles,...|      Main|                No|                null|31.0|Attached Garage, ...|         1763.0|   0.0|      Main|    12X13|               0.0| 2017.0|    1763.0|      null|   2017.0|  Residential-Single| (TH) Quad/4 Corners| 0.05|           Central|Range, Microwave,...|            null|                Loft|     null|Shakes, Metal, Vi...|      null|      Main|     3X10| Informal Dining R...|                None|      1.0|      1.0|        0.0|              1.0|   SF|       3.0|Main Floor 1/2 Ba...|    12X11|     Upper|    11X13|     Upper|    11X13|     Upper|     null|      null|     3.0|            0.0|             null|         200.0|               No|              0.0|\n",
      "| 20| RMLS|               9938|    9938 5th St Ln N|    5th St|     55042|             MN|LELM - Lake Elmo|         280617| 8/11/2017 0:00|   288492|Exclusive Right|           288492|    159.1702|        1088.0|            null|       A4|              COMMON|    834 - Stillwater|        16.0| 8/27/2017 0:00|       0.0|     12X8|Living Room, Dini...|Asphalt Shingles,...|      Main|                No|                null|16.0|Attached Garage, ...|         1763.0|   0.0|      Main|    12X13|               0.0| 2017.0|    1763.0|      null|   2017.0|  Residential-Single| (TH) Quad/4 Corners| 0.05|           Central|Range, Microwave,...|            null|                Loft|     null|Shakes, Metal, Vi...|      null|      Main|     3X10| Informal Dining R...|                None|      1.0|      1.0|        0.0|              1.0|   SF|       3.0|Main Floor 1/2 Ba...|    12X11|     Upper|    11X13|     Upper|    11X13|     Upper|     null|      null|     3.0|            0.0|             null|         200.0|               No|              0.0|\n",
      "| 21| RMLS|               9795|9795 N 5th Street Ln|5th Street|     55042|             MN|LELM - Lake Elmo|         289871|  3/3/2017 0:00|   292371|Exclusive Right|           292371|    163.0321|         698.0|         Privacy|       A4|               32X60|    834 - Stillwater|         3.0|  3/6/2017 0:00|       1.0| 9.5X14.5|Living Room, Dini...|Asphalt Shingles,...|      Main|                No|                None| 3.0|Attached Garage, ...|         1778.0|   0.0|      null|     null|               0.0| 2016.0|    1778.0|      null|   2016.0|Residential-Multi...|    (TH) Side x Side| 0.04|           Central|Range, Microwave,...|            null|Main Level, Great...|13.5X14.5|Brick/Stone, Fibe...|      Main|      Main| 7.5X14.5| Informal Dining R...|                None|      2.0|      1.0|        0.0|              0.0|   SF|       3.0|Main Floor 1/2 Ba...|  12X14.5|     Upper|11.5X11.5|     Upper|  12.5X11|     Upper|     null|      null|     3.0|            0.0|             null|         190.0|               No|              0.0|\n",
      "| 22| RMLS|               9797|9797 N 5th Street Ln|5th Street|     55042|             MN|LELM - Lake Elmo|         282500|  3/6/2017 0:00|   292925|Exclusive Right|           291925|    158.8864|         698.0|Privacy, Partial|       A4|               32X60|    834 - Stillwater|        50.0| 4/25/2017 0:00|       1.0| 9.5X14.5|Living Room, Dini...|Asphalt Shingles,...|      Main|                No|                None|18.0|Attached Garage, ...|         1778.0|   0.0|      null|     null|               0.0| 2016.0|    1778.0|      null|   2016.0|Residential-Multi...|    (TH) Side x Side| 0.04|           Central|Range, Microwave,...|            null|    Main Level, Loft|13.5X14.5|Brick/Stone, Fibe...|      Main|      Main| 7.5X14.5| Informal Dining R...|                None|      2.0|      1.0|        0.0|              0.0|   SF|       3.0|Main Floor 1/2 Ba...|  12X14.5|     Upper|11.5X11.5|     Upper|  12.5X11|     Upper|     null|      null|     3.0|            0.0|             null|         190.0|               No|              0.0|\n",
      "| 23| RMLS|               8909|      8909 37th St N|      37th|     55042|             MN|LELM - Lake Elmo|         289900| 6/26/2017 0:00|   299900|Exclusive Right|           299900|    119.5957|        1300.0|            null|       E1|             125x150|    834 - Stillwater|        40.0| 9/30/2017 0:00|       2.0|    10x12|Living Room, Dini...|    Asphalt Shingles|     Upper|                No|                null|40.0|Attached Garage, ...|         1324.0|1974.0|     Upper|    17x14|            1974.0| 2017.0|    2424.0|      null|   1967.0|  Residential-Single|(SF) Split Entry ...| 0.43|           Central|Range, Microwave,...|            null|Lower Level, Fami...|    17x13|               Metal|     Lower|     Upper|    13x10| Informal Dining Room|Walkout, Finished...|      1.0|      0.0|        0.0|              2.0|   SF|       3.0|Upper Level Full ...|    15x11|     Upper|    12x10|     Upper|     11x9|     Upper|    13x12|     Lower|     4.0|         1100.0|    Not Assumable|           0.0|               No|           1974.0|\n",
      "| 24| RMLS|               3597|   3597 Kelvin Ave N|    Kelvin|     55042|             MN|LELM - Lake Elmo|         314500| 5/13/2017 0:00|   299900|Exclusive Right|           299900|     156.002|        1200.0|            Wood|       B1|             100x250|    834 - Stillwater|         6.0| 6/12/2017 0:00|       2.0|     17x8|Living Room, Dini...|Asphalt Shingles,...|      Main|                No|                null| 6.0|Attached Garage, ...|         1380.0|1878.0|      Main|    19x14|            1878.0| 2016.0|    2016.0|      null|   1960.0|  Residential-Single|      (SF) One Story|0.574|           Central|Cooktop, Wall Ove...|            null|         Lower Level|    42x12| Stucco, Brick/Stone|     Lower|      Main|    13x12| Separate/Formal D...|Walkout, Full, Fi...|      1.0|      1.0|        0.0|              0.0|   SF|       2.0|Main Floor Full B...|    15x10|      Main|    12x11|      Main|    12x11|     Lower|     null|      null|     3.0|          636.0|             null|           0.0|              Yes|              0.0|\n",
      "| 25| RMLS|               8656|      8656 27th St N|      27th|     55042|             MN|LELM - Lake Elmo|         280000| 5/12/2017 0:00|   299900|Exclusive Right|           320000|    114.2857|        1148.0|            null|       E2|     151x158x130x151|622 - North St Pa...|        32.0| 6/26/2017 0:00|       1.0|    13x10|Living Room, Dini...|    Asphalt Shingles|      Main|                No|                null|13.0|Attached Garage, ...|         1850.0|2333.0|      Main|    17x13|            2336.0| 2016.0|    2450.0|      null|   1964.0|  Residential-Single|    (SF) Two Stories|0.498|              None|Range, Microwave,...|            null|          Main Level|    25x17|               Vinyl|      Main|      Main|    10x12| Separate/Formal D...|                Full|      1.0|      1.0|        0.0|              0.0|   SF|       2.0|Main Floor Full B...|    15x10|     Upper|    13x10|     Upper|     10x8|     Upper|     null|      null|     3.0|          600.0|    Not Assumable|           0.0|          Unknown|              3.0|\n",
      "| 26| RMLS|               9775|9775 N 5th Street Ln|5th Street|     55042|             MN|LELM - Lake Elmo|         299990|  7/6/2017 0:00|   299990|Exclusive Right|           322618|    166.0155|        1159.0|Privacy, Partial|       A4|               36X32|    834 - Stillwater|        19.0| 7/25/2017 0:00|       1.0| 8.3X11.5|Living Room, Dini...|Asphalt Shingles,...|      Main|                No|                None| 1.0|Attached Garage, ...|         1807.0|   0.0|      null|     null|               0.0| 2017.0|    1807.0|      null|   2017.0|Residential-Multi...|    (TH) Side x Side| 0.04|           Central|Range, Microwave,...|            null|Main Level, Great...|13.5X14.3|Brick/Stone, Fibe...|      Main|      Main| 7.9X14.6| Informal Dining R...|                None|      1.0|      1.0|        0.0|              1.0|   SF|       3.0|Main Floor 1/2 Ba...|12.4X14.7|     Upper|12.1X11.1|     Upper|  12.1X11|     Upper|     null|      null|     3.0|            0.0|             null|         225.0|               No|              0.0|\n",
      "| 27| RMLS|               8687|8687 Lake Jane Trl N| Lake Jane|     55042|             MN|LELM - Lake Elmo|         310000|  5/4/2017 0:00|   300000|Exclusive Right|           350000|    123.0647|        1506.0|            null|       E4|                   -|    834 - Stillwater|         8.0| 5/12/2017 0:00|       2.0|    10x12|Living Room, Dini...|                null|      Main|                No|Below Ground, Out...| 1.0|     Attached Garage|         1649.0|2746.0|      Main|    15x19|            2746.0| 2017.0|    2519.0|      null|   1973.0|  Residential-Single|      (SF) One Story| 1.03|           Central|Range, Microwave,...|            null|Main Level, Lower...|    18x22|        Cement Board|     Lower|      Main|    13x14| Separate/Formal D...|Full, Finished (L...|      1.0|      0.0|        0.0|              1.0|   SF|       2.0|Main Floor Full B...|    13x12|      Main|    10x11|      Main|    10x10|      Main|     9x10|     Lower|     4.0|          870.0|             null|           0.0|          Unknown|              0.0|\n",
      "| 28| RMLS|               8367|      8367 39th St N|      39th|     55042|             MN|LELM - Lake Elmo|         319000| 4/17/2017 0:00|   309000|Exclusive Right|           309000|    155.4581|        1100.0|            null|       E4|             285x305|    834 - Stillwater|        14.0|  5/1/2017 0:00|       0.0|    14x12|Living Room, Dini...| Age 8 Years or Less|      Main|                No|                null|14.0|Attached Garage, ...|         1152.0|2693.0|      Main|    19x12|            2696.0| 2016.0|    2052.0|      null|   1971.0|  Residential-Single|      (SF) One Story|1.995|           Central|Range, Dishwasher...|            null|         Lower Level|    24x22|         Fiber Board|     Lower|      Main|    12x11| Informal Dining R...|             Walkout|      1.0|      0.0|        0.0|              1.0|   SF|       2.0|Main Floor Full Bath|    13x12|      Main|    12x11|      Main|     11x9|      Main|    15x13|     Lower|     4.0|          900.0|    Not Assumable|           0.0|               No|              3.0|\n",
      "| 29| RMLS|               2866|   2866 Legion Ave N|    Legion|     55042|             MN|LELM - Lake Elmo|         304000| 4/26/2017 0:00|   309900|Exclusive Right|           309900|    156.5396|        1020.0|            null|       C1|           Irregular|    834 - Stillwater|         2.0|  5/6/2017 0:00|       0.0|    10x10|Living Room, Dini...|Asphalt Shingles,...|     Upper|                No|                null| 2.0|Attached Garage, ...|         1064.0|2482.0|     Upper|    12x14|            2482.0| 2016.0|    1942.0|      null|   1969.0|  Residential-Single|(SF) Split Entry ...| 0.72|           Central|Range, Microwave,...|            null|Main Level, Lower...|    14x18|                Wood|     Lower|     Upper|     9x10| Informal Dining R...|Walkout, Full, Fi...|      1.0|      0.0|        0.0|              1.0|   SF|       2.0|Upper Level Full ...|     9x12|     Upper|     9x12|     Upper|    10x11|     Lower|    10x10|     Lower|     4.0|          878.0|             null|           0.0|               No|              0.0|\n",
      "| 30| RMLS|               9793|9793 N 5th Street Ln|5th Street|     55042|             MN|LELM - Lake Elmo|         307500|  3/3/2017 0:00|   314584|Exclusive Right|           314584|    160.9105|         759.0|         Privacy|       A4|               42x60|    834 - Stillwater|        29.0|  4/1/2017 0:00|       1.0|  15x13.5|Living Room, Dini...|Asphalt Shingles,...|      Main|                No|                None|29.0|Attached Garage, ...|         1911.0|   0.0|      null|     null|               0.0| 2016.0|    1911.0|      null|   2016.0|Residential-Multi...|    (TH) Side x Side| 0.06|           Central|Range, Microwave,...|            null|Main Level, Great...|15.5x13.5|Brick/Stone, Fibe...|      Main|      Main| 12.5x7.5| Informal Dining R...|                None|      2.0|      1.0|        0.0|              0.0|   SF|       3.0|Main Floor 1/2 Ba...|  18x12.5|     Upper|    12x10|     Upper|  13.5x10|     Upper|     null|      null|     3.0|            0.0|             null|         190.0|          Unknown|              0.0|\n",
      "+---+-----+-------------------+--------------------+----------+----------+---------------+----------------+---------------+---------------+---------+---------------+-----------------+------------+--------------+----------------+---------+--------------------+--------------------+------------+---------------+----------+---------+--------------------+--------------------+----------+------------------+--------------------+----+--------------------+---------------+------+----------+---------+------------------+-------+----------+----------+---------+--------------------+--------------------+-----+------------------+--------------------+----------------+--------------------+---------+--------------------+----------+----------+---------+---------------------+--------------------+---------+---------+-----------+-----------------+-----+----------+--------------------+---------+----------+---------+----------+---------+----------+---------+----------+--------+---------------+-----------------+--------------+-----------------+-----------------+\n",
      "only showing top 30 rows\n",
      "\n"
     ]
    }
   ],
   "source": [
    "# Show top 30 records\n",
    "df.show(30)\n",
    "\n",
    "# List of columns to remove from dataset\n",
    "cols_to_drop = ['STREETNUMBERNUMERIC', 'LOTSIZEDIMENSIONS']\n",
    "\n",
    "# Drop columns in list\n",
    "df = df.drop(*cols_to_drop)"
   ]
  },
  {
   "attachments": {},
   "cell_type": "markdown",
   "metadata": {},
   "source": [
    "Using text filters to remove records\n",
    "\n",
    "It pays to have to ask your clients lots of questions and take time to understand your variables. You find out that Assumable mortgage is an unusual occurrence in the real estate industry and your client suggests you exclude them. In this exercise we will use isin() which is similar to like() but allows us to pass a list of values to use as a filter rather than a single one."
   ]
  },
  {
   "cell_type": "code",
   "execution_count": 14,
   "metadata": {},
   "outputs": [
    {
     "name": "stdout",
     "output_type": "stream",
     "text": [
      "+-------------------+\n",
      "|  ASSUMABLEMORTGAGE|\n",
      "+-------------------+\n",
      "|  Yes w/ Qualifying|\n",
      "| Information Coming|\n",
      "|               null|\n",
      "|Yes w/No Qualifying|\n",
      "|      Not Assumable|\n",
      "+-------------------+\n",
      "\n",
      "4976\n"
     ]
    }
   ],
   "source": [
    "# Inspect unique values in the column 'ASSUMABLEMORTGAGE'\n",
    "df.select(['ASSUMABLEMORTGAGE']).distinct().show()\n",
    "\n",
    "# List of possible values containing 'yes'\n",
    "yes_values = ['Yes w/ Qualifying', 'Yes w/No Qualifying']\n",
    "\n",
    "# Filter the text values out of df but keep null values\n",
    "text_filter = ~df['ASSUMABLEMORTGAGE'].isin(yes_values) | df['ASSUMABLEMORTGAGE'].isNull()\n",
    "df = df.where(text_filter)\n",
    "\n",
    "# Print count of remaining records\n",
    "print(df.count())"
   ]
  },
  {
   "attachments": {},
   "cell_type": "markdown",
   "metadata": {},
   "source": [
    "Filtering numeric fields conditionally\n",
    "\n",
    "Again, understanding the context of your data is extremely important. We want to understand what a normal range of houses sell for. Let's make sure we exclude any outlier homes that have sold for significantly more or less than the average. Here we will calculate the mean and standard deviation and use them to filer the near normal field log_SalesClosePrice."
   ]
  },
  {
   "cell_type": "code",
   "execution_count": 15,
   "metadata": {},
   "outputs": [],
   "source": [
    "from pyspark.sql.functions import mean, stddev,log\n",
    "df=df.withColumn('log_SalesClosePrice',log('SalesClosePrice'))\n",
    "# Calculate values used for outlier filtering\n",
    "mean_val = df.agg({'log_SalesClosePrice': 'mean'}).collect()[0][0]\n",
    "stddev_val = df.agg({'log_SalesClosePrice': 'stddev'}).collect()[0][0]\n",
    "\n",
    "# Create three standard deviation (μ ± 3σ) lower and upper bounds for data\n",
    "low_bound = mean_val - (3 * stddev_val)\n",
    "hi_bound = mean_val + (3 * stddev_val)\n",
    "\n",
    "# Filter the data to fit between the lower and upper bounds\n",
    "df = df.where((df['log_SalesClosePrice'] < hi_bound) & (df['log_SalesClosePrice'] > low_bound))"
   ]
  },
  {
   "attachments": {},
   "cell_type": "markdown",
   "metadata": {},
   "source": [
    "**Adjusting data**  \n",
    "'Data does not give up its secrets easily, it must be tortured to confess'  \n",
    "One common transformation is scaling. MinMax scaling   \n",
    "$$x^{*}_{i,j}=\\frac{x_{i,j}-x_{j}^{min}}{x_{j}^{max}-x_{j}^{min}}$$"
   ]
  },
  {
   "attachments": {},
   "cell_type": "markdown",
   "metadata": {},
   "source": [
    "Then, in the code:  \n",
    "max_days=df.agg({'DAYSONMARKET':'max'}).collect()[0][0]  \n",
    "min_days=df.agg({'DAYSONMARKET:'min'}).collect()[0][0]  \n",
    "df=df.withColumn(\"scaled_days\",(df['DAYSONMARKET']-min_days)/(max_days-min_days))  \n",
    "df[['scaled_days']].show()  \n",
    "  \n",
    "Another common restriction is that data must closely follow the standard normal distribution. Standardization or z-transforming is the process of shifting and scaling the data to better resemble a normal distribution, which has mean 0 and standard deviation 1.  \n",
    "We calculate the agg mean and std, and then  \n",
    "df=df.withColumn('ztrans_days',(df['DAYSONMARKET']-mean_days)/(stddev_days))  \n",
    "  \n",
    "One potential way to treat skewed data is to apply a log transformation on the data.  \n",
    "from pyspark.sql.function import log  \n",
    "df=df.withColumn('log_SalesClosePrice',log(df['SALECLOSEPRICE']))  "
   ]
  },
  {
   "attachments": {},
   "cell_type": "markdown",
   "metadata": {},
   "source": [
    "Custom Percentage Scaling\n",
    "\n",
    "In the slides we showed how to scale the data between 0 and 1. Sometimes you may wish to scale things differently for modeling or display purposes."
   ]
  },
  {
   "cell_type": "code",
   "execution_count": 16,
   "metadata": {},
   "outputs": [
    {
     "name": "stdout",
     "output_type": "stream",
     "text": [
      "[Row(max(percentage_scaled_days)=100.0)]\n",
      "[Row(min(percentage_scaled_days)=0.0)]\n"
     ]
    }
   ],
   "source": [
    "from pyspark.sql.functions import round\n",
    "# Define max and min values and collect them\n",
    "max_days = df.agg({'DAYSONMARKET':'max' }).collect()[0][0]\n",
    "min_days = df.agg({'DAYSONMARKET': 'min'}).collect()[0][0]\n",
    "\n",
    "# Create a new column based off the scaled data\n",
    "df = df.withColumn('percentage_scaled_days', \n",
    "                  round((df['DAYSONMARKET'] - min_days) / (max_days - min_days)) * 100)\n",
    "\n",
    "# Calc max and min for new column\n",
    "print(df.agg({'percentage_scaled_days': 'max'}).collect())\n",
    "print(df.agg({'percentage_scaled_days': 'min'}).collect())"
   ]
  },
  {
   "attachments": {},
   "cell_type": "markdown",
   "metadata": {},
   "source": [
    "Scaling your scalers\n",
    "\n",
    "In the previous exercise, we minmax scaled a single variable. Suppose you have a LOT of variables to scale, you don't want hundreds of lines to code for each. Let's expand on the previous exercise and make it a function."
   ]
  },
  {
   "cell_type": "code",
   "execution_count": 17,
   "metadata": {},
   "outputs": [
    {
     "name": "stdout",
     "output_type": "stream",
     "text": [
      "+------------+--------------------+\n",
      "|DAYSONMARKET| scaled_DAYSONMARKET|\n",
      "+------------+--------------------+\n",
      "|        10.0|0.044444444444444446|\n",
      "|         4.0|0.017777777777777778|\n",
      "|        28.0| 0.12444444444444444|\n",
      "|        19.0| 0.08444444444444445|\n",
      "|        21.0| 0.09333333333333334|\n",
      "|        17.0| 0.07555555555555556|\n",
      "|        32.0| 0.14222222222222222|\n",
      "|         5.0|0.022222222222222223|\n",
      "|        23.0| 0.10222222222222223|\n",
      "|        73.0|  0.3244444444444444|\n",
      "|        80.0| 0.35555555555555557|\n",
      "|        79.0|  0.3511111111111111|\n",
      "|        12.0| 0.05333333333333334|\n",
      "|         1.0|0.004444444444444...|\n",
      "|        18.0|                0.08|\n",
      "|         2.0|0.008888888888888889|\n",
      "|        12.0| 0.05333333333333334|\n",
      "|        45.0|                 0.2|\n",
      "|        31.0| 0.13777777777777778|\n",
      "|        16.0| 0.07111111111111111|\n",
      "+------------+--------------------+\n",
      "only showing top 20 rows\n",
      "\n"
     ]
    }
   ],
   "source": [
    "def min_max_scaler(df, cols_to_scale):\n",
    "  # Takes a dataframe and list of columns to minmax scale. Returns a dataframe.\n",
    "  for col in cols_to_scale:\n",
    "    # Define min and max values and collect them\n",
    "    max_days = df.agg({col: 'max'}).collect()[0][0]\n",
    "    min_days = df.agg({col: 'min'}).collect()[0][0]\n",
    "    new_column_name = 'scaled_' + col\n",
    "    # Create a new column based off the scaled data\n",
    "    df = df.withColumn(new_column_name, \n",
    "                      (df[col] - min_days) / (max_days - min_days))\n",
    "  return df\n",
    "\n",
    "cols_to_scale=['FOUNDATIONSIZE', 'DAYSONMARKET', 'FIREPLACES']\n",
    "\n",
    "df = min_max_scaler(df, cols_to_scale)\n",
    "# Show that our data is now between 0 and 1\n",
    "df[['DAYSONMARKET', 'scaled_DAYSONMARKET']].show()"
   ]
  },
  {
   "attachments": {},
   "cell_type": "markdown",
   "metadata": {},
   "source": [
    "Correcting Right Skew Data\n",
    "\n",
    "In the slides we showed how you might use log transforms to fix positively skewed data (data whose distribution is mostly to the left). To correct negative skew (data mostly to the right) you need to take an extra step called \"reflecting\" before you can apply the inverse of $log$, written as (1/$log$) to make the data look more like normal a normal distribution. Reflecting data uses the following formula to reflect each value: $(x_{max}+1)-x$ ."
   ]
  },
  {
   "cell_type": "code",
   "execution_count": 18,
   "metadata": {},
   "outputs": [
    {
     "name": "stdout",
     "output_type": "stream",
     "text": [
      "[Row(skewness(YEARBUILT)=-0.25317374723020336)]\n"
     ]
    }
   ],
   "source": [
    "from pyspark.sql.functions import log\n",
    "from pyspark.sql.functions import skewness\n",
    "\n",
    "# Compute the skewness\n",
    "print(df.agg({'YEARBUILT': 'skewness'}).collect())\n",
    "\n",
    "# Calculate the max year\n",
    "max_year = df.agg({'YEARBUILT': 'max'}).collect()[0][0]\n",
    "\n",
    "# Create a new column of reflected data\n",
    "df = df.withColumn('Reflect_YearBuilt', (max_year + 1) - df['YEARBUILT'])\n",
    "\n",
    "# Create a new column based reflected data\n",
    "df = df.withColumn('adj_yearbuilt', 1 / log(df['Reflect_YearBuilt']))"
   ]
  },
  {
   "attachments": {},
   "cell_type": "markdown",
   "metadata": {},
   "source": [
    "**Working with Missing Data**  \n",
    "* Missing data is just a completely random subset\n",
    "* Missing conditionally at random based on another observation\n",
    "* Data is missing because of how it's collectec\n",
    "  \n",
    "When to drop rows with missing data? \n",
    "* Missing values are rare\n",
    "* Missing completely at random  \n",
    "We can use isNull() function \n",
    "* True if the current expression is null  \n",
    "  \n",
    "We can use seaborn to visualize missing values by leveraging the heatmap function    \n",
    "import seaborn as sns    \n",
    "sub_df=df.select(['ROOMAREA1'])    \n",
    "sample_df=sample_df.toPandas()    \n",
    "sns.heatmap(data=pandas_df.isnull())  \n",
    " "
   ]
  },
  {
   "attachments": {},
   "cell_type": "markdown",
   "metadata": {},
   "source": [
    "Imputation of missing values  is the process of replacing missing values.  \n",
    "Rule base\n",
    "* Value base on business logic  \n",
    "Statistics based\n",
    "* Using mean, median, etc.  \n",
    "Model based\n",
    "* Use model to predict value"
   ]
  },
  {
   "attachments": {},
   "cell_type": "markdown",
   "metadata": {},
   "source": [
    "We can use pyspark function fillna(value, subset=None)  \n",
    "\\# Replacing with the mean value  \n",
    "col_mean=df.agg({'DAYSONMARKET':'mean'}).collect()[0][0]  \n",
    "df.fillna(col_mean,subset=['DAYSONMARKET'])"
   ]
  },
  {
   "attachments": {},
   "cell_type": "markdown",
   "metadata": {},
   "source": [
    "Visualizing Missing Data\n",
    "\n",
    "Being able to plot missing values is a great way to quickly understand how much of your data is missing. It can also help highlight when variables are missing in a pattern something that will need to be handled with care lest your model be biased.\n",
    "\n",
    "Which variable has the most missing values? Run all lines of code except the last one to determine the answer. Once you're confident, and fill out the value and hit \"Submit Answer\"."
   ]
  },
  {
   "cell_type": "code",
   "execution_count": 19,
   "metadata": {},
   "outputs": [
    {
     "data": {
      "image/png": "[encoded data removed]",
      "text/plain": [
       "<Figure size 1368x360 with 2 Axes>"
      ]
     },
     "metadata": {
      "needs_background": "light"
     },
     "output_type": "display_data"
    }
   ],
   "source": [
    "import seaborn as sns\n",
    "import matplotlib.pyplot as plt\n",
    "\n",
    "columns=['APPLIANCES', 'BACKONMARKETDATE', 'ROOMFAMILYCHAR', 'BASEMENT','DININGROOMDESCRIPTION']\n",
    "\n",
    "# Sample the dataframe and convert to Pandas\n",
    "sample_df = df.select(columns).sample(False, 0.1, 42)\n",
    "pandas_df = sample_df.toPandas()\n",
    "\n",
    "# Convert all values to T/F\n",
    "tf_df = pandas_df.isnull()\n",
    "\n",
    "# Plot it\n",
    "fig, ax = plt.subplots(figsize=(19,5))\n",
    "sns.heatmap(data=tf_df)\n",
    "plt.xticks(rotation=30, fontsize=10)\n",
    "plt.yticks(rotation=0, fontsize=10)\n",
    "plt.show()\n",
    "\n",
    "# Set the answer to the column with the most missing data\n",
    "answer = 'BACKONMARKETDATE'"
   ]
  },
  {
   "attachments": {},
   "cell_type": "markdown",
   "metadata": {},
   "source": [
    "Imputing Missing Data\n",
    "\n",
    "Missing data happens. If we make the assumption that our data is missing completely at random, we are making the assumption that what data we do have, is a good representation of the population. If we have a few values we could remove them or we could use the mean or median as a replacement. In this exercise, we will look at 'PDOM': Days on Market at Current Price."
   ]
  },
  {
   "cell_type": "code",
   "execution_count": 20,
   "metadata": {},
   "outputs": [
    {
     "data": {
      "text/plain": [
       "DataFrame[No.: string, MLSID: string, streetaddress: string, STREETNAME: string, PostalCode: string, StateOrProvince: string, City: string, SalesClosePrice: int, LISTDATE: string, LISTPRICE: bigint, LISTTYPE: string, OriginalListPrice: string, PricePerTSFT: string, FOUNDATIONSIZE: double, FENCE: string, MapLetter: string, SchoolDistrictNumber: string, DAYSONMARKET: double, offmarketdate: string, FIREPLACES: double, RoomArea4: string, roomtype: string, ROOF: string, RoomFloor4: string, PotentialShortSale: string, PoolDescription: string, PDOM: double, GarageDescription: string, SQFTABOVEGROUND: double, TAXES: double, RoomFloor1: string, RoomArea1: string, TAXWITHASSESSMENTS: double, TAXYEAR: double, LIVINGAREA: double, UNITNUMBER: string, YEARBUILT: double, ZONING: string, STYLE: string, ACRES: double, CoolingDescription: string, APPLIANCES: string, BACKONMARKETDATE: double, ROOMFAMILYCHAR: string, RoomArea3: string, EXTERIOR: string, RoomFloor3: string, RoomFloor2: string, RoomArea2: string, DiningRoomDescription: string, BASEMENT: string, BATHSFULL: double, BATHSHALF: double, BATHQUARTER: double, BATHSTHREEQUARTER: double, Class: string, BATHSTOTAL: double, BATHDESC: string, RoomArea5: string, RoomFloor5: string, RoomArea6: string, RoomFloor6: string, RoomArea7: string, RoomFloor7: string, RoomArea8: string, RoomFloor8: string, BEDROOMS: double, SQFTBELOWGROUND: double, AssumableMortgage: string, ASSOCIATIONFEE: double, ASSESSMENTPENDING: string, ASSESSEDVALUATION: double, log_SalesClosePrice: double, percentage_scaled_days: double, scaled_FOUNDATIONSIZE: double, scaled_DAYSONMARKET: double, scaled_FIREPLACES: double, Reflect_YearBuilt: double, adj_yearbuilt: double]"
      ]
     },
     "execution_count": 20,
     "metadata": {},
     "output_type": "execute_result"
    }
   ],
   "source": [
    "# Get a count of the missing values in the column 'PDOM' using where(), isNull() and count().\n",
    "missing = df.where(df['PDOM'].isNull()).count()\n",
    "\n",
    "# Calculate the mean value\n",
    "col_mean = df.agg({'PDOM': 'mean'}).collect()[0][0]\n",
    "\n",
    "# Replacing with the mean value for that column\n",
    "df.fillna(col_mean, subset=['PDOM'])"
   ]
  },
  {
   "attachments": {},
   "cell_type": "markdown",
   "metadata": {},
   "source": [
    "Missing value replacement is easy, however its ramifications can be huge. Make sure to spend time considering the appropriate ways to handle missing data in your problems."
   ]
  },
  {
   "attachments": {},
   "cell_type": "markdown",
   "metadata": {},
   "source": [
    "Calculate Missing Percents\n",
    "\n",
    "Automation is the future of data science. Learning to automate some of your data preparation pays dividends. In this exercise, we will automate dropping columns if they are missing data beyond a specific threshold."
   ]
  },
  {
   "cell_type": "code",
   "execution_count": 21,
   "metadata": {},
   "outputs": [],
   "source": [
    "# We need to change the name of the first column\n",
    "df=df.withColumnRenamed('No.','NO')"
   ]
  },
  {
   "cell_type": "code",
   "execution_count": 22,
   "metadata": {},
   "outputs": [],
   "source": [
    "def column_dropper(df, threshold):\n",
    "    # Takes a dataframe and threshold for missing values. Returns a dataframe.\n",
    "    total_records = df.count()\n",
    "    for col in df.columns:\n",
    "    # Calculate the percentage of missing values\n",
    "        missing = df.where(df[col].isNull()).count()\n",
    "        missing_percent = missing / total_records\n",
    "        # Drop column if percent of missing is more than threshold\n",
    "        if missing_percent > threshold:\n",
    "            df = df.drop(col)\n",
    "    return df\n",
    "\n",
    "# Drop columns that are more than 60% missing\n",
    "df = column_dropper(df, .6)"
   ]
  },
  {
   "attachments": {},
   "cell_type": "markdown",
   "metadata": {},
   "source": [
    "**Getting more Data**  \n",
    "The world of Big Data means having access to much more information to include in our analysis. How to connect additional data to our dataset.  \n",
    "External data is a wonderful way to boost model performance but there are pros and cons to choosing to include it.  \n",
    "  \n",
    "A pro is that add important predictor, but a con is that it mat 'bog' analysis down. A pro is taht can supplement/replace values, but it can induce data leakage. A pro is that is easy and cheap to obtain.   \n",
    "  \n",
    "Recall the types of join: inner join, full join, left join, and right join. We will use left join.  \n",
    "\n",
    "PySpark DataFrame joins: \n",
    "   \n",
    "DataFrame.joint(other, on=, how= )  \n",
    "We can use a condition as on.  \n",
    "\n",
    "We can also use SparkSQL joins:  \n",
    "* Apply SQL to your dataframe   \n",
    "\n",
    "\\# Register the dataframe as a temp table\n",
    "df.createOrReplaceTempVies('df')  \n",
    "hdf.createOrReplaceTempView('hdf')   \n",
    "\\# Write a SQL statement  \n",
    "sq_df=spark.sql(\"\"\" SELECT * FROM df LEFT JOIN hdf on df.OFFMARKETDATE =hdf.dt  \"\"\") \n"
   ]
  },
  {
   "attachments": {},
   "cell_type": "markdown",
   "metadata": {},
   "source": [
    "A Dangerous Join\n",
    "\n",
    "In this exercise, we will be joining on Latitude and Longitude to bring in another dataset that measures how walk-friendly a neighborhood is. We'll need to be careful to make sure our joining columns are the same data type and ensure we are joining on the same precision (number of digits after the decimal) or our join won't work!\n",
    "\n",
    "Below you will find that df['latitude'] and df['longitude'] are at a higher precision than walk_df['longitude'] and walk_df['latitude'] we'll need to round them to the same precision so the join will work correctly."
   ]
  },
  {
   "cell_type": "code",
   "execution_count": null,
   "metadata": {},
   "outputs": [],
   "source": [
    "# Don't execute this chunk, the walk_df is not provided\n",
    "# Cast data types\n",
    "walk_df = walk_df.withColumn('longitude', walk_df.longitude.cast('double'))\n",
    "walk_df = walk_df.withColumn('latitude', walk_df.latitude.cast('double'))\n",
    "\n",
    "# Round precision\n",
    "df = df.withColumn('longitude', round(df['longitude'], 5))\n",
    "df = df.withColumn('latitude', round(df['latitude'], 5))\n",
    "\n",
    "# Create join condition\n",
    "condition = [walk_df['latitude'] == df['latitude'], walk_df['longitude'] == df['longitude']]\n",
    "\n",
    "# Join the dataframes together\n",
    "join_df = df.join(walk_df, on=condition, how='left')\n",
    "# Count non-null records from new field\n",
    "print(join_df.where(~join_df['walkscore'].isNull()).count())"
   ]
  },
  {
   "attachments": {},
   "cell_type": "markdown",
   "metadata": {},
   "source": [
    "Spark SQL Join\n",
    "\n",
    "Sometimes it is much easier to write complex joins in SQL. In this exercise, we will start with the join keys already in the same format and precision but will use SparkSQL to do the joining."
   ]
  },
  {
   "cell_type": "code",
   "execution_count": null,
   "metadata": {},
   "outputs": [],
   "source": [
    "# Don't execute this chunk, the walk_df is not provided\n",
    "# Register dataframes as tables\n",
    "df.createOrReplaceTempView('df')\n",
    "walk_df.createOrReplaceTempView('walk_df')\n",
    "\n",
    "# SQL to join dataframes\n",
    "join_sql = \t\"\"\"\n",
    "\t\t\tSELECT \n",
    "\t\t\t\t*\n",
    "\t\t\tFROM df\n",
    "\t\t\tLEFT JOIN walk_df\n",
    "\t\t\tON df.longitude = walk_df.longitude\n",
    "\t\t\tAND df.latitude = walk_df.latitude\n",
    "\t\t\t\"\"\"\n",
    "# Perform sql join\n",
    "joined_df = spark.sql(join_sql)"
   ]
  },
  {
   "attachments": {},
   "cell_type": "markdown",
   "metadata": {},
   "source": [
    "Checking for Bad Joins\n",
    "\n",
    "Joins can go bad silently if we are not careful, meaning they will not error out but instead return mangled data with more or less data than you'd intended. Let's take a look at a couple ways that joining incorrectly can change your data set for the worse.\n",
    "\n",
    "In this example we will look at what happens if you join two dataframes together when the join keys are not the same precision and compare the record counts between the correct join and the incorrect one."
   ]
  },
  {
   "cell_type": "code",
   "execution_count": null,
   "metadata": {},
   "outputs": [],
   "source": [
    "# Join on mismatched keys precision \n",
    "wrong_prec_cond = [df_orig.longitude == walk_df.longitude, df_orig.latitude == walk_df.latitude]\n",
    "wrong_prec_df = df_orig.join(walk_df, on=wrong_prec_cond, how='left')\n",
    "\n",
    "# Compare bad join to the correct one\n",
    "print(wrong_prec_df.where(wrong_prec_df['walkscore'].isNull()).count())\n",
    "print(correct_join_df.where(correct_join_df['walkscore'].isNull()).count())\n",
    "\n",
    "# Create a join on too few keys\n",
    "few_keys_cond = [df.longitude == walk_df.longitude]\n",
    "few_keys_df = df.join(walk_df, on=few_keys_cond, how='left')\n",
    "\n",
    "# Compare bad join to the correct one\n",
    "print(\"Record Count of the Too Few Keys Join Example: \" + str(few_keys_df.count()))\n",
    "print(\"Record Count of the Correct Join Example: \" + str(correct_join_df.count()))"
   ]
  },
  {
   "attachments": {},
   "cell_type": "markdown",
   "metadata": {},
   "source": [
    "## Feature Generation  \n",
    "Why generate new features?  \n",
    "Combining features together can capture subtle dependent effects between them that impact the putcome variable. These can be represented by multiplying, summing, differencing or dividing two or more variables.  \n",
    "  \n",
    "Applying your reasoning and understanding of the problem can help you build powerful predictors   "
   ]
  },
  {
   "attachments": {},
   "cell_type": "markdown",
   "metadata": {},
   "source": [
    "Differences\n",
    "\n",
    "Let's explore generating features using existing ones. In the midwest of the U.S. many single family homes have extra land around them for green space. In this example you will create a new feature called 'YARD_SIZE', and then see if the new feature is correlated with our outcome variable."
   ]
  },
  {
   "cell_type": "code",
   "execution_count": 23,
   "metadata": {},
   "outputs": [
    {
     "name": "stdout",
     "output_type": "stream",
     "text": [
      "Corr of ACRES vs SALESCLOSEPRICE: 0.20032633979612804\n",
      "Corr of FOUNDATIONSIZE vs SALESCLOSEPRICE: 0.5976957088401494\n",
      "Corr of YARD_SIZE vs SALESCLOSEPRICE: 0.21308192607502127\n"
     ]
    }
   ],
   "source": [
    "# Lot size in square feet\n",
    "acres_to_sqfeet = 43560\n",
    "df = df.withColumn('LOT_SIZE_SQFT', df['ACRES'] * acres_to_sqfeet)\n",
    "\n",
    "# Create new column YARD_SIZE\n",
    "df = df.withColumn('YARD_SIZE',- df['FOUNDATIONSIZE'] + df['LOT_SIZE_SQFT'])\n",
    "\n",
    "# Corr of ACRES vs SALESCLOSEPRICE\n",
    "print(\"Corr of ACRES vs SALESCLOSEPRICE: \" + str(df.corr('SALESCLOSEPRICE', 'YARD_SIZE')))\n",
    "# Corr of FOUNDATIONSIZE vs SALESCLOSEPRICE\n",
    "print(\"Corr of FOUNDATIONSIZE vs SALESCLOSEPRICE: \" + str(df.corr('SALESCLOSEPRICE', 'FOUNDATIONSIZE')))\n",
    "# Corr of YARD_SIZE vs SALESCLOSEPRICE\n",
    "print(\"Corr of YARD_SIZE vs SALESCLOSEPRICE: \" + str(df.corr('SALESCLOSEPRICE', 'LOT_SIZE_SQFT' )))"
   ]
  },
  {
   "attachments": {},
   "cell_type": "markdown",
   "metadata": {},
   "source": [
    "Ratios\n",
    "\n",
    "Ratios are all around us. Whether it's miles per gallon or click through rate, they are everywhere. In this exercise, we'll create some ratios by dividing out pairs of columns."
   ]
  },
  {
   "cell_type": "code",
   "execution_count": 24,
   "metadata": {},
   "outputs": [
    {
     "name": "stdout",
     "output_type": "stream",
     "text": [
      "+-----------------+---------+----------------+\n",
      "|ASSESSEDVALUATION|LISTPRICE|ASSESSED_TO_LIST|\n",
      "+-----------------+---------+----------------+\n",
      "|              0.0|   139900|             0.0|\n",
      "|              0.0|   210000|             0.0|\n",
      "|              0.0|   225000|             0.0|\n",
      "|              0.0|   230000|             0.0|\n",
      "|              0.0|   239900|             0.0|\n",
      "+-----------------+---------+----------------+\n",
      "only showing top 5 rows\n",
      "\n",
      "+--------------------+------+---------+\n",
      "|         TAX_TO_LIST| TAXES|LISTPRICE|\n",
      "+--------------------+------+---------+\n",
      "|0.013280914939242315|1858.0|   139900|\n",
      "| 0.00780952380952381|1640.0|   210000|\n",
      "|0.010622222222222222|2390.0|   225000|\n",
      "|0.009330434782608695|2146.0|   230000|\n",
      "|0.008378491037932471|2010.0|   239900|\n",
      "+--------------------+------+---------+\n",
      "only showing top 5 rows\n",
      "\n",
      "+------------------+--------+----------+\n",
      "|      BED_TO_BATHS|BEDROOMS|BATHSTOTAL|\n",
      "+------------------+--------+----------+\n",
      "|               1.5|     3.0|       2.0|\n",
      "|1.3333333333333333|     4.0|       3.0|\n",
      "|               2.0|     2.0|       1.0|\n",
      "|               1.0|     2.0|       2.0|\n",
      "|               1.5|     3.0|       2.0|\n",
      "+------------------+--------+----------+\n",
      "only showing top 5 rows\n",
      "\n"
     ]
    }
   ],
   "source": [
    "# ASSESSED_TO_LIST\n",
    "df = df.withColumn('ASSESSED_TO_LIST', df['ASSESSEDVALUATION'] / df['LISTPRICE'])\n",
    "df[['ASSESSEDVALUATION', 'LISTPRICE', 'ASSESSED_TO_LIST']].show(5)\n",
    "# TAX_TO_LIST\n",
    "df = df.withColumn('TAX_TO_LIST', df['TAXES'] / df['LISTPRICE'])\n",
    "df[['TAX_TO_LIST', 'TAXES', 'LISTPRICE']].show(5)\n",
    "# BED_TO_BATHS\n",
    "df = df.withColumn('BED_TO_BATHS', df['BEDROOMS'] / df['BATHSTOTAL'])\n",
    "df[['BED_TO_BATHS', 'BEDROOMS', 'BATHSTOTAL']].show(5)"
   ]
  },
  {
   "attachments": {},
   "cell_type": "markdown",
   "metadata": {},
   "source": [
    "Deeper Features\n",
    "\n",
    "In previous exercises we showed how combining two features together can create good additional features for a predictive model. In this exercise, you will generate 'deeper' features by combining the effects of three variables into one. Then you will check to see if deeper and more complicated features always make for better predictors."
   ]
  },
  {
   "cell_type": "code",
   "execution_count": 25,
   "metadata": {},
   "outputs": [
    {
     "name": "stdout",
     "output_type": "stream",
     "text": [
      "+-------+-------------------+\n",
      "|summary| BATHS_PER_1000SQFT|\n",
      "+-------+-------------------+\n",
      "|  count|               4946|\n",
      "|   mean| 1.4339460530042523|\n",
      "| stddev| 14.205761576339642|\n",
      "|    min|0.39123630672926446|\n",
      "|    max|             1000.0|\n",
      "+-------+-------------------+\n",
      "\n"
     ]
    },
    {
     "data": {
      "image/png": "[encoded data removed]",
      "text/plain": [
       "<Figure size 432x432 with 3 Axes>"
      ]
     },
     "metadata": {
      "needs_background": "light"
     },
     "output_type": "display_data"
    }
   ],
   "source": [
    "# Create new feature by adding two features together\n",
    "df = df.withColumn('Total_SQFT', df['SQFTABOVEGROUND'] + df['SQFTBELOWGROUND'])\n",
    "\n",
    "# Create additional new feature using previously created feature\n",
    "df = df.withColumn('BATHS_PER_1000SQFT', df['BATHSTOTAL'] / (df['Total_SQFT'] / 1000))\n",
    "df[['BATHS_PER_1000SQFT']].describe().show()\n",
    "\n",
    "df=df.withColumn('SALESCLOSEPRICE',df['SALESCLOSEPRICE'].cast(\"integer\"))\n",
    "\n",
    "\n",
    "\n",
    "# Sample and create pandas dataframe\n",
    "pandas_df = df.sample(False, 0.5, 0).toPandas()\n",
    "\n",
    "from scipy import stats\n",
    "def r2(x, y):\n",
    "    return stats.pearsonr(x, y)[0] ** 2\n",
    "\n",
    "# Linear model plots. No queda con seaborn, no se porque\n",
    "#sns.jointplot(x=pandas_df['Total_SQFT'],y=pandas_df['SALESCLOSEPRICE'])\n",
    "#plt.show() \n",
    "#Vamos hacerlo con matplotlib\n",
    "\n",
    "import matplotlib.pyplot as plt\n",
    "x = pandas_df['Total_SQFT']\n",
    "y = pandas_df['SALESCLOSEPRICE']\n",
    "\n",
    "# Crear una figura y dos subplots\n",
    "fig, ax = plt.subplots(figsize=(6, 6))\n",
    "ax_histx = fig.add_axes([0.1, 0.7, 0.55, 0.2])\n",
    "ax_histy = fig.add_axes([0.7, 0.1, 0.2, 0.55])\n",
    "\n",
    "# Crear el gráfico de dispersión\n",
    "ax.scatter(x, y, alpha=0.5)\n",
    "\n",
    "# Agregar los histogramas marginales\n",
    "ax_histx.hist(x, bins=30, color='gray', alpha=0.5, edgecolor='black')\n",
    "ax_histy.hist(y, bins=30, color='gray', alpha=0.5, orientation='horizontal', edgecolor='black')\n",
    "\n",
    "# Ajustar los límites de los ejes para los subplots\n",
    "ax_histx.set_xlim(ax.get_xlim())\n",
    "ax_histy.set_ylim(ax.get_ylim())\n",
    "ax_histx.set_xticks([])\n",
    "ax_histy.set_yticks([])\n",
    "\n",
    "# Agregar las etiquetas de los ejes y el título\n",
    "ax.set_xlabel('Total_SQFT')\n",
    "ax.set_ylabel('SALESCLOSEPRICE')\n",
    "#fig.suptitle('Joint Plot', fontsize=14)\n",
    "\n",
    "# Ajustar el espaciado entre los subplots utilizando la función `plt.subplots_adjust()`\n",
    "plt.subplots_adjust(left=0.10, bottom=0.10, right=0.65, top=0.65, wspace=0.35, hspace=0.15)\n",
    "\n",
    "# Mostrar la gráfica\n",
    "plt.show()"
   ]
  },
  {
   "attachments": {},
   "cell_type": "markdown",
   "metadata": {},
   "source": [
    "Using the describe() function you could have seen there was a max of 1000 bathrooms per 1000sqft, which is almost for sure an issue with our data since no sane person would need a bathroom for square foot! If you really wanted to use this feature you'd have to filter that outlier out or overwrite it to NULL with when(). After plotting the jointplots()s you should have seen that the less complicated feature Total_SQFT had a much better R**2 of .67 vs BATHS_PER_1000SQFT's .02'. Often simplier is better!"
   ]
  },
  {
   "cell_type": "code",
   "execution_count": 81,
   "metadata": {},
   "outputs": [
    {
     "data": {
      "image/png": "[encoded data removed]",
      "text/plain": [
       "<Figure size 432x432 with 3 Axes>"
      ]
     },
     "metadata": {
      "needs_background": "light"
     },
     "output_type": "display_data"
    }
   ],
   "source": [
    "# No queda con seaborn, no se xq\n",
    "#sns.jointplot(x=pandas_df['BATHS_PER_1000SQFT'],y=pandas_df['SALESCLOSEPRICE'])\n",
    "#plt.show()\n",
    "\n",
    "#Vamos hacerlo con matplot lib\n",
    "import matplotlib.pyplot as plt\n",
    "import numpy as np\n",
    "\n",
    "\n",
    "x = pandas_df['BATHS_PER_1000SQFT']\n",
    "y = pandas_df['SALESCLOSEPRICE']\n",
    "\n",
    "# Crear una figura y dos subplots\n",
    "fig, ax = plt.subplots(figsize=(6, 6))\n",
    "ax_histx = fig.add_axes([0.1, 0.7, 0.55, 0.2])\n",
    "ax_histy = fig.add_axes([0.7, 0.1, 0.2, 0.55])\n",
    "\n",
    "# Crear el gráfico de dispersión\n",
    "ax.scatter(x, y, alpha=0.5)\n",
    "\n",
    "# Agregar los histogramas marginales\n",
    "ax_histx.hist(x, bins=30, color='gray', alpha=0.5, edgecolor='black')\n",
    "ax_histy.hist(y, bins=30, color='gray', alpha=0.5, orientation='horizontal', edgecolor='black')\n",
    "\n",
    "# Ajustar los límites de los ejes para los subplots\n",
    "ax_histx.set_xlim(ax.get_xlim())\n",
    "ax_histy.set_ylim(ax.get_ylim())\n",
    "ax_histx.set_xticks([])\n",
    "ax_histy.set_yticks([])\n",
    "\n",
    "# Agregar las etiquetas de los ejes y el título\n",
    "ax.set_xlabel('Total_SQFT')\n",
    "ax.set_ylabel('SALESCLOSEPRICE')\n",
    "\n",
    "# Ajustar el espaciado entre los subplots utilizando la función `plt.subplots_adjust()`\n",
    "plt.subplots_adjust(left=0.10, bottom=0.10, right=0.65, top=0.65, wspace=0.35, hspace=0.15)\n",
    "\n",
    "# Mostrar la gráfica\n",
    "plt.show()"
   ]
  },
  {
   "attachments": {},
   "cell_type": "markdown",
   "metadata": {},
   "source": [
    "**Time features**  \n",
    "Things repeat. Building the right time features is important.  \n",
    "To work with dates we need them to be of Spark data type.  \n",
    "from pyspark.sql.functions import to_date  \n",
    "  \n",
    "\\# Cast the data type to Date  \n",
    "df=df.withColumn('LISTDATE', to_date('LISTDATE')).  \n",
    "  \n",
    "With our data typed correctly, we can use build-ins to get various time components.  \n",
    "\n",
    "\\# Create a new column of month number  \n",
    "df=df.withColumn('LIST_MONTH',month('LISTDATE'))  \n",
    "\\#  Create new columns of the day number within the month  \n",
    "df=df.withColumn('LIST_DAYMONTH', dayofmonth('LISTDATE'))  \n",
    "\n",
    "\n",
    "Basic Time Based Metrics:  \n",
    "from pyspark.sql.function import datediff  \n",
    "df.withColumn('DAYSONMARKET',datediff('OFFMARKETDATE','LISTDATE'))  \n",
    "  \n",
    "Lagging features. To create a lagged feature we will need a few new functions.  \n",
    "Window() returns a record based off a group of records. \n",
    "lag(col, count=1) returns the value that is offset by rows before the current row  \n",
    "  \n",
    "Time Components\n",
    "\n",
    "Being able to work with time components for building features is important but you can also use them to explore and understand your data further. In this exercise, you'll be looking to see if there is a pattern to which day of the week a house lists on. Please keep in mind that PySpark's week starts on Sunday, with a value of 1 and ends on Saturday, a value of 7.  \n",
    "\n"
   ]
  },
  {
   "cell_type": "code",
   "execution_count": 58,
   "metadata": {},
   "outputs": [
    {
     "name": "stdout",
     "output_type": "stream",
     "text": [
      "+---+-----+--------------------+----------+----------+---------------+----------------+---------------+---------------+---------+---------------+-----------------+------------+--------------+----------------+---------+--------------------+------------+---------------+----------+---------+--------------------+--------------------+----------+------------------+----+--------------------+---------------+------+----------+---------+------------------+-------+----------+---------+------------------+--------------------+-----+------------------+--------------------+--------------------+---------+--------------------+----------+----------+---------+---------------------+--------------------+---------+---------+-----------+-----------------+-----+----------+--------------------+---------+----------+---------+----------+---------+----------+--------+---------------+--------------+-----------------+-----------------+-------------------+----------------------+---------------------+--------------------+-------------------+-----------------+-------------------+------------------+------------------+--------------------+--------------------+------------------+----------+------------------+\n",
      "| No|MLSID|       streetaddress|STREETNAME|PostalCode|StateOrProvince|            City|SALESCLOSEPRICE|       LISTDATE|LISTPRICE|       LISTTYPE|OriginalListPrice|PricePerTSFT|FOUNDATIONSIZE|           FENCE|MapLetter|SchoolDistrictNumber|DAYSONMARKET|  offmarketdate|FIREPLACES|RoomArea4|            roomtype|                ROOF|RoomFloor4|PotentialShortSale|PDOM|   GarageDescription|SQFTABOVEGROUND| TAXES|RoomFloor1|RoomArea1|TAXWITHASSESSMENTS|TAXYEAR|LIVINGAREA|YEARBUILT|            ZONING|               STYLE|ACRES|CoolingDescription|          APPLIANCES|      ROOMFAMILYCHAR|RoomArea3|            EXTERIOR|RoomFloor3|RoomFloor2|RoomArea2|DiningRoomDescription|            BASEMENT|BATHSFULL|BATHSHALF|BATHQUARTER|BATHSTHREEQUARTER|Class|BATHSTOTAL|            BATHDESC|RoomArea5|RoomFloor5|RoomArea6|RoomFloor6|RoomArea7|RoomFloor7|BEDROOMS|SQFTBELOWGROUND|ASSOCIATIONFEE|ASSESSMENTPENDING|ASSESSEDVALUATION|log_SalesClosePrice|percentage_scaled_days|scaled_FOUNDATIONSIZE| scaled_DAYSONMARKET|  scaled_FIREPLACES|Reflect_YearBuilt|      adj_yearbuilt|     LOT_SIZE_SQFT|         YARD_SIZE|    ASSESSED_TO_LIST|         TAX_TO_LIST|      BED_TO_BATHS|Total_SQFT|BATHS_PER_1000SQFT|\n",
      "+---+-----+--------------------+----------+----------+---------------+----------------+---------------+---------------+---------+---------------+-----------------+------------+--------------+----------------+---------+--------------------+------------+---------------+----------+---------+--------------------+--------------------+----------+------------------+----+--------------------+---------------+------+----------+---------+------------------+-------+----------+---------+------------------+--------------------+-----+------------------+--------------------+--------------------+---------+--------------------+----------+----------+---------+---------------------+--------------------+---------+---------+-----------+-----------------+-----+----------+--------------------+---------+----------+---------+----------+---------+----------+--------+---------------+--------------+-----------------+-----------------+-------------------+----------------------+---------------------+--------------------+-------------------+-----------------+-------------------+------------------+------------------+--------------------+--------------------+------------------+----------+------------------+\n",
      "|  1| RMLS|11511 Stillwater ...|Stillwater|     55042|             MN|LELM - Lake Elmo|         143000| 7/15/2017 0:00|   139900|Exclusive Right|           139900|    145.9184|         980.0|           Other|       C4|    834 - Stillwater|        10.0| 7/30/2017 0:00|       0.0|  12 x  9|Living Room, Dini...|                null|      Main|                No|10.0|     Attached Garage|          980.0|1858.0|      Main|  16 x 13|            1858.0| 2017.0|     980.0|   1950.0|Residential-Single|      (SF) One Story| 1.28|           Central|Range, Dishwasher...|                null|     null|               Vinyl|      null|      Main|   9 x  7|       Eat In Kitchen|                Full|      1.0|      1.0|        0.0|              0.0|   SF|       2.0|Main Floor 3/4 Ba...|  13 x 11|      Main|  10 x 10|      Main|     null|      null|     3.0|            0.0|           0.0|          Unknown|              0.0| 11.870599909242044|                   0.0|  0.25824320759694014|0.044444444444444446|                0.0|             69.0|0.23617733727628992|           55756.8|           54776.8|                 0.0|0.013280914939242315|               1.5|     980.0|2.0408163265306123|\n",
      "|  2| RMLS|     11200 31st St N|      31st|     55042|             MN|LELM - Lake Elmo|         190000| 10/9/2017 0:00|   210000|Exclusive Right|           210000|     85.2783|        1144.0|            null|       C1|    834 - Stillwater|         4.0|10/13/2017 0:00|       0.0|    11x11|Living Room, Dini...|Asphalt Shingles,...|      Main|                No| 4.0|Attached Garage, ...|         1268.0|1640.0|      Main|    22x14|            1640.0| 2017.0|    2228.0|   1971.0|Residential-Single|(SF) Split Entry ...| 0.32|           Central|Range, Microwave,...|         Lower Level|    22x14|               Vinyl|     Lower|      Main|    11x12| Informal Dining R...|Full, Partial Fin...|      1.0|      0.0|        0.0|              2.0|   SF|       3.0|Main Floor Full B...|    15x11|      Main|    14x11|      Main|    10x11|      Main|     4.0|          960.0|           0.0|          Unknown|              0.0| 12.154779351142624|                   0.0|   0.3015035610656819|0.017777777777777778|                0.0|             48.0| 0.2583177668073288|           13939.2|           12795.2|                 0.0| 0.00780952380952381|1.3333333333333333|    2228.0|1.3464991023339317|\n",
      "|  3| RMLS|8583 Stillwater B...|Stillwater|     55042|             MN|LELM - Lake Elmo|         225000| 6/26/2017 0:00|   225000|Exclusive Right|           225000|    204.1742|        1102.0|            None|       E1|622 - North St Pa...|        28.0| 7/24/2017 0:00|       0.0|    14x12|Living Room, Dini...|                null|      Main|                No|28.0|     Attached Garage|         1102.0|2390.0|      Main|    20x13|            2390.0| 2016.0|    1102.0|   1949.0|Residential-Single|      (SF) One Story|0.822|            Window|Range, Microwave,...|                null|     null|        Cement Board|      null|      Main|    18x11| Informal Dining Room|Full, Crawl Space...|      1.0|      0.0|        0.0|              0.0|   SF|       1.0|Main Floor Full Bath|    12x12|      Main|    12x12|      Main|     null|      null|     2.0|            0.0|           0.0|               No|              0.0| 12.323855681186558|                   0.0|  0.29042469005539434| 0.12444444444444444|                0.0|             70.0|0.23537745555238682|          35806.32|          34704.32|                 0.0|0.010622222222222222|               2.0|    1102.0|0.9074410163339383|\n",
      "|  4| RMLS|      9350 31st St N|      31st|     55042|             MN|LELM - Lake Elmo|         265000| 8/25/2017 0:00|   230000|Exclusive Right|           230000|    162.3775|         959.0|            None|       A1|    834 - Stillwater|        19.0| 9/13/2017 0:00|       1.0|    12X16|Living Room, Dini...|Asphalt Shingles,...|      Main|                No|19.0|Attached Garage, ...|         1284.0|2146.0|      null|     null|            2146.0| 2017.0|    1632.0|   1960.0|Residential-Single|      (SF) One Story| 0.94|           Central|Range, Washer, Dryer|          Main Level|    25X13|              Stucco|      Main|      Main|    20X11|                 null|Full, Partial Fin...|      1.0|      1.0|        0.0|              0.0|   SF|       2.0|Main Floor Full B...|    13X11|      Main|    13X10|      Main|     null|      null|     2.0|          348.0|           0.0|          Unknown|              0.0| 12.487485104968359|                   0.0|  0.25270377209179634| 0.08444444444444445|0.14285714285714285|             59.0| 0.2452460618098304|40946.399999999994|39987.399999999994|                 0.0|0.009330434782608695|               1.0|    1632.0|1.2254901960784315|\n",
      "|  5| RMLS|   2915 Inwood Ave N|    Inwood|     55042|             MN|LELM - Lake Elmo|         249900| 9/12/2017 0:00|   239900|Exclusive Right|           239900|    121.7836|        1026.0|      Chain Link|       E1|622 - North St Pa...|        21.0| 10/3/2017 0:00|       1.0|    12x10|Living Room, Dini...|Asphalt Shingles,...|      Main|                No|21.0|Attached Garage, ...|         1026.0|2010.0|      Main|    22x14|            2010.0| 2017.0|    2052.0|   1978.0|Residential-Single|(SF) Split Entry ...|  0.0|           Central|Range, Exhaust Fa...|         Lower Level|    22x18|               Vinyl|     Lower|      Main|    12x10| Breakfast Area, K...|Walkout, Full, Fi...|      1.0|      0.0|        0.0|              1.0|   SF|       2.0|Main Floor Full B...|    13x11|      Main|    13x12|      Main|    14x13|     Lower|     3.0|         1026.0|           0.0|               No|              0.0| 12.428816116823043|                   0.0|    0.270377209179636| 0.09333333333333334|0.14285714285714285|             41.0|  0.269282508064391|               0.0|           -1026.0|                 0.0|0.008378491037932471|               1.5|    2052.0|0.9746588693957114|\n",
      "|  6| RMLS|   3604 Layton Ave N|    Layton|     55042|             MN|LELM - Lake Elmo|         255000| 4/10/2017 0:00|   239900|Exclusive Right|           239900|     182.534|        1152.0|            null|       C1|    834 - Stillwater|        17.0| 4/27/2017 0:00|       1.0|  11 x 11|Living Room, Dini...|Asphalt Shingles,...|      Main|                No|17.0|Attached Garage, ...|         1397.0|1491.0|      Main|  19 x 13|            1494.0| 2016.0|    1397.0|   1965.0|Residential-Single|      (SF) One Story|0.172|           Central|Range, Microwave,...|                null|     null|        Metal, Vinyl|      null|      Main|  10 x 13| Separate/Formal D...|Full, Sump Pump, ...|      2.0|      0.0|        0.0|              0.0|   SF|       2.0|Main Floor Full B...|25.5 x 11|      Main|  10 x 11|      Main| 9.5 x 10|      Main|     3.0|            0.0|           0.0|               No|              3.0| 12.449018824140563|                   0.0|  0.30361382221049854| 0.07555555555555556|0.14285714285714285|             54.0| 0.2506903984389969|           7492.32|           6340.32|1.250521050437682...|0.006215089620675281|               1.5|    1397.0|1.4316392269148175|\n",
      "|  7| RMLS|9957 5th Street Ln N|5th Street|     55042|             MN|LELM - Lake Elmo|         248000|  6/8/2017 0:00|   250000|Exclusive Right|           265000|     137.931|         700.0|            null|       A4|    834 - Stillwater|        32.0| 7/10/2017 0:00|       0.0|     14x9|Living Room, Dini...|Asphalt Shingles,...|      Main|                No|19.0|Attached Garage, ...|         1798.0|2165.0|      Main|    13x15|            2168.0| 2017.0|    1798.0|   2015.0|Residential-Single|    (TH) Side x Side| 0.05|           Central|Range, Microwave,...|                Loft|     null|Shakes, Metal, Vi...|      null|      Main|    11x13| Informal Dining R...|                Slab|      1.0|      1.0|        0.0|              1.0|   SF|       3.0|Main Floor 1/2 Ba...|  13x19.6|     Upper|  11x13.6|     Upper|  11x13.6|     Upper|     3.0|            0.0|         200.0|              Yes|              3.0| 12.421184025147118|                   0.0|  0.18438406752835662| 0.14222222222222222|                0.0|              4.0| 0.7213475204444817|            2178.0|            1478.0|              1.2E-5|             0.00866|               1.0|    1798.0| 1.668520578420467|\n",
      "|  8| RMLS|9934 5th Street Ln N|5th Street|     55042|             MN|LELM - Lake Elmo|         245000| 11/5/2017 0:00|   254990|Exclusive Right|           273417|    141.3733|        1088.0|         Partial|       A4|    834 - Stillwater|         5.0|11/10/2017 0:00|       0.0|   12 x 8|Living Room, Dini...|    Asphalt Shingles|      Main|                No| 1.0|     Attached Garage|         1733.0|   0.0|      Main|  12 x 13|               0.0| 2017.0|    1733.0|   2017.0|Residential-Single| (TH) Quad/4 Corners| 0.05|           Central|Range, Microwave,...|Main Level, Famil...|     null|               Vinyl|      null|      Main|  12 x 10| Informal Dining R...|                None|      2.0|      1.0|        0.0|              0.0|   SF|       3.0|Main Floor 1/2 Ba...|  12 x 11|     Upper|  11 x 13|     Upper|  11 x 13|     Upper|     3.0|            0.0|         200.0|               No|              0.0| 12.409013489526863|                   0.0|   0.2867317330519652|0.022222222222222223|                0.0|              2.0| 1.4426950408889634|            2178.0|            1090.0|                 0.0|                 0.0|               1.0|    1733.0|1.7311021350259663|\n",
      "|  9| RMLS|9926 5th Street Ln N|5th Street|     55042|             MN|LELM - Lake Elmo|         254990|10/12/2017 0:00|   254990|Exclusive Right|           273152|    147.1379|        1088.0|         Partial|       E1|    834 - Stillwater|        23.0|11/11/2017 0:00|       0.0|   12 x 8|Living Room, Dini...|    Asphalt Shingles|      Main|                No| 5.0|     Attached Garage|         1733.0|   0.0|      Main|  12 x 13|               0.0| 2017.0|    1733.0|   2017.0|Residential-Single| (TH) Quad/4 Corners| 0.05|           Central|Range, Microwave,...|                null|     null|               Vinyl|      null|      Main|  12 x 10| Informal Dining R...|                None|      1.0|      1.0|        0.0|              1.0|   SF|       3.0|Main Floor 1/2 Ba...|  12 x 11|     Upper|  11 x 13|     Upper|  11 x 13|     Upper|     3.0|            0.0|         200.0|               No|              0.0| 12.448979607685333|                   0.0|   0.2867317330519652| 0.10222222222222223|                0.0|              2.0| 1.4426950408889634|            2178.0|            1090.0|                 0.0|                 0.0|               1.0|    1733.0|1.7311021350259663|\n",
      "| 10| RMLS|9928 5th Street Ln N|5th Street|     55042|             MN|LELM - Lake Elmo|         250000|  9/2/2017 0:00|   255990|Exclusive Right|           273482|    144.2585|        1088.0|Privacy, Partial|       A4|    834 - Stillwater|        73.0|11/20/2017 0:00|       0.0|   12 x 8|Living Room, Dini...|    Asphalt Shingles|      Main|                No|11.0|     Attached Garage|         1733.0|   0.0|      Main|  12 x 13|               0.0| 2017.0|    1733.0|   2017.0|Residential-Single| (TH) Quad/4 Corners| 0.05|           Central|Range, Microwave,...|Main Level, Famil...|     null|               Vinyl|      null|      Main|  12 x 10| Informal Dining R...|                None|      1.0|      1.0|        0.0|              1.0|   SF|       3.0|Main Floor 1/2 Ba...|  12 x 11|     Upper|  11 x 13|     Upper|  11 x 13|     Upper|     3.0|            0.0|         200.0|               No|              0.0| 12.429216196844383|                   0.0|   0.2867317330519652|  0.3244444444444444|                0.0|              2.0| 1.4426950408889634|            2178.0|            1090.0|                 0.0|                 0.0|               1.0|    1733.0|1.7311021350259663|\n",
      "| 11| RMLS|9902 5th Street Ln N|5th Street|     55042|             MN|LELM - Lake Elmo|         254500| 5/19/2017 0:00|   259990|Exclusive Right|           267117|    146.8552|        1088.0|         Partial|       A4|    834 - Stillwater|        80.0|  8/7/2017 0:00|       0.0|   12 x 8|Living Room, Dini...|    Asphalt Shingles|      Main|                No| 7.0|     Attached Garage|         1733.0|   0.0|      Main|  12 x 13|               0.0| 2017.0|    1733.0|   2017.0|Residential-Single| (TH) Quad/4 Corners| 0.05|           Central|Range, Microwave,...|Main Level, Famil...|     null|               Vinyl|      null|      Main|  12 x 10| Informal Dining R...|                None|      1.0|      1.0|        0.0|              1.0|   SF|       3.0|Main Floor 1/2 Ba...|  12 x 11|     Upper|  11 x 13|     Upper|  11 x 13|     Upper|     3.0|            0.0|         200.0|               No|              0.0| 12.447056114972714|                   0.0|   0.2867317330519652| 0.35555555555555557|                0.0|              2.0| 1.4426950408889634|            2178.0|            1090.0|                 0.0|                 0.0|               1.0|    1733.0|1.7311021350259663|\n",
      "| 12| RMLS|9904 5th Street Ln N|5th Street|     55042|             MN|LELM - Lake Elmo|         253000| 5/11/2017 0:00|   259990|Exclusive Right|           268487|    145.9896|        1088.0|         Partial|       A4|    834 - Stillwater|        79.0| 7/29/2017 0:00|       0.0|   12 x 8|Living Room, Dini...|    Asphalt Shingles|      Main|                No|58.0|     Attached Garage|         1733.0|   0.0|      Main|  12 x 13|               0.0| 2017.0|    1733.0|   2017.0|Residential-Single| (TH) Quad/4 Corners| 0.05|           Central|Range, Microwave,...|                null|     null|               Vinyl|      null|      Main|  12 x 10| Informal Dining R...|                None|      1.0|      1.0|        0.0|              1.0|   SF|       3.0|Main Floor 1/2 Ba...|  12 x 11|     Upper|  11 x 13|     Upper|  11 x 13|     Upper|     3.0|            0.0|         200.0|               No|              0.0| 12.441144767709657|                   0.0|   0.2867317330519652|  0.3511111111111111|                0.0|              2.0| 1.4426950408889634|            2178.0|            1090.0|                 0.0|                 0.0|               1.0|    1733.0|1.7311021350259663|\n",
      "| 13| RMLS|9894 5th Street Ln N|5th Street|     55042|             MN|LELM - Lake Elmo|         257500| 3/12/2017 0:00|   259990|Exclusive Right|           268622|    148.5863|        1088.0|         Partial|       A4|    834 - Stillwater|        12.0| 3/24/2017 0:00|       0.0|   12 x 8|Living Room, Dini...|    Asphalt Shingles|      Main|                No| 8.0|     Attached Garage|         1733.0|   0.0|      Main|  12 x 13|               0.0| 2017.0|    1733.0|   2017.0|Residential-Single| (TH) Quad/4 Corners| 0.05|           Central|Range, Microwave,...|Main Level, Famil...|     null|               Vinyl|      null|      Main|  12 x 10| Informal Dining R...|                None|      2.0|      1.0|        0.0|              0.0|   SF|       3.0|Main Floor 1/2 Ba...|  12 x 11|     Upper|  11 x 13|     Upper|  11 x 13|     Upper|     3.0|            0.0|         190.0|               No|              0.0| 12.458774999085929|                   0.0|   0.2867317330519652| 0.05333333333333334|                0.0|              2.0| 1.4426950408889634|            2178.0|            1090.0|                 0.0|                 0.0|               1.0|    1733.0|1.7311021350259663|\n",
      "| 14| RMLS|    9892 5th St Ln N|    5th St|     55042|             MN|LELM - Lake Elmo|         272990|  3/6/2017 0:00|   269990|Exclusive Right|           279442|     154.844|        1088.0|Privacy, Partial|       A4|    834 - Stillwater|         1.0| 6/11/2017 0:00|       0.0|     12X8|Living Room, Dini...|Asphalt Shingles,...|      Main|                No| 1.0|Attached Garage, ...|         1763.0|   0.0|      Main|    12X13|               0.0| 2016.0|    1763.0|   2016.0|Residential-Single| (TH) Quad/4 Corners| 0.05|           Central|Range, Microwave,...|Main Level, Great...|     null|Shakes, Metal, Vi...|      null|      Main|     3X10| Informal Dining R...|                None|      2.0|      1.0|        0.0|              0.0|   SF|       3.0|Main Floor 1/2 Ba...|    12X11|     Upper|    11X13|     Upper|    11X13|     Upper|     3.0|            0.0|         200.0|               No|              0.0|  12.51719044345957|                   0.0|   0.2867317330519652|0.004444444444444...|                0.0|              3.0| 0.9102392266268375|            2178.0|            1090.0|                 0.0|                 0.0|               1.0|    1763.0|1.7016449234259785|\n",
      "| 15| RMLS|9295 Lake Jane Trl N| Lake Jane|     55042|             MN|LELM - Lake Elmo|         290000| 5/18/2017 0:00|   270000|Exclusive Right|           270000|    157.2668|        1844.0|            null|       A4|    834 - Stillwater|        18.0|  6/5/2017 0:00|       1.0|    13x12|Living Room, Dini...|    Asphalt Shingles|      Main|                No|18.0|Attached Garage, ...|         1844.0|2689.0|      Main|    21x19|            2692.0| 2017.0|    1844.0|   1977.0|Residential-Single|      (SF) One Story|1.661|           Central|Cooktop, Wall Ove...|                null|     null|  Metal, Brick/Stone|      null|      Main|    12x10| Informal Dining R...|Full, Concrete Bl...|      0.0|      0.0|        0.0|              3.0|   SF|       3.0|Main Floor 3/4 Ba...|    14x11|      Main|    12x11|      Main|     null|      null|     2.0|            0.0|           0.0|              Yes|              3.0| 12.577636201962656|                   0.0|   0.4861514112371406|                0.08|0.14285714285714285|             42.0|  0.267546386419054|          72353.16|          70509.16|1.111111111111111...| 0.00995925925925926|0.6666666666666666|    1844.0|1.6268980477223427|\n",
      "| 16| RMLS|    9930 5th St Ln N|    5th St|     55042|             MN|LELM - Lake Elmo|         274000|10/15/2017 0:00|   274000|Exclusive Right|           274000|    155.4169|        1088.0|            null|       A4|    834 - Stillwater|         2.0|10/17/2017 0:00|       0.0|     12X8|Living Room, Dini...|Asphalt Shingles,...|      Main|                No| 2.0|Attached Garage, ...|         1763.0|   0.0|      Main|    12X13|               0.0| 2017.0|    1763.0|   2017.0|Residential-Single| (TH) Quad/4 Corners| 0.05|           Central|Range, Microwave,...|                Loft|     null|Shakes, Metal, Vi...|      null|      Main|     3X10| Informal Dining R...|                None|      1.0|      1.0|        0.0|              1.0|   SF|       3.0|Main Floor 1/2 Ba...|    12X11|     Upper|    11X13|     Upper|    11X13|     Upper|     3.0|            0.0|         200.0|               No|              0.0| 12.520883385370206|                   0.0|   0.2867317330519652|0.008888888888888889|                0.0|              2.0| 1.4426950408889634|            2178.0|            1090.0|                 0.0|                 0.0|               1.0|    1763.0|1.7016449234259785|\n",
      "| 17| RMLS|    9898 5th St Ln N|    5th St|     55042|             MN|LELM - Lake Elmo|         274990| 9/10/2017 0:00|   274990|Exclusive Right|           289357|    155.9784|        1088.0|            null|       A4|    834 - Stillwater|        12.0| 9/22/2017 0:00|       0.0|     12X8|Living Room, Dini...|Asphalt Shingles,...|      Main|                No| 8.0|Attached Garage, ...|         1763.0|   0.0|      Main|    12X13|               0.0| 2017.0|    1763.0|   2017.0|Residential-Single| (TH) Quad/4 Corners| 0.05|           Central|Range, Microwave,...|                Loft|     null|Shakes, Metal, Vi...|      null|      Main|     3X10| Informal Dining R...|                None|      1.0|      1.0|        0.0|              1.0|   SF|       3.0|Main Floor 1/2 Ba...|    12X11|     Upper|    11X13|     Upper|    11X13|     Upper|     3.0|            0.0|         200.0|               No|              0.0|  12.52449001235117|                   0.0|   0.2867317330519652| 0.05333333333333334|                0.0|              2.0| 1.4426950408889634|            2178.0|            1090.0|                 0.0|                 0.0|               1.0|    1763.0|1.7016449234259785|\n",
      "| 18| RMLS|    9924 5th St Ln N|    5th St|     55042|             MN|LELM - Lake Elmo|         274000|  9/1/2017 0:00|   284990|Exclusive Right|           288342|    155.4169|        1088.0|Privacy, Partial|       A4|    834 - Stillwater|        45.0|10/16/2017 0:00|       0.0|     12X8|Living Room, Dini...|Asphalt Shingles,...|      Main|                No|24.0|Attached Garage, ...|         1763.0|   0.0|      Main|    12X13|               0.0| 2017.0|    1763.0|   2017.0|Residential-Single| (TH) Quad/4 Corners| 0.05|           Central|Range, Microwave,...|Main Level, Great...|     null|Shakes, Metal, Vi...|      null|      Main|     3X10| Informal Dining R...|                None|      2.0|      1.0|        0.0|              0.0|   SF|       3.0|Main Floor 1/2 Ba...|    12X11|     Upper|    11X13|     Upper|    11X13|     Upper|     3.0|            0.0|         200.0|               No|              0.0| 12.520883385370206|                   0.0|   0.2867317330519652|                 0.2|                0.0|              2.0| 1.4426950408889634|            2178.0|            1090.0|                 0.0|                 0.0|               1.0|    1763.0|1.7016449234259785|\n",
      "| 19| RMLS|    9906 5th St Ln N|    5th St|     55042|             MN|LELM - Lake Elmo|         282000|  5/6/2017 0:00|   287452|Exclusive Right|           287452|    159.9546|        1088.0|            null|       A4|    834 - Stillwater|        31.0|  6/6/2017 0:00|       0.0|     12X8|Living Room, Dini...|Asphalt Shingles,...|      Main|                No|31.0|Attached Garage, ...|         1763.0|   0.0|      Main|    12X13|               0.0| 2017.0|    1763.0|   2017.0|Residential-Single| (TH) Quad/4 Corners| 0.05|           Central|Range, Microwave,...|                Loft|     null|Shakes, Metal, Vi...|      null|      Main|     3X10| Informal Dining R...|                None|      1.0|      1.0|        0.0|              1.0|   SF|       3.0|Main Floor 1/2 Ba...|    12X11|     Upper|    11X13|     Upper|    11X13|     Upper|     3.0|            0.0|         200.0|               No|              0.0|  12.54966234992025|                   0.0|   0.2867317330519652| 0.13777777777777778|                0.0|              2.0| 1.4426950408889634|            2178.0|            1090.0|                 0.0|                 0.0|               1.0|    1763.0|1.7016449234259785|\n",
      "| 20| RMLS|    9938 5th St Ln N|    5th St|     55042|             MN|LELM - Lake Elmo|         280617| 8/11/2017 0:00|   288492|Exclusive Right|           288492|    159.1702|        1088.0|            null|       A4|    834 - Stillwater|        16.0| 8/27/2017 0:00|       0.0|     12X8|Living Room, Dini...|Asphalt Shingles,...|      Main|                No|16.0|Attached Garage, ...|         1763.0|   0.0|      Main|    12X13|               0.0| 2017.0|    1763.0|   2017.0|Residential-Single| (TH) Quad/4 Corners| 0.05|           Central|Range, Microwave,...|                Loft|     null|Shakes, Metal, Vi...|      null|      Main|     3X10| Informal Dining R...|                None|      1.0|      1.0|        0.0|              1.0|   SF|       3.0|Main Floor 1/2 Ba...|    12X11|     Upper|    11X13|     Upper|    11X13|     Upper|     3.0|            0.0|         200.0|               No|              0.0| 12.544746029277201|                   0.0|   0.2867317330519652| 0.07111111111111111|                0.0|              2.0| 1.4426950408889634|            2178.0|            1090.0|                 0.0|                 0.0|               1.0|    1763.0|1.7016449234259785|\n",
      "+---+-----+--------------------+----------+----------+---------------+----------------+---------------+---------------+---------+---------------+-----------------+------------+--------------+----------------+---------+--------------------+------------+---------------+----------+---------+--------------------+--------------------+----------+------------------+----+--------------------+---------------+------+----------+---------+------------------+-------+----------+---------+------------------+--------------------+-----+------------------+--------------------+--------------------+---------+--------------------+----------+----------+---------+---------------------+--------------------+---------+---------+-----------+-----------------+-----+----------+--------------------+---------+----------+---------+----------+---------+----------+--------+---------------+--------------+-----------------+-----------------+-------------------+----------------------+---------------------+--------------------+-------------------+-----------------+-------------------+------------------+------------------+--------------------+--------------------+------------------+----------+------------------+\n",
      "only showing top 20 rows\n",
      "\n"
     ]
    }
   ],
   "source": [
    "df.show()"
   ]
  },
  {
   "cell_type": "code",
   "execution_count": null,
   "metadata": {},
   "outputs": [],
   "source": [
    "#from pyspark.sql import functions as F\n",
    "#df_pr = spark.createDataFrame(\n",
    "#    [('x', '01/31/2021', '12/31/2020'),\n",
    "#     ('y', '1/1/2020', '1/18/2020'),\n",
    "#     ('z', '15-01-2020', '20-10-2020')],\n",
    "#    ['id', 'c1', 'c2'])\n",
    "\n",
    "#for c in ['c1', 'c2']:\n",
    "#    df_pr = df_pr.withColumn(\n",
    "#        c, \n",
    "#        F.when(F.col(c).rlike('\\d{1,2}/\\d{1,2}/\\d{4}'), F.to_date(c, 'M/d/yyyy'))\n",
    "#         .when(F.col(c).rlike('\\d{1,2}-\\d{1,2}-\\d{4}'), F.to_date(c, 'd-M-yyyy'))\n",
    "#    )"
   ]
  },
  {
   "cell_type": "code",
   "execution_count": 26,
   "metadata": {},
   "outputs": [],
   "source": [
    "import pyspark.sql.functions as F\n",
    "\n",
    "# Convert to date type\n",
    "df_d = df.withColumn('LISTDATE', F.regexp_replace(\"LISTDATE\",\" 0:00\",\"\") )\n",
    "\n",
    "df_d = df_d.withColumn('LISTDATE', F.when(F.col('LISTDATE').rlike('\\d{1,2}/\\d{1,2}/\\d{4}'), F.to_date('LISTDATE', 'M/d/yyyy')))\n",
    "\n",
    "\n",
    "# Get the day of the week\n",
    "df_d = df_d.withColumn('List_Day_of_Week', F.dayofweek('LISTDATE'))\n",
    "\n"
   ]
  },
  {
   "cell_type": "code",
   "execution_count": 27,
   "metadata": {},
   "outputs": [],
   "source": [
    "df=df_d"
   ]
  },
  {
   "cell_type": "code",
   "execution_count": 28,
   "metadata": {},
   "outputs": [
    {
     "data": {
      "image/png": "[encoded data removed]",
      "text/plain": [
       "<Figure size 432x288 with 1 Axes>"
      ]
     },
     "metadata": {
      "needs_background": "light"
     },
     "output_type": "display_data"
    }
   ],
   "source": [
    "# Sample and convert to pandas dataframe\n",
    "sample_df = df_d.sample(False, 0.5, 42).toPandas()\n",
    "\n",
    "# Plot count plot of of day of week\n",
    "sns.countplot(x=\"List_Day_of_Week\", data=sample_df)\n",
    "plt.show()"
   ]
  },
  {
   "attachments": {},
   "cell_type": "markdown",
   "metadata": {},
   "source": [
    "Joining On Time Components\n",
    "\n",
    "Often times you will use date components to join in other sets of information. However, in this example, we need to use data that would have been available to those considering buying a house. This means we will need to use the previous year's reporting data for our analysis."
   ]
  },
  {
   "cell_type": "code",
   "execution_count": 29,
   "metadata": {},
   "outputs": [
    {
     "name": "stdout",
     "output_type": "stream",
     "text": [
      "+---------------+\n",
      "|MedianHomeValue|\n",
      "+---------------+\n",
      "|         401000|\n",
      "|         401000|\n",
      "|         401000|\n",
      "|         401000|\n",
      "|         401000|\n",
      "|         401000|\n",
      "|         401000|\n",
      "|         401000|\n",
      "|         401000|\n",
      "|         401000|\n",
      "|         401000|\n",
      "|         401000|\n",
      "|         401000|\n",
      "|         401000|\n",
      "|         401000|\n",
      "|         401000|\n",
      "|         401000|\n",
      "|         401000|\n",
      "|         401000|\n",
      "|         401000|\n",
      "+---------------+\n",
      "only showing top 20 rows\n",
      "\n"
     ]
    }
   ],
   "source": [
    "import pyspark.sql.functions as F\n",
    "price_df=spark.read.csv('C:/Users/cmuro/feature_engineering_with_pyspark/price_data.csv',header=True)\n",
    "# Create year column\n",
    "from pyspark.sql.functions import year\n",
    "\n",
    "# Create year column\n",
    "df_p = df.withColumn('list_year', year(df['LISTDATE']))\n",
    "\n",
    "# Adjust year to match\n",
    "df_p = df_p.withColumn('report_year', (df_p['list_year'] - 1))\n",
    "\n",
    "# Create join condition\n",
    "condition = [df_p['CITY'] == price_df['City'], df_p['report_year'] == price_df['year']]\n",
    "\n",
    "# Join the dataframes together\n",
    "df_p = df_p.join(price_df, on=condition, how='left')\n",
    "# Inspect that new columns are available\n",
    "df_p[['MedianHomeValue']].show()\n",
    "\n"
   ]
  },
  {
   "attachments": {},
   "cell_type": "markdown",
   "metadata": {},
   "source": [
    "Date Math\n",
    "\n",
    "In this example, we'll look at verifying the frequency of our data. The Mortgage dataset is supposed to have weekly data but let's make sure by lagging the report date and then taking the difference of the dates.\n",
    "\n",
    "Recall that to create a lagged feature we will need to create a window(). window() allows you to return a value for each record based off some calculation against a group of records, in this case, the previous period's mortgage rate."
   ]
  },
  {
   "cell_type": "code",
   "execution_count": null,
   "metadata": {},
   "outputs": [],
   "source": [
    "# Don't execute this chunk, the data mort_df is not provided and is too large to write\n",
    "from pyspark.sql.functions import lag, datediff, to_date\n",
    "from pyspark.sql.window import Window\n",
    "\n",
    "# Cast data type\n",
    "mort_df = mort_df.withColumn('DATE', to_date(mort_df['DATE']))\n",
    "\n",
    "# Create window\n",
    "w = Window().orderBy(mort_df['DATE'])\n",
    "# Create lag column\n",
    "mort_df = mort_df.withColumn('DATE-1', lag(mort_df['DATE'], count=1).over(w))\n",
    "\n",
    "# Calculate difference between date columns\n",
    "mort_df = mort_df.withColumn('Days_Between_Report', datediff(mort_df['DATE'], mort_df['DATE-1']))\n",
    "# Print results\n",
    "mort_df.select('Days_Between_Report').distinct().show()"
   ]
  },
  {
   "attachments": {},
   "cell_type": "markdown",
   "metadata": {},
   "source": [
    "**Extracting features**    \n",
    "Extracting age with text match.  \n",
    "from pyspark.sql.functions import when  \n",
    "find_under_8=df['ROOF'].like('%Age 8 years or Less%')    \n",
    "find_over_8=df['ROOF'].like('%Age Over 8 Years%')  \n",
    "\n",
    "\\# Apply filters using when() and otherwise    \n",
    "df=df.withColumn('old_roof', ( when(find_over_8,1, 1),when(find_over_8,0).otherwise(None) )  )      \n",
    "  \n",
    "Splitting columns  \n",
    "from pyspark.sql.function import split  \n",
    "\\# Split the column on commas into a list  \n",
    "split_col = split(df['ROOF'], ',')  \n",
    "\\# Put the first value of the list into a new column  \n",
    "df=df.withColumn('Roof_Material', split_col.getItem(0))   \n",
    "  \n",
    "   "
   ]
  },
  {
   "attachments": {},
   "cell_type": "markdown",
   "metadata": {},
   "source": [
    "Explode & Pivot !    \n",
    "\n",
    "from pyspark.sql.functions import split, explode, lit, coalesce, first  \n",
    "\\# split the column on commas into a list  \n",
    "df=df.withColumn('roof_list',split(['ROOF'], ',' ))  \n",
    "  \n",
    "\\# Explode list into new records for each value  \n",
    "ex_df=df.withColumn('ex_roof_list', explode(df['roof_list']) )  \n",
    "\n",
    "\\# Create a dummy column of constant value  \n",
    "ex_df= ex_df.withColumn('constant_val', lit(1) )     \n",
    "\n",
    "\\# Pivot the values into boolean columns     \n",
    "piv_df=ex_df.groupBy('NO').pivot('ex_roof_list').agg(coalesce(first('constant_val')))"
   ]
  },
  {
   "cell_type": "code",
   "execution_count": 30,
   "metadata": {},
   "outputs": [
    {
     "name": "stdout",
     "output_type": "stream",
     "text": [
      "+------------------------------------------------------------------+-------------------+\n",
      "|                                                 GARAGEDESCRIPTION|has_attached_garage|\n",
      "+------------------------------------------------------------------+-------------------+\n",
      "|                                                   Attached Garage|                  1|\n",
      "|           Attached Garage, Driveway - Asphalt, Garage Door Opener|                  1|\n",
      "|                                                   Attached Garage|                  1|\n",
      "|    Attached Garage, Detached Garage, Tuckunder, Driveway - Gravel|                  1|\n",
      "|           Attached Garage, Driveway - Asphalt, Garage Door Opener|                  1|\n",
      "|                               Attached Garage, Driveway - Asphalt|                  1|\n",
      "|           Attached Garage, Driveway - Asphalt, Garage Door Opener|                  1|\n",
      "|                                                   Attached Garage|                  1|\n",
      "|                                                   Attached Garage|                  1|\n",
      "|                                                   Attached Garage|                  1|\n",
      "|                                                   Attached Garage|                  1|\n",
      "|                                                   Attached Garage|                  1|\n",
      "|                                                   Attached Garage|                  1|\n",
      "|           Attached Garage, Driveway - Asphalt, Garage Door Opener|                  1|\n",
      "|Attached Garage, Tuckunder, Driveway - Asphalt, Garage Door Opener|                  1|\n",
      "|           Attached Garage, Driveway - Asphalt, Garage Door Opener|                  1|\n",
      "|           Attached Garage, Driveway - Asphalt, Garage Door Opener|                  1|\n",
      "|           Attached Garage, Driveway - Asphalt, Garage Door Opener|                  1|\n",
      "|           Attached Garage, Driveway - Asphalt, Garage Door Opener|                  1|\n",
      "|           Attached Garage, Driveway - Asphalt, Garage Door Opener|                  1|\n",
      "+------------------------------------------------------------------+-------------------+\n",
      "only showing top 20 rows\n",
      "\n"
     ]
    }
   ],
   "source": [
    "# Import needed functions\n",
    "from pyspark.sql.functions import when\n",
    "\n",
    "# Create boolean conditions for string matches\n",
    "has_attached_garage = df_p['GARAGEDESCRIPTION'].like('%Attached%')\n",
    "has_detached_garage = df_p['GARAGEDESCRIPTION'].like('%Detached%')\n",
    "\n",
    "# Conditional value assignment \n",
    "df_p = df_p.withColumn('has_attached_garage', (when(has_attached_garage, 1)\n",
    "                                          .when(has_detached_garage, 0)\n",
    "                                          .otherwise(None)))\n",
    "\n",
    "# Inspect results\n",
    "df_p[['GARAGEDESCRIPTION', 'has_attached_garage']].show(truncate=100)"
   ]
  },
  {
   "attachments": {},
   "cell_type": "markdown",
   "metadata": {},
   "source": [
    "Splitting & Exploding\n",
    "\n",
    "Being able to take a compound field like GARAGEDESCRIPTION and massaging it into something useful is an involved process. It's helpful to understand early what value you might gain out of expanding it. In this example, we will convert our string to a list-like array, explode it and then inspect the unique values."
   ]
  },
  {
   "cell_type": "code",
   "execution_count": 31,
   "metadata": {},
   "outputs": [
    {
     "name": "stdout",
     "output_type": "stream",
     "text": [
      "+----------------------------+\n",
      "|              ex_garage_list|\n",
      "+----------------------------+\n",
      "|             Attached Garage|\n",
      "|      On-Street Parking Only|\n",
      "|                        None|\n",
      "| More Parking Onsite for Fee|\n",
      "|          Garage Door Opener|\n",
      "|   No Int Access to Dwelling|\n",
      "|           Driveway - Gravel|\n",
      "|       Valet Parking for Fee|\n",
      "|              Uncovered/Open|\n",
      "|               Heated Garage|\n",
      "|          Underground Garage|\n",
      "|                       Other|\n",
      "|                  Unassigned|\n",
      "|More Parking Offsite for Fee|\n",
      "|    Driveway - Other Surface|\n",
      "|       Contract Pkg Required|\n",
      "|                     Carport|\n",
      "|                     Secured|\n",
      "|             Detached Garage|\n",
      "|          Driveway - Asphalt|\n",
      "|                  Units Vary|\n",
      "|                    Assigned|\n",
      "|                   Tuckunder|\n",
      "|                     Covered|\n",
      "|            Insulated Garage|\n",
      "|         Driveway - Concrete|\n",
      "|                      Tandem|\n",
      "|           Driveway - Shared|\n",
      "+----------------------------+\n",
      "\n"
     ]
    }
   ],
   "source": [
    "# Import needed functions\n",
    "from pyspark.sql.functions import split, explode\n",
    "\n",
    "# Convert string to list-like array\n",
    "df_p = df_p.withColumn('garage_list', split(df_p['GARAGEDESCRIPTION'], ', '))\n",
    "\n",
    "# Explode the values into new records\n",
    "ex_df = df_p.withColumn('ex_garage_list', explode(df_p['garage_list']))\n",
    "\n",
    "# Inspect the values\n",
    "ex_df[['ex_garage_list']].distinct().show(100, truncate=50)"
   ]
  },
  {
   "attachments": {},
   "cell_type": "markdown",
   "metadata": {},
   "source": [
    "Pivot & Join\n",
    "\n",
    "Being able to explode and pivot a compound field is great, but you are left with a dataframe of only those pivoted values. To really be valuable you'll need to rejoin it to the original dataset! After joining the datasets we will have a lot of NULL values for the newly created columns since we know the context of how they were created we can safely fill them in with zero as either the new has an attribute or it doesn't."
   ]
  },
  {
   "cell_type": "code",
   "execution_count": null,
   "metadata": {},
   "outputs": [],
   "source": [
    "from pyspark.sql.functions import coalesce, first\n",
    "\n",
    "# Pivot \n",
    "piv_df = ex_df.groupBy('NO').pivot('ex_garage_list').agg(coalesce(first('constant_value')))\n",
    "\n",
    "# Join the dataframes together and fill null\n",
    "joined_df = df.join(piv_df, on='NO', how='left')\n",
    "\n",
    "# Columns to zero fill\n",
    "zfill_cols = piv_df.columns\n",
    "\n",
    "# Zero fill the pivoted values\n",
    "zfilled_df = joined_df.fillna(0, subset=zfill_cols)"
   ]
  },
  {
   "attachments": {},
   "cell_type": "markdown",
   "metadata": {},
   "source": [
    "**Binarizing, Bucketing & Encoding**   \n",
    "   \n",
    "Binarizing is a helpful way to collapse some nunace in your model to just a yes/no. Binarization takes values below or equal to a threshold and replaces them by 0 values above it by 1. After importing Binarizer, we need to make sure the column we want to apply it to is of type double.  \n",
    "  \n",
    "from pyspark.ml.feature import Binarizer  \n",
    "df=df.withColumn('FIREPLACES',df['FIREPLACES'].cast('double')) \n",
    "bin=Binarizer(threshold=0.0, inputCol='FIREPLACES', outputCol='FireplaceT')  \n",
    "df = bin.transform(df)   \n",
    "    \n",
    "Bucketing:  \n",
    "Also called binning, is a way to create ordinal variables.  \n",
    "\n",
    "\\# Define how to split data\n",
    "splits = [0,1,2,3,4, float('Inf')]   \n",
    "\n",
    "\\# Create bucketing transformer  \n",
    "buck = Bucketizer(splits=splits, inputCol='BATHSTOTAL', outputCol='baths')  \n",
    "df=buck.transform(df)      \n",
    "  \n",
    "One Hot Encoding, where you pivot each categorical value into a True/False column of its own. Keep in mind for columns with a lot of different values this can create potentially hundreds or thousands of new columns!:  \n",
    "  \n",
    "from pyspark.ml.feature import OneHotEncoder, StringIndexer  \n",
    "stringIndexer = StringIndexer(inputCol = 'CITY', outputCol= 'City_Index')  \n",
    "model= stringIndexer.fit(df)  \n",
    "indexed= model.transform(df)      \n",
    "  \n",
    "One Hot Encoding the PySpark Way:  \n",
    "encoder= OneHotEncoder(inputCol='City_Index', outputCol='City_Vec')  \n",
    "encoded_df = encoder.transform(indexed)  \n",
    "encoded_df[['City_Vec']].show(4)  \n"
   ]
  },
  {
   "attachments": {},
   "cell_type": "markdown",
   "metadata": {},
   "source": [
    "Binarizing Day of Week\n",
    "\n",
    "In a previous video, we saw that it was very unlikely for a home to list on the weekend. Let's create a new field that says if the house is listed for sale on a weekday or not. In this example there is a field called List_Day_of_Week that has Monday is labeled 1.0 and Sunday is 7.0. Let's convert this to a binary field with weekday being 0 and weekend being 1. We can use the pyspark feature transformer Binarizer to do this."
   ]
  },
  {
   "cell_type": "code",
   "execution_count": 81,
   "metadata": {},
   "outputs": [],
   "source": [
    "df = df_p.withColumn('List_Day_of_Week', df_p['List_Day_of_Week'].cast('double'))"
   ]
  },
  {
   "cell_type": "code",
   "execution_count": 82,
   "metadata": {},
   "outputs": [
    {
     "name": "stdout",
     "output_type": "stream",
     "text": [
      "+----------------+-----------------+\n",
      "|List_Day_of_Week|Listed_On_Weekend|\n",
      "+----------------+-----------------+\n",
      "|             7.0|              1.0|\n",
      "|             2.0|              0.0|\n",
      "|             2.0|              0.0|\n",
      "|             6.0|              1.0|\n",
      "|             3.0|              0.0|\n",
      "|             2.0|              0.0|\n",
      "|             5.0|              0.0|\n",
      "|             1.0|              0.0|\n",
      "|             5.0|              0.0|\n",
      "|             7.0|              1.0|\n",
      "|             6.0|              1.0|\n",
      "|             5.0|              0.0|\n",
      "|             1.0|              0.0|\n",
      "|             2.0|              0.0|\n",
      "|             5.0|              0.0|\n",
      "|             1.0|              0.0|\n",
      "|             1.0|              0.0|\n",
      "|             6.0|              1.0|\n",
      "|             7.0|              1.0|\n",
      "|             6.0|              1.0|\n",
      "+----------------+-----------------+\n",
      "only showing top 20 rows\n",
      "\n"
     ]
    }
   ],
   "source": [
    "# Import transformer\n",
    "from pyspark.ml.feature import Binarizer\n",
    "\n",
    "# Create the transformer\n",
    "binarizer = Binarizer(threshold=5, inputCol='List_Day_of_Week', outputCol='Listed_On_Weekend')\n",
    "\n",
    "# Apply the transformation to df\n",
    "df = binarizer.transform(df)\n",
    "\n",
    "# Verify transformation\n",
    "df[['List_Day_of_Week', 'Listed_On_Weekend']].show()"
   ]
  },
  {
   "attachments": {},
   "cell_type": "markdown",
   "metadata": {},
   "source": [
    "Bucketing\n",
    "\n",
    "If you are a homeowner its very important if a house has 1, 2, 3 or 4 bedrooms. But like bathrooms, once you hit a certain point you don't really care whether the house has 7 or 8. This example we'll look at how to figure out where are some good value points to bucket."
   ]
  },
  {
   "cell_type": "code",
   "execution_count": 49,
   "metadata": {},
   "outputs": [
    {
     "name": "stdout",
     "output_type": "stream",
     "text": [
      "<class 'pandas.core.frame.DataFrame'>\n",
      "RangeIndex: 2523 entries, 0 to 2522\n",
      "Data columns (total 81 columns):\n",
      " #   Column                  Non-Null Count  Dtype  \n",
      "---  ------                  --------------  -----  \n",
      " 0   NO                      2523 non-null   object \n",
      " 1   MLSID                   2523 non-null   object \n",
      " 2   streetaddress           2523 non-null   object \n",
      " 3   STREETNAME              2523 non-null   object \n",
      " 4   PostalCode              2523 non-null   object \n",
      " 5   StateOrProvince         2523 non-null   object \n",
      " 6   City                    2523 non-null   object \n",
      " 7   SALESCLOSEPRICE         2523 non-null   int32  \n",
      " 8   LISTDATE                2523 non-null   object \n",
      " 9   LISTPRICE               2523 non-null   int64  \n",
      " 10  LISTTYPE                2523 non-null   object \n",
      " 11  OriginalListPrice       2523 non-null   object \n",
      " 12  PricePerTSFT            2523 non-null   object \n",
      " 13  FOUNDATIONSIZE          2523 non-null   float64\n",
      " 14  FENCE                   1488 non-null   object \n",
      " 15  MapLetter               2523 non-null   object \n",
      " 16  SchoolDistrictNumber    2523 non-null   object \n",
      " 17  DAYSONMARKET            2523 non-null   float64\n",
      " 18  offmarketdate           2523 non-null   object \n",
      " 19  FIREPLACES              2523 non-null   float64\n",
      " 20  RoomArea4               2368 non-null   object \n",
      " 21  roomtype                2523 non-null   object \n",
      " 22  ROOF                    2123 non-null   object \n",
      " 23  RoomFloor4              2444 non-null   object \n",
      " 24  PotentialShortSale      2523 non-null   object \n",
      " 25  PDOM                    2523 non-null   float64\n",
      " 26  GarageDescription       2523 non-null   object \n",
      " 27  SQFTABOVEGROUND         2523 non-null   float64\n",
      " 28  TAXES                   2523 non-null   float64\n",
      " 29  RoomFloor1              2339 non-null   object \n",
      " 30  RoomArea1               2285 non-null   object \n",
      " 31  TAXWITHASSESSMENTS      2523 non-null   float64\n",
      " 32  TAXYEAR                 2523 non-null   float64\n",
      " 33  LIVINGAREA              2523 non-null   float64\n",
      " 34  YEARBUILT               2523 non-null   float64\n",
      " 35  ZONING                  2523 non-null   object \n",
      " 36  STYLE                   2523 non-null   object \n",
      " 37  ACRES                   2523 non-null   float64\n",
      " 38  CoolingDescription      2523 non-null   object \n",
      " 39  APPLIANCES              2345 non-null   object \n",
      " 40  ROOMFAMILYCHAR          1537 non-null   object \n",
      " 41  RoomArea3               1352 non-null   object \n",
      " 42  EXTERIOR                2523 non-null   object \n",
      " 43  RoomFloor3              1403 non-null   object \n",
      " 44  RoomFloor2              2011 non-null   object \n",
      " 45  RoomArea2               1944 non-null   object \n",
      " 46  DiningRoomDescription   2184 non-null   object \n",
      " 47  BASEMENT                2523 non-null   object \n",
      " 48  BATHSFULL               2523 non-null   float64\n",
      " 49  BATHSHALF               2523 non-null   float64\n",
      " 50  BATHQUARTER             2523 non-null   float64\n",
      " 51  BATHSTHREEQUARTER       2523 non-null   float64\n",
      " 52  Class                   2523 non-null   object \n",
      " 53  BATHSTOTAL              2523 non-null   float64\n",
      " 54  BATHDESC                2330 non-null   object \n",
      " 55  RoomArea5               2396 non-null   object \n",
      " 56  RoomFloor5              2448 non-null   object \n",
      " 57  RoomArea6               2321 non-null   object \n",
      " 58  RoomFloor6              2370 non-null   object \n",
      " 59  RoomArea7               1758 non-null   object \n",
      " 60  RoomFloor7              1791 non-null   object \n",
      " 61  BEDROOMS                2523 non-null   float64\n",
      " 62  SQFTBELOWGROUND         2523 non-null   float64\n",
      " 63  ASSOCIATIONFEE          2523 non-null   float64\n",
      " 64  ASSESSMENTPENDING       2523 non-null   object \n",
      " 65  ASSESSEDVALUATION       2523 non-null   float64\n",
      " 66  log_SalesClosePrice     2523 non-null   float64\n",
      " 67  percentage_scaled_days  2523 non-null   float64\n",
      " 68  scaled_FOUNDATIONSIZE   2523 non-null   float64\n",
      " 69  scaled_DAYSONMARKET     2523 non-null   float64\n",
      " 70  scaled_FIREPLACES       2523 non-null   float64\n",
      " 71  Reflect_YearBuilt       2523 non-null   float64\n",
      " 72  adj_yearbuilt           2522 non-null   float64\n",
      " 73  LOT_SIZE_SQFT           2523 non-null   float64\n",
      " 74  YARD_SIZE               2523 non-null   float64\n",
      " 75  ASSESSED_TO_LIST        2523 non-null   float64\n",
      " 76  TAX_TO_LIST             2523 non-null   float64\n",
      " 77  BED_TO_BATHS            2523 non-null   float64\n",
      " 78  Total_SQFT              2523 non-null   float64\n",
      " 79  BATHS_PER_1000SQFT      2523 non-null   float64\n",
      " 80  List_Day_of_Week        2523 non-null   int32  \n",
      "dtypes: float64(34), int32(2), int64(1), object(44)\n",
      "memory usage: 1.5+ MB\n"
     ]
    }
   ],
   "source": [
    "sample_df.info()"
   ]
  },
  {
   "cell_type": "code",
   "execution_count": 83,
   "metadata": {},
   "outputs": [
    {
     "name": "stdout",
     "output_type": "stream",
     "text": [
      "+--------+--------+\n",
      "|BEDROOMS|bedrooms|\n",
      "+--------+--------+\n",
      "|     3.0|     3.0|\n",
      "|     4.0|     4.0|\n",
      "|     2.0|     2.0|\n",
      "|     2.0|     2.0|\n",
      "|     3.0|     3.0|\n",
      "|     3.0|     3.0|\n",
      "|     3.0|     3.0|\n",
      "|     3.0|     3.0|\n",
      "|     3.0|     3.0|\n",
      "|     3.0|     3.0|\n",
      "|     3.0|     3.0|\n",
      "|     3.0|     3.0|\n",
      "|     3.0|     3.0|\n",
      "|     3.0|     3.0|\n",
      "|     2.0|     2.0|\n",
      "|     3.0|     3.0|\n",
      "|     3.0|     3.0|\n",
      "|     3.0|     3.0|\n",
      "|     3.0|     3.0|\n",
      "|     3.0|     3.0|\n",
      "+--------+--------+\n",
      "only showing top 20 rows\n",
      "\n"
     ]
    }
   ],
   "source": [
    "from pyspark.ml.feature import Bucketizer\n",
    "\n",
    "\n",
    "# Create the bucket splits and bucketizer\n",
    "splits = [0, 1, 2, 3, 4, 5, float('Inf')]\n",
    "buck = Bucketizer(splits=splits, inputCol='BEDROOMS', outputCol='bedrooms')\n",
    "\n",
    "# Apply the transformation to df: df_bucket\n",
    "df_bucket = buck.transform(df)\n",
    "\n",
    "# Display results\n",
    "df_bucket[['BEDROOMS', 'bedrooms']].show()"
   ]
  },
  {
   "cell_type": "code",
   "execution_count": 43,
   "metadata": {},
   "outputs": [
    {
     "name": "stderr",
     "output_type": "stream",
     "text": [
      "c:\\Users\\cmuro\\anaconda3\\lib\\site-packages\\seaborn\\distributions.py:2619: FutureWarning: `distplot` is a deprecated function and will be removed in a future version. Please adapt your code to use either `displot` (a figure-level function with similar flexibility) or `histplot` (an axes-level function for histograms).\n",
      "  warnings.warn(msg, FutureWarning)\n"
     ]
    },
    {
     "ename": "OptionError",
     "evalue": "\"No such keys(s): 'mode.use_inf_as_null'\"",
     "output_type": "error",
     "traceback": [
      "\u001b[1;31m---------------------------------------------------------------------------\u001b[0m",
      "\u001b[1;31mOptionError\u001b[0m                               Traceback (most recent call last)",
      "\u001b[1;32mc:\\Users\\cmuro\\feature_engineering_with_pyspark.ipynb Celda 98\u001b[0m in \u001b[0;36m<cell line: 3>\u001b[1;34m()\u001b[0m\n\u001b[0;32m      <a href='vscode-notebook-cell:/c%3A/Users/cmuro/feature_engineering_with_pyspark.ipynb#Y201sZmlsZQ%3D%3D?line=0'>1</a>\u001b[0m \u001b[39m# Plot distribution of sample_df\u001b[39;00m\n\u001b[0;32m      <a href='vscode-notebook-cell:/c%3A/Users/cmuro/feature_engineering_with_pyspark.ipynb#Y201sZmlsZQ%3D%3D?line=1'>2</a>\u001b[0m bedrooms_sample\u001b[39m=\u001b[39msample_df[\u001b[39m'\u001b[39m\u001b[39mBEDROOMS\u001b[39m\u001b[39m'\u001b[39m]\n\u001b[1;32m----> <a href='vscode-notebook-cell:/c%3A/Users/cmuro/feature_engineering_with_pyspark.ipynb#Y201sZmlsZQ%3D%3D?line=2'>3</a>\u001b[0m sns\u001b[39m.\u001b[39;49mdistplot(bedrooms_sample, axlabel\u001b[39m=\u001b[39;49m\u001b[39m'\u001b[39;49m\u001b[39mBEDROOMS\u001b[39;49m\u001b[39m'\u001b[39;49m)\n\u001b[0;32m      <a href='vscode-notebook-cell:/c%3A/Users/cmuro/feature_engineering_with_pyspark.ipynb#Y201sZmlsZQ%3D%3D?line=3'>4</a>\u001b[0m plt\u001b[39m.\u001b[39mshow()\n",
      "File \u001b[1;32mc:\\Users\\cmuro\\anaconda3\\lib\\site-packages\\seaborn\\distributions.py:2687\u001b[0m, in \u001b[0;36mdistplot\u001b[1;34m(a, bins, hist, kde, rug, fit, hist_kws, kde_kws, rug_kws, fit_kws, color, vertical, norm_hist, axlabel, label, ax, x)\u001b[0m\n\u001b[0;32m   2685\u001b[0m \u001b[39mif\u001b[39;00m kde:\n\u001b[0;32m   2686\u001b[0m     kde_color \u001b[39m=\u001b[39m kde_kws\u001b[39m.\u001b[39mpop(\u001b[39m\"\u001b[39m\u001b[39mcolor\u001b[39m\u001b[39m\"\u001b[39m, color)\n\u001b[1;32m-> 2687\u001b[0m     kdeplot(a, vertical\u001b[39m=\u001b[39mvertical, ax\u001b[39m=\u001b[39max, color\u001b[39m=\u001b[39mkde_color, \u001b[39m*\u001b[39m\u001b[39m*\u001b[39mkde_kws)\n\u001b[0;32m   2688\u001b[0m     \u001b[39mif\u001b[39;00m kde_color \u001b[39m!=\u001b[39m color:\n\u001b[0;32m   2689\u001b[0m         kde_kws[\u001b[39m\"\u001b[39m\u001b[39mcolor\u001b[39m\u001b[39m\"\u001b[39m] \u001b[39m=\u001b[39m kde_color\n",
      "File \u001b[1;32mc:\\Users\\cmuro\\anaconda3\\lib\\site-packages\\seaborn\\_decorators.py:46\u001b[0m, in \u001b[0;36m_deprecate_positional_args.<locals>.inner_f\u001b[1;34m(*args, **kwargs)\u001b[0m\n\u001b[0;32m     36\u001b[0m     warnings\u001b[39m.\u001b[39mwarn(\n\u001b[0;32m     37\u001b[0m         \u001b[39m\"\u001b[39m\u001b[39mPass the following variable\u001b[39m\u001b[39m{}\u001b[39;00m\u001b[39m as \u001b[39m\u001b[39m{}\u001b[39;00m\u001b[39mkeyword arg\u001b[39m\u001b[39m{}\u001b[39;00m\u001b[39m: \u001b[39m\u001b[39m{}\u001b[39;00m\u001b[39m. \u001b[39m\u001b[39m\"\u001b[39m\n\u001b[0;32m     38\u001b[0m         \u001b[39m\"\u001b[39m\u001b[39mFrom version 0.12, the only valid positional argument \u001b[39m\u001b[39m\"\u001b[39m\n\u001b[1;32m   (...)\u001b[0m\n\u001b[0;32m     43\u001b[0m         \u001b[39mFutureWarning\u001b[39;00m\n\u001b[0;32m     44\u001b[0m     )\n\u001b[0;32m     45\u001b[0m kwargs\u001b[39m.\u001b[39mupdate({k: arg \u001b[39mfor\u001b[39;00m k, arg \u001b[39min\u001b[39;00m \u001b[39mzip\u001b[39m(sig\u001b[39m.\u001b[39mparameters, args)})\n\u001b[1;32m---> 46\u001b[0m \u001b[39mreturn\u001b[39;00m f(\u001b[39m*\u001b[39m\u001b[39m*\u001b[39mkwargs)\n",
      "File \u001b[1;32mc:\\Users\\cmuro\\anaconda3\\lib\\site-packages\\seaborn\\distributions.py:1770\u001b[0m, in \u001b[0;36mkdeplot\u001b[1;34m(x, y, shade, vertical, kernel, bw, gridsize, cut, clip, legend, cumulative, shade_lowest, cbar, cbar_ax, cbar_kws, ax, weights, hue, palette, hue_order, hue_norm, multiple, common_norm, common_grid, levels, thresh, bw_method, bw_adjust, log_scale, color, fill, data, data2, warn_singular, **kwargs)\u001b[0m\n\u001b[0;32m   1767\u001b[0m     \u001b[39mif\u001b[39;00m color \u001b[39mis\u001b[39;00m \u001b[39mnot\u001b[39;00m \u001b[39mNone\u001b[39;00m:\n\u001b[0;32m   1768\u001b[0m         plot_kws[\u001b[39m\"\u001b[39m\u001b[39mcolor\u001b[39m\u001b[39m\"\u001b[39m] \u001b[39m=\u001b[39m color\n\u001b[1;32m-> 1770\u001b[0m     p\u001b[39m.\u001b[39mplot_univariate_density(\n\u001b[0;32m   1771\u001b[0m         multiple\u001b[39m=\u001b[39mmultiple,\n\u001b[0;32m   1772\u001b[0m         common_norm\u001b[39m=\u001b[39mcommon_norm,\n\u001b[0;32m   1773\u001b[0m         common_grid\u001b[39m=\u001b[39mcommon_grid,\n\u001b[0;32m   1774\u001b[0m         fill\u001b[39m=\u001b[39mfill,\n\u001b[0;32m   1775\u001b[0m         legend\u001b[39m=\u001b[39mlegend,\n\u001b[0;32m   1776\u001b[0m         warn_singular\u001b[39m=\u001b[39mwarn_singular,\n\u001b[0;32m   1777\u001b[0m         estimate_kws\u001b[39m=\u001b[39mestimate_kws,\n\u001b[0;32m   1778\u001b[0m         \u001b[39m*\u001b[39m\u001b[39m*\u001b[39mplot_kws,\n\u001b[0;32m   1779\u001b[0m     )\n\u001b[0;32m   1781\u001b[0m \u001b[39melse\u001b[39;00m:\n\u001b[0;32m   1783\u001b[0m     p\u001b[39m.\u001b[39mplot_bivariate_density(\n\u001b[0;32m   1784\u001b[0m         common_norm\u001b[39m=\u001b[39mcommon_norm,\n\u001b[0;32m   1785\u001b[0m         fill\u001b[39m=\u001b[39mfill,\n\u001b[1;32m   (...)\u001b[0m\n\u001b[0;32m   1795\u001b[0m         \u001b[39m*\u001b[39m\u001b[39m*\u001b[39mkwargs,\n\u001b[0;32m   1796\u001b[0m     )\n",
      "File \u001b[1;32mc:\\Users\\cmuro\\anaconda3\\lib\\site-packages\\seaborn\\distributions.py:928\u001b[0m, in \u001b[0;36m_DistributionPlotter.plot_univariate_density\u001b[1;34m(self, multiple, common_norm, common_grid, warn_singular, fill, legend, estimate_kws, **plot_kws)\u001b[0m\n\u001b[0;32m    925\u001b[0m log_scale \u001b[39m=\u001b[39m \u001b[39mself\u001b[39m\u001b[39m.\u001b[39m_log_scaled(\u001b[39mself\u001b[39m\u001b[39m.\u001b[39mdata_variable)\n\u001b[0;32m    927\u001b[0m \u001b[39m# Do the computation\u001b[39;00m\n\u001b[1;32m--> 928\u001b[0m densities \u001b[39m=\u001b[39m \u001b[39mself\u001b[39;49m\u001b[39m.\u001b[39;49m_compute_univariate_density(\n\u001b[0;32m    929\u001b[0m     \u001b[39mself\u001b[39;49m\u001b[39m.\u001b[39;49mdata_variable,\n\u001b[0;32m    930\u001b[0m     common_norm,\n\u001b[0;32m    931\u001b[0m     common_grid,\n\u001b[0;32m    932\u001b[0m     estimate_kws,\n\u001b[0;32m    933\u001b[0m     log_scale,\n\u001b[0;32m    934\u001b[0m     warn_singular,\n\u001b[0;32m    935\u001b[0m )\n\u001b[0;32m    937\u001b[0m \u001b[39m# Adjust densities based on the `multiple` rule\u001b[39;00m\n\u001b[0;32m    938\u001b[0m densities, baselines \u001b[39m=\u001b[39m \u001b[39mself\u001b[39m\u001b[39m.\u001b[39m_resolve_multiple(densities, multiple)\n",
      "File \u001b[1;32mc:\\Users\\cmuro\\anaconda3\\lib\\site-packages\\seaborn\\distributions.py:303\u001b[0m, in \u001b[0;36m_DistributionPlotter._compute_univariate_density\u001b[1;34m(self, data_variable, common_norm, common_grid, estimate_kws, log_scale, warn_singular)\u001b[0m\n\u001b[0;32m    299\u001b[0m     common_norm \u001b[39m=\u001b[39m \u001b[39mFalse\u001b[39;00m\n\u001b[0;32m    301\u001b[0m densities \u001b[39m=\u001b[39m {}\n\u001b[1;32m--> 303\u001b[0m \u001b[39mfor\u001b[39;00m sub_vars, sub_data \u001b[39min\u001b[39;00m \u001b[39mself\u001b[39m\u001b[39m.\u001b[39miter_data(\u001b[39m\"\u001b[39m\u001b[39mhue\u001b[39m\u001b[39m\"\u001b[39m, from_comp_data\u001b[39m=\u001b[39m\u001b[39mTrue\u001b[39;00m):\n\u001b[0;32m    304\u001b[0m \n\u001b[0;32m    305\u001b[0m     \u001b[39m# Extract the data points from this sub set and remove nulls\u001b[39;00m\n\u001b[0;32m    306\u001b[0m     sub_data \u001b[39m=\u001b[39m sub_data\u001b[39m.\u001b[39mdropna()\n\u001b[0;32m    307\u001b[0m     observations \u001b[39m=\u001b[39m sub_data[data_variable]\n",
      "File \u001b[1;32mc:\\Users\\cmuro\\anaconda3\\lib\\site-packages\\seaborn\\_core.py:983\u001b[0m, in \u001b[0;36mVectorPlotter.iter_data\u001b[1;34m(self, grouping_vars, reverse, from_comp_data)\u001b[0m\n\u001b[0;32m    978\u001b[0m grouping_vars \u001b[39m=\u001b[39m [\n\u001b[0;32m    979\u001b[0m     var \u001b[39mfor\u001b[39;00m var \u001b[39min\u001b[39;00m grouping_vars \u001b[39mif\u001b[39;00m var \u001b[39min\u001b[39;00m \u001b[39mself\u001b[39m\u001b[39m.\u001b[39mvariables\n\u001b[0;32m    980\u001b[0m ]\n\u001b[0;32m    982\u001b[0m \u001b[39mif\u001b[39;00m from_comp_data:\n\u001b[1;32m--> 983\u001b[0m     data \u001b[39m=\u001b[39m \u001b[39mself\u001b[39;49m\u001b[39m.\u001b[39;49mcomp_data\n\u001b[0;32m    984\u001b[0m \u001b[39melse\u001b[39;00m:\n\u001b[0;32m    985\u001b[0m     data \u001b[39m=\u001b[39m \u001b[39mself\u001b[39m\u001b[39m.\u001b[39mplot_data\n",
      "File \u001b[1;32mc:\\Users\\cmuro\\anaconda3\\lib\\site-packages\\seaborn\\_core.py:1054\u001b[0m, in \u001b[0;36mVectorPlotter.comp_data\u001b[1;34m(self)\u001b[0m\n\u001b[0;32m   1050\u001b[0m axis \u001b[39m=\u001b[39m \u001b[39mgetattr\u001b[39m(ax, \u001b[39mf\u001b[39m\u001b[39m\"\u001b[39m\u001b[39m{\u001b[39;00mvar\u001b[39m}\u001b[39;00m\u001b[39maxis\u001b[39m\u001b[39m\"\u001b[39m)\n\u001b[0;32m   1052\u001b[0m \u001b[39m# Use the converter assigned to the axis to get a float representation\u001b[39;00m\n\u001b[0;32m   1053\u001b[0m \u001b[39m# of the data, passing np.nan or pd.NA through (pd.NA becomes np.nan)\u001b[39;00m\n\u001b[1;32m-> 1054\u001b[0m \u001b[39mwith\u001b[39;00m pd\u001b[39m.\u001b[39moption_context(\u001b[39m'\u001b[39m\u001b[39mmode.use_inf_as_null\u001b[39m\u001b[39m'\u001b[39m, \u001b[39mTrue\u001b[39;00m):\n\u001b[0;32m   1055\u001b[0m     orig \u001b[39m=\u001b[39m \u001b[39mself\u001b[39m\u001b[39m.\u001b[39mplot_data[var]\u001b[39m.\u001b[39mdropna()\n\u001b[0;32m   1056\u001b[0m comp_col \u001b[39m=\u001b[39m pd\u001b[39m.\u001b[39mSeries(index\u001b[39m=\u001b[39morig\u001b[39m.\u001b[39mindex, dtype\u001b[39m=\u001b[39m\u001b[39mfloat\u001b[39m, name\u001b[39m=\u001b[39mvar)\n",
      "File \u001b[1;32mc:\\Users\\cmuro\\anaconda3\\lib\\site-packages\\pandas\\_config\\config.py:441\u001b[0m, in \u001b[0;36moption_context.__enter__\u001b[1;34m(self)\u001b[0m\n\u001b[0;32m    440\u001b[0m \u001b[39mdef\u001b[39;00m \u001b[39m__enter__\u001b[39m(\u001b[39mself\u001b[39m) \u001b[39m-\u001b[39m\u001b[39m>\u001b[39m \u001b[39mNone\u001b[39;00m:\n\u001b[1;32m--> 441\u001b[0m     \u001b[39mself\u001b[39m\u001b[39m.\u001b[39mundo \u001b[39m=\u001b[39m [(pat, _get_option(pat, silent\u001b[39m=\u001b[39m\u001b[39mTrue\u001b[39;00m)) \u001b[39mfor\u001b[39;00m pat, val \u001b[39min\u001b[39;00m \u001b[39mself\u001b[39m\u001b[39m.\u001b[39mops]\n\u001b[0;32m    443\u001b[0m     \u001b[39mfor\u001b[39;00m pat, val \u001b[39min\u001b[39;00m \u001b[39mself\u001b[39m\u001b[39m.\u001b[39mops:\n\u001b[0;32m    444\u001b[0m         _set_option(pat, val, silent\u001b[39m=\u001b[39m\u001b[39mTrue\u001b[39;00m)\n",
      "File \u001b[1;32mc:\\Users\\cmuro\\anaconda3\\lib\\site-packages\\pandas\\_config\\config.py:441\u001b[0m, in \u001b[0;36m<listcomp>\u001b[1;34m(.0)\u001b[0m\n\u001b[0;32m    440\u001b[0m \u001b[39mdef\u001b[39;00m \u001b[39m__enter__\u001b[39m(\u001b[39mself\u001b[39m) \u001b[39m-\u001b[39m\u001b[39m>\u001b[39m \u001b[39mNone\u001b[39;00m:\n\u001b[1;32m--> 441\u001b[0m     \u001b[39mself\u001b[39m\u001b[39m.\u001b[39mundo \u001b[39m=\u001b[39m [(pat, _get_option(pat, silent\u001b[39m=\u001b[39;49m\u001b[39mTrue\u001b[39;49;00m)) \u001b[39mfor\u001b[39;00m pat, val \u001b[39min\u001b[39;00m \u001b[39mself\u001b[39m\u001b[39m.\u001b[39mops]\n\u001b[0;32m    443\u001b[0m     \u001b[39mfor\u001b[39;00m pat, val \u001b[39min\u001b[39;00m \u001b[39mself\u001b[39m\u001b[39m.\u001b[39mops:\n\u001b[0;32m    444\u001b[0m         _set_option(pat, val, silent\u001b[39m=\u001b[39m\u001b[39mTrue\u001b[39;00m)\n",
      "File \u001b[1;32mc:\\Users\\cmuro\\anaconda3\\lib\\site-packages\\pandas\\_config\\config.py:135\u001b[0m, in \u001b[0;36m_get_option\u001b[1;34m(pat, silent)\u001b[0m\n\u001b[0;32m    134\u001b[0m \u001b[39mdef\u001b[39;00m \u001b[39m_get_option\u001b[39m(pat: \u001b[39mstr\u001b[39m, silent: \u001b[39mbool\u001b[39m \u001b[39m=\u001b[39m \u001b[39mFalse\u001b[39;00m) \u001b[39m-\u001b[39m\u001b[39m>\u001b[39m Any:\n\u001b[1;32m--> 135\u001b[0m     key \u001b[39m=\u001b[39m _get_single_key(pat, silent)\n\u001b[0;32m    137\u001b[0m     \u001b[39m# walk the nested dict\u001b[39;00m\n\u001b[0;32m    138\u001b[0m     root, k \u001b[39m=\u001b[39m _get_root(key)\n",
      "File \u001b[1;32mc:\\Users\\cmuro\\anaconda3\\lib\\site-packages\\pandas\\_config\\config.py:121\u001b[0m, in \u001b[0;36m_get_single_key\u001b[1;34m(pat, silent)\u001b[0m\n\u001b[0;32m    119\u001b[0m     \u001b[39mif\u001b[39;00m \u001b[39mnot\u001b[39;00m silent:\n\u001b[0;32m    120\u001b[0m         _warn_if_deprecated(pat)\n\u001b[1;32m--> 121\u001b[0m     \u001b[39mraise\u001b[39;00m OptionError(\u001b[39mf\u001b[39m\u001b[39m\"\u001b[39m\u001b[39mNo such keys(s): \u001b[39m\u001b[39m{\u001b[39;00m\u001b[39mrepr\u001b[39m(pat)\u001b[39m}\u001b[39;00m\u001b[39m\"\u001b[39m)\n\u001b[0;32m    122\u001b[0m \u001b[39mif\u001b[39;00m \u001b[39mlen\u001b[39m(keys) \u001b[39m>\u001b[39m \u001b[39m1\u001b[39m:\n\u001b[0;32m    123\u001b[0m     \u001b[39mraise\u001b[39;00m OptionError(\u001b[39m\"\u001b[39m\u001b[39mPattern matched multiple keys\u001b[39m\u001b[39m\"\u001b[39m)\n",
      "\u001b[1;31mOptionError\u001b[0m: \"No such keys(s): 'mode.use_inf_as_null'\""
     ]
    },
    {
     "data": {
      "image/png": "[encoded data removed]",
      "text/plain": [
       "<Figure size 432x288 with 1 Axes>"
      ]
     },
     "metadata": {
      "needs_background": "light"
     },
     "output_type": "display_data"
    }
   ],
   "source": [
    "# Plot distribution of sample_df\n",
    "bedrooms_sample=sample_df['BEDROOMS']\n",
    "sns.distplot(bedrooms_sample, axlabel='BEDROOMS')\n",
    "plt.show()"
   ]
  },
  {
   "attachments": {},
   "cell_type": "markdown",
   "metadata": {},
   "source": [
    "One Hot Encoding\n",
    "\n",
    "In the United States where you live determines which schools your kids can attend. Therefore it's understandable that many people care deeply about which school districts their future home will be in. While the school districts are numbered in SCHOOLDISTRICTNUMBER they are really categorical. Meaning that summing or averaging these values has no apparent meaning. Therefore in this example we will convert SCHOOLDISTRICTNUMBER from a categorial variable into a numeric vector to use in our machine learning model later."
   ]
  },
  {
   "cell_type": "code",
   "execution_count": 84,
   "metadata": {},
   "outputs": [
    {
     "name": "stdout",
     "output_type": "stream",
     "text": [
      "+--------------------+\n",
      "|SchoolDistrictNumber|\n",
      "+--------------------+\n",
      "|    834 - Stillwater|\n",
      "|    834 - Stillwater|\n",
      "|622 - North St Pa...|\n",
      "|    834 - Stillwater|\n",
      "|622 - North St Pa...|\n",
      "|    834 - Stillwater|\n",
      "|    834 - Stillwater|\n",
      "|    834 - Stillwater|\n",
      "|    834 - Stillwater|\n",
      "|    834 - Stillwater|\n",
      "|    834 - Stillwater|\n",
      "|    834 - Stillwater|\n",
      "|    834 - Stillwater|\n",
      "|    834 - Stillwater|\n",
      "|    834 - Stillwater|\n",
      "|    834 - Stillwater|\n",
      "|    834 - Stillwater|\n",
      "|    834 - Stillwater|\n",
      "|    834 - Stillwater|\n",
      "|    834 - Stillwater|\n",
      "+--------------------+\n",
      "only showing top 20 rows\n",
      "\n"
     ]
    }
   ],
   "source": [
    "df.select(['SchoolDistrictNumber']).show()"
   ]
  },
  {
   "cell_type": "code",
   "execution_count": 86,
   "metadata": {},
   "outputs": [
    {
     "name": "stdout",
     "output_type": "stream",
     "text": [
      "+---+-----+--------------------+----------+----------+---------------+----------------+---------------+----------+---------+---------------+-----------------+------------+--------------+----------------+---------+--------------------+------------+---------------+----------+---------+--------------------+--------------------+----------+------------------+----+--------------------+---------------+------+----------+---------+------------------+-------+----------+---------+------------------+--------------------+-----+------------------+--------------------+--------------------+---------+--------------------+----------+----------+---------+---------------------+--------------------+---------+---------+-----------+-----------------+-----+----------+--------------------+---------+----------+---------+----------+---------+----------+--------+---------------+--------------+-----------------+-----------------+-------------------+----------------------+---------------------+--------------------+-------------------+-----------------+-------------------+------------------+------------------+--------------------+--------------------+------------------+----------+------------------+----------------+---------+-----------+----------------+---------------+----+-------------------+--------------------+-----------------+\n",
      "| NO|MLSID|       streetaddress|STREETNAME|PostalCode|StateOrProvince|            City|SALESCLOSEPRICE|  LISTDATE|LISTPRICE|       LISTTYPE|OriginalListPrice|PricePerTSFT|FOUNDATIONSIZE|           FENCE|MapLetter|SchoolDistrictNumber|DAYSONMARKET|  offmarketdate|FIREPLACES|RoomArea4|            roomtype|                ROOF|RoomFloor4|PotentialShortSale|PDOM|   GarageDescription|SQFTABOVEGROUND| TAXES|RoomFloor1|RoomArea1|TAXWITHASSESSMENTS|TAXYEAR|LIVINGAREA|YEARBUILT|            ZONING|               STYLE|ACRES|CoolingDescription|          APPLIANCES|      ROOMFAMILYCHAR|RoomArea3|            EXTERIOR|RoomFloor3|RoomFloor2|RoomArea2|DiningRoomDescription|            BASEMENT|BATHSFULL|BATHSHALF|BATHQUARTER|BATHSTHREEQUARTER|Class|BATHSTOTAL|            BATHDESC|RoomArea5|RoomFloor5|RoomArea6|RoomFloor6|RoomArea7|RoomFloor7|BEDROOMS|SQFTBELOWGROUND|ASSOCIATIONFEE|ASSESSMENTPENDING|ASSESSEDVALUATION|log_SalesClosePrice|percentage_scaled_days|scaled_FOUNDATIONSIZE| scaled_DAYSONMARKET|  scaled_FIREPLACES|Reflect_YearBuilt|      adj_yearbuilt|     LOT_SIZE_SQFT|         YARD_SIZE|    ASSESSED_TO_LIST|         TAX_TO_LIST|      BED_TO_BATHS|Total_SQFT|BATHS_PER_1000SQFT|List_Day_of_Week|list_year|report_year|            City|MedianHomeValue|Year|has_attached_garage|         garage_list|Listed_On_Weekend|\n",
      "+---+-----+--------------------+----------+----------+---------------+----------------+---------------+----------+---------+---------------+-----------------+------------+--------------+----------------+---------+--------------------+------------+---------------+----------+---------+--------------------+--------------------+----------+------------------+----+--------------------+---------------+------+----------+---------+------------------+-------+----------+---------+------------------+--------------------+-----+------------------+--------------------+--------------------+---------+--------------------+----------+----------+---------+---------------------+--------------------+---------+---------+-----------+-----------------+-----+----------+--------------------+---------+----------+---------+----------+---------+----------+--------+---------------+--------------+-----------------+-----------------+-------------------+----------------------+---------------------+--------------------+-------------------+-----------------+-------------------+------------------+------------------+--------------------+--------------------+------------------+----------+------------------+----------------+---------+-----------+----------------+---------------+----+-------------------+--------------------+-----------------+\n",
      "|  1| RMLS|11511 Stillwater ...|Stillwater|     55042|             MN|LELM - Lake Elmo|         143000|2017-07-15|   139900|Exclusive Right|           139900|    145.9184|         980.0|           Other|       C4|    834 - Stillwater|        10.0| 7/30/2017 0:00|       0.0|  12 x  9|Living Room, Dini...|                null|      Main|                No|10.0|     Attached Garage|          980.0|1858.0|      Main|  16 x 13|            1858.0| 2017.0|     980.0|   1950.0|Residential-Single|      (SF) One Story| 1.28|           Central|Range, Dishwasher...|                null|     null|               Vinyl|      null|      Main|   9 x  7|       Eat In Kitchen|                Full|      1.0|      1.0|        0.0|              0.0|   SF|       2.0|Main Floor 3/4 Ba...|  13 x 11|      Main|  10 x 10|      Main|     null|      null|     3.0|            0.0|           0.0|          Unknown|              0.0| 11.870599909242044|                   0.0|  0.25824320759694014|0.044444444444444446|                0.0|             69.0|0.23617733727628992|           55756.8|           54776.8|                 0.0|0.013280914939242315|               1.5|     980.0|2.0408163265306123|             7.0|     2017|       2016|LELM - Lake Elmo|         401000|2016|                  1|   [Attached Garage]|              1.0|\n",
      "|  2| RMLS|     11200 31st St N|      31st|     55042|             MN|LELM - Lake Elmo|         190000|2017-10-09|   210000|Exclusive Right|           210000|     85.2783|        1144.0|            null|       C1|    834 - Stillwater|         4.0|10/13/2017 0:00|       0.0|    11x11|Living Room, Dini...|Asphalt Shingles,...|      Main|                No| 4.0|Attached Garage, ...|         1268.0|1640.0|      Main|    22x14|            1640.0| 2017.0|    2228.0|   1971.0|Residential-Single|(SF) Split Entry ...| 0.32|           Central|Range, Microwave,...|         Lower Level|    22x14|               Vinyl|     Lower|      Main|    11x12| Informal Dining R...|Full, Partial Fin...|      1.0|      0.0|        0.0|              2.0|   SF|       3.0|Main Floor Full B...|    15x11|      Main|    14x11|      Main|    10x11|      Main|     4.0|          960.0|           0.0|          Unknown|              0.0| 12.154779351142624|                   0.0|   0.3015035610656819|0.017777777777777778|                0.0|             48.0| 0.2583177668073288|           13939.2|           12795.2|                 0.0| 0.00780952380952381|1.3333333333333333|    2228.0|1.3464991023339317|             2.0|     2017|       2016|LELM - Lake Elmo|         401000|2016|                  1|[Attached Garage,...|              0.0|\n",
      "|  3| RMLS|8583 Stillwater B...|Stillwater|     55042|             MN|LELM - Lake Elmo|         225000|2017-06-26|   225000|Exclusive Right|           225000|    204.1742|        1102.0|            None|       E1|622 - North St Pa...|        28.0| 7/24/2017 0:00|       0.0|    14x12|Living Room, Dini...|                null|      Main|                No|28.0|     Attached Garage|         1102.0|2390.0|      Main|    20x13|            2390.0| 2016.0|    1102.0|   1949.0|Residential-Single|      (SF) One Story|0.822|            Window|Range, Microwave,...|                null|     null|        Cement Board|      null|      Main|    18x11| Informal Dining Room|Full, Crawl Space...|      1.0|      0.0|        0.0|              0.0|   SF|       1.0|Main Floor Full Bath|    12x12|      Main|    12x12|      Main|     null|      null|     2.0|            0.0|           0.0|               No|              0.0| 12.323855681186558|                   0.0|  0.29042469005539434| 0.12444444444444444|                0.0|             70.0|0.23537745555238682|          35806.32|          34704.32|                 0.0|0.010622222222222222|               2.0|    1102.0|0.9074410163339383|             2.0|     2017|       2016|LELM - Lake Elmo|         401000|2016|                  1|   [Attached Garage]|              0.0|\n",
      "|  4| RMLS|      9350 31st St N|      31st|     55042|             MN|LELM - Lake Elmo|         265000|2017-08-25|   230000|Exclusive Right|           230000|    162.3775|         959.0|            None|       A1|    834 - Stillwater|        19.0| 9/13/2017 0:00|       1.0|    12X16|Living Room, Dini...|Asphalt Shingles,...|      Main|                No|19.0|Attached Garage, ...|         1284.0|2146.0|      null|     null|            2146.0| 2017.0|    1632.0|   1960.0|Residential-Single|      (SF) One Story| 0.94|           Central|Range, Washer, Dryer|          Main Level|    25X13|              Stucco|      Main|      Main|    20X11|                 null|Full, Partial Fin...|      1.0|      1.0|        0.0|              0.0|   SF|       2.0|Main Floor Full B...|    13X11|      Main|    13X10|      Main|     null|      null|     2.0|          348.0|           0.0|          Unknown|              0.0| 12.487485104968359|                   0.0|  0.25270377209179634| 0.08444444444444445|0.14285714285714285|             59.0| 0.2452460618098304|40946.399999999994|39987.399999999994|                 0.0|0.009330434782608695|               1.0|    1632.0|1.2254901960784315|             6.0|     2017|       2016|LELM - Lake Elmo|         401000|2016|                  1|[Attached Garage,...|              1.0|\n",
      "|  5| RMLS|   2915 Inwood Ave N|    Inwood|     55042|             MN|LELM - Lake Elmo|         249900|2017-09-12|   239900|Exclusive Right|           239900|    121.7836|        1026.0|      Chain Link|       E1|622 - North St Pa...|        21.0| 10/3/2017 0:00|       1.0|    12x10|Living Room, Dini...|Asphalt Shingles,...|      Main|                No|21.0|Attached Garage, ...|         1026.0|2010.0|      Main|    22x14|            2010.0| 2017.0|    2052.0|   1978.0|Residential-Single|(SF) Split Entry ...|  0.0|           Central|Range, Exhaust Fa...|         Lower Level|    22x18|               Vinyl|     Lower|      Main|    12x10| Breakfast Area, K...|Walkout, Full, Fi...|      1.0|      0.0|        0.0|              1.0|   SF|       2.0|Main Floor Full B...|    13x11|      Main|    13x12|      Main|    14x13|     Lower|     3.0|         1026.0|           0.0|               No|              0.0| 12.428816116823043|                   0.0|    0.270377209179636| 0.09333333333333334|0.14285714285714285|             41.0|  0.269282508064391|               0.0|           -1026.0|                 0.0|0.008378491037932471|               1.5|    2052.0|0.9746588693957114|             3.0|     2017|       2016|LELM - Lake Elmo|         401000|2016|                  1|[Attached Garage,...|              0.0|\n",
      "|  6| RMLS|   3604 Layton Ave N|    Layton|     55042|             MN|LELM - Lake Elmo|         255000|2017-04-10|   239900|Exclusive Right|           239900|     182.534|        1152.0|            null|       C1|    834 - Stillwater|        17.0| 4/27/2017 0:00|       1.0|  11 x 11|Living Room, Dini...|Asphalt Shingles,...|      Main|                No|17.0|Attached Garage, ...|         1397.0|1491.0|      Main|  19 x 13|            1494.0| 2016.0|    1397.0|   1965.0|Residential-Single|      (SF) One Story|0.172|           Central|Range, Microwave,...|                null|     null|        Metal, Vinyl|      null|      Main|  10 x 13| Separate/Formal D...|Full, Sump Pump, ...|      2.0|      0.0|        0.0|              0.0|   SF|       2.0|Main Floor Full B...|25.5 x 11|      Main|  10 x 11|      Main| 9.5 x 10|      Main|     3.0|            0.0|           0.0|               No|              3.0| 12.449018824140563|                   0.0|  0.30361382221049854| 0.07555555555555556|0.14285714285714285|             54.0| 0.2506903984389969|           7492.32|           6340.32|1.250521050437682...|0.006215089620675281|               1.5|    1397.0|1.4316392269148175|             2.0|     2017|       2016|LELM - Lake Elmo|         401000|2016|                  1|[Attached Garage,...|              0.0|\n",
      "|  7| RMLS|9957 5th Street Ln N|5th Street|     55042|             MN|LELM - Lake Elmo|         248000|2017-06-08|   250000|Exclusive Right|           265000|     137.931|         700.0|            null|       A4|    834 - Stillwater|        32.0| 7/10/2017 0:00|       0.0|     14x9|Living Room, Dini...|Asphalt Shingles,...|      Main|                No|19.0|Attached Garage, ...|         1798.0|2165.0|      Main|    13x15|            2168.0| 2017.0|    1798.0|   2015.0|Residential-Single|    (TH) Side x Side| 0.05|           Central|Range, Microwave,...|                Loft|     null|Shakes, Metal, Vi...|      null|      Main|    11x13| Informal Dining R...|                Slab|      1.0|      1.0|        0.0|              1.0|   SF|       3.0|Main Floor 1/2 Ba...|  13x19.6|     Upper|  11x13.6|     Upper|  11x13.6|     Upper|     3.0|            0.0|         200.0|              Yes|              3.0| 12.421184025147118|                   0.0|  0.18438406752835662| 0.14222222222222222|                0.0|              4.0| 0.7213475204444817|            2178.0|            1478.0|              1.2E-5|             0.00866|               1.0|    1798.0| 1.668520578420467|             5.0|     2017|       2016|LELM - Lake Elmo|         401000|2016|                  1|[Attached Garage,...|              0.0|\n",
      "|  8| RMLS|9934 5th Street Ln N|5th Street|     55042|             MN|LELM - Lake Elmo|         245000|2017-11-05|   254990|Exclusive Right|           273417|    141.3733|        1088.0|         Partial|       A4|    834 - Stillwater|         5.0|11/10/2017 0:00|       0.0|   12 x 8|Living Room, Dini...|    Asphalt Shingles|      Main|                No| 1.0|     Attached Garage|         1733.0|   0.0|      Main|  12 x 13|               0.0| 2017.0|    1733.0|   2017.0|Residential-Single| (TH) Quad/4 Corners| 0.05|           Central|Range, Microwave,...|Main Level, Famil...|     null|               Vinyl|      null|      Main|  12 x 10| Informal Dining R...|                None|      2.0|      1.0|        0.0|              0.0|   SF|       3.0|Main Floor 1/2 Ba...|  12 x 11|     Upper|  11 x 13|     Upper|  11 x 13|     Upper|     3.0|            0.0|         200.0|               No|              0.0| 12.409013489526863|                   0.0|   0.2867317330519652|0.022222222222222223|                0.0|              2.0| 1.4426950408889634|            2178.0|            1090.0|                 0.0|                 0.0|               1.0|    1733.0|1.7311021350259663|             1.0|     2017|       2016|LELM - Lake Elmo|         401000|2016|                  1|   [Attached Garage]|              0.0|\n",
      "|  9| RMLS|9926 5th Street Ln N|5th Street|     55042|             MN|LELM - Lake Elmo|         254990|2017-10-12|   254990|Exclusive Right|           273152|    147.1379|        1088.0|         Partial|       E1|    834 - Stillwater|        23.0|11/11/2017 0:00|       0.0|   12 x 8|Living Room, Dini...|    Asphalt Shingles|      Main|                No| 5.0|     Attached Garage|         1733.0|   0.0|      Main|  12 x 13|               0.0| 2017.0|    1733.0|   2017.0|Residential-Single| (TH) Quad/4 Corners| 0.05|           Central|Range, Microwave,...|                null|     null|               Vinyl|      null|      Main|  12 x 10| Informal Dining R...|                None|      1.0|      1.0|        0.0|              1.0|   SF|       3.0|Main Floor 1/2 Ba...|  12 x 11|     Upper|  11 x 13|     Upper|  11 x 13|     Upper|     3.0|            0.0|         200.0|               No|              0.0| 12.448979607685333|                   0.0|   0.2867317330519652| 0.10222222222222223|                0.0|              2.0| 1.4426950408889634|            2178.0|            1090.0|                 0.0|                 0.0|               1.0|    1733.0|1.7311021350259663|             5.0|     2017|       2016|LELM - Lake Elmo|         401000|2016|                  1|   [Attached Garage]|              0.0|\n",
      "| 10| RMLS|9928 5th Street Ln N|5th Street|     55042|             MN|LELM - Lake Elmo|         250000|2017-09-02|   255990|Exclusive Right|           273482|    144.2585|        1088.0|Privacy, Partial|       A4|    834 - Stillwater|        73.0|11/20/2017 0:00|       0.0|   12 x 8|Living Room, Dini...|    Asphalt Shingles|      Main|                No|11.0|     Attached Garage|         1733.0|   0.0|      Main|  12 x 13|               0.0| 2017.0|    1733.0|   2017.0|Residential-Single| (TH) Quad/4 Corners| 0.05|           Central|Range, Microwave,...|Main Level, Famil...|     null|               Vinyl|      null|      Main|  12 x 10| Informal Dining R...|                None|      1.0|      1.0|        0.0|              1.0|   SF|       3.0|Main Floor 1/2 Ba...|  12 x 11|     Upper|  11 x 13|     Upper|  11 x 13|     Upper|     3.0|            0.0|         200.0|               No|              0.0| 12.429216196844383|                   0.0|   0.2867317330519652|  0.3244444444444444|                0.0|              2.0| 1.4426950408889634|            2178.0|            1090.0|                 0.0|                 0.0|               1.0|    1733.0|1.7311021350259663|             7.0|     2017|       2016|LELM - Lake Elmo|         401000|2016|                  1|   [Attached Garage]|              1.0|\n",
      "| 11| RMLS|9902 5th Street Ln N|5th Street|     55042|             MN|LELM - Lake Elmo|         254500|2017-05-19|   259990|Exclusive Right|           267117|    146.8552|        1088.0|         Partial|       A4|    834 - Stillwater|        80.0|  8/7/2017 0:00|       0.0|   12 x 8|Living Room, Dini...|    Asphalt Shingles|      Main|                No| 7.0|     Attached Garage|         1733.0|   0.0|      Main|  12 x 13|               0.0| 2017.0|    1733.0|   2017.0|Residential-Single| (TH) Quad/4 Corners| 0.05|           Central|Range, Microwave,...|Main Level, Famil...|     null|               Vinyl|      null|      Main|  12 x 10| Informal Dining R...|                None|      1.0|      1.0|        0.0|              1.0|   SF|       3.0|Main Floor 1/2 Ba...|  12 x 11|     Upper|  11 x 13|     Upper|  11 x 13|     Upper|     3.0|            0.0|         200.0|               No|              0.0| 12.447056114972714|                   0.0|   0.2867317330519652| 0.35555555555555557|                0.0|              2.0| 1.4426950408889634|            2178.0|            1090.0|                 0.0|                 0.0|               1.0|    1733.0|1.7311021350259663|             6.0|     2017|       2016|LELM - Lake Elmo|         401000|2016|                  1|   [Attached Garage]|              1.0|\n",
      "| 12| RMLS|9904 5th Street Ln N|5th Street|     55042|             MN|LELM - Lake Elmo|         253000|2017-05-11|   259990|Exclusive Right|           268487|    145.9896|        1088.0|         Partial|       A4|    834 - Stillwater|        79.0| 7/29/2017 0:00|       0.0|   12 x 8|Living Room, Dini...|    Asphalt Shingles|      Main|                No|58.0|     Attached Garage|         1733.0|   0.0|      Main|  12 x 13|               0.0| 2017.0|    1733.0|   2017.0|Residential-Single| (TH) Quad/4 Corners| 0.05|           Central|Range, Microwave,...|                null|     null|               Vinyl|      null|      Main|  12 x 10| Informal Dining R...|                None|      1.0|      1.0|        0.0|              1.0|   SF|       3.0|Main Floor 1/2 Ba...|  12 x 11|     Upper|  11 x 13|     Upper|  11 x 13|     Upper|     3.0|            0.0|         200.0|               No|              0.0| 12.441144767709657|                   0.0|   0.2867317330519652|  0.3511111111111111|                0.0|              2.0| 1.4426950408889634|            2178.0|            1090.0|                 0.0|                 0.0|               1.0|    1733.0|1.7311021350259663|             5.0|     2017|       2016|LELM - Lake Elmo|         401000|2016|                  1|   [Attached Garage]|              0.0|\n",
      "| 13| RMLS|9894 5th Street Ln N|5th Street|     55042|             MN|LELM - Lake Elmo|         257500|2017-03-12|   259990|Exclusive Right|           268622|    148.5863|        1088.0|         Partial|       A4|    834 - Stillwater|        12.0| 3/24/2017 0:00|       0.0|   12 x 8|Living Room, Dini...|    Asphalt Shingles|      Main|                No| 8.0|     Attached Garage|         1733.0|   0.0|      Main|  12 x 13|               0.0| 2017.0|    1733.0|   2017.0|Residential-Single| (TH) Quad/4 Corners| 0.05|           Central|Range, Microwave,...|Main Level, Famil...|     null|               Vinyl|      null|      Main|  12 x 10| Informal Dining R...|                None|      2.0|      1.0|        0.0|              0.0|   SF|       3.0|Main Floor 1/2 Ba...|  12 x 11|     Upper|  11 x 13|     Upper|  11 x 13|     Upper|     3.0|            0.0|         190.0|               No|              0.0| 12.458774999085929|                   0.0|   0.2867317330519652| 0.05333333333333334|                0.0|              2.0| 1.4426950408889634|            2178.0|            1090.0|                 0.0|                 0.0|               1.0|    1733.0|1.7311021350259663|             1.0|     2017|       2016|LELM - Lake Elmo|         401000|2016|                  1|   [Attached Garage]|              0.0|\n",
      "| 14| RMLS|    9892 5th St Ln N|    5th St|     55042|             MN|LELM - Lake Elmo|         272990|2017-03-06|   269990|Exclusive Right|           279442|     154.844|        1088.0|Privacy, Partial|       A4|    834 - Stillwater|         1.0| 6/11/2017 0:00|       0.0|     12X8|Living Room, Dini...|Asphalt Shingles,...|      Main|                No| 1.0|Attached Garage, ...|         1763.0|   0.0|      Main|    12X13|               0.0| 2016.0|    1763.0|   2016.0|Residential-Single| (TH) Quad/4 Corners| 0.05|           Central|Range, Microwave,...|Main Level, Great...|     null|Shakes, Metal, Vi...|      null|      Main|     3X10| Informal Dining R...|                None|      2.0|      1.0|        0.0|              0.0|   SF|       3.0|Main Floor 1/2 Ba...|    12X11|     Upper|    11X13|     Upper|    11X13|     Upper|     3.0|            0.0|         200.0|               No|              0.0|  12.51719044345957|                   0.0|   0.2867317330519652|0.004444444444444...|                0.0|              3.0| 0.9102392266268375|            2178.0|            1090.0|                 0.0|                 0.0|               1.0|    1763.0|1.7016449234259785|             2.0|     2017|       2016|LELM - Lake Elmo|         401000|2016|                  1|[Attached Garage,...|              0.0|\n",
      "| 15| RMLS|9295 Lake Jane Trl N| Lake Jane|     55042|             MN|LELM - Lake Elmo|         290000|2017-05-18|   270000|Exclusive Right|           270000|    157.2668|        1844.0|            null|       A4|    834 - Stillwater|        18.0|  6/5/2017 0:00|       1.0|    13x12|Living Room, Dini...|    Asphalt Shingles|      Main|                No|18.0|Attached Garage, ...|         1844.0|2689.0|      Main|    21x19|            2692.0| 2017.0|    1844.0|   1977.0|Residential-Single|      (SF) One Story|1.661|           Central|Cooktop, Wall Ove...|                null|     null|  Metal, Brick/Stone|      null|      Main|    12x10| Informal Dining R...|Full, Concrete Bl...|      0.0|      0.0|        0.0|              3.0|   SF|       3.0|Main Floor 3/4 Ba...|    14x11|      Main|    12x11|      Main|     null|      null|     2.0|            0.0|           0.0|              Yes|              3.0| 12.577636201962656|                   0.0|   0.4861514112371406|                0.08|0.14285714285714285|             42.0|  0.267546386419054|          72353.16|          70509.16|1.111111111111111...| 0.00995925925925926|0.6666666666666666|    1844.0|1.6268980477223427|             5.0|     2017|       2016|LELM - Lake Elmo|         401000|2016|                  1|[Attached Garage,...|              0.0|\n",
      "| 16| RMLS|    9930 5th St Ln N|    5th St|     55042|             MN|LELM - Lake Elmo|         274000|2017-10-15|   274000|Exclusive Right|           274000|    155.4169|        1088.0|            null|       A4|    834 - Stillwater|         2.0|10/17/2017 0:00|       0.0|     12X8|Living Room, Dini...|Asphalt Shingles,...|      Main|                No| 2.0|Attached Garage, ...|         1763.0|   0.0|      Main|    12X13|               0.0| 2017.0|    1763.0|   2017.0|Residential-Single| (TH) Quad/4 Corners| 0.05|           Central|Range, Microwave,...|                Loft|     null|Shakes, Metal, Vi...|      null|      Main|     3X10| Informal Dining R...|                None|      1.0|      1.0|        0.0|              1.0|   SF|       3.0|Main Floor 1/2 Ba...|    12X11|     Upper|    11X13|     Upper|    11X13|     Upper|     3.0|            0.0|         200.0|               No|              0.0| 12.520883385370206|                   0.0|   0.2867317330519652|0.008888888888888889|                0.0|              2.0| 1.4426950408889634|            2178.0|            1090.0|                 0.0|                 0.0|               1.0|    1763.0|1.7016449234259785|             1.0|     2017|       2016|LELM - Lake Elmo|         401000|2016|                  1|[Attached Garage,...|              0.0|\n",
      "| 17| RMLS|    9898 5th St Ln N|    5th St|     55042|             MN|LELM - Lake Elmo|         274990|2017-09-10|   274990|Exclusive Right|           289357|    155.9784|        1088.0|            null|       A4|    834 - Stillwater|        12.0| 9/22/2017 0:00|       0.0|     12X8|Living Room, Dini...|Asphalt Shingles,...|      Main|                No| 8.0|Attached Garage, ...|         1763.0|   0.0|      Main|    12X13|               0.0| 2017.0|    1763.0|   2017.0|Residential-Single| (TH) Quad/4 Corners| 0.05|           Central|Range, Microwave,...|                Loft|     null|Shakes, Metal, Vi...|      null|      Main|     3X10| Informal Dining R...|                None|      1.0|      1.0|        0.0|              1.0|   SF|       3.0|Main Floor 1/2 Ba...|    12X11|     Upper|    11X13|     Upper|    11X13|     Upper|     3.0|            0.0|         200.0|               No|              0.0|  12.52449001235117|                   0.0|   0.2867317330519652| 0.05333333333333334|                0.0|              2.0| 1.4426950408889634|            2178.0|            1090.0|                 0.0|                 0.0|               1.0|    1763.0|1.7016449234259785|             1.0|     2017|       2016|LELM - Lake Elmo|         401000|2016|                  1|[Attached Garage,...|              0.0|\n",
      "| 18| RMLS|    9924 5th St Ln N|    5th St|     55042|             MN|LELM - Lake Elmo|         274000|2017-09-01|   284990|Exclusive Right|           288342|    155.4169|        1088.0|Privacy, Partial|       A4|    834 - Stillwater|        45.0|10/16/2017 0:00|       0.0|     12X8|Living Room, Dini...|Asphalt Shingles,...|      Main|                No|24.0|Attached Garage, ...|         1763.0|   0.0|      Main|    12X13|               0.0| 2017.0|    1763.0|   2017.0|Residential-Single| (TH) Quad/4 Corners| 0.05|           Central|Range, Microwave,...|Main Level, Great...|     null|Shakes, Metal, Vi...|      null|      Main|     3X10| Informal Dining R...|                None|      2.0|      1.0|        0.0|              0.0|   SF|       3.0|Main Floor 1/2 Ba...|    12X11|     Upper|    11X13|     Upper|    11X13|     Upper|     3.0|            0.0|         200.0|               No|              0.0| 12.520883385370206|                   0.0|   0.2867317330519652|                 0.2|                0.0|              2.0| 1.4426950408889634|            2178.0|            1090.0|                 0.0|                 0.0|               1.0|    1763.0|1.7016449234259785|             6.0|     2017|       2016|LELM - Lake Elmo|         401000|2016|                  1|[Attached Garage,...|              1.0|\n",
      "| 19| RMLS|    9906 5th St Ln N|    5th St|     55042|             MN|LELM - Lake Elmo|         282000|2017-05-06|   287452|Exclusive Right|           287452|    159.9546|        1088.0|            null|       A4|    834 - Stillwater|        31.0|  6/6/2017 0:00|       0.0|     12X8|Living Room, Dini...|Asphalt Shingles,...|      Main|                No|31.0|Attached Garage, ...|         1763.0|   0.0|      Main|    12X13|               0.0| 2017.0|    1763.0|   2017.0|Residential-Single| (TH) Quad/4 Corners| 0.05|           Central|Range, Microwave,...|                Loft|     null|Shakes, Metal, Vi...|      null|      Main|     3X10| Informal Dining R...|                None|      1.0|      1.0|        0.0|              1.0|   SF|       3.0|Main Floor 1/2 Ba...|    12X11|     Upper|    11X13|     Upper|    11X13|     Upper|     3.0|            0.0|         200.0|               No|              0.0|  12.54966234992025|                   0.0|   0.2867317330519652| 0.13777777777777778|                0.0|              2.0| 1.4426950408889634|            2178.0|            1090.0|                 0.0|                 0.0|               1.0|    1763.0|1.7016449234259785|             7.0|     2017|       2016|LELM - Lake Elmo|         401000|2016|                  1|[Attached Garage,...|              1.0|\n",
      "| 20| RMLS|    9938 5th St Ln N|    5th St|     55042|             MN|LELM - Lake Elmo|         280617|2017-08-11|   288492|Exclusive Right|           288492|    159.1702|        1088.0|            null|       A4|    834 - Stillwater|        16.0| 8/27/2017 0:00|       0.0|     12X8|Living Room, Dini...|Asphalt Shingles,...|      Main|                No|16.0|Attached Garage, ...|         1763.0|   0.0|      Main|    12X13|               0.0| 2017.0|    1763.0|   2017.0|Residential-Single| (TH) Quad/4 Corners| 0.05|           Central|Range, Microwave,...|                Loft|     null|Shakes, Metal, Vi...|      null|      Main|     3X10| Informal Dining R...|                None|      1.0|      1.0|        0.0|              1.0|   SF|       3.0|Main Floor 1/2 Ba...|    12X11|     Upper|    11X13|     Upper|    11X13|     Upper|     3.0|            0.0|         200.0|               No|              0.0| 12.544746029277201|                   0.0|   0.2867317330519652| 0.07111111111111111|                0.0|              2.0| 1.4426950408889634|            2178.0|            1090.0|                 0.0|                 0.0|               1.0|    1763.0|1.7016449234259785|             6.0|     2017|       2016|LELM - Lake Elmo|         401000|2016|                  1|[Attached Garage,...|              1.0|\n",
      "+---+-----+--------------------+----------+----------+---------------+----------------+---------------+----------+---------+---------------+-----------------+------------+--------------+----------------+---------+--------------------+------------+---------------+----------+---------+--------------------+--------------------+----------+------------------+----+--------------------+---------------+------+----------+---------+------------------+-------+----------+---------+------------------+--------------------+-----+------------------+--------------------+--------------------+---------+--------------------+----------+----------+---------+---------------------+--------------------+---------+---------+-----------+-----------------+-----+----------+--------------------+---------+----------+---------+----------+---------+----------+--------+---------------+--------------+-----------------+-----------------+-------------------+----------------------+---------------------+--------------------+-------------------+-----------------+-------------------+------------------+------------------+--------------------+--------------------+------------------+----------+------------------+----------------+---------+-----------+----------------+---------------+----+-------------------+--------------------+-----------------+\n",
      "only showing top 20 rows\n",
      "\n"
     ]
    }
   ],
   "source": [
    "df.show()"
   ]
  },
  {
   "cell_type": "code",
   "execution_count": 77,
   "metadata": {},
   "outputs": [],
   "source": [
    "from pyspark.ml.feature import OneHotEncoder, StringIndexer\n",
    "\n",
    "# Map strings to numbers with string indexer\n",
    "string_indexer = StringIndexer(inputCol='SchoolDistrictNumber', outputCol='School_Index')\n",
    "indexed_df = string_indexer.fit(df).transform(df)\n",
    "\n",
    "# Onehot encode indexed values\n",
    "encoder = OneHotEncoder(inputCol='School_Index', outputCol='School_Vec')\n",
    "encoded_df = encoder.fit(indexed_df).transform(indexed_df)\n"
   ]
  },
  {
   "cell_type": "code",
   "execution_count": 78,
   "metadata": {},
   "outputs": [
    {
     "name": "stdout",
     "output_type": "stream",
     "text": [
      "+-----------------------------+------------+-------------+\n",
      "|         SchoolDistrictNumber|School_Index|   School_Vec|\n",
      "+-----------------------------+------------+-------------+\n",
      "|             834 - Stillwater|         3.0|(7,[3],[1.0])|\n",
      "|             834 - Stillwater|         3.0|(7,[3],[1.0])|\n",
      "|622 - North St Paul-Maplewood|         1.0|(7,[1],[1.0])|\n",
      "|             834 - Stillwater|         3.0|(7,[3],[1.0])|\n",
      "|622 - North St Paul-Maplewood|         1.0|(7,[1],[1.0])|\n",
      "|             834 - Stillwater|         3.0|(7,[3],[1.0])|\n",
      "|             834 - Stillwater|         3.0|(7,[3],[1.0])|\n",
      "|             834 - Stillwater|         3.0|(7,[3],[1.0])|\n",
      "|             834 - Stillwater|         3.0|(7,[3],[1.0])|\n",
      "|             834 - Stillwater|         3.0|(7,[3],[1.0])|\n",
      "|             834 - Stillwater|         3.0|(7,[3],[1.0])|\n",
      "|             834 - Stillwater|         3.0|(7,[3],[1.0])|\n",
      "|             834 - Stillwater|         3.0|(7,[3],[1.0])|\n",
      "|             834 - Stillwater|         3.0|(7,[3],[1.0])|\n",
      "|             834 - Stillwater|         3.0|(7,[3],[1.0])|\n",
      "|             834 - Stillwater|         3.0|(7,[3],[1.0])|\n",
      "|             834 - Stillwater|         3.0|(7,[3],[1.0])|\n",
      "|             834 - Stillwater|         3.0|(7,[3],[1.0])|\n",
      "|             834 - Stillwater|         3.0|(7,[3],[1.0])|\n",
      "|             834 - Stillwater|         3.0|(7,[3],[1.0])|\n",
      "+-----------------------------+------------+-------------+\n",
      "only showing top 20 rows\n",
      "\n"
     ]
    }
   ],
   "source": [
    "# Inspect the transformation steps\n",
    "encoded_df[['SchoolDistrictNumber', 'School_Index', 'School_Vec']].show(truncate=100)"
   ]
  },
  {
   "attachments": {},
   "cell_type": "markdown",
   "metadata": {},
   "source": [
    "## Building the model  \n"
   ]
  },
  {
   "attachments": {},
   "cell_type": "markdown",
   "metadata": {},
   "source": [
    "As we going to predict a quantity, we take the Regression archetype, whic predicts continuos values.  \n",
    "  \n",
    "PySpark regression models:  \n",
    "* Methods in ml.regression:  \n",
    "   - GeneralizedLinearRegression\n",
    "   - IsotonicRegression\n",
    "   - LinearRegression\n",
    "   - DecisionTreeRegression\n",
    "   - GBTRegression\n",
    "   - RandomForestRegression  \n",
    "  \n",
    " Test and Train Splits for Time Series:  \n",
    " Doing incremental testing is called step-forward optimization.  \n",
    " max_date=df.agg({'OFFMKDATE': 'max'}).collect()[0][0]  \n",
    " min_date=df.agg({'OFFMKDATE': 'min'}).collect()[0][0]  \n",
    " \\# Find how many days our data spans  \n",
    " from pyspark.sqlfunctions import datediff  \n",
    " range_in_days= datediff(max_date, min_date)  \n",
    "   \n",
    " \\# Find the date to split the dataset on  \n",
    " from pyspark.sql.function import date_add  \n",
    " split_in_days= round(range_in_day*0.8)  \n",
    " split_date= date_add(min_date, split_in_days)  \n",
    "\n",
    " \\# Split the data  \n",
    " train_df = df.where(df['OFFMKTDATE'] < splt_date>)  \n",
    " test_data=df.where(df['OFFMKDATE'] >= split_date ).where(df['LISTDATE'] >= splt_date )        \n",
    "\n",
    "\n",
    "\n"
   ]
  },
  {
   "attachments": {},
   "cell_type": "markdown",
   "metadata": {},
   "source": [
    "Creating Time Splits\n",
    "\n",
    "In the video, we learned why splitting data randomly can be dangerous for time series as data from the future can cause overfitting in our model. Often with time series, you acquire new data as it is made available and you will want to retrain your model using the newest data. In the video, we showed how to do a percentage split for test and training sets but suppose you wish to train on all available data except for the last 45days which you want to use for a test set.\n",
    "\n",
    "In this exercise, we will create a function to find the split date for using the last 45 days of data for testing and the rest for training. Please note that timedelta() has already been imported for you from the standard python library datetime."
   ]
  },
  {
   "cell_type": "code",
   "execution_count": 87,
   "metadata": {},
   "outputs": [],
   "source": [
    "import pyspark.sql.functions as F\n",
    "\n",
    "# Convert to date type\n",
    "df_d = df.withColumn('offmarketdate', F.regexp_replace(\"offmarketdate\",\" 0:00\",\"\") )\n",
    "\n",
    "df_d = df_d.withColumn('offmarketdate', F.when(F.col('offmarketdate').rlike('\\d{1,2}/\\d{1,2}/\\d{4}'), F.to_date('offmarketdate', 'M/d/yyyy')))\n",
    "\n",
    "\n",
    "# Get the day of the week\n",
    "#df_d = df_d.withColumn('List_Day_of_Week', F.dayofweek('LISTDATE'))"
   ]
  },
  {
   "cell_type": "code",
   "execution_count": 90,
   "metadata": {},
   "outputs": [],
   "source": [
    "df=df_d"
   ]
  },
  {
   "cell_type": "code",
   "execution_count": 92,
   "metadata": {},
   "outputs": [],
   "source": [
    "from datetime import timedelta\n",
    "def train_test_split_date(df, split_col, test_days=45):\n",
    "    \"\"\"Calculate the date to split test and training sets\"\"\"\n",
    "    # Find how many days our data spans\n",
    "    max_date = df.agg({split_col: 'max'}).collect()[0][0]\n",
    "    min_date = df.agg({split_col: 'min'}).collect()[0][0]\n",
    "    # Subtract an integer number of days from the last date in dataset\n",
    "    split_date = max_date - timedelta(days=test_days)\n",
    "    return split_date\n",
    "\n",
    "# Find the date to use in spitting test and train\n",
    "split_date = train_test_split_date(df, 'offmarketdate')\n"
   ]
  },
  {
   "cell_type": "code",
   "execution_count": 93,
   "metadata": {},
   "outputs": [],
   "source": [
    "# Create Sequential Test and Training Sets\n",
    "train_df = df.where(df['offmarketdate'] < split_date) \n",
    "test_df = df.where(df['offmarketdate'] >= split_date).where(df['LISTDATE'] <= split_date) "
   ]
  },
  {
   "cell_type": "code",
   "execution_count": 94,
   "metadata": {},
   "outputs": [
    {
     "name": "stdout",
     "output_type": "stream",
     "text": [
      "+---+-----+--------------------+----------+----------+---------------+----------------+---------------+----------+---------+---------------+-----------------+------------+--------------+----------------+---------+--------------------+------------+-------------+----------+---------+--------------------+--------------------+----------+------------------+----+--------------------+---------------+------+----------+---------+------------------+-------+----------+---------+------------------+--------------------+-----+------------------+--------------------+--------------------+---------+--------------------+----------+----------+---------+---------------------+--------------------+---------+---------+-----------+-----------------+-----+----------+--------------------+---------+----------+---------+----------+---------+----------+--------+---------------+--------------+-----------------+-----------------+-------------------+----------------------+---------------------+--------------------+-------------------+-----------------+-------------------+------------------+------------------+--------------------+--------------------+------------------+----------+------------------+----------------+---------+-----------+----------------+---------------+----+-------------------+--------------------+-----------------+\n",
      "| NO|MLSID|       streetaddress|STREETNAME|PostalCode|StateOrProvince|            City|SALESCLOSEPRICE|  LISTDATE|LISTPRICE|       LISTTYPE|OriginalListPrice|PricePerTSFT|FOUNDATIONSIZE|           FENCE|MapLetter|SchoolDistrictNumber|DAYSONMARKET|offmarketdate|FIREPLACES|RoomArea4|            roomtype|                ROOF|RoomFloor4|PotentialShortSale|PDOM|   GarageDescription|SQFTABOVEGROUND| TAXES|RoomFloor1|RoomArea1|TAXWITHASSESSMENTS|TAXYEAR|LIVINGAREA|YEARBUILT|            ZONING|               STYLE|ACRES|CoolingDescription|          APPLIANCES|      ROOMFAMILYCHAR|RoomArea3|            EXTERIOR|RoomFloor3|RoomFloor2|RoomArea2|DiningRoomDescription|            BASEMENT|BATHSFULL|BATHSHALF|BATHQUARTER|BATHSTHREEQUARTER|Class|BATHSTOTAL|            BATHDESC|RoomArea5|RoomFloor5|RoomArea6|RoomFloor6|RoomArea7|RoomFloor7|BEDROOMS|SQFTBELOWGROUND|ASSOCIATIONFEE|ASSESSMENTPENDING|ASSESSEDVALUATION|log_SalesClosePrice|percentage_scaled_days|scaled_FOUNDATIONSIZE| scaled_DAYSONMARKET|  scaled_FIREPLACES|Reflect_YearBuilt|      adj_yearbuilt|     LOT_SIZE_SQFT|         YARD_SIZE|    ASSESSED_TO_LIST|         TAX_TO_LIST|      BED_TO_BATHS|Total_SQFT|BATHS_PER_1000SQFT|List_Day_of_Week|list_year|report_year|            City|MedianHomeValue|Year|has_attached_garage|         garage_list|Listed_On_Weekend|\n",
      "+---+-----+--------------------+----------+----------+---------------+----------------+---------------+----------+---------+---------------+-----------------+------------+--------------+----------------+---------+--------------------+------------+-------------+----------+---------+--------------------+--------------------+----------+------------------+----+--------------------+---------------+------+----------+---------+------------------+-------+----------+---------+------------------+--------------------+-----+------------------+--------------------+--------------------+---------+--------------------+----------+----------+---------+---------------------+--------------------+---------+---------+-----------+-----------------+-----+----------+--------------------+---------+----------+---------+----------+---------+----------+--------+---------------+--------------+-----------------+-----------------+-------------------+----------------------+---------------------+--------------------+-------------------+-----------------+-------------------+------------------+------------------+--------------------+--------------------+------------------+----------+------------------+----------------+---------+-----------+----------------+---------------+----+-------------------+--------------------+-----------------+\n",
      "|  1| RMLS|11511 Stillwater ...|Stillwater|     55042|             MN|LELM - Lake Elmo|         143000|2017-07-15|   139900|Exclusive Right|           139900|    145.9184|         980.0|           Other|       C4|    834 - Stillwater|        10.0|   2017-07-30|       0.0|  12 x  9|Living Room, Dini...|                null|      Main|                No|10.0|     Attached Garage|          980.0|1858.0|      Main|  16 x 13|            1858.0| 2017.0|     980.0|   1950.0|Residential-Single|      (SF) One Story| 1.28|           Central|Range, Dishwasher...|                null|     null|               Vinyl|      null|      Main|   9 x  7|       Eat In Kitchen|                Full|      1.0|      1.0|        0.0|              0.0|   SF|       2.0|Main Floor 3/4 Ba...|  13 x 11|      Main|  10 x 10|      Main|     null|      null|     3.0|            0.0|           0.0|          Unknown|              0.0| 11.870599909242044|                   0.0|  0.25824320759694014|0.044444444444444446|                0.0|             69.0|0.23617733727628992|           55756.8|           54776.8|                 0.0|0.013280914939242315|               1.5|     980.0|2.0408163265306123|             7.0|     2017|       2016|LELM - Lake Elmo|         401000|2016|                  1|   [Attached Garage]|              1.0|\n",
      "|  2| RMLS|     11200 31st St N|      31st|     55042|             MN|LELM - Lake Elmo|         190000|2017-10-09|   210000|Exclusive Right|           210000|     85.2783|        1144.0|            null|       C1|    834 - Stillwater|         4.0|   2017-10-13|       0.0|    11x11|Living Room, Dini...|Asphalt Shingles,...|      Main|                No| 4.0|Attached Garage, ...|         1268.0|1640.0|      Main|    22x14|            1640.0| 2017.0|    2228.0|   1971.0|Residential-Single|(SF) Split Entry ...| 0.32|           Central|Range, Microwave,...|         Lower Level|    22x14|               Vinyl|     Lower|      Main|    11x12| Informal Dining R...|Full, Partial Fin...|      1.0|      0.0|        0.0|              2.0|   SF|       3.0|Main Floor Full B...|    15x11|      Main|    14x11|      Main|    10x11|      Main|     4.0|          960.0|           0.0|          Unknown|              0.0| 12.154779351142624|                   0.0|   0.3015035610656819|0.017777777777777778|                0.0|             48.0| 0.2583177668073288|           13939.2|           12795.2|                 0.0| 0.00780952380952381|1.3333333333333333|    2228.0|1.3464991023339317|             2.0|     2017|       2016|LELM - Lake Elmo|         401000|2016|                  1|[Attached Garage,...|              0.0|\n",
      "|  3| RMLS|8583 Stillwater B...|Stillwater|     55042|             MN|LELM - Lake Elmo|         225000|2017-06-26|   225000|Exclusive Right|           225000|    204.1742|        1102.0|            None|       E1|622 - North St Pa...|        28.0|   2017-07-24|       0.0|    14x12|Living Room, Dini...|                null|      Main|                No|28.0|     Attached Garage|         1102.0|2390.0|      Main|    20x13|            2390.0| 2016.0|    1102.0|   1949.0|Residential-Single|      (SF) One Story|0.822|            Window|Range, Microwave,...|                null|     null|        Cement Board|      null|      Main|    18x11| Informal Dining Room|Full, Crawl Space...|      1.0|      0.0|        0.0|              0.0|   SF|       1.0|Main Floor Full Bath|    12x12|      Main|    12x12|      Main|     null|      null|     2.0|            0.0|           0.0|               No|              0.0| 12.323855681186558|                   0.0|  0.29042469005539434| 0.12444444444444444|                0.0|             70.0|0.23537745555238682|          35806.32|          34704.32|                 0.0|0.010622222222222222|               2.0|    1102.0|0.9074410163339383|             2.0|     2017|       2016|LELM - Lake Elmo|         401000|2016|                  1|   [Attached Garage]|              0.0|\n",
      "|  4| RMLS|      9350 31st St N|      31st|     55042|             MN|LELM - Lake Elmo|         265000|2017-08-25|   230000|Exclusive Right|           230000|    162.3775|         959.0|            None|       A1|    834 - Stillwater|        19.0|   2017-09-13|       1.0|    12X16|Living Room, Dini...|Asphalt Shingles,...|      Main|                No|19.0|Attached Garage, ...|         1284.0|2146.0|      null|     null|            2146.0| 2017.0|    1632.0|   1960.0|Residential-Single|      (SF) One Story| 0.94|           Central|Range, Washer, Dryer|          Main Level|    25X13|              Stucco|      Main|      Main|    20X11|                 null|Full, Partial Fin...|      1.0|      1.0|        0.0|              0.0|   SF|       2.0|Main Floor Full B...|    13X11|      Main|    13X10|      Main|     null|      null|     2.0|          348.0|           0.0|          Unknown|              0.0| 12.487485104968359|                   0.0|  0.25270377209179634| 0.08444444444444445|0.14285714285714285|             59.0| 0.2452460618098304|40946.399999999994|39987.399999999994|                 0.0|0.009330434782608695|               1.0|    1632.0|1.2254901960784315|             6.0|     2017|       2016|LELM - Lake Elmo|         401000|2016|                  1|[Attached Garage,...|              1.0|\n",
      "|  5| RMLS|   2915 Inwood Ave N|    Inwood|     55042|             MN|LELM - Lake Elmo|         249900|2017-09-12|   239900|Exclusive Right|           239900|    121.7836|        1026.0|      Chain Link|       E1|622 - North St Pa...|        21.0|   2017-10-03|       1.0|    12x10|Living Room, Dini...|Asphalt Shingles,...|      Main|                No|21.0|Attached Garage, ...|         1026.0|2010.0|      Main|    22x14|            2010.0| 2017.0|    2052.0|   1978.0|Residential-Single|(SF) Split Entry ...|  0.0|           Central|Range, Exhaust Fa...|         Lower Level|    22x18|               Vinyl|     Lower|      Main|    12x10| Breakfast Area, K...|Walkout, Full, Fi...|      1.0|      0.0|        0.0|              1.0|   SF|       2.0|Main Floor Full B...|    13x11|      Main|    13x12|      Main|    14x13|     Lower|     3.0|         1026.0|           0.0|               No|              0.0| 12.428816116823043|                   0.0|    0.270377209179636| 0.09333333333333334|0.14285714285714285|             41.0|  0.269282508064391|               0.0|           -1026.0|                 0.0|0.008378491037932471|               1.5|    2052.0|0.9746588693957114|             3.0|     2017|       2016|LELM - Lake Elmo|         401000|2016|                  1|[Attached Garage,...|              0.0|\n",
      "|  6| RMLS|   3604 Layton Ave N|    Layton|     55042|             MN|LELM - Lake Elmo|         255000|2017-04-10|   239900|Exclusive Right|           239900|     182.534|        1152.0|            null|       C1|    834 - Stillwater|        17.0|   2017-04-27|       1.0|  11 x 11|Living Room, Dini...|Asphalt Shingles,...|      Main|                No|17.0|Attached Garage, ...|         1397.0|1491.0|      Main|  19 x 13|            1494.0| 2016.0|    1397.0|   1965.0|Residential-Single|      (SF) One Story|0.172|           Central|Range, Microwave,...|                null|     null|        Metal, Vinyl|      null|      Main|  10 x 13| Separate/Formal D...|Full, Sump Pump, ...|      2.0|      0.0|        0.0|              0.0|   SF|       2.0|Main Floor Full B...|25.5 x 11|      Main|  10 x 11|      Main| 9.5 x 10|      Main|     3.0|            0.0|           0.0|               No|              3.0| 12.449018824140563|                   0.0|  0.30361382221049854| 0.07555555555555556|0.14285714285714285|             54.0| 0.2506903984389969|           7492.32|           6340.32|1.250521050437682...|0.006215089620675281|               1.5|    1397.0|1.4316392269148175|             2.0|     2017|       2016|LELM - Lake Elmo|         401000|2016|                  1|[Attached Garage,...|              0.0|\n",
      "|  7| RMLS|9957 5th Street Ln N|5th Street|     55042|             MN|LELM - Lake Elmo|         248000|2017-06-08|   250000|Exclusive Right|           265000|     137.931|         700.0|            null|       A4|    834 - Stillwater|        32.0|   2017-07-10|       0.0|     14x9|Living Room, Dini...|Asphalt Shingles,...|      Main|                No|19.0|Attached Garage, ...|         1798.0|2165.0|      Main|    13x15|            2168.0| 2017.0|    1798.0|   2015.0|Residential-Single|    (TH) Side x Side| 0.05|           Central|Range, Microwave,...|                Loft|     null|Shakes, Metal, Vi...|      null|      Main|    11x13| Informal Dining R...|                Slab|      1.0|      1.0|        0.0|              1.0|   SF|       3.0|Main Floor 1/2 Ba...|  13x19.6|     Upper|  11x13.6|     Upper|  11x13.6|     Upper|     3.0|            0.0|         200.0|              Yes|              3.0| 12.421184025147118|                   0.0|  0.18438406752835662| 0.14222222222222222|                0.0|              4.0| 0.7213475204444817|            2178.0|            1478.0|              1.2E-5|             0.00866|               1.0|    1798.0| 1.668520578420467|             5.0|     2017|       2016|LELM - Lake Elmo|         401000|2016|                  1|[Attached Garage,...|              0.0|\n",
      "|  8| RMLS|9934 5th Street Ln N|5th Street|     55042|             MN|LELM - Lake Elmo|         245000|2017-11-05|   254990|Exclusive Right|           273417|    141.3733|        1088.0|         Partial|       A4|    834 - Stillwater|         5.0|   2017-11-10|       0.0|   12 x 8|Living Room, Dini...|    Asphalt Shingles|      Main|                No| 1.0|     Attached Garage|         1733.0|   0.0|      Main|  12 x 13|               0.0| 2017.0|    1733.0|   2017.0|Residential-Single| (TH) Quad/4 Corners| 0.05|           Central|Range, Microwave,...|Main Level, Famil...|     null|               Vinyl|      null|      Main|  12 x 10| Informal Dining R...|                None|      2.0|      1.0|        0.0|              0.0|   SF|       3.0|Main Floor 1/2 Ba...|  12 x 11|     Upper|  11 x 13|     Upper|  11 x 13|     Upper|     3.0|            0.0|         200.0|               No|              0.0| 12.409013489526863|                   0.0|   0.2867317330519652|0.022222222222222223|                0.0|              2.0| 1.4426950408889634|            2178.0|            1090.0|                 0.0|                 0.0|               1.0|    1733.0|1.7311021350259663|             1.0|     2017|       2016|LELM - Lake Elmo|         401000|2016|                  1|   [Attached Garage]|              0.0|\n",
      "|  9| RMLS|9926 5th Street Ln N|5th Street|     55042|             MN|LELM - Lake Elmo|         254990|2017-10-12|   254990|Exclusive Right|           273152|    147.1379|        1088.0|         Partial|       E1|    834 - Stillwater|        23.0|   2017-11-11|       0.0|   12 x 8|Living Room, Dini...|    Asphalt Shingles|      Main|                No| 5.0|     Attached Garage|         1733.0|   0.0|      Main|  12 x 13|               0.0| 2017.0|    1733.0|   2017.0|Residential-Single| (TH) Quad/4 Corners| 0.05|           Central|Range, Microwave,...|                null|     null|               Vinyl|      null|      Main|  12 x 10| Informal Dining R...|                None|      1.0|      1.0|        0.0|              1.0|   SF|       3.0|Main Floor 1/2 Ba...|  12 x 11|     Upper|  11 x 13|     Upper|  11 x 13|     Upper|     3.0|            0.0|         200.0|               No|              0.0| 12.448979607685333|                   0.0|   0.2867317330519652| 0.10222222222222223|                0.0|              2.0| 1.4426950408889634|            2178.0|            1090.0|                 0.0|                 0.0|               1.0|    1733.0|1.7311021350259663|             5.0|     2017|       2016|LELM - Lake Elmo|         401000|2016|                  1|   [Attached Garage]|              0.0|\n",
      "| 10| RMLS|9928 5th Street Ln N|5th Street|     55042|             MN|LELM - Lake Elmo|         250000|2017-09-02|   255990|Exclusive Right|           273482|    144.2585|        1088.0|Privacy, Partial|       A4|    834 - Stillwater|        73.0|   2017-11-20|       0.0|   12 x 8|Living Room, Dini...|    Asphalt Shingles|      Main|                No|11.0|     Attached Garage|         1733.0|   0.0|      Main|  12 x 13|               0.0| 2017.0|    1733.0|   2017.0|Residential-Single| (TH) Quad/4 Corners| 0.05|           Central|Range, Microwave,...|Main Level, Famil...|     null|               Vinyl|      null|      Main|  12 x 10| Informal Dining R...|                None|      1.0|      1.0|        0.0|              1.0|   SF|       3.0|Main Floor 1/2 Ba...|  12 x 11|     Upper|  11 x 13|     Upper|  11 x 13|     Upper|     3.0|            0.0|         200.0|               No|              0.0| 12.429216196844383|                   0.0|   0.2867317330519652|  0.3244444444444444|                0.0|              2.0| 1.4426950408889634|            2178.0|            1090.0|                 0.0|                 0.0|               1.0|    1733.0|1.7311021350259663|             7.0|     2017|       2016|LELM - Lake Elmo|         401000|2016|                  1|   [Attached Garage]|              1.0|\n",
      "| 11| RMLS|9902 5th Street Ln N|5th Street|     55042|             MN|LELM - Lake Elmo|         254500|2017-05-19|   259990|Exclusive Right|           267117|    146.8552|        1088.0|         Partial|       A4|    834 - Stillwater|        80.0|   2017-08-07|       0.0|   12 x 8|Living Room, Dini...|    Asphalt Shingles|      Main|                No| 7.0|     Attached Garage|         1733.0|   0.0|      Main|  12 x 13|               0.0| 2017.0|    1733.0|   2017.0|Residential-Single| (TH) Quad/4 Corners| 0.05|           Central|Range, Microwave,...|Main Level, Famil...|     null|               Vinyl|      null|      Main|  12 x 10| Informal Dining R...|                None|      1.0|      1.0|        0.0|              1.0|   SF|       3.0|Main Floor 1/2 Ba...|  12 x 11|     Upper|  11 x 13|     Upper|  11 x 13|     Upper|     3.0|            0.0|         200.0|               No|              0.0| 12.447056114972714|                   0.0|   0.2867317330519652| 0.35555555555555557|                0.0|              2.0| 1.4426950408889634|            2178.0|            1090.0|                 0.0|                 0.0|               1.0|    1733.0|1.7311021350259663|             6.0|     2017|       2016|LELM - Lake Elmo|         401000|2016|                  1|   [Attached Garage]|              1.0|\n",
      "| 12| RMLS|9904 5th Street Ln N|5th Street|     55042|             MN|LELM - Lake Elmo|         253000|2017-05-11|   259990|Exclusive Right|           268487|    145.9896|        1088.0|         Partial|       A4|    834 - Stillwater|        79.0|   2017-07-29|       0.0|   12 x 8|Living Room, Dini...|    Asphalt Shingles|      Main|                No|58.0|     Attached Garage|         1733.0|   0.0|      Main|  12 x 13|               0.0| 2017.0|    1733.0|   2017.0|Residential-Single| (TH) Quad/4 Corners| 0.05|           Central|Range, Microwave,...|                null|     null|               Vinyl|      null|      Main|  12 x 10| Informal Dining R...|                None|      1.0|      1.0|        0.0|              1.0|   SF|       3.0|Main Floor 1/2 Ba...|  12 x 11|     Upper|  11 x 13|     Upper|  11 x 13|     Upper|     3.0|            0.0|         200.0|               No|              0.0| 12.441144767709657|                   0.0|   0.2867317330519652|  0.3511111111111111|                0.0|              2.0| 1.4426950408889634|            2178.0|            1090.0|                 0.0|                 0.0|               1.0|    1733.0|1.7311021350259663|             5.0|     2017|       2016|LELM - Lake Elmo|         401000|2016|                  1|   [Attached Garage]|              0.0|\n",
      "| 13| RMLS|9894 5th Street Ln N|5th Street|     55042|             MN|LELM - Lake Elmo|         257500|2017-03-12|   259990|Exclusive Right|           268622|    148.5863|        1088.0|         Partial|       A4|    834 - Stillwater|        12.0|   2017-03-24|       0.0|   12 x 8|Living Room, Dini...|    Asphalt Shingles|      Main|                No| 8.0|     Attached Garage|         1733.0|   0.0|      Main|  12 x 13|               0.0| 2017.0|    1733.0|   2017.0|Residential-Single| (TH) Quad/4 Corners| 0.05|           Central|Range, Microwave,...|Main Level, Famil...|     null|               Vinyl|      null|      Main|  12 x 10| Informal Dining R...|                None|      2.0|      1.0|        0.0|              0.0|   SF|       3.0|Main Floor 1/2 Ba...|  12 x 11|     Upper|  11 x 13|     Upper|  11 x 13|     Upper|     3.0|            0.0|         190.0|               No|              0.0| 12.458774999085929|                   0.0|   0.2867317330519652| 0.05333333333333334|                0.0|              2.0| 1.4426950408889634|            2178.0|            1090.0|                 0.0|                 0.0|               1.0|    1733.0|1.7311021350259663|             1.0|     2017|       2016|LELM - Lake Elmo|         401000|2016|                  1|   [Attached Garage]|              0.0|\n",
      "| 14| RMLS|    9892 5th St Ln N|    5th St|     55042|             MN|LELM - Lake Elmo|         272990|2017-03-06|   269990|Exclusive Right|           279442|     154.844|        1088.0|Privacy, Partial|       A4|    834 - Stillwater|         1.0|   2017-06-11|       0.0|     12X8|Living Room, Dini...|Asphalt Shingles,...|      Main|                No| 1.0|Attached Garage, ...|         1763.0|   0.0|      Main|    12X13|               0.0| 2016.0|    1763.0|   2016.0|Residential-Single| (TH) Quad/4 Corners| 0.05|           Central|Range, Microwave,...|Main Level, Great...|     null|Shakes, Metal, Vi...|      null|      Main|     3X10| Informal Dining R...|                None|      2.0|      1.0|        0.0|              0.0|   SF|       3.0|Main Floor 1/2 Ba...|    12X11|     Upper|    11X13|     Upper|    11X13|     Upper|     3.0|            0.0|         200.0|               No|              0.0|  12.51719044345957|                   0.0|   0.2867317330519652|0.004444444444444...|                0.0|              3.0| 0.9102392266268375|            2178.0|            1090.0|                 0.0|                 0.0|               1.0|    1763.0|1.7016449234259785|             2.0|     2017|       2016|LELM - Lake Elmo|         401000|2016|                  1|[Attached Garage,...|              0.0|\n",
      "| 15| RMLS|9295 Lake Jane Trl N| Lake Jane|     55042|             MN|LELM - Lake Elmo|         290000|2017-05-18|   270000|Exclusive Right|           270000|    157.2668|        1844.0|            null|       A4|    834 - Stillwater|        18.0|   2017-06-05|       1.0|    13x12|Living Room, Dini...|    Asphalt Shingles|      Main|                No|18.0|Attached Garage, ...|         1844.0|2689.0|      Main|    21x19|            2692.0| 2017.0|    1844.0|   1977.0|Residential-Single|      (SF) One Story|1.661|           Central|Cooktop, Wall Ove...|                null|     null|  Metal, Brick/Stone|      null|      Main|    12x10| Informal Dining R...|Full, Concrete Bl...|      0.0|      0.0|        0.0|              3.0|   SF|       3.0|Main Floor 3/4 Ba...|    14x11|      Main|    12x11|      Main|     null|      null|     2.0|            0.0|           0.0|              Yes|              3.0| 12.577636201962656|                   0.0|   0.4861514112371406|                0.08|0.14285714285714285|             42.0|  0.267546386419054|          72353.16|          70509.16|1.111111111111111...| 0.00995925925925926|0.6666666666666666|    1844.0|1.6268980477223427|             5.0|     2017|       2016|LELM - Lake Elmo|         401000|2016|                  1|[Attached Garage,...|              0.0|\n",
      "| 16| RMLS|    9930 5th St Ln N|    5th St|     55042|             MN|LELM - Lake Elmo|         274000|2017-10-15|   274000|Exclusive Right|           274000|    155.4169|        1088.0|            null|       A4|    834 - Stillwater|         2.0|   2017-10-17|       0.0|     12X8|Living Room, Dini...|Asphalt Shingles,...|      Main|                No| 2.0|Attached Garage, ...|         1763.0|   0.0|      Main|    12X13|               0.0| 2017.0|    1763.0|   2017.0|Residential-Single| (TH) Quad/4 Corners| 0.05|           Central|Range, Microwave,...|                Loft|     null|Shakes, Metal, Vi...|      null|      Main|     3X10| Informal Dining R...|                None|      1.0|      1.0|        0.0|              1.0|   SF|       3.0|Main Floor 1/2 Ba...|    12X11|     Upper|    11X13|     Upper|    11X13|     Upper|     3.0|            0.0|         200.0|               No|              0.0| 12.520883385370206|                   0.0|   0.2867317330519652|0.008888888888888889|                0.0|              2.0| 1.4426950408889634|            2178.0|            1090.0|                 0.0|                 0.0|               1.0|    1763.0|1.7016449234259785|             1.0|     2017|       2016|LELM - Lake Elmo|         401000|2016|                  1|[Attached Garage,...|              0.0|\n",
      "| 17| RMLS|    9898 5th St Ln N|    5th St|     55042|             MN|LELM - Lake Elmo|         274990|2017-09-10|   274990|Exclusive Right|           289357|    155.9784|        1088.0|            null|       A4|    834 - Stillwater|        12.0|   2017-09-22|       0.0|     12X8|Living Room, Dini...|Asphalt Shingles,...|      Main|                No| 8.0|Attached Garage, ...|         1763.0|   0.0|      Main|    12X13|               0.0| 2017.0|    1763.0|   2017.0|Residential-Single| (TH) Quad/4 Corners| 0.05|           Central|Range, Microwave,...|                Loft|     null|Shakes, Metal, Vi...|      null|      Main|     3X10| Informal Dining R...|                None|      1.0|      1.0|        0.0|              1.0|   SF|       3.0|Main Floor 1/2 Ba...|    12X11|     Upper|    11X13|     Upper|    11X13|     Upper|     3.0|            0.0|         200.0|               No|              0.0|  12.52449001235117|                   0.0|   0.2867317330519652| 0.05333333333333334|                0.0|              2.0| 1.4426950408889634|            2178.0|            1090.0|                 0.0|                 0.0|               1.0|    1763.0|1.7016449234259785|             1.0|     2017|       2016|LELM - Lake Elmo|         401000|2016|                  1|[Attached Garage,...|              0.0|\n",
      "| 18| RMLS|    9924 5th St Ln N|    5th St|     55042|             MN|LELM - Lake Elmo|         274000|2017-09-01|   284990|Exclusive Right|           288342|    155.4169|        1088.0|Privacy, Partial|       A4|    834 - Stillwater|        45.0|   2017-10-16|       0.0|     12X8|Living Room, Dini...|Asphalt Shingles,...|      Main|                No|24.0|Attached Garage, ...|         1763.0|   0.0|      Main|    12X13|               0.0| 2017.0|    1763.0|   2017.0|Residential-Single| (TH) Quad/4 Corners| 0.05|           Central|Range, Microwave,...|Main Level, Great...|     null|Shakes, Metal, Vi...|      null|      Main|     3X10| Informal Dining R...|                None|      2.0|      1.0|        0.0|              0.0|   SF|       3.0|Main Floor 1/2 Ba...|    12X11|     Upper|    11X13|     Upper|    11X13|     Upper|     3.0|            0.0|         200.0|               No|              0.0| 12.520883385370206|                   0.0|   0.2867317330519652|                 0.2|                0.0|              2.0| 1.4426950408889634|            2178.0|            1090.0|                 0.0|                 0.0|               1.0|    1763.0|1.7016449234259785|             6.0|     2017|       2016|LELM - Lake Elmo|         401000|2016|                  1|[Attached Garage,...|              1.0|\n",
      "| 19| RMLS|    9906 5th St Ln N|    5th St|     55042|             MN|LELM - Lake Elmo|         282000|2017-05-06|   287452|Exclusive Right|           287452|    159.9546|        1088.0|            null|       A4|    834 - Stillwater|        31.0|   2017-06-06|       0.0|     12X8|Living Room, Dini...|Asphalt Shingles,...|      Main|                No|31.0|Attached Garage, ...|         1763.0|   0.0|      Main|    12X13|               0.0| 2017.0|    1763.0|   2017.0|Residential-Single| (TH) Quad/4 Corners| 0.05|           Central|Range, Microwave,...|                Loft|     null|Shakes, Metal, Vi...|      null|      Main|     3X10| Informal Dining R...|                None|      1.0|      1.0|        0.0|              1.0|   SF|       3.0|Main Floor 1/2 Ba...|    12X11|     Upper|    11X13|     Upper|    11X13|     Upper|     3.0|            0.0|         200.0|               No|              0.0|  12.54966234992025|                   0.0|   0.2867317330519652| 0.13777777777777778|                0.0|              2.0| 1.4426950408889634|            2178.0|            1090.0|                 0.0|                 0.0|               1.0|    1763.0|1.7016449234259785|             7.0|     2017|       2016|LELM - Lake Elmo|         401000|2016|                  1|[Attached Garage,...|              1.0|\n",
      "| 20| RMLS|    9938 5th St Ln N|    5th St|     55042|             MN|LELM - Lake Elmo|         280617|2017-08-11|   288492|Exclusive Right|           288492|    159.1702|        1088.0|            null|       A4|    834 - Stillwater|        16.0|   2017-08-27|       0.0|     12X8|Living Room, Dini...|Asphalt Shingles,...|      Main|                No|16.0|Attached Garage, ...|         1763.0|   0.0|      Main|    12X13|               0.0| 2017.0|    1763.0|   2017.0|Residential-Single| (TH) Quad/4 Corners| 0.05|           Central|Range, Microwave,...|                Loft|     null|Shakes, Metal, Vi...|      null|      Main|     3X10| Informal Dining R...|                None|      1.0|      1.0|        0.0|              1.0|   SF|       3.0|Main Floor 1/2 Ba...|    12X11|     Upper|    11X13|     Upper|    11X13|     Upper|     3.0|            0.0|         200.0|               No|              0.0| 12.544746029277201|                   0.0|   0.2867317330519652| 0.07111111111111111|                0.0|              2.0| 1.4426950408889634|            2178.0|            1090.0|                 0.0|                 0.0|               1.0|    1763.0|1.7016449234259785|             6.0|     2017|       2016|LELM - Lake Elmo|         401000|2016|                  1|[Attached Garage,...|              1.0|\n",
      "+---+-----+--------------------+----------+----------+---------------+----------------+---------------+----------+---------+---------------+-----------------+------------+--------------+----------------+---------+--------------------+------------+-------------+----------+---------+--------------------+--------------------+----------+------------------+----+--------------------+---------------+------+----------+---------+------------------+-------+----------+---------+------------------+--------------------+-----+------------------+--------------------+--------------------+---------+--------------------+----------+----------+---------+---------------------+--------------------+---------+---------+-----------+-----------------+-----+----------+--------------------+---------+----------+---------+----------+---------+----------+--------+---------------+--------------+-----------------+-----------------+-------------------+----------------------+---------------------+--------------------+-------------------+-----------------+-------------------+------------------+------------------+--------------------+--------------------+------------------+----------+------------------+----------------+---------+-----------+----------------+---------------+----+-------------------+--------------------+-----------------+\n",
      "only showing top 20 rows\n",
      "\n"
     ]
    }
   ],
   "source": [
    "train_df.show()"
   ]
  },
  {
   "attachments": {},
   "cell_type": "markdown",
   "metadata": {},
   "source": [
    "Adjusting Time Features\n",
    "\n",
    "We have mentioned throughout this course some of the dangers of leaking information to your model during training. Data leakage will cause your model to have very optimistic metrics for accuracy but once real data is run through it the results are often very disappointing.\n",
    "\n",
    "In this exercise, we are going to ensure that DAYSONMARKET only reflects what information we have at the time of predicting the value. I.e., if the house is still on the market, we don't know how many more days it will stay on the market. We need to adjust our test_df to reflect what information we currently have as of 2017-12-10.\n",
    "\n",
    "NOTE: This example will use the lit() function. This function is used to allow single values where an entire column is expected in a function call."
   ]
  },
  {
   "cell_type": "code",
   "execution_count": 96,
   "metadata": {},
   "outputs": [
    {
     "name": "stdout",
     "output_type": "stream",
     "text": [
      "+----------+-------------+---------------------+------------+\n",
      "|  LISTDATE|offmarketdate|DAYSONMARKET_Original|DAYSONMARKET|\n",
      "+----------+-------------+---------------------+------------+\n",
      "|2017-10-06|   2018-01-24|                110.0|          65|\n",
      "|2017-09-18|   2017-12-12|                 82.0|          83|\n",
      "|2017-11-07|   2017-12-12|                 35.0|          33|\n",
      "|2017-10-30|   2017-12-11|                 42.0|          41|\n",
      "|2017-07-14|   2017-12-19|                158.0|         149|\n",
      "|2017-10-25|   2017-12-20|                 45.0|          46|\n",
      "|2017-12-07|   2017-12-23|                 16.0|           3|\n",
      "|2017-11-22|   2017-12-16|                 24.0|          18|\n",
      "|2017-10-27|   2017-12-13|                 47.0|          44|\n",
      "|2017-09-29|   2017-12-12|                 12.0|          72|\n",
      "|2017-11-28|   2017-12-11|                 13.0|          12|\n",
      "|2017-09-09|   2018-01-17|                119.0|          92|\n",
      "|2017-11-18|   2017-12-15|                 26.0|          22|\n",
      "|2017-12-07|   2017-12-18|                 11.0|           3|\n",
      "|2017-11-25|   2018-01-02|                 38.0|          15|\n",
      "|2017-11-09|   2018-01-03|                 55.0|          31|\n",
      "|2017-10-18|   2017-12-26|                 69.0|          53|\n",
      "|2017-10-03|   2017-12-15|                 40.0|          68|\n",
      "|2017-10-16|   2017-12-15|                 60.0|          55|\n",
      "|2017-11-18|   2017-12-28|                 40.0|          22|\n",
      "+----------+-------------+---------------------+------------+\n",
      "only showing top 20 rows\n",
      "\n"
     ]
    }
   ],
   "source": [
    "from pyspark.sql.functions import datediff, to_date, lit\n",
    "\n",
    "split_date = to_date(lit('2017-12-10'))\n",
    "\n",
    "# Create a copy of DAYSONMARKET to review later\n",
    "test_df = test_df.withColumn('DAYSONMARKET_Original', test_df['DAYSONMARKET'])\n",
    "\n",
    "# Recalculate DAYSONMARKET from what we know on our split date\n",
    "test_df = test_df.withColumn('DAYSONMARKET', datediff(split_date, test_df['LISTDATE']))\n",
    "\n",
    "# Review the difference\n",
    "test_df[['LISTDATE', 'offmarketdate', 'DAYSONMARKET_Original', 'DAYSONMARKET']].show()\n"
   ]
  },
  {
   "attachments": {},
   "cell_type": "markdown",
   "metadata": {},
   "source": [
    "**Feature Engineering Assumptions for Random Forest Regression**  \n",
    "Random Forest Regression:  \n",
    "* Skewed/Non normal data? Ok  \n",
    "* Unscaled? Ok  \n",
    "* Missin data? Ok  \n",
    "  \n",
    "PySpark ML algorithms require all of the type of the features to be provided in a single column of type vector. To do this we need to import the VectorAssembler transformer to use it later. Sadly, while Random Forest Regression can handle missing values, vectors cannot. Due to the nature of how tree-based machine learning partitions data, we can just assign missings a value that is outside the existing range of the variable to replace nulls with.  \n",
    "  \n",
    "df=df.fillna(-1)      \n",
    "vec= VertorAssemble(inputCols=feature_cols, outputCol='features')  \n",
    "df= vec.transform(df)\n",
    "ml_already_df=df.select(['SALECLOSEPRICE','features'])  \n",
    "m-_ready_df.show()  "
   ]
  },
  {
   "attachments": {},
   "cell_type": "markdown",
   "metadata": {},
   "source": [
    "Missing values are handled by Random Forests internally where they partition on missing values. As long as you replace them with something outside of the range of normal values, they will be handled correctly. Likewise, categorical features only need to be mapped to numbers, they are fine to stay all in one column by using a StringIndexer as we saw in chapter 3. OneHot encoding which converts each possible value to its own boolean feature is not needed."
   ]
  },
  {
   "attachments": {},
   "cell_type": "markdown",
   "metadata": {},
   "source": [
    "Dropping Columns with Low Observations\n",
    "\n",
    "After doing a lot of feature engineering it's a good idea to take a step back and look at what you've created. If you've used some automation techniques on your categorical features like exploding or OneHot Encoding you may find that you now have hundreds of new binary features. While the subject of feature selection is material for a whole other course but there are some quick steps you can take to reduce the dimensionality of your data set.  \n",
    "  \n",
    "In this exercise, we are going to remove columns that have less than 30 observations. 30 is a common minimum number of observations for statistical significance. Any less than that and the relationships cause overfitting because of a sheer coincidence!  "
   ]
  },
  {
   "cell_type": "code",
   "execution_count": 99,
   "metadata": {},
   "outputs": [],
   "source": [
    "binary_cols= ['FENCE','FENCE_ELECTRIC', 'FENCE_NAN', 'FENCE_PARTIAL', 'FENCE_RAIL', 'FENCE_OTHER', 'FENCE_CHAIN LINK', 'FENCE_FULL', 'FENCE_NONE', 'FENCE_PRIVACY',\n",
    " 'FENCE_WOOD', 'FENCE_INVISIBLE','ROOF_ASPHALT SHINGLES', 'ROOF_SHAKES', 'ROOF_NAN', 'ROOF_UNSPECIFIED SHINGLE', 'ROOF_SLATE', 'ROOF_PITCHED', 'ROOF_FLAT', 'ROOF_TAR/GRAVEL',\n",
    " 'ROOF_OTHER', 'ROOF_METAL', 'ROOF_TILE', 'ROOF_RUBBER', 'ROOF_WOOD SHINGLES', 'ROOF_AGE OVER 8 YEARS', 'ROOF_AGE 8 YEARS OR LESS', 'POOLDESCRIPTION_NAN', 'POOLDESCRIPTION_HEATED',\n",
    " 'POOLDESCRIPTION_NONE', 'POOLDESCRIPTION_SHARED', 'POOLDESCRIPTION_INDOOR', 'POOLDESCRIPTION_OUTDOOR', 'POOLDESCRIPTION_ABOVE GROUND', 'POOLDESCRIPTION_BELOW GROUND', 'GARAGEDESCRIPTION_ASSIGNED',\n",
    " 'GARAGEDESCRIPTION_TANDEM', 'GARAGEDESCRIPTION_UNCOVERED/OPEN', 'GARAGEDESCRIPTION_TUCKUNDER', 'GARAGEDESCRIPTION_DRIVEWAY - ASPHALT', 'GARAGEDESCRIPTION_HEATED GARAGE', 'GARAGEDESCRIPTION_UNDERGROUND GARAGE',\n",
    " 'GARAGEDESCRIPTION_DRIVEWAY - SHARED', 'GARAGEDESCRIPTION_CONTRACT PKG REQUIRED', 'GARAGEDESCRIPTION_GARAGE DOOR OPENER', 'GARAGEDESCRIPTION_MORE PARKING OFFSITE FOR FEE', 'GARAGEDESCRIPTION_VALET PARKING FOR FEE', 'GARAGEDESCRIPTION_OTHER',\n",
    " 'GARAGEDESCRIPTION_MORE PARKING ONSITE FOR FEE', 'GARAGEDESCRIPTION_DRIVEWAY - OTHER SURFACE', 'GARAGEDESCRIPTION_DETACHED GARAGE', 'GARAGEDESCRIPTION_SECURED',\n",
    " 'GARAGEDESCRIPTION_CARPORT', 'GARAGEDESCRIPTION_DRIVEWAY - CONCRETE', 'GARAGEDESCRIPTION_ON-STREET PARKING ONLY', 'GARAGEDESCRIPTION_COVERED', 'GARAGEDESCRIPTION_INSULATED GARAGE',\n",
    " 'GARAGEDESCRIPTION_UNASSIGNED', 'GARAGEDESCRIPTION_NONE', 'GARAGEDESCRIPTION_DRIVEWAY - GRAVEL', 'GARAGEDESCRIPTION_NO INT ACCESS TO DWELLING', 'GARAGEDESCRIPTION_UNITS VARY',\n",
    " 'GARAGEDESCRIPTION_ATTACHED GARAGE', 'APPLIANCES_NAN', 'APPLIANCES_COOKTOP', 'APPLIANCES_WALL OVEN', 'APPLIANCES_WATER SOFTENER - OWNED', 'APPLIANCES_DISPOSAL', 'APPLIANCES_DISHWASHER',\n",
    " 'APPLIANCES_OTHER', 'APPLIANCES_INDOOR GRILL', 'APPLIANCES_WASHER', 'APPLIANCES_RANGE', 'APPLIANCES_REFRIGERATOR', 'APPLIANCES_FURNACE HUMIDIFIER', 'APPLIANCES_TANKLESS WATER  HEATER',\n",
    " 'APPLIANCES_ELECTRONIC AIR FILTER', 'APPLIANCES_MICROWAVE', 'APPLIANCES_EXHAUST FAN/HOOD', 'APPLIANCES_NONE', 'APPLIANCES_CENTRAL VACUUM', 'APPLIANCES_TRASH COMPACTOR', 'APPLIANCES_AIR-TO-AIR EXCHANGER',\n",
    " 'APPLIANCES_DRYER', 'APPLIANCES_FREEZER', 'APPLIANCES_WATER SOFTENER - RENTED', 'EXTERIOR_SHAKES', 'EXTERIOR_CEMENT BOARD', 'EXTERIOR_BLOCK', 'EXTERIOR_VINYL', 'EXTERIOR_FIBER BOARD',\n",
    " 'EXTERIOR_OTHER', 'EXTERIOR_METAL', 'EXTERIOR_BRICK/STONE', 'EXTERIOR_STUCCO', 'EXTERIOR_ENGINEERED WOOD', 'EXTERIOR_WOOD', 'DININGROOMDESCRIPTION_EAT IN KITCHEN', 'DININGROOMDESCRIPTION_NAN',\n",
    " 'DININGROOMDESCRIPTION_OTHER', 'DININGROOMDESCRIPTION_LIVING/DINING ROOM', 'DININGROOMDESCRIPTION_SEPARATE/FORMAL DINING ROOM', 'DININGROOMDESCRIPTION_KITCHEN/DINING ROOM', 'DININGROOMDESCRIPTION_INFORMAL DINING ROOM',\n",
    " 'DININGROOMDESCRIPTION_BREAKFAST AREA', 'BASEMENT_FINISHED (LIVABLE)', 'BASEMENT_PARTIAL', 'BASEMENT_SUMP PUMP', 'BASEMENT_INSULATING CONCRETE FORMS', 'BASEMENT_CRAWL SPACE', 'BASEMENT_PARTIAL FINISHED', 'BASEMENT_CONCRETE BLOCK',\n",
    " 'BASEMENT_DRAINAGE SYSTEM', 'BASEMENT_POURED CONCRETE', 'BASEMENT_UNFINISHED', 'BASEMENT_DRAIN TILED', 'BASEMENT_WOOD', 'BASEMENT_FULL', 'BASEMENT_EGRESS WINDOWS', 'BASEMENT_DAY/LOOKOUT WINDOWS', 'BASEMENT_SLAB',\n",
    " 'BASEMENT_STONE', 'BASEMENT_NONE', 'BASEMENT_WALKOUT', 'BATHDESC_MAIN FLOOR 1/2 BATH', 'BATHDESC_TWO MASTER BATHS', 'BATHDESC_MASTER WALK-THRU', 'BATHDESC_WHIRLPOOL', 'BATHDESC_NAN',\n",
    " 'BATHDESC_3/4 BASEMENT', 'BATHDESC_TWO BASEMENT BATHS', 'BATHDESC_OTHER', 'BATHDESC_3/4 MASTER', 'BATHDESC_MAIN FLOOR 3/4 BATH', 'BATHDESC_FULL MASTER', 'BATHDESC_MAIN FLOOR FULL BATH', 'BATHDESC_WALK-IN SHOWER',\n",
    " 'BATHDESC_SEPARATE TUB & SHOWER', 'BATHDESC_FULL BASEMENT', 'BATHDESC_BASEMENT', 'BATHDESC_WALK THRU', 'BATHDESC_BATHROOM ENSUITE', 'BATHDESC_PRIVATE MASTER', 'BATHDESC_JACK & JILL 3/4', 'BATHDESC_UPPER LEVEL 1/2 BATH',\n",
    " 'BATHDESC_ROUGH IN', 'BATHDESC_UPPER LEVEL FULL BATH', 'BATHDESC_1/2 MASTER', 'BATHDESC_1/2 BASEMENT', 'BATHDESC_JACK AND JILL', 'BATHDESC_UPPER LEVEL 3/4 BATH', 'ZONING_INDUSTRIAL',\n",
    " 'ZONING_BUSINESS/COMMERCIAL', 'ZONING_OTHER', 'ZONING_RESIDENTIAL-SINGLE', 'ZONING_RESIDENTIAL-MULTI-FAMILY', 'COOLINGDESCRIPTION_WINDOW', 'COOLINGDESCRIPTION_WALL', 'COOLINGDESCRIPTION_DUCTLESS MINI-SPLIT',\n",
    " 'COOLINGDESCRIPTION_NONE', 'COOLINGDESCRIPTION_GEOTHERMAL', 'COOLINGDESCRIPTION_CENTRAL', 'CITY:LELM - LAKE ELMO', 'CITY:MAPW - MAPLEWOOD', 'CITY:OAKD - OAKDALE', 'CITY:STP - SAINT PAUL', 'CITY:WB - WOODBURY',\n",
    " 'LISTTYPE:EXCLUSIVE AGENCY', 'LISTTYPE:EXCLUSIVE RIGHT', 'LISTTYPE:EXCLUSIVE RIGHT WITH EXCLUSIONS', 'LISTTYPE:OTHER', 'LISTTYPE:SERVICE AGREEMENT', 'SCHOOLDISTRICTNUMBER:6 - SOUTH ST. PAUL', 'SCHOOLDISTRICTNUMBER:622 - NORTH ST PAUL-MAPLEWOOD',\n",
    " 'SCHOOLDISTRICTNUMBER:623 - ROSEVILLE', 'SCHOOLDISTRICTNUMBER:624 - WHITE BEAR LAKE', 'SCHOOLDISTRICTNUMBER:625 - ST. PAUL', 'SCHOOLDISTRICTNUMBER:832 - MAHTOMEDI', 'SCHOOLDISTRICTNUMBER:833 - SOUTH WASHINGTON COUNTY', 'SCHOOLDISTRICTNUMBER:834 - STILLWATER',\n",
    " 'POTENTIALSHORTSALE:NO', 'POTENTIALSHORTSALE:NOT DISCLOSED', 'STYLE:(CC) CONVERTED MANSION', 'STYLE:(CC) HIGH RISE (4+ LEVELS)', 'STYLE:(CC) LOW RISE (3- LEVELS)', 'STYLE:(CC) MANOR/VILLAGE',\n",
    " 'STYLE:(CC) TWO UNIT', 'STYLE:(SF) FOUR OR MORE LEVEL SPLIT', 'STYLE:(SF) MODIFIED TWO STORY', 'STYLE:(SF) MORE THAN TWO STORIES', 'STYLE:(SF) ONE 1/2 STORIES', 'STYLE:(SF) ONE STORY',\n",
    " 'STYLE:(SF) OTHER', 'STYLE:(SF) SPLIT ENTRY (BI-LEVEL)', 'STYLE:(SF) THREE LEVEL SPLIT', 'STYLE:(SF) TWO STORIES', 'STYLE:(TH) DETACHED', 'STYLE:(TH) QUAD/4 CORNERS', 'STYLE:(TH) SIDE X SIDE', 'STYLE:(TW) TWIN HOME',\n",
    " 'ASSUMABLEMORTGAGE:INFORMATION COMING', 'ASSUMABLEMORTGAGE:NOT ASSUMABLE', 'ASSUMABLEMORTGAGE:YES W/ QUALIFYING', 'ASSUMABLEMORTGAGE:YES W/NO QUALIFYING', 'ASSESSMENTPENDING:NO', 'ASSESSMENTPENDING:UNKNOWN',\n",
    " 'ASSESSMENTPENDING:YES']"
   ]
  },
  {
   "cell_type": "code",
   "execution_count": 104,
   "metadata": {},
   "outputs": [
    {
     "data": {
      "text/plain": [
       "206"
      ]
     },
     "execution_count": 104,
     "metadata": {},
     "output_type": "execute_result"
    }
   ],
   "source": [
    "len(binary_cols)"
   ]
  },
  {
   "cell_type": "code",
   "execution_count": 106,
   "metadata": {},
   "outputs": [
    {
     "name": "stdout",
     "output_type": "stream",
     "text": [
      "Rows: 4946 Columns: 89\n",
      "Rows: 4946 Columns: 89\n"
     ]
    }
   ],
   "source": [
    "obs_threshold = 30\n",
    "cols_to_remove = list()\n",
    "# Inspect first 10 binary columns in list\n",
    "\n",
    "  \n",
    "for col in binary_cols:\n",
    "  if col in df.columns:\n",
    "      # Count the number of 1 values in the binary column\n",
    "    obs_count = df.agg({col: 'sum'}).collect()[0][0]\n",
    "  # If less than our observation threshold, remove\n",
    "    if obs_count < obs_threshold:\n",
    "      cols_to_remove.append(col)\n",
    "# Count the number of 1 values in the binary column\n",
    "    obs_count = df.agg({col: 'sum'}).collect()[0][0]\n",
    "  # If less than our observation threshold, remove\n",
    "    if obs_count < obs_threshold:\n",
    "       cols_to_remove.append(col)\n",
    "    \n",
    "# Drop columns and print starting and ending dataframe shapes\n",
    "new_df = df.drop(*cols_to_remove)\n",
    "\n",
    "print('Rows: ' + str(df.count()) + ' Columns: ' + str(len(df.columns)))\n",
    "print('Rows: ' + str(new_df.count()) + ' Columns: ' + str(len(new_df.columns)))"
   ]
  },
  {
   "cell_type": "code",
   "execution_count": 102,
   "metadata": {},
   "outputs": [
    {
     "name": "stdout",
     "output_type": "stream",
     "text": [
      "+---+-----+--------------------+----------+----------+---------------+----------------+---------------+----------+---------+---------------+-----------------+------------+--------------+----------------+---------+--------------------+------------+-------------+----------+---------+--------------------+--------------------+----------+------------------+----+--------------------+---------------+------+----------+---------+------------------+-------+----------+---------+------------------+--------------------+-----+------------------+--------------------+--------------------+---------+--------------------+----------+----------+---------+---------------------+--------------------+---------+---------+-----------+-----------------+-----+----------+--------------------+---------+----------+---------+----------+---------+----------+--------+---------------+--------------+-----------------+-----------------+-------------------+----------------------+---------------------+--------------------+-------------------+-----------------+-------------------+------------------+------------------+--------------------+--------------------+------------------+----------+------------------+----------------+---------+-----------+----------------+---------------+----+-------------------+--------------------+-----------------+\n",
      "| NO|MLSID|       streetaddress|STREETNAME|PostalCode|StateOrProvince|            City|SALESCLOSEPRICE|  LISTDATE|LISTPRICE|       LISTTYPE|OriginalListPrice|PricePerTSFT|FOUNDATIONSIZE|           FENCE|MapLetter|SchoolDistrictNumber|DAYSONMARKET|offmarketdate|FIREPLACES|RoomArea4|            roomtype|                ROOF|RoomFloor4|PotentialShortSale|PDOM|   GarageDescription|SQFTABOVEGROUND| TAXES|RoomFloor1|RoomArea1|TAXWITHASSESSMENTS|TAXYEAR|LIVINGAREA|YEARBUILT|            ZONING|               STYLE|ACRES|CoolingDescription|          APPLIANCES|      ROOMFAMILYCHAR|RoomArea3|            EXTERIOR|RoomFloor3|RoomFloor2|RoomArea2|DiningRoomDescription|            BASEMENT|BATHSFULL|BATHSHALF|BATHQUARTER|BATHSTHREEQUARTER|Class|BATHSTOTAL|            BATHDESC|RoomArea5|RoomFloor5|RoomArea6|RoomFloor6|RoomArea7|RoomFloor7|BEDROOMS|SQFTBELOWGROUND|ASSOCIATIONFEE|ASSESSMENTPENDING|ASSESSEDVALUATION|log_SalesClosePrice|percentage_scaled_days|scaled_FOUNDATIONSIZE| scaled_DAYSONMARKET|  scaled_FIREPLACES|Reflect_YearBuilt|      adj_yearbuilt|     LOT_SIZE_SQFT|         YARD_SIZE|    ASSESSED_TO_LIST|         TAX_TO_LIST|      BED_TO_BATHS|Total_SQFT|BATHS_PER_1000SQFT|List_Day_of_Week|list_year|report_year|            City|MedianHomeValue|Year|has_attached_garage|         garage_list|Listed_On_Weekend|\n",
      "+---+-----+--------------------+----------+----------+---------------+----------------+---------------+----------+---------+---------------+-----------------+------------+--------------+----------------+---------+--------------------+------------+-------------+----------+---------+--------------------+--------------------+----------+------------------+----+--------------------+---------------+------+----------+---------+------------------+-------+----------+---------+------------------+--------------------+-----+------------------+--------------------+--------------------+---------+--------------------+----------+----------+---------+---------------------+--------------------+---------+---------+-----------+-----------------+-----+----------+--------------------+---------+----------+---------+----------+---------+----------+--------+---------------+--------------+-----------------+-----------------+-------------------+----------------------+---------------------+--------------------+-------------------+-----------------+-------------------+------------------+------------------+--------------------+--------------------+------------------+----------+------------------+----------------+---------+-----------+----------------+---------------+----+-------------------+--------------------+-----------------+\n",
      "|  1| RMLS|11511 Stillwater ...|Stillwater|     55042|             MN|LELM - Lake Elmo|         143000|2017-07-15|   139900|Exclusive Right|           139900|    145.9184|         980.0|           Other|       C4|    834 - Stillwater|        10.0|   2017-07-30|       0.0|  12 x  9|Living Room, Dini...|                null|      Main|                No|10.0|     Attached Garage|          980.0|1858.0|      Main|  16 x 13|            1858.0| 2017.0|     980.0|   1950.0|Residential-Single|      (SF) One Story| 1.28|           Central|Range, Dishwasher...|                null|     null|               Vinyl|      null|      Main|   9 x  7|       Eat In Kitchen|                Full|      1.0|      1.0|        0.0|              0.0|   SF|       2.0|Main Floor 3/4 Ba...|  13 x 11|      Main|  10 x 10|      Main|     null|      null|     3.0|            0.0|           0.0|          Unknown|              0.0| 11.870599909242044|                   0.0|  0.25824320759694014|0.044444444444444446|                0.0|             69.0|0.23617733727628992|           55756.8|           54776.8|                 0.0|0.013280914939242315|               1.5|     980.0|2.0408163265306123|             7.0|     2017|       2016|LELM - Lake Elmo|         401000|2016|                  1|   [Attached Garage]|              1.0|\n",
      "|  2| RMLS|     11200 31st St N|      31st|     55042|             MN|LELM - Lake Elmo|         190000|2017-10-09|   210000|Exclusive Right|           210000|     85.2783|        1144.0|            null|       C1|    834 - Stillwater|         4.0|   2017-10-13|       0.0|    11x11|Living Room, Dini...|Asphalt Shingles,...|      Main|                No| 4.0|Attached Garage, ...|         1268.0|1640.0|      Main|    22x14|            1640.0| 2017.0|    2228.0|   1971.0|Residential-Single|(SF) Split Entry ...| 0.32|           Central|Range, Microwave,...|         Lower Level|    22x14|               Vinyl|     Lower|      Main|    11x12| Informal Dining R...|Full, Partial Fin...|      1.0|      0.0|        0.0|              2.0|   SF|       3.0|Main Floor Full B...|    15x11|      Main|    14x11|      Main|    10x11|      Main|     4.0|          960.0|           0.0|          Unknown|              0.0| 12.154779351142624|                   0.0|   0.3015035610656819|0.017777777777777778|                0.0|             48.0| 0.2583177668073288|           13939.2|           12795.2|                 0.0| 0.00780952380952381|1.3333333333333333|    2228.0|1.3464991023339317|             2.0|     2017|       2016|LELM - Lake Elmo|         401000|2016|                  1|[Attached Garage,...|              0.0|\n",
      "|  3| RMLS|8583 Stillwater B...|Stillwater|     55042|             MN|LELM - Lake Elmo|         225000|2017-06-26|   225000|Exclusive Right|           225000|    204.1742|        1102.0|            None|       E1|622 - North St Pa...|        28.0|   2017-07-24|       0.0|    14x12|Living Room, Dini...|                null|      Main|                No|28.0|     Attached Garage|         1102.0|2390.0|      Main|    20x13|            2390.0| 2016.0|    1102.0|   1949.0|Residential-Single|      (SF) One Story|0.822|            Window|Range, Microwave,...|                null|     null|        Cement Board|      null|      Main|    18x11| Informal Dining Room|Full, Crawl Space...|      1.0|      0.0|        0.0|              0.0|   SF|       1.0|Main Floor Full Bath|    12x12|      Main|    12x12|      Main|     null|      null|     2.0|            0.0|           0.0|               No|              0.0| 12.323855681186558|                   0.0|  0.29042469005539434| 0.12444444444444444|                0.0|             70.0|0.23537745555238682|          35806.32|          34704.32|                 0.0|0.010622222222222222|               2.0|    1102.0|0.9074410163339383|             2.0|     2017|       2016|LELM - Lake Elmo|         401000|2016|                  1|   [Attached Garage]|              0.0|\n",
      "|  4| RMLS|      9350 31st St N|      31st|     55042|             MN|LELM - Lake Elmo|         265000|2017-08-25|   230000|Exclusive Right|           230000|    162.3775|         959.0|            None|       A1|    834 - Stillwater|        19.0|   2017-09-13|       1.0|    12X16|Living Room, Dini...|Asphalt Shingles,...|      Main|                No|19.0|Attached Garage, ...|         1284.0|2146.0|      null|     null|            2146.0| 2017.0|    1632.0|   1960.0|Residential-Single|      (SF) One Story| 0.94|           Central|Range, Washer, Dryer|          Main Level|    25X13|              Stucco|      Main|      Main|    20X11|                 null|Full, Partial Fin...|      1.0|      1.0|        0.0|              0.0|   SF|       2.0|Main Floor Full B...|    13X11|      Main|    13X10|      Main|     null|      null|     2.0|          348.0|           0.0|          Unknown|              0.0| 12.487485104968359|                   0.0|  0.25270377209179634| 0.08444444444444445|0.14285714285714285|             59.0| 0.2452460618098304|40946.399999999994|39987.399999999994|                 0.0|0.009330434782608695|               1.0|    1632.0|1.2254901960784315|             6.0|     2017|       2016|LELM - Lake Elmo|         401000|2016|                  1|[Attached Garage,...|              1.0|\n",
      "|  5| RMLS|   2915 Inwood Ave N|    Inwood|     55042|             MN|LELM - Lake Elmo|         249900|2017-09-12|   239900|Exclusive Right|           239900|    121.7836|        1026.0|      Chain Link|       E1|622 - North St Pa...|        21.0|   2017-10-03|       1.0|    12x10|Living Room, Dini...|Asphalt Shingles,...|      Main|                No|21.0|Attached Garage, ...|         1026.0|2010.0|      Main|    22x14|            2010.0| 2017.0|    2052.0|   1978.0|Residential-Single|(SF) Split Entry ...|  0.0|           Central|Range, Exhaust Fa...|         Lower Level|    22x18|               Vinyl|     Lower|      Main|    12x10| Breakfast Area, K...|Walkout, Full, Fi...|      1.0|      0.0|        0.0|              1.0|   SF|       2.0|Main Floor Full B...|    13x11|      Main|    13x12|      Main|    14x13|     Lower|     3.0|         1026.0|           0.0|               No|              0.0| 12.428816116823043|                   0.0|    0.270377209179636| 0.09333333333333334|0.14285714285714285|             41.0|  0.269282508064391|               0.0|           -1026.0|                 0.0|0.008378491037932471|               1.5|    2052.0|0.9746588693957114|             3.0|     2017|       2016|LELM - Lake Elmo|         401000|2016|                  1|[Attached Garage,...|              0.0|\n",
      "|  6| RMLS|   3604 Layton Ave N|    Layton|     55042|             MN|LELM - Lake Elmo|         255000|2017-04-10|   239900|Exclusive Right|           239900|     182.534|        1152.0|            null|       C1|    834 - Stillwater|        17.0|   2017-04-27|       1.0|  11 x 11|Living Room, Dini...|Asphalt Shingles,...|      Main|                No|17.0|Attached Garage, ...|         1397.0|1491.0|      Main|  19 x 13|            1494.0| 2016.0|    1397.0|   1965.0|Residential-Single|      (SF) One Story|0.172|           Central|Range, Microwave,...|                null|     null|        Metal, Vinyl|      null|      Main|  10 x 13| Separate/Formal D...|Full, Sump Pump, ...|      2.0|      0.0|        0.0|              0.0|   SF|       2.0|Main Floor Full B...|25.5 x 11|      Main|  10 x 11|      Main| 9.5 x 10|      Main|     3.0|            0.0|           0.0|               No|              3.0| 12.449018824140563|                   0.0|  0.30361382221049854| 0.07555555555555556|0.14285714285714285|             54.0| 0.2506903984389969|           7492.32|           6340.32|1.250521050437682...|0.006215089620675281|               1.5|    1397.0|1.4316392269148175|             2.0|     2017|       2016|LELM - Lake Elmo|         401000|2016|                  1|[Attached Garage,...|              0.0|\n",
      "|  7| RMLS|9957 5th Street Ln N|5th Street|     55042|             MN|LELM - Lake Elmo|         248000|2017-06-08|   250000|Exclusive Right|           265000|     137.931|         700.0|            null|       A4|    834 - Stillwater|        32.0|   2017-07-10|       0.0|     14x9|Living Room, Dini...|Asphalt Shingles,...|      Main|                No|19.0|Attached Garage, ...|         1798.0|2165.0|      Main|    13x15|            2168.0| 2017.0|    1798.0|   2015.0|Residential-Single|    (TH) Side x Side| 0.05|           Central|Range, Microwave,...|                Loft|     null|Shakes, Metal, Vi...|      null|      Main|    11x13| Informal Dining R...|                Slab|      1.0|      1.0|        0.0|              1.0|   SF|       3.0|Main Floor 1/2 Ba...|  13x19.6|     Upper|  11x13.6|     Upper|  11x13.6|     Upper|     3.0|            0.0|         200.0|              Yes|              3.0| 12.421184025147118|                   0.0|  0.18438406752835662| 0.14222222222222222|                0.0|              4.0| 0.7213475204444817|            2178.0|            1478.0|              1.2E-5|             0.00866|               1.0|    1798.0| 1.668520578420467|             5.0|     2017|       2016|LELM - Lake Elmo|         401000|2016|                  1|[Attached Garage,...|              0.0|\n",
      "|  8| RMLS|9934 5th Street Ln N|5th Street|     55042|             MN|LELM - Lake Elmo|         245000|2017-11-05|   254990|Exclusive Right|           273417|    141.3733|        1088.0|         Partial|       A4|    834 - Stillwater|         5.0|   2017-11-10|       0.0|   12 x 8|Living Room, Dini...|    Asphalt Shingles|      Main|                No| 1.0|     Attached Garage|         1733.0|   0.0|      Main|  12 x 13|               0.0| 2017.0|    1733.0|   2017.0|Residential-Single| (TH) Quad/4 Corners| 0.05|           Central|Range, Microwave,...|Main Level, Famil...|     null|               Vinyl|      null|      Main|  12 x 10| Informal Dining R...|                None|      2.0|      1.0|        0.0|              0.0|   SF|       3.0|Main Floor 1/2 Ba...|  12 x 11|     Upper|  11 x 13|     Upper|  11 x 13|     Upper|     3.0|            0.0|         200.0|               No|              0.0| 12.409013489526863|                   0.0|   0.2867317330519652|0.022222222222222223|                0.0|              2.0| 1.4426950408889634|            2178.0|            1090.0|                 0.0|                 0.0|               1.0|    1733.0|1.7311021350259663|             1.0|     2017|       2016|LELM - Lake Elmo|         401000|2016|                  1|   [Attached Garage]|              0.0|\n",
      "|  9| RMLS|9926 5th Street Ln N|5th Street|     55042|             MN|LELM - Lake Elmo|         254990|2017-10-12|   254990|Exclusive Right|           273152|    147.1379|        1088.0|         Partial|       E1|    834 - Stillwater|        23.0|   2017-11-11|       0.0|   12 x 8|Living Room, Dini...|    Asphalt Shingles|      Main|                No| 5.0|     Attached Garage|         1733.0|   0.0|      Main|  12 x 13|               0.0| 2017.0|    1733.0|   2017.0|Residential-Single| (TH) Quad/4 Corners| 0.05|           Central|Range, Microwave,...|                null|     null|               Vinyl|      null|      Main|  12 x 10| Informal Dining R...|                None|      1.0|      1.0|        0.0|              1.0|   SF|       3.0|Main Floor 1/2 Ba...|  12 x 11|     Upper|  11 x 13|     Upper|  11 x 13|     Upper|     3.0|            0.0|         200.0|               No|              0.0| 12.448979607685333|                   0.0|   0.2867317330519652| 0.10222222222222223|                0.0|              2.0| 1.4426950408889634|            2178.0|            1090.0|                 0.0|                 0.0|               1.0|    1733.0|1.7311021350259663|             5.0|     2017|       2016|LELM - Lake Elmo|         401000|2016|                  1|   [Attached Garage]|              0.0|\n",
      "| 10| RMLS|9928 5th Street Ln N|5th Street|     55042|             MN|LELM - Lake Elmo|         250000|2017-09-02|   255990|Exclusive Right|           273482|    144.2585|        1088.0|Privacy, Partial|       A4|    834 - Stillwater|        73.0|   2017-11-20|       0.0|   12 x 8|Living Room, Dini...|    Asphalt Shingles|      Main|                No|11.0|     Attached Garage|         1733.0|   0.0|      Main|  12 x 13|               0.0| 2017.0|    1733.0|   2017.0|Residential-Single| (TH) Quad/4 Corners| 0.05|           Central|Range, Microwave,...|Main Level, Famil...|     null|               Vinyl|      null|      Main|  12 x 10| Informal Dining R...|                None|      1.0|      1.0|        0.0|              1.0|   SF|       3.0|Main Floor 1/2 Ba...|  12 x 11|     Upper|  11 x 13|     Upper|  11 x 13|     Upper|     3.0|            0.0|         200.0|               No|              0.0| 12.429216196844383|                   0.0|   0.2867317330519652|  0.3244444444444444|                0.0|              2.0| 1.4426950408889634|            2178.0|            1090.0|                 0.0|                 0.0|               1.0|    1733.0|1.7311021350259663|             7.0|     2017|       2016|LELM - Lake Elmo|         401000|2016|                  1|   [Attached Garage]|              1.0|\n",
      "| 11| RMLS|9902 5th Street Ln N|5th Street|     55042|             MN|LELM - Lake Elmo|         254500|2017-05-19|   259990|Exclusive Right|           267117|    146.8552|        1088.0|         Partial|       A4|    834 - Stillwater|        80.0|   2017-08-07|       0.0|   12 x 8|Living Room, Dini...|    Asphalt Shingles|      Main|                No| 7.0|     Attached Garage|         1733.0|   0.0|      Main|  12 x 13|               0.0| 2017.0|    1733.0|   2017.0|Residential-Single| (TH) Quad/4 Corners| 0.05|           Central|Range, Microwave,...|Main Level, Famil...|     null|               Vinyl|      null|      Main|  12 x 10| Informal Dining R...|                None|      1.0|      1.0|        0.0|              1.0|   SF|       3.0|Main Floor 1/2 Ba...|  12 x 11|     Upper|  11 x 13|     Upper|  11 x 13|     Upper|     3.0|            0.0|         200.0|               No|              0.0| 12.447056114972714|                   0.0|   0.2867317330519652| 0.35555555555555557|                0.0|              2.0| 1.4426950408889634|            2178.0|            1090.0|                 0.0|                 0.0|               1.0|    1733.0|1.7311021350259663|             6.0|     2017|       2016|LELM - Lake Elmo|         401000|2016|                  1|   [Attached Garage]|              1.0|\n",
      "| 12| RMLS|9904 5th Street Ln N|5th Street|     55042|             MN|LELM - Lake Elmo|         253000|2017-05-11|   259990|Exclusive Right|           268487|    145.9896|        1088.0|         Partial|       A4|    834 - Stillwater|        79.0|   2017-07-29|       0.0|   12 x 8|Living Room, Dini...|    Asphalt Shingles|      Main|                No|58.0|     Attached Garage|         1733.0|   0.0|      Main|  12 x 13|               0.0| 2017.0|    1733.0|   2017.0|Residential-Single| (TH) Quad/4 Corners| 0.05|           Central|Range, Microwave,...|                null|     null|               Vinyl|      null|      Main|  12 x 10| Informal Dining R...|                None|      1.0|      1.0|        0.0|              1.0|   SF|       3.0|Main Floor 1/2 Ba...|  12 x 11|     Upper|  11 x 13|     Upper|  11 x 13|     Upper|     3.0|            0.0|         200.0|               No|              0.0| 12.441144767709657|                   0.0|   0.2867317330519652|  0.3511111111111111|                0.0|              2.0| 1.4426950408889634|            2178.0|            1090.0|                 0.0|                 0.0|               1.0|    1733.0|1.7311021350259663|             5.0|     2017|       2016|LELM - Lake Elmo|         401000|2016|                  1|   [Attached Garage]|              0.0|\n",
      "| 13| RMLS|9894 5th Street Ln N|5th Street|     55042|             MN|LELM - Lake Elmo|         257500|2017-03-12|   259990|Exclusive Right|           268622|    148.5863|        1088.0|         Partial|       A4|    834 - Stillwater|        12.0|   2017-03-24|       0.0|   12 x 8|Living Room, Dini...|    Asphalt Shingles|      Main|                No| 8.0|     Attached Garage|         1733.0|   0.0|      Main|  12 x 13|               0.0| 2017.0|    1733.0|   2017.0|Residential-Single| (TH) Quad/4 Corners| 0.05|           Central|Range, Microwave,...|Main Level, Famil...|     null|               Vinyl|      null|      Main|  12 x 10| Informal Dining R...|                None|      2.0|      1.0|        0.0|              0.0|   SF|       3.0|Main Floor 1/2 Ba...|  12 x 11|     Upper|  11 x 13|     Upper|  11 x 13|     Upper|     3.0|            0.0|         190.0|               No|              0.0| 12.458774999085929|                   0.0|   0.2867317330519652| 0.05333333333333334|                0.0|              2.0| 1.4426950408889634|            2178.0|            1090.0|                 0.0|                 0.0|               1.0|    1733.0|1.7311021350259663|             1.0|     2017|       2016|LELM - Lake Elmo|         401000|2016|                  1|   [Attached Garage]|              0.0|\n",
      "| 14| RMLS|    9892 5th St Ln N|    5th St|     55042|             MN|LELM - Lake Elmo|         272990|2017-03-06|   269990|Exclusive Right|           279442|     154.844|        1088.0|Privacy, Partial|       A4|    834 - Stillwater|         1.0|   2017-06-11|       0.0|     12X8|Living Room, Dini...|Asphalt Shingles,...|      Main|                No| 1.0|Attached Garage, ...|         1763.0|   0.0|      Main|    12X13|               0.0| 2016.0|    1763.0|   2016.0|Residential-Single| (TH) Quad/4 Corners| 0.05|           Central|Range, Microwave,...|Main Level, Great...|     null|Shakes, Metal, Vi...|      null|      Main|     3X10| Informal Dining R...|                None|      2.0|      1.0|        0.0|              0.0|   SF|       3.0|Main Floor 1/2 Ba...|    12X11|     Upper|    11X13|     Upper|    11X13|     Upper|     3.0|            0.0|         200.0|               No|              0.0|  12.51719044345957|                   0.0|   0.2867317330519652|0.004444444444444...|                0.0|              3.0| 0.9102392266268375|            2178.0|            1090.0|                 0.0|                 0.0|               1.0|    1763.0|1.7016449234259785|             2.0|     2017|       2016|LELM - Lake Elmo|         401000|2016|                  1|[Attached Garage,...|              0.0|\n",
      "| 15| RMLS|9295 Lake Jane Trl N| Lake Jane|     55042|             MN|LELM - Lake Elmo|         290000|2017-05-18|   270000|Exclusive Right|           270000|    157.2668|        1844.0|            null|       A4|    834 - Stillwater|        18.0|   2017-06-05|       1.0|    13x12|Living Room, Dini...|    Asphalt Shingles|      Main|                No|18.0|Attached Garage, ...|         1844.0|2689.0|      Main|    21x19|            2692.0| 2017.0|    1844.0|   1977.0|Residential-Single|      (SF) One Story|1.661|           Central|Cooktop, Wall Ove...|                null|     null|  Metal, Brick/Stone|      null|      Main|    12x10| Informal Dining R...|Full, Concrete Bl...|      0.0|      0.0|        0.0|              3.0|   SF|       3.0|Main Floor 3/4 Ba...|    14x11|      Main|    12x11|      Main|     null|      null|     2.0|            0.0|           0.0|              Yes|              3.0| 12.577636201962656|                   0.0|   0.4861514112371406|                0.08|0.14285714285714285|             42.0|  0.267546386419054|          72353.16|          70509.16|1.111111111111111...| 0.00995925925925926|0.6666666666666666|    1844.0|1.6268980477223427|             5.0|     2017|       2016|LELM - Lake Elmo|         401000|2016|                  1|[Attached Garage,...|              0.0|\n",
      "| 16| RMLS|    9930 5th St Ln N|    5th St|     55042|             MN|LELM - Lake Elmo|         274000|2017-10-15|   274000|Exclusive Right|           274000|    155.4169|        1088.0|            null|       A4|    834 - Stillwater|         2.0|   2017-10-17|       0.0|     12X8|Living Room, Dini...|Asphalt Shingles,...|      Main|                No| 2.0|Attached Garage, ...|         1763.0|   0.0|      Main|    12X13|               0.0| 2017.0|    1763.0|   2017.0|Residential-Single| (TH) Quad/4 Corners| 0.05|           Central|Range, Microwave,...|                Loft|     null|Shakes, Metal, Vi...|      null|      Main|     3X10| Informal Dining R...|                None|      1.0|      1.0|        0.0|              1.0|   SF|       3.0|Main Floor 1/2 Ba...|    12X11|     Upper|    11X13|     Upper|    11X13|     Upper|     3.0|            0.0|         200.0|               No|              0.0| 12.520883385370206|                   0.0|   0.2867317330519652|0.008888888888888889|                0.0|              2.0| 1.4426950408889634|            2178.0|            1090.0|                 0.0|                 0.0|               1.0|    1763.0|1.7016449234259785|             1.0|     2017|       2016|LELM - Lake Elmo|         401000|2016|                  1|[Attached Garage,...|              0.0|\n",
      "| 17| RMLS|    9898 5th St Ln N|    5th St|     55042|             MN|LELM - Lake Elmo|         274990|2017-09-10|   274990|Exclusive Right|           289357|    155.9784|        1088.0|            null|       A4|    834 - Stillwater|        12.0|   2017-09-22|       0.0|     12X8|Living Room, Dini...|Asphalt Shingles,...|      Main|                No| 8.0|Attached Garage, ...|         1763.0|   0.0|      Main|    12X13|               0.0| 2017.0|    1763.0|   2017.0|Residential-Single| (TH) Quad/4 Corners| 0.05|           Central|Range, Microwave,...|                Loft|     null|Shakes, Metal, Vi...|      null|      Main|     3X10| Informal Dining R...|                None|      1.0|      1.0|        0.0|              1.0|   SF|       3.0|Main Floor 1/2 Ba...|    12X11|     Upper|    11X13|     Upper|    11X13|     Upper|     3.0|            0.0|         200.0|               No|              0.0|  12.52449001235117|                   0.0|   0.2867317330519652| 0.05333333333333334|                0.0|              2.0| 1.4426950408889634|            2178.0|            1090.0|                 0.0|                 0.0|               1.0|    1763.0|1.7016449234259785|             1.0|     2017|       2016|LELM - Lake Elmo|         401000|2016|                  1|[Attached Garage,...|              0.0|\n",
      "| 18| RMLS|    9924 5th St Ln N|    5th St|     55042|             MN|LELM - Lake Elmo|         274000|2017-09-01|   284990|Exclusive Right|           288342|    155.4169|        1088.0|Privacy, Partial|       A4|    834 - Stillwater|        45.0|   2017-10-16|       0.0|     12X8|Living Room, Dini...|Asphalt Shingles,...|      Main|                No|24.0|Attached Garage, ...|         1763.0|   0.0|      Main|    12X13|               0.0| 2017.0|    1763.0|   2017.0|Residential-Single| (TH) Quad/4 Corners| 0.05|           Central|Range, Microwave,...|Main Level, Great...|     null|Shakes, Metal, Vi...|      null|      Main|     3X10| Informal Dining R...|                None|      2.0|      1.0|        0.0|              0.0|   SF|       3.0|Main Floor 1/2 Ba...|    12X11|     Upper|    11X13|     Upper|    11X13|     Upper|     3.0|            0.0|         200.0|               No|              0.0| 12.520883385370206|                   0.0|   0.2867317330519652|                 0.2|                0.0|              2.0| 1.4426950408889634|            2178.0|            1090.0|                 0.0|                 0.0|               1.0|    1763.0|1.7016449234259785|             6.0|     2017|       2016|LELM - Lake Elmo|         401000|2016|                  1|[Attached Garage,...|              1.0|\n",
      "| 19| RMLS|    9906 5th St Ln N|    5th St|     55042|             MN|LELM - Lake Elmo|         282000|2017-05-06|   287452|Exclusive Right|           287452|    159.9546|        1088.0|            null|       A4|    834 - Stillwater|        31.0|   2017-06-06|       0.0|     12X8|Living Room, Dini...|Asphalt Shingles,...|      Main|                No|31.0|Attached Garage, ...|         1763.0|   0.0|      Main|    12X13|               0.0| 2017.0|    1763.0|   2017.0|Residential-Single| (TH) Quad/4 Corners| 0.05|           Central|Range, Microwave,...|                Loft|     null|Shakes, Metal, Vi...|      null|      Main|     3X10| Informal Dining R...|                None|      1.0|      1.0|        0.0|              1.0|   SF|       3.0|Main Floor 1/2 Ba...|    12X11|     Upper|    11X13|     Upper|    11X13|     Upper|     3.0|            0.0|         200.0|               No|              0.0|  12.54966234992025|                   0.0|   0.2867317330519652| 0.13777777777777778|                0.0|              2.0| 1.4426950408889634|            2178.0|            1090.0|                 0.0|                 0.0|               1.0|    1763.0|1.7016449234259785|             7.0|     2017|       2016|LELM - Lake Elmo|         401000|2016|                  1|[Attached Garage,...|              1.0|\n",
      "| 20| RMLS|    9938 5th St Ln N|    5th St|     55042|             MN|LELM - Lake Elmo|         280617|2017-08-11|   288492|Exclusive Right|           288492|    159.1702|        1088.0|            null|       A4|    834 - Stillwater|        16.0|   2017-08-27|       0.0|     12X8|Living Room, Dini...|Asphalt Shingles,...|      Main|                No|16.0|Attached Garage, ...|         1763.0|   0.0|      Main|    12X13|               0.0| 2017.0|    1763.0|   2017.0|Residential-Single| (TH) Quad/4 Corners| 0.05|           Central|Range, Microwave,...|                Loft|     null|Shakes, Metal, Vi...|      null|      Main|     3X10| Informal Dining R...|                None|      1.0|      1.0|        0.0|              1.0|   SF|       3.0|Main Floor 1/2 Ba...|    12X11|     Upper|    11X13|     Upper|    11X13|     Upper|     3.0|            0.0|         200.0|               No|              0.0| 12.544746029277201|                   0.0|   0.2867317330519652| 0.07111111111111111|                0.0|              2.0| 1.4426950408889634|            2178.0|            1090.0|                 0.0|                 0.0|               1.0|    1763.0|1.7016449234259785|             6.0|     2017|       2016|LELM - Lake Elmo|         401000|2016|                  1|[Attached Garage,...|              1.0|\n",
      "+---+-----+--------------------+----------+----------+---------------+----------------+---------------+----------+---------+---------------+-----------------+------------+--------------+----------------+---------+--------------------+------------+-------------+----------+---------+--------------------+--------------------+----------+------------------+----+--------------------+---------------+------+----------+---------+------------------+-------+----------+---------+------------------+--------------------+-----+------------------+--------------------+--------------------+---------+--------------------+----------+----------+---------+---------------------+--------------------+---------+---------+-----------+-----------------+-----+----------+--------------------+---------+----------+---------+----------+---------+----------+--------+---------------+--------------+-----------------+-----------------+-------------------+----------------------+---------------------+--------------------+-------------------+-----------------+-------------------+------------------+------------------+--------------------+--------------------+------------------+----------+------------------+----------------+---------+-----------+----------------+---------------+----+-------------------+--------------------+-----------------+\n",
      "only showing top 20 rows\n",
      "\n"
     ]
    }
   ],
   "source": [
    "df.show()"
   ]
  },
  {
   "attachments": {},
   "cell_type": "markdown",
   "metadata": {},
   "source": [
    "Naively Handling Missing and Categorical Values\n",
    "\n",
    "Random Forest Regression is robust enough to allow us to ignore many of the more time consuming and tedious data preparation steps. While some implementations of Random Forest handle missing and categorical values automatically, PySpark's does not. The math remains the same however so we can get away with some naive value replacements.\n",
    "\n",
    "For missing values since our data is strictly positive, we will assign -1. The random forest will split on this value and handle it differently than the rest of the values in the same feature.\n",
    "\n",
    "For categorical values, we can just map the text values to numbers and again the random forest will appropriately handle them by splitting on them. In this example, we will dust off pipelines from Introduction to PySpark to write our code more concisely. Please note that the exercise will start by displaying the dtypes of the columns in the dataframe, compare them to the results at the end of this exercise.\n",
    "\n",
    "NOTE: Pipeline and StringIndexer are already imported for you. The list categorical_cols is also available."
   ]
  },
  {
   "cell_type": "code",
   "execution_count": 107,
   "metadata": {},
   "outputs": [],
   "source": [
    "from pyspark.ml.pipeline import Pipeline\n",
    "from pyspark.ml.feature import StringIndexer, OneHotEncoder"
   ]
  },
  {
   "cell_type": "code",
   "execution_count": 108,
   "metadata": {},
   "outputs": [],
   "source": [
    "categorical_cols=['CITY', 'LISTTYPE', 'SCHOOLDISTRICTNUMBER', 'POTENTIALSHORTSALE', 'STYLE', 'ASSUMABLEMORTGAGE', 'ASSESSMENTPENDING']"
   ]
  },
  {
   "cell_type": "code",
   "execution_count": null,
   "metadata": {},
   "outputs": [],
   "source": [
    "# Replace missing values\n",
    "df = df.fillna(-1, subset=['WALKSCORE', 'BIKESCORE'])\n",
    "\n",
    "# Create list of StringIndexers using list comprehension\n",
    "indexers = [StringIndexer(inputCol=col, outputCol=col+\"_IDX\")\\\n",
    "            .setHandleInvalid(\"keep\") for col in categorical_cols]\n",
    "# Create pipeline of indexers\n",
    "indexer_pipeline = Pipeline(stages=indexers)\n",
    "# Fit and Transform the pipeline to the original data\n",
    "df_indexed = indexer_pipeline.fit(df).transform(df)\n",
    "\n",
    "# Clean up redundant columns\n",
    "df_indexed = df_indexed.drop(*categorical_cols)\n",
    "# Inspect data transformations\n",
    "print(df_indexed.dtypes)"
   ]
  },
  {
   "attachments": {},
   "cell_type": "markdown",
   "metadata": {},
   "source": [
    "**Build a model**  \n",
    "Random forest regressor:  \n",
    "* Basic model parameters: featuresCol=\"features\", labelCol='label', predicitonCol=\"prediction\"   \n",
    "* Our model parameter values: featuresCol=\"features\", labelCol='SALESCLOSEPRICE', predictionCol=\"Prediction_Price\", seed=42"
   ]
  },
  {
   "attachments": {},
   "cell_type": "markdown",
   "metadata": {},
   "source": [
    "from pyspar.ml.regression import RandomForestRegressior  \n",
    "rf=RandomForestRegressor(featuresCol=\"features\", labelCol=\"SALESCLOSEPRICE\", predictionCol=\"Prediction_Price\", seed=42)  \n",
    "  \n",
    "\\# Train model\n",
    "mode=rf.fit(train_df)  \n",
    "  \n",
    "\\# Make predictions  \n",
    "predictions=model.transform(test_df)  \n",
    "\n",
    "\\# Inspect results  \n",
    "predictions.select(\"Prediction_Price\", \"SALESCLOSEPRICE\").show(5)    \n",
    "  \n",
    "from pyspark.ml.evaluation import RegressionEvaluator    \n",
    "evaluator=RegressionEvaluator(label=\"SALESCLOSEPRICE\", predictionCol=\"Prediction_Price\")   \n",
    "\n",
    "rmse=evaluator.evaluate(predictions, {evaluator.metricName: \"rmse\"})    \n",
    "r2= evaluator(predicitons, {evaluator.metricName: \"r2\"})             "
   ]
  },
  {
   "attachments": {},
   "cell_type": "markdown",
   "metadata": {},
   "source": [
    "Building a Regression Model\n",
    "\n",
    "One of the great things about PySpark ML module is that most algorithms can be tried and tested without changing much code. Random Forest Regression is a fairly simple ensemble model, using bagging to fit. Another tree based ensemble model is Gradient Boosted Trees which uses a different approach called boosting to fit. In this exercise let's train a GBTRegressor."
   ]
  },
  {
   "cell_type": "code",
   "execution_count": null,
   "metadata": {},
   "outputs": [],
   "source": [
    "from pyspark.ml.regression import GBTRegressor\n",
    "\n",
    "# Train a Gradient Boosted Trees (GBT) model.\n",
    "gbt = GBTRegressor(featuresCol=\"features\",\n",
    "                           labelCol=\"SALESCLOSEPRICE\",\n",
    "                           predictionCol=\"Prediction_Price\",\n",
    "                           seed=42\n",
    "                           )\n",
    "\n",
    "# Train model.\n",
    "model = gbt.fit(train_df)"
   ]
  },
  {
   "attachments": {},
   "cell_type": "markdown",
   "metadata": {},
   "source": [
    "Evaluating & Comparing Algorithms\n",
    "\n",
    "Now that we've created a new model with GBTRegressor its time to compare it against our baseline of RandomForestRegressor. To do this we will compare the predictions of both models to the actual data and calculate RMSE and R^2."
   ]
  },
  {
   "cell_type": "code",
   "execution_count": null,
   "metadata": {},
   "outputs": [],
   "source": [
    "from pyspark.ml.evaluation import RegressionEvaluator\n",
    "\n",
    "# Select columns to compute test error\n",
    "evaluator = RegressionEvaluator(labelCol='SALESCLOSEPRICE', \n",
    "                                  predictionCol='Prediction_Price')\n",
    "# Dictionary of model predictions to loop over\n",
    "models = {'Gradient Boosted Trees': gbt_predictions, 'Random Forest Regression': rfr_predictions}\n",
    "for key, preds in models.items():\n",
    "    # Create evaluation metrics\n",
    "    rmse = evaluator.evaluate(preds, {evaluator.metricName: 'rmse'})\n",
    "    r2 = evaluator.evaluate(preds, {evaluator.metricName: 'r2'})\n",
    "\n",
    "    # Print Model Metrics\n",
    "    print(key + ' RMSE: ' + str(rmse))\n",
    "    print(key + ' R^2: ' + str(r2))"
   ]
  },
  {
   "attachments": {},
   "cell_type": "markdown",
   "metadata": {},
   "source": [
    "**Intepreting, Saving, & Loading Models**  \n",
    "import pandas as pd    \n",
    "fi_df= pd.DataFrame(model.featureImportances.toArray(), columns=['importance'])  \n",
    "fi_df['feature'] = pd.Series(feature_cols)  \n",
    "fi_df.sort_values(by=['importance'], ascending=False, inplace=True)  \n",
    "  \n",
    "\\# Saving & Load model  \n",
    "model.save('rfr_real_estate_model')  \n",
    "  \n",
    "from pyspark.ml.regression import RandomForestRegressionModel   \n",
    "\\# Load model from   \n",
    "model2=RandomForestRegressionModel.load('rfr_real_estate_model')    "
   ]
  },
  {
   "attachments": {},
   "cell_type": "markdown",
   "metadata": {},
   "source": [
    "Interpreting Results\n",
    "\n",
    "It is almost always important to know which features are influencing your prediction the most. Perhaps its counterintuitive and that's an insight? Perhaps a hand full of features account for most of the accuracy of your model and you don't need to perform time acquiring or massaging other features.\n",
    "\n",
    "In this example we will be looking at a model that has been trained without any LISTPRICE information. With that gone, what influences the price the most?"
   ]
  },
  {
   "cell_type": "code",
   "execution_count": null,
   "metadata": {},
   "outputs": [],
   "source": [
    "# Convert feature importances to a pandas column\n",
    "fi_df = pd.DataFrame(importances, columns=[\"importance\"])\n",
    "\n",
    "# Convert list of feature names to pandas column\n",
    "fi_df['feature'] = pd.Series(feature_cols)\n",
    "\n",
    "# Sort the data based on feature importance\n",
    "fi_df.sort_values(by=[\"importance\"], ascending=False, inplace=True)\n",
    "\n",
    "# Inspect Results\n",
    "fi_df.head(10)"
   ]
  },
  {
   "cell_type": "code",
   "execution_count": null,
   "metadata": {},
   "outputs": [],
   "source": [
    "from pyspark.ml.regression import RandomForestRegressionModel\n",
    "\n",
    "# Save model\n",
    "model.save('rfr_no_listprice')\n",
    "\n",
    "# Load model\n",
    "loaded_model = RandomForestRegressionModel.load('rfr_no_listprice')"
   ]
  }
 ],
 "metadata": {
  "kernelspec": {
   "display_name": "base",
   "language": "python",
   "name": "python3"
  },
  "language_info": {
   "codemirror_mode": {
    "name": "ipython",
    "version": 3
   },
   "file_extension": ".py",
   "mimetype": "text/x-python",
   "name": "python",
   "nbconvert_exporter": "python",
   "pygments_lexer": "ipython3",
   "version": "3.9.12"
  },
  "orig_nbformat": 4
 },
 "nbformat": 4,
 "nbformat_minor": 2
}
