{
 "cells": [
  {
   "attachments": {},
   "cell_type": "markdown",
   "id": "2cffd981",
   "metadata": {},
   "source": [
    "# Big Data Fundamentals with PySpark - DataCamp\n",
    "### Notes by César Muro Cabral\n",
    "\n"
   ]
  },
  {
   "cell_type": "markdown",
   "id": "2315f5ba",
   "metadata": {},
   "source": [
    "## Introduction to Big Data analysis with Spark  \n",
    "  \n",
    "What is Big Data?  \n",
    "Big data is a term to the study and application of data sets that are too complex for traditional data-processing software.  \n",
    "  \n",
    "The # V's of Big Data  \n",
    "* Volume, Variety, and Velocity  \n",
    "* Volume: Size of the data\n",
    "* Variety: Different sources and formats\n",
    "* Velocity: Speed of the data.  \n",
    "  \n",
    "Big data concepts and terminology:  \n",
    "* Clustered computing: Collection of resources of multiple machines\n",
    "* Parallel computing: Simultaneous computation  \n",
    "* Distributed computing: Collection of nodes (networked computers) that run in parallel. \n",
    "* Batch processing: Breaking the job into small pieces and running them on individual machines.\n",
    "* Real-time processing: Inmediate processing of data.  \n",
    "  \n",
    "Big data processing systems:  \n",
    "* Hadoop/MapReduce: Scalable and fault tolerant framework written in Java.  \n",
    "   - Open source\n",
    "   - Batch processing\n",
    "* Apache Spark: General purpose and lightning fast cluster computing system.  \n",
    "   - Open source\n",
    "   - Both batch and real-time data processing\n",
    "     \n",
    "Features of Apache Spark Framework:  \n",
    "* Distributed cluster computing framework.  \n",
    "* Efficient in-memory computation for large data sets.  \n",
    "* Lightnin fast data processing framework\n",
    "* Provides support for java, Scala, Python, R, and SQL.  \n",
    "  \n",
    "Sparks modes of deployment:  \n",
    "* Local mode: Single machine such as my laptop. it is convenient for testing, debugging and demonstration purposes.  \n",
    "* Cluster mode: Set of pre-defined machines. Good for production\n",
    "* Workflow: Local -> clusters. No code change is necessary.        \n",
    "  "
   ]
  },
  {
   "cell_type": "markdown",
   "id": "dd1b21a5",
   "metadata": {},
   "source": [
    "**PySpark: Spark with Python**  \n",
    "Apache Spark provides high-level APIs in Scala, Java, Python, and R.  \n",
    "* Apache Spark is written in Scala\n",
    "* To support Python with Spark, Apache Spark Community released PySpark\n",
    "* Similar computation speed and power as Scala\n",
    "* PySpark are similar to pandas and scikit-learn\n",
    "  \n",
    "Spark shell:  \n",
    "* Interactive environment for running Spark jobs\n",
    "* Helpful for fast interactive prototyping\n",
    "* Spark's shells allow interacting with data on disk or in memory\n",
    "* Three different Spark shells: For Scala, Python, and R\n",
    "    \n",
    "PySpark shell:  \n",
    "* PySpark shell is the Python-based command line tool\n",
    "* PySpark shell allows data scientists interface with Spark data structures\n",
    "* PySpark shell sipport connecting to cluster\n",
    "  \n",
    "Understanding SparkContext:\n",
    "* SparkContext is an entry point into the world of Spark\n",
    "* An entry point is a way of connecting to Spark cluster  \n",
    "* An entry point is like a key to house\n",
    "* PySpark has a default SparkContext called sc.  \n",
    "  - sc.version\n",
    "  - sc.pythonVer\n",
    "  - sc.master  \n",
    "  \n",
    " Loading data in PySpark\n",
    " * SparkContext's parallelize() method\n",
    " rdd=sc.parallelize([1,2,3,4,5])  \n",
    " * SparkContext's textfile() method\n",
    "rdd2=sc.textFile(\"text.txt\") "
   ]
  },
  {
   "cell_type": "markdown",
   "id": "218dda57",
   "metadata": {},
   "source": [
    "Understanding SparkContext\n",
    "\n",
    "A SparkContext represents the entry point to Spark functionality. It's like a key to your car. When we run any Spark application, a driver program starts, which has the main function and your SparkContext gets initiated here. PySpark automatically creates a SparkContext for you in the PySpark shell (so you don't have to create it by yourself) and is exposed via a variable sc.\n",
    "\n",
    "In this simple exercise, you'll find out the attributes of the SparkContext in your PySpark shell which you'll be using for the rest of the course."
   ]
  },
  {
   "cell_type": "code",
   "execution_count": 1,
   "id": "85f17670",
   "metadata": {},
   "outputs": [],
   "source": [
    "import os\n",
    "import sys\n",
    "\n",
    "os.environ['PYSPARK_PYTHON'] = sys.executable\n",
    "os.environ['PYSPARK_DRIVER_PYTHON'] = sys.executable"
   ]
  },
  {
   "cell_type": "code",
   "execution_count": 2,
   "id": "5d5af88d",
   "metadata": {},
   "outputs": [
    {
     "data": {
      "text/plain": [
       "'C:\\\\spark-3.3.2-bin-hadoop2'"
      ]
     },
     "execution_count": 2,
     "metadata": {},
     "output_type": "execute_result"
    }
   ],
   "source": [
    "import findspark\n",
    "findspark.init()\n",
    "findspark.find()"
   ]
  },
  {
   "cell_type": "code",
   "execution_count": 1,
   "id": "649c28d1",
   "metadata": {},
   "outputs": [],
   "source": [
    "import pyspark"
   ]
  },
  {
   "cell_type": "code",
   "execution_count": 3,
   "id": "391d2151",
   "metadata": {},
   "outputs": [],
   "source": [
    "from pyspark.sql import SparkSession\n",
    "spark = SparkSession.builder.getOrCreate()"
   ]
  },
  {
   "cell_type": "code",
   "execution_count": 4,
   "id": "e0c8915c",
   "metadata": {},
   "outputs": [
    {
     "name": "stdout",
     "output_type": "stream",
     "text": [
      "PySpark Version :3.3.2\n",
      "Python version of Spark Context Version :3.9\n",
      "The master of Spark Context in the PySpark shell is :local[*]\n"
     ]
    }
   ],
   "source": [
    "print('PySpark Version :'+spark.version)\n",
    "print('Python version of Spark Context Version :'+spark.sparkContext.pythonVer)\n",
    "print('The master of Spark Context in the PySpark shell is :'+spark.sparkContext.master)"
   ]
  },
  {
   "cell_type": "code",
   "execution_count": 5,
   "id": "62b0d4af",
   "metadata": {},
   "outputs": [],
   "source": [
    "# Create a Python list of numbers from 1 to 100 \n",
    "numb = range(1,100)\n",
    "\n",
    "# Load the list into PySpark  \n",
    "spark_data = spark.sparkContext.parallelize(numb)"
   ]
  },
  {
   "cell_type": "markdown",
   "id": "a519357c",
   "metadata": {},
   "source": [
    "Loading data in PySpark shell\n",
    "\n",
    "In PySpark, we express our computation through operations on distributed collections that are automatically parallelized across the cluster. In the previous exercise, you have seen an example of loading a list as parallelized collections and in this exercise, you'll load the data from a local file in PySpark shell.\n",
    "\n",
    "Remember you already have a SparkContext sc and file_path variable (which is the path to the README.md file) already available in your workspace."
   ]
  },
  {
   "cell_type": "markdown",
   "id": "70b2c2cf",
   "metadata": {},
   "source": [
    "**Review of functional programming in Python**  \n",
    "Anonymus function are functions that are not bound to a name at runtime, using construct called the lambda, and are well integrated into Python. Quite efficent with map() and filter().    \n",
    "  \n",
    "Syntax:    \n",
    "lambda arguments: expresion    \n",
    "  \n",
    "* No return statement for lambda \n",
    "* Can put lambda function anywhere  \n",
    "* Most of timer, we use lambdas with built-in function like map and filter  \n",
    "* map() function takes a function and a list and returns a new list which contains items returned by that function for each item.  \n",
    "* map(function,list)  \n",
    "* E.g. items=[1,2,3,4], list(map(lambda x: x+2,items))  \n",
    "* filter() function takes a function and a list and returns a new list for which the function evaluates as true. filter(function,list)  \n",
    "* E.g. items=[1,2,3,4], list(filter(lambda x: (x%2 !=0),items))"
   ]
  },
  {
   "cell_type": "markdown",
   "id": "8c1126d6",
   "metadata": {},
   "source": [
    "Use of lambda() with map()\n",
    "\n",
    "The map() function in Python returns a list of the results after applying the given function to each item of a given iterable (list, tuple etc.). The general syntax of map() function is map(fun, iter). We can also use lambda functions with map(). The general syntax of map() function with lambda() is map(lambda <argument>:<expression>, iter)"
   ]
  },
  {
   "cell_type": "code",
   "execution_count": 6,
   "id": "64b84668",
   "metadata": {},
   "outputs": [
    {
     "name": "stdout",
     "output_type": "stream",
     "text": [
      "Input list is [1, 2, 3, 4, 5, 6, 7, 8, 9, 10]\n",
      "The squared numbers are [1, 4, 9, 16, 25, 36, 49, 64, 81, 100]\n"
     ]
    }
   ],
   "source": [
    "my_list=[1, 2, 3, 4, 5, 6, 7, 8, 9, 10]  \n",
    "# Print my_list in the console\n",
    "print(\"Input list is\", my_list)\n",
    "\n",
    "# Square all numbers in my_list\n",
    "squared_list_lambda = list(map(lambda x: x**2, my_list))\n",
    "\n",
    "# Print the result of the map function\n",
    "print(\"The squared numbers are\", squared_list_lambda)"
   ]
  },
  {
   "cell_type": "markdown",
   "id": "cf170762",
   "metadata": {},
   "source": [
    "Use of lambda() with filter()\n",
    "\n",
    "Another function that is used extensively in Python is the filter() function. The filter() function in Python takes in a function and a list as arguments. The general syntax of the filter() function is filter(function, list_of_input). Similar to the map(), filter() can be used with lambda function. The general syntax of the filter() function with lambda() is filter(lambda <argument>:<expression>, list)"
   ]
  },
  {
   "cell_type": "code",
   "execution_count": 5,
   "id": "ce70dd6c",
   "metadata": {},
   "outputs": [
    {
     "name": "stdout",
     "output_type": "stream",
     "text": [
      "Input list is: [10, 21, 31, 40, 51, 60, 72, 80, 93, 101]\n",
      "Numbers divisible by 10 are: [10, 40, 60, 80]\n"
     ]
    }
   ],
   "source": [
    "my_list2=[10, 21, 31, 40, 51, 60, 72, 80, 93, 101]  \n",
    "# Print my_list2 in the console\n",
    "print(\"Input list is:\", my_list2)\n",
    "\n",
    "# Filter numbers divisible by 10\n",
    "filtered_list = list(filter(lambda x: (x%10 == 0), my_list2))\n",
    "\n",
    "# Print the numbers divisible by 10\n",
    "print(\"Numbers divisible by 10 are:\", filtered_list)"
   ]
  },
  {
   "cell_type": "markdown",
   "id": "f28571af",
   "metadata": {},
   "source": [
    "## Programming in PySpark RDD’s\n",
    "RDD's which are Spark core abstraction for working with data.  \n",
    "* Resilient distributed datasets. It is the fundamental and backbone datatype in PySpark.  \n",
    "* When Spark starts processing data, it divides the data into partitions, and distributes the data across cluster nodes, with each node containing a slice of data. \n",
    "* Resilient: Ability to withstand failures.\n",
    "* Distributed: Spanning across multiple machines. \n",
    "* Datasets: Collection of paritioned data, e.g. Arrays, Tables, etc.  \n",
    "  \n",
    "How to create RDDs?  \n",
    "* Parallelizing an existing collection of objects.\n",
    "* External datasets:  \n",
    "  - Files in HDFS\n",
    "  - Objects in Amazon S3 bucket\n",
    "  - lines in a text file\n",
    "* From existing RDDS  \n",
    "  \n",
    "Parallelized collection (parallelizing):  \n",
    "* paralellize() for creating RDDs from python lists.  \n",
    "  \n",
    "Understanding Partitioning in PySpark:  \n",
    "* A partition is a logical division of a large distributed data set.  \n",
    "* minPartitions= argument in sc.parallelize().    \n",
    "The number of partitions in an RDD can be found by using getNumPartitions().  "
   ]
  },
  {
   "cell_type": "markdown",
   "id": "65551c11",
   "metadata": {},
   "source": [
    "RDDs from Parallelized collections\n",
    "\n",
    "Resilient Distributed Dataset (RDD) is the basic abstraction in Spark. It is an immutable distributed collection of objects. Since RDD is a fundamental and backbone data type in Spark, it is important that you understand how to create it. In this exercise, you'll create your first RDD in PySpark from a collection of words.\n",
    "\n",
    "Remember you already have a SparkContext sc available in your workspace."
   ]
  },
  {
   "cell_type": "code",
   "execution_count": 6,
   "id": "fb20158d",
   "metadata": {},
   "outputs": [
    {
     "name": "stdout",
     "output_type": "stream",
     "text": [
      "The type of RDD is <class 'pyspark.rdd.RDD'>\n"
     ]
    }
   ],
   "source": [
    "# Create an RDD from a list of words\n",
    "RDD = spark.sparkContext.parallelize([\"Spark\", \"is\", \"a\", \"framework\", \"for\", \"Big Data processing\"])\n",
    "\n",
    "# Print out the type of the created object\n",
    "print(\"The type of RDD is\", type(RDD))"
   ]
  },
  {
   "cell_type": "markdown",
   "id": "f7dd8a97",
   "metadata": {},
   "source": [
    "RDDs from External Datasets\n",
    "\n",
    "PySpark can easily create RDDs from files that are stored in external storage devices such as HDFS (Hadoop Distributed File System), Amazon S3 buckets, etc. However, the most common method of creating RDD's is from files stored in your local file system. This method takes a file path and reads it as a collection of lines. In this exercise, you'll create an RDD from the file path (file_path) with the file name README.md which is already available in your workspace."
   ]
  },
  {
   "cell_type": "markdown",
   "id": "f391e1c4",
   "metadata": {},
   "source": [
    "% Print the file_path  \n",
    "print(\"The file_path is\", file_path)\n",
    "\n",
    "% Create a fileRDD from file_path  \n",
    "fileRDD = sc.textFile(file_path)\n",
    "\n",
    "% Check the type of fileRDD  \n",
    "print(\"The file type of fileRDD is\", type(fileRDD))"
   ]
  },
  {
   "cell_type": "markdown",
   "id": "451a809c",
   "metadata": {},
   "source": [
    "Partitions in your data\n",
    "\n",
    "SparkContext's textFile() method takes an optional second argument called minPartitions for specifying the minimum number of partitions. In this exercise, you'll create an RDD named fileRDD_part with 5 partitions and then compare that with fileRDD that you created in the previous exercise. Refer to the \"Understanding Partition\" slide in video 2.1 to know the methods for creating and getting the number of partitions in an RDD.\n",
    "\n",
    "Remember, you already have a SparkContext sc, file_path and fileRDD available in your workspace."
   ]
  },
  {
   "cell_type": "markdown",
   "id": "04c3d8e1",
   "metadata": {},
   "source": [
    "% Check the number of partitions in fileRDD  \n",
    "print(\"Number of partitions in fileRDD is\", fileRDD.getNumPartitions())\n",
    "\n",
    "% Create a fileRDD_part from file_path with 5 partitions  \n",
    "fileRDD_part = sc.textFile(file_path, minPartitions = 5)\n",
    "\n",
    "% Check the number of partitions in fileRDD_part  \n",
    "print(\"Number of partitions in fileRDD_part is\", fileRDD_part.getNumPartitions())"
   ]
  },
  {
   "cell_type": "markdown",
   "id": "0c50c818",
   "metadata": {},
   "source": [
    "**Basic RDD Transformations and Actions**  \n",
    "Spark operations: Trnasformations+actions.  \n",
    "* Transformations create new RDDs\n",
    "* Actions perform computation on the RDDs\n",
    "  \n",
    "RDD Transformations:  \n",
    "* Transformations follow Lazy evaluation: Spark creates a graph from all the operations you perform on an RDD and execution of the graph starts only when an action is performed on RDD.\n",
    "* Basic RDD transformations: map(), filter(), flatMap(), and union().  \n",
    "* The map() transformation takes in a function and applies it to each element in the RDD.  \n",
    "RDD = sc.parallelize([1,2,3,4])    \n",
    "RDD_map=RDD.map(lambda x: x*x )  \n",
    "* filter() transformation returns a new RDD woth only the elements that pass the condition  \n",
    "RDD_filter=RDD.filter(lambda x: x>2)  \n",
    "* flatMap() transformation returns multiple values for each element in the original RDD.  \n",
    "RDD=sc.parallelize([\"hello world\",\"how are you\"])  \n",
    "RDD_flatmap=RDD.flatMap(lambda x: x.split(\" \"))    \n",
    "* union() transformation for RDDs.  \n",
    "RDD1.union(RDD2)  \n",
    "  \n",
    "RDD Actions:  \n",
    "* Operation returns a value after running a computation on the RDD. \n",
    "* Basic RDD Actions: collect(), take(), first(), count().\n",
    "* collect() return all the elements of the dataset as an array\n",
    "* take(N) returns an array with the first N elements of the dataset.  "
   ]
  },
  {
   "cell_type": "markdown",
   "id": "ce79dd6c",
   "metadata": {},
   "source": [
    "Map and Collect\n",
    "\n",
    "The main method by which you can manipulate data in PySpark is using map(). The map() transformation takes in a function and applies it to each element in the RDD. It can be used to do any number of things, from fetching the website associated with each URL in our collection to just squaring the numbers. In this simple exercise, you'll use map() transformation to cube each number of the numbRDD RDD that you created earlier. Next, you'll return all the elements to a variable and finally print the output."
   ]
  },
  {
   "cell_type": "code",
   "execution_count": 7,
   "id": "4c446619",
   "metadata": {},
   "outputs": [],
   "source": [
    "spark.conf.set(\"spark.databricks.io.parquet.fastreader.enabled\",\"false\")\n",
    "spark.conf.set(\"spark.databricks.io.parquet.nativeReader.enabled\",\"false\")\n",
    "spark.conf.set(\"spark.sql.parquet.enableVectorizedReader\",\"false\")"
   ]
  },
  {
   "cell_type": "code",
   "execution_count": 8,
   "id": "30e8838a",
   "metadata": {},
   "outputs": [
    {
     "data": {
      "text/plain": [
       "[1, 8, 27]"
      ]
     },
     "execution_count": 8,
     "metadata": {},
     "output_type": "execute_result"
    }
   ],
   "source": [
    "# Create an RDD with numbers 1 to 10\n",
    "numbRDD = spark.sparkContext.parallelize([1,2,3])\n",
    "# Create map() transformation to cube numbers\n",
    "cubedRDD = numbRDD.map(lambda x: x**3)\n",
    "# Collect the results\n",
    "cubedRDD.collect()\n"
   ]
  },
  {
   "attachments": {},
   "cell_type": "markdown",
   "id": "e231417f",
   "metadata": {},
   "source": [
    "Filter and Count\n",
    "\n",
    "The RDD transformation filter() returns a new RDD containing only the elements that satisfy a particular function. It is useful for filtering large datasets based on a keyword. For this exercise, you'll filter out lines containing keyword Spark from fileRDD RDD which consists of lines of text from the README.md file. Next, you'll count the total number of lines containing the keyword Spark and finally print the first 4 lines of the filtered RDD.\n",
    "\n",
    "Remember, you already have a SparkContext sc, file_path and fileRDD available in your workspace."
   ]
  },
  {
   "cell_type": "code",
   "execution_count": null,
   "id": "51d3e759",
   "metadata": {},
   "outputs": [],
   "source": [
    "# Filter the fileRDD to select lines with Spark keyword\n",
    "fileRDD_filter = fileRDD.filter(lambda line: 'Spark' in line)\n",
    "\n",
    "# How many lines are there in fileRDD?\n",
    "print(\"The total number of lines with the keyword Spark is\", fileRDD_filter.count())\n",
    "\n",
    "# Print the first four lines of fileRDD\n",
    "for line in fileRDD_filter.take(4): \n",
    "  print(line)"
   ]
  },
  {
   "attachments": {},
   "cell_type": "markdown",
   "id": "46079eff",
   "metadata": {},
   "source": [
    "**Working with pair RDDs in PySpark**\n",
    "* Most of real life datasets are usually key/value pairs  \n",
    "* Each row is a key and maps to one or more values\n",
    "* Pair RDD is a special data structure to work with this kind of datasets\n",
    "* Pair RDD: key is the identifier and value is data\n",
    "* Two common ways to create pair RDDs: From a list of key-value tuple, From a regular RDD.\n",
    "* Get the data into key/value form for paired RDD\n",
    "* All regular transformation work on pair RDD\n",
    "* Have to pass function that operate on key value pairs rather than on individual elements\n",
    "* Examples of paired RDD transformations: reduceByKey(func):Combine values with the same key. groupByKey(): group values with the same key. join(): Join two pair RDDs based on their key.  \n",
    "  \n",
    "**reduceByKey() transformation**\n",
    "* reducByKey() tcombines values with the same key\n",
    "* It runs parallel operation for each key in the datatset\n",
    "* It is a transformation and not an action.\n",
    "  \n",
    "**sortByKey() transformation**  \n",
    "* It orders pair RDD by key  \n",
    "* It returns an RDD sorted by key in ascending or descending order  \n",
    "  \n",
    "**groupByKey() transformation**\n",
    "* It group all the values with the same key in the pair RDD  \n",
    "  \n",
    "**join() transformation**\n",
    "* join() transformation joins two pair RDDs based on their key  \n",
    "\n"
   ]
  },
  {
   "attachments": {},
   "cell_type": "markdown",
   "id": "ace83023",
   "metadata": {},
   "source": [
    "ReduceBykey and Collect\n",
    "\n",
    "One of the most popular pair RDD transformations is reduceByKey() which operates on key, value (k,v) pairs and merges the values for each key. In this exercise, you'll first create a pair RDD from a list of tuples, then combine the values with the same key and finally print out the result.\n",
    "\n",
    "Remember, you already have a SparkContext sc available in your workspace."
   ]
  },
  {
   "cell_type": "code",
   "execution_count": 9,
   "id": "863a2f8f",
   "metadata": {},
   "outputs": [
    {
     "name": "stdout",
     "output_type": "stream",
     "text": [
      "Key 1 has 2 Counts\n",
      "Key 3 has 10 Counts\n",
      "Key 4 has 5 Counts\n"
     ]
    }
   ],
   "source": [
    "# Create PairRDD Rdd with key value pairs\n",
    "Rdd = spark.sparkContext.parallelize([(1,2),(3,4),(3,6),(4,5)])\n",
    "\n",
    "# Apply reduceByKey() operation on Rdd\n",
    "Rdd_Reduced = Rdd.reduceByKey(lambda x, y: x+y)\n",
    "\n",
    "# Iterate over the result and print the output\n",
    "for num in Rdd_Reduced.collect(): \n",
    "  print(\"Key {} has {} Counts\".format(num[0], num[1]))"
   ]
  },
  {
   "attachments": {},
   "cell_type": "markdown",
   "id": "67cfd435",
   "metadata": {},
   "source": [
    "SortByKey and Collect\n",
    "\n",
    "Many times it is useful to sort the pair RDD based on the key (for example word count which you'll see later in the chapter). In this exercise, you'll sort the pair RDD Rdd_Reduced that you created in the previous exercise into descending order and print the final output.\n",
    "\n",
    "Remember, you already have a SparkContext sc and Rdd_Reduced available in your workspace."
   ]
  },
  {
   "cell_type": "code",
   "execution_count": 11,
   "id": "f01ba2cb",
   "metadata": {},
   "outputs": [
    {
     "name": "stdout",
     "output_type": "stream",
     "text": [
      "Key 4 has 5 Counts\n",
      "Key 3 has 10 Counts\n",
      "Key 1 has 2 Counts\n"
     ]
    }
   ],
   "source": [
    "# Sort the reduced RDD with the key by descending order\n",
    "Rdd_Reduced_Sort = Rdd_Reduced.sortByKey(ascending=False)\n",
    "\n",
    "# Iterate over the result and retrieve all the elements of the RDD\n",
    "for num in Rdd_Reduced_Sort.collect():\n",
    "  print(\"Key {} has {} Counts\".format(num[0], num[1]))"
   ]
  },
  {
   "attachments": {},
   "cell_type": "markdown",
   "id": "537c7ca3",
   "metadata": {},
   "source": [
    "**Advanced RDD Actions**  \n",
    "* reduce(func) action is used for aggreagating the elements of a refular RDD\n",
    "* the function should be commutative (changing the order of the operands does not change the result) and associative\n",
    "* saveAsTextFile() saves RDD into a text file inside a directory with eahc partition as a separate file\n",
    "* coalesce() can be used to save RDD as a single text file\n",
    "* Few examples of pair RDD actions include: countByKey(), collectAsMap(). The second one, return the key-valu pairs in the RDD as a dictionary.  \n"
   ]
  },
  {
   "cell_type": "code",
   "execution_count": 13,
   "id": "886a2a08",
   "metadata": {},
   "outputs": [
    {
     "name": "stdout",
     "output_type": "stream",
     "text": [
      "The type of total is <class 'collections.defaultdict'>\n",
      "key 1 has 1 counts\n",
      "key 3 has 2 counts\n",
      "key 4 has 1 counts\n"
     ]
    }
   ],
   "source": [
    "# Count the unique keys\n",
    "total = Rdd.countByKey()\n",
    "\n",
    "# What is the type of total?\n",
    "print(\"The type of total is\", type(total))\n",
    "\n",
    "# Iterate over the total and print the output\n",
    "for k, v in total.items(): \n",
    "  print(\"key\", k, \"has\", v, \"counts\")"
   ]
  },
  {
   "attachments": {},
   "cell_type": "markdown",
   "id": "4de47779",
   "metadata": {},
   "source": [
    "Create a base RDD and transform it\n",
    "\n",
    "The volume of unstructured data (log lines, images, binary files) in existence is growing dramatically, and PySpark is an excellent framework for analyzing this type of data through RDDs. In this 3 part exercise, you will write code that calculates the most common words from Complete Works of William Shakespeare.\n",
    "\n",
    "Here are the brief steps for writing the word counting program:\n",
    "\n",
    "    Create a base RDD from Complete_Shakespeare.txt file.\n",
    "    Use RDD transformation to create a long list of words from each element of the base RDD.\n",
    "    Remove stop words from your data.\n",
    "    Create pair RDD where each element is a pair tuple of ('w', 1)\n",
    "    Group the elements of the pair RDD by key (word) and add up their values.\n",
    "    Swap the keys (word) and values (counts) so that keys is count and value is the word.\n",
    "    Finally, sort the RDD by descending order and print the 10 most frequent words and their frequencies.\n",
    "\n",
    "In this first exercise, you'll create a base RDD from Complete_Shakespeare.txt file and transform it to create a long list of words.\n",
    "\n",
    "Remember, you already have a SparkContext sc already available in your workspace. A file_path variable (which is the path to the Complete_Shakespeare.txt file) is also loaded for you."
   ]
  },
  {
   "cell_type": "code",
   "execution_count": 15,
   "id": "fd6e2b47",
   "metadata": {},
   "outputs": [
    {
     "name": "stdout",
     "output_type": "stream",
     "text": [
      "Total number of words in splitRDD: 128576\n"
     ]
    }
   ],
   "source": [
    "file_path='big_data_fundamentals_pyspark_datasets/Complete_Shakespeare.txt'\n",
    "# Create a baseRDD from the file path\n",
    "baseRDD = spark.sparkContext.textFile(file_path)\n",
    "\n",
    "# Split the lines of baseRDD into words\n",
    "splitRDD = baseRDD.flatMap(lambda x: x.split())\n",
    "\n",
    "# Count the total number of words\n",
    "print(\"Total number of words in splitRDD:\", splitRDD.count())"
   ]
  },
  {
   "attachments": {},
   "cell_type": "markdown",
   "id": "45f93245",
   "metadata": {},
   "source": [
    "Remove stop words and reduce the dataset\n",
    "\n",
    "After splitting the lines in the file into a long list of words in the previous exercise, in the next step, you'll remove stop words from your data. Stop words are common words that are often uninteresting. For example \"I\", \"the\", \"a\" etc., are stop words. You can remove many obvious stop words with a list of your own. But for this exercise, you will just remove the stop words from a curated list stop_words provided to you in your environment.\n",
    "\n",
    "After removing stop words, you'll next create a pair RDD where each element is a pair tuple (k, v) where k is the key and v is the value. In this example, pair RDD is composed of (w, 1) where w is for each word in the RDD and 1 is a number. Finally, you'll combine the values with the same key from the pair RDD."
   ]
  },
  {
   "cell_type": "code",
   "execution_count": 16,
   "id": "18e2b8bf",
   "metadata": {},
   "outputs": [],
   "source": [
    "stop_words=['i','me','my','myself','we','our','ours','ourselves','you','your','yours','yourself','yourselves','he','him','his','himself','she','her','hers',\n",
    " 'herself','it','its','itself','they','them','their','theirs','themselves','what','which','who','whom','this','that','these','those','am','is','are','was',\n",
    " 'were','be','been','being','have','has','had','having','do','does','did','doing','a','an','the','and','but','if','or','because','as','until','while','of',\n",
    " 'at','by', 'for','with','about','against','between','into','through','during','before','after','above','below','to','from','up','down','in','out','on','off','over','under','again',\n",
    " 'further','then','once','here','there','when','where','why','how','all','any','both','each','few','more','most','other','some','such','no','nor','not','only','own','same',\n",
    " 'so','than','too','very','can','will','just','don','should','now']\n",
    "\n",
    "# Convert the words in lower case and remove stop words from the stop_words curated list\n",
    "splitRDD_no_stop = splitRDD.filter(lambda x: x.lower() not in stop_words)\n",
    "\n",
    "# Create a tuple of the word and 1 \n",
    "splitRDD_no_stop_words = splitRDD_no_stop.map(lambda w: (w, 1))\n",
    "\n",
    "# Count of the number of occurences of each word\n",
    "resultRDD = splitRDD_no_stop_words.reduceByKey(lambda x, y: x + y)"
   ]
  },
  {
   "cell_type": "code",
   "execution_count": 17,
   "id": "d6235914",
   "metadata": {},
   "outputs": [
    {
     "name": "stdout",
     "output_type": "stream",
     "text": [
      "('Project', 9)\n",
      "('EBook', 1)\n",
      "('Shakespeare', 12)\n",
      "('use', 38)\n",
      "('anyone', 1)\n",
      "('anywhere', 1)\n",
      "('restrictions', 1)\n",
      "('whatsoever.', 1)\n",
      "('may', 162)\n",
      "('it,', 74)\n",
      "thou,650\n",
      "thy,574\n",
      "shall,393\n",
      "would,311\n",
      "good,295\n",
      "thee,286\n",
      "love,273\n",
      "Enter,269\n",
      "th',254\n",
      "make,225\n"
     ]
    }
   ],
   "source": [
    "# Display the first 10 words and their frequencies from the input RDD\n",
    "for word in resultRDD.take(10):\n",
    "\tprint(word)\n",
    "\n",
    "# Swap the keys and values from the input RDD\n",
    "resultRDD_swap = resultRDD.map(lambda x: (x[1], x[0]))\n",
    "\n",
    "# Sort the keys in descending order\n",
    "resultRDD_swap_sort = resultRDD_swap.sortByKey(ascending=False)\n",
    "\n",
    "# Show the top 10 most frequent words and their frequencies from the sorted RDD\n",
    "for word in resultRDD_swap_sort.take(10):\n",
    "\tprint(\"{},{}\". format(word[1], word[0]))"
   ]
  },
  {
   "attachments": {},
   "cell_type": "markdown",
   "id": "26d5ccb8",
   "metadata": {},
   "source": [
    "### PySpark SQL & DataFrames\n",
    "* PySpark SQL is a Spark library for structured data. it provides more information about the structure of data and computation.\n",
    "* PySpark Dataframe is an immutable distributed collection of data with named columns*\n",
    "* Designed for processing both structured and semi-structured data\n",
    "* Dataframe API is available in Python, R, Scala, and Java\n",
    "* DataFrames in PySpark support both SQL queries or expression methods.  \n",
    "  \n",
    "**SparkSession - Entry point for DataFrame API**\n",
    "* SparkContext is the main entry for creating RDDs\n",
    "* SparkSession provides a single point to entry interact with DataFrames\n",
    "* SparkSession is used to create DataFrame, register DataFrames, execute SQL queries\n",
    "* SparkSession is available in PySpark shell as spark\n",
    "  \n",
    "**Creating DataFrames in PySpark**\n",
    "* Two different methods of creatingDataFrames in PySpark\n",
    "  - From existing RDDs using SparkSession's createDataFRame() method\n",
    "  - From various data sources (CSV, JSON, TXT) using SparkSession's read method.   \n",
    "* Schema controls the data and helps DataFrames to optimize queries\n",
    "* Schema provides information about column name, type of data in the column, empty values, etc. \n",
    "\n",
    "Creating from a RDD:      \n",
    "df=spark.createDataFrame(RDD,schema=name_columns)  \n",
    "    \n",
    "Creating from reading a CSV, JSON, TXT    \n",
    "df_csv=spark.read.csv(\"csv.csv\",header=True, inferSchema=True)    \n",
    "df_json=spark.read.json(\"people.json\",header=True, inferSchema=True)  \n",
    "df_txt=spark.read.txt(\"people.txt\",header=True,inferSchema=True)  \n",
    "\n"
   ]
  },
  {
   "attachments": {},
   "cell_type": "markdown",
   "id": "f06b83a7",
   "metadata": {},
   "source": [
    "RDD to DataFrame\n",
    "\n",
    "Similar to RDDs, DataFrames are immutable and distributed data structures in Spark. Even though RDDs are a fundamental data structure in Spark, working with data in DataFrame is easier than RDD, and so understanding of how to convert RDD to DataFrame is necessary.\n",
    "\n",
    "In this exercise, you'll first make an RDD using the sample_list that is already provided to you. This RDD contains the list of tuples ('Mona',20), ('Jennifer',34),('John',20), ('Jim',26) with each tuple contains the name of the person and their age. Next, you'll create a DataFrame using the RDD and the schema (which is the list of 'Name' and 'Age') and finally confirm the output as PySpark DataFrame.\n",
    "\n",
    "Remember, you already have a SparkContext sc and SparkSession spark available in your workspace."
   ]
  },
  {
   "cell_type": "code",
   "execution_count": 19,
   "id": "600404b2",
   "metadata": {},
   "outputs": [
    {
     "name": "stdout",
     "output_type": "stream",
     "text": [
      "The type of names_df is <class 'pyspark.sql.dataframe.DataFrame'>\n"
     ]
    }
   ],
   "source": [
    "sample_list=[('Mona', 20), ('Jennifer', 34), ('John', 20), ('Jim', 26)]\n",
    "# Create an RDD from the list\n",
    "rdd = spark.sparkContext.parallelize(sample_list)\n",
    "\n",
    "# Create a PySpark DataFrame\n",
    "names_df = spark.createDataFrame(rdd, schema=['Name', 'Age'])\n",
    "\n",
    "# Check the type of names_df\n",
    "print(\"The type of names_df is\", type(names_df))"
   ]
  },
  {
   "attachments": {},
   "cell_type": "markdown",
   "id": "93cd452e",
   "metadata": {},
   "source": [
    "Loading CSV into DataFrame\n",
    "\n",
    "In the previous exercise, you have seen a method for creating a DataFrame from an RDD. Generally, loading data from CSV file is the most common method of creating DataFrames. In this exercise, you'll create a PySpark DataFrame from a people.csv file that is already provided to you as a file_path and confirm the created object is a PySpark DataFrame. "
   ]
  },
  {
   "cell_type": "code",
   "execution_count": 20,
   "id": "2be0f49b",
   "metadata": {},
   "outputs": [
    {
     "name": "stdout",
     "output_type": "stream",
     "text": [
      "The type of people_df is <class 'pyspark.sql.dataframe.DataFrame'>\n"
     ]
    }
   ],
   "source": [
    "file_path='big_data_fundamentals_pyspark_datasets/people.csv'\n",
    "# Create an DataFrame from file_path\n",
    "people_df = spark.read.csv(file_path, header=True, inferSchema=True)\n",
    "\n",
    "# Check the type of people_df\n",
    "print(\"The type of people_df is\", type(people_df))"
   ]
  },
  {
   "attachments": {},
   "cell_type": "markdown",
   "id": "554b706e",
   "metadata": {},
   "source": [
    "**Operating on DataFrame in PySpark**  \n",
    "* DataFrame operation: Transformations and actions\n",
    "* Dataframe transformations: select(),filter(), groupby(), orderby(),dropDuplicates(), and withColumnRenamed()\n",
    "* DataFrame actions: printSchema(), head(), show(), count(), columns and describe().  \n",
    "    \n",
    "* select() transformation subsets the columns in the DataFrame\n",
    "* show() action prints first 20 rows in DataFrame\n",
    "* filter() transformation filters out the rows based on a condition\n",
    "* groupby() operation can be used to gorup variable and add aggregations\n",
    "* orderby() operation sorts the DataFrane based on one or more columns\n",
    "* dropDuplicates() removes the duplicates rows of a DataFrame  \n",
    "* withColumnRenamed() renames a column in the Dataframe\n",
    "* printSchema() action operation prints the types of columns in the DataFrane\n",
    "* columns operator prints the columns of a DataFrame\n",
    "* describe() operayion compute summary statistics of numerical columns in the DataFrame."
   ]
  },
  {
   "attachments": {},
   "cell_type": "markdown",
   "id": "c368d9f0",
   "metadata": {},
   "source": [
    "Inspecting data in PySpark DataFrame\n",
    "\n",
    "Inspecting data is very crucial before performing analysis such as plotting, modeling, training etc., In this simple exercise, you'll inspect the data in the people_df DataFrame that you have created in the previous exercise using basic DataFrame operators. "
   ]
  },
  {
   "cell_type": "code",
   "execution_count": 21,
   "id": "c2490f90",
   "metadata": {},
   "outputs": [
    {
     "name": "stdout",
     "output_type": "stream",
     "text": [
      "+---+---------+----------------+------+-------------------+\n",
      "|_c0|person_id|            name|   sex|      date of birth|\n",
      "+---+---------+----------------+------+-------------------+\n",
      "|  0|      100|  Penelope Lewis|female|1990-08-31 00:00:00|\n",
      "|  1|      101|   David Anthony|  male|1971-10-14 00:00:00|\n",
      "|  2|      102|       Ida Shipp|female|1962-05-24 00:00:00|\n",
      "|  3|      103|    Joanna Moore|female|2017-03-10 00:00:00|\n",
      "|  4|      104|  Lisandra Ortiz|female|2020-08-05 00:00:00|\n",
      "|  5|      105|   David Simmons|  male|1999-12-30 00:00:00|\n",
      "|  6|      106|   Edward Hudson|  male|1983-05-09 00:00:00|\n",
      "|  7|      107|    Albert Jones|  male|1990-09-13 00:00:00|\n",
      "|  8|      108|Leonard Cavender|  male|1958-08-08 00:00:00|\n",
      "|  9|      109|  Everett Vadala|  male|2005-05-24 00:00:00|\n",
      "+---+---------+----------------+------+-------------------+\n",
      "only showing top 10 rows\n",
      "\n",
      "There are 100000 rows in the people_df DataFrame.\n",
      "There are 5 columns in the people_df DataFrame and their names are ['_c0', 'person_id', 'name', 'sex', 'date of birth']\n"
     ]
    }
   ],
   "source": [
    "# Print the first 10 observations \n",
    "people_df.show(10)\n",
    "\n",
    "# Count the number of rows \n",
    "print(\"There are {} rows in the people_df DataFrame.\".format(people_df.count()))\n",
    "\n",
    "# Count the number of columns and their names\n",
    "print(\"There are {} columns in the people_df DataFrame and their names are {}\".format(len(people_df.columns), people_df.columns))"
   ]
  },
  {
   "attachments": {},
   "cell_type": "markdown",
   "id": "8c051492",
   "metadata": {},
   "source": [
    "PySpark DataFrame subsetting and cleaning\n",
    "\n",
    "After data inspection, it is often necessary to clean the data which mainly involves subsetting, renaming the columns, removing duplicated rows etc., PySpark DataFrame API provides several operators to do this. In this exercise, your job is to subset 'name', 'sex' and 'date of birth' columns from people_df DataFrame, remove any duplicate rows from that dataset and count the number of rows before and after duplicates removal step."
   ]
  },
  {
   "cell_type": "code",
   "execution_count": 22,
   "id": "2e08ead3",
   "metadata": {},
   "outputs": [
    {
     "name": "stdout",
     "output_type": "stream",
     "text": [
      "+----------------+------+-------------------+\n",
      "|            name|   sex|      date of birth|\n",
      "+----------------+------+-------------------+\n",
      "|  Penelope Lewis|female|1990-08-31 00:00:00|\n",
      "|   David Anthony|  male|1971-10-14 00:00:00|\n",
      "|       Ida Shipp|female|1962-05-24 00:00:00|\n",
      "|    Joanna Moore|female|2017-03-10 00:00:00|\n",
      "|  Lisandra Ortiz|female|2020-08-05 00:00:00|\n",
      "|   David Simmons|  male|1999-12-30 00:00:00|\n",
      "|   Edward Hudson|  male|1983-05-09 00:00:00|\n",
      "|    Albert Jones|  male|1990-09-13 00:00:00|\n",
      "|Leonard Cavender|  male|1958-08-08 00:00:00|\n",
      "|  Everett Vadala|  male|2005-05-24 00:00:00|\n",
      "+----------------+------+-------------------+\n",
      "only showing top 10 rows\n",
      "\n",
      "There were 100000 rows before removing duplicates, and 99998 rows after removing duplicates\n"
     ]
    }
   ],
   "source": [
    "# Select name, sex and date of birth columns\n",
    "people_df_sub = people_df.select('name', 'sex', 'date of birth')\n",
    "\n",
    "# Print the first 10 observations from people_df_sub\n",
    "people_df_sub.show(10)\n",
    "\n",
    "# Remove duplicate entries from people_df_sub\n",
    "people_df_sub_nodup = people_df_sub.dropDuplicates()\n",
    "\n",
    "# Count the number of rows\n",
    "print(\"There were {} rows before removing duplicates, and {} rows after removing duplicates\".format(people_df_sub.count(), people_df_sub_nodup.count()))"
   ]
  },
  {
   "attachments": {},
   "cell_type": "markdown",
   "id": "6b0171be",
   "metadata": {},
   "source": [
    "Filtering your DataFrame\n",
    "\n",
    "In the previous exercise, you have subset the data using select() operator which is mainly used to subset the DataFrame column-wise. What if you want to subset the DataFrame based on a condition (for example, select all rows where the sex is Female). In this exercise, you will filter the rows in the people_df DataFrame in which 'sex' is female and male and create two different datasets. Finally, you'll count the number of rows in each of those datasets."
   ]
  },
  {
   "cell_type": "code",
   "execution_count": 23,
   "id": "319ab1ea",
   "metadata": {},
   "outputs": [
    {
     "name": "stdout",
     "output_type": "stream",
     "text": [
      "There are 49014 rows in the people_df_female DataFrame and 49066 rows in the people_df_male DataFrame\n"
     ]
    }
   ],
   "source": [
    "# Filter people_df to select females \n",
    "people_df_female = people_df.filter(people_df.sex == \"female\")\n",
    "\n",
    "# Filter people_df to select males\n",
    "people_df_male = people_df.filter(people_df.sex == \"male\")\n",
    "\n",
    "# Count the number of rows \n",
    "print(\"There are {} rows in the people_df_female DataFrame and {} rows in the people_df_male DataFrame\".format(people_df_female.count(), people_df_male.count()))"
   ]
  },
  {
   "attachments": {},
   "cell_type": "markdown",
   "id": "fa8ad631",
   "metadata": {},
   "source": [
    "**Interacting with DataFrames using PySparkSQL**  \n",
    "* In PySpark yu can interact with SparkSQL through DataFrame API and SQL queries\n",
    "* The DataFrame API provides a programmatic domain-specific language (DSL) for data\n",
    "* DataFrame transformation and actions are easier to construct programmatically\n",
    "* SQL queries can be consice and easier to understand and portable\n",
    "* The operations on DataFrame can also be done using SQL queries\n",
    "  \n",
    "**Executing SQL Queries**  \n",
    "* The SparkSession sql() method executes SQL quey\n",
    "* sql() method takes a SQL statement as an argument and returns the result as DataFrame\n",
    "* We need to create a temp table through createOrReplaceTempView function to build a temporary table as shown.   \n",
    "df.createOrReplaceTempView('table1)  \n",
    "df2=spark.sql(\"SELECT field1, field2 FROM TABLE 1\")  \n",
    "df2.collect()  \n",
    "  \n",
    "**SQL query to extract data**  \n",
    "test_df.createOrReplaceTempView(\"test_table\")      \n",
    "query='''SELECT Product_ID FROM test_table'''      \n",
    "test_product_df=spark.sql(query)      \n",
    "test_product_df.show(5)   \n",
    "   "
   ]
  },
  {
   "attachments": {},
   "cell_type": "markdown",
   "id": "84beca63",
   "metadata": {},
   "source": [
    "Running SQL Queries Programmatically\n",
    "\n",
    "DataFrames can easily be manipulated using SQL queries in PySpark. The sql() function on a SparkSession enables applications to run SQL queries programmatically and returns the result as another DataFrame. In this exercise, you'll create a temporary table of the people_df DataFrame that you created previously, then construct a query to select the names of the people from the temporary table and assign the result to a new DataFrame."
   ]
  },
  {
   "cell_type": "code",
   "execution_count": 24,
   "id": "daa1fa49",
   "metadata": {},
   "outputs": [
    {
     "name": "stdout",
     "output_type": "stream",
     "text": [
      "+----------------+\n",
      "|            name|\n",
      "+----------------+\n",
      "|  Penelope Lewis|\n",
      "|   David Anthony|\n",
      "|       Ida Shipp|\n",
      "|    Joanna Moore|\n",
      "|  Lisandra Ortiz|\n",
      "|   David Simmons|\n",
      "|   Edward Hudson|\n",
      "|    Albert Jones|\n",
      "|Leonard Cavender|\n",
      "|  Everett Vadala|\n",
      "+----------------+\n",
      "only showing top 10 rows\n",
      "\n"
     ]
    }
   ],
   "source": [
    "# Create a temporary table \"people\"\n",
    "people_df.createOrReplaceTempView(\"people\")\n",
    "\n",
    "# Construct a query to select the names of the people from the temporary table \"people\"\n",
    "query = '''SELECT name FROM people'''\n",
    "\n",
    "# Assign the result of Spark's query to people_df_names\n",
    "people_df_names = spark.sql(query)\n",
    "\n",
    "# Print the top 10 names of the people\n",
    "people_df_names.show(10)"
   ]
  },
  {
   "attachments": {},
   "cell_type": "markdown",
   "id": "5ceed9de",
   "metadata": {},
   "source": [
    "SQL queries for filtering Table\n",
    "\n",
    "In the previous exercise, you have run a simple SQL query on a DataFrame. There are more sophisticated queries you can construct to obtain the result that you want and use it for downstream analysis such as data visualization and Machine Learning. In this exercise, we will use the temporary table people that you created previously and filter out the rows where the \"sex\" is male and female and create two DataFrames."
   ]
  },
  {
   "cell_type": "code",
   "execution_count": 25,
   "id": "d40cdbe6",
   "metadata": {},
   "outputs": [
    {
     "name": "stdout",
     "output_type": "stream",
     "text": [
      "There are 49014 rows in the people_female_df and 49066 rows in the people_male_df DataFrames\n"
     ]
    }
   ],
   "source": [
    "# Filter the people table to select female sex \n",
    "people_female_df = spark.sql('SELECT * FROM people WHERE sex==\"female\"')\n",
    "\n",
    "# Filter the people table DataFrame to select male sex\n",
    "people_male_df = spark.sql('SELECT * FROM people WHERE sex==\"male\"')\n",
    "\n",
    "# Count the number of rows in both DataFrames\n",
    "print(\"There are {} rows in the people_female_df and {} rows in the people_male_df DataFrames\".format(people_female_df.count(), people_male_df.count()))"
   ]
  },
  {
   "attachments": {},
   "cell_type": "markdown",
   "id": "18068fc4",
   "metadata": {},
   "source": [
    "**Data Visualization in PySpark using DataFrames**  \n",
    "* Plotting graphs using PySpark DataFrames is done using three methods: pyspark_dist_explore, toPandas(), HandySpark.  \n",
    "* Pyspark_dist_explore library provides quick insights into DataFrames\n",
    "* Currently three function avalaible - hist(), distplot() and pandas_histogram()  \n",
    "An example:  \n",
    "test_df=spark.read.csv(\"test.csv\",header=True,inferSchema=True)  \n",
    "test_df_age=test_df.select('Age')  \n",
    "hist(test_df_age,bins=20,color='red')     \n",
    "    \n",
    "* Using pandas for plotting DataFrames.  \n",
    "test_df= spark.read(\"test.csv\",header=True,inferSchema=True)  \n",
    "test_df_sample_pandas=test_df.toPandas()   \n",
    "test_df_sample_pandas.hist('Age')   \n",
    "  \n",
    "**Pandas DataFrame vs PySpark DataFrame**      \n",
    "* Pandas DataFrames are in-memory, single-server based structures and operations on PySpark run in parallel \n",
    "* The result is generated as we apply any operation in Pandas  whereas operations in PySpark Dataframe are lazy evaluation\n",
    "* Pandas DataFrame as mutable and PySpark DataFrames are immutable\n",
    "* Pandas API support more operations than PySpark DataFrame API  \n",
    "  \n",
    "**HandySpark method of visualization**  \n",
    "* HandySpark is a package desgined to improve PySpark user experience   \n",
    "hdf=test_df.toHandy()    \n",
    "hdf.cols['Age'].hist()    \n",
    "  "
   ]
  },
  {
   "attachments": {},
   "cell_type": "markdown",
   "id": "56c12287",
   "metadata": {},
   "source": [
    "PySpark DataFrame visualization\n",
    "\n",
    "Graphical representations or visualization of data is imperative for understanding as well as interpreting the data. In this simple data visualization exercise, you'll first print the column names of names_df DataFrame that you created earlier, then convert the names_df to Pandas DataFrame and finally plot the contents as horizontal bar plot with names of the people on the x-axis and their age on the y-axis. "
   ]
  },
  {
   "cell_type": "code",
   "execution_count": 26,
   "id": "77da4e24",
   "metadata": {},
   "outputs": [
    {
     "name": "stdout",
     "output_type": "stream",
     "text": [
      "The column names of names_df are ['Name', 'Age']\n"
     ]
    },
    {
     "data": {
      "image/png": "[encoded data removed]",
      "text/plain": [
       "<Figure size 432x288 with 1 Axes>"
      ]
     },
     "metadata": {
      "needs_background": "light"
     },
     "output_type": "display_data"
    }
   ],
   "source": [
    "import pandas as pd\n",
    "import matplotlib.pyplot as plt  \n",
    "# Check the column names of names_df\n",
    "print(\"The column names of names_df are\", names_df.columns)\n",
    "\n",
    "# Convert to Pandas DataFrame  \n",
    "df_pandas = names_df.toPandas()\n",
    "\n",
    "# Create a horizontal bar plot\n",
    "df_pandas.plot(kind='barh', x='Name', y='Age', colormap='winter_r')\n",
    "plt.show()"
   ]
  },
  {
   "attachments": {},
   "cell_type": "markdown",
   "id": "c717a242",
   "metadata": {},
   "source": [
    "Part 1: Create a DataFrame from CSV file\n",
    "\n",
    "Every 4 years, the soccer fans throughout the world celebrates a festival called “Fifa World Cup” and with that, everything seems to change in many countries. In this 3 part exercise, you'll be doing some exploratory data analysis (EDA) on the \"FIFA 2018 World Cup Player\" dataset using PySpark SQL which involve DataFrame operations, SQL queries and visualization.\n",
    "\n",
    "In the first part, you'll load FIFA 2018 World Cup Players dataset (Fifa2018_dataset.csv) which is in CSV format into a PySpark's dataFrame and inspect the data using basic DataFrame operations. "
   ]
  },
  {
   "cell_type": "code",
   "execution_count": 27,
   "id": "1f92c076",
   "metadata": {},
   "outputs": [
    {
     "name": "stdout",
     "output_type": "stream",
     "text": [
      "root\n",
      " |-- _c0: integer (nullable = true)\n",
      " |-- Name: string (nullable = true)\n",
      " |-- Age: integer (nullable = true)\n",
      " |-- Photo: string (nullable = true)\n",
      " |-- Nationality: string (nullable = true)\n",
      " |-- Flag: string (nullable = true)\n",
      " |-- Overall: integer (nullable = true)\n",
      " |-- Potential: integer (nullable = true)\n",
      " |-- Club: string (nullable = true)\n",
      " |-- Club Logo: string (nullable = true)\n",
      " |-- Value: string (nullable = true)\n",
      " |-- Wage: string (nullable = true)\n",
      " |-- Special: integer (nullable = true)\n",
      " |-- Acceleration: string (nullable = true)\n",
      " |-- Aggression: string (nullable = true)\n",
      " |-- Agility: string (nullable = true)\n",
      " |-- Balance: string (nullable = true)\n",
      " |-- Ball control: string (nullable = true)\n",
      " |-- Composure: string (nullable = true)\n",
      " |-- Crossing: string (nullable = true)\n",
      " |-- Curve: string (nullable = true)\n",
      " |-- Dribbling: string (nullable = true)\n",
      " |-- Finishing: string (nullable = true)\n",
      " |-- Free kick accuracy: string (nullable = true)\n",
      " |-- GK diving: string (nullable = true)\n",
      " |-- GK handling: string (nullable = true)\n",
      " |-- GK kicking: string (nullable = true)\n",
      " |-- GK positioning: string (nullable = true)\n",
      " |-- GK reflexes: string (nullable = true)\n",
      " |-- Heading accuracy: string (nullable = true)\n",
      " |-- Interceptions: string (nullable = true)\n",
      " |-- Jumping: string (nullable = true)\n",
      " |-- Long passing: string (nullable = true)\n",
      " |-- Long shots: string (nullable = true)\n",
      " |-- Marking: string (nullable = true)\n",
      " |-- Penalties: string (nullable = true)\n",
      " |-- Positioning: string (nullable = true)\n",
      " |-- Reactions: string (nullable = true)\n",
      " |-- Short passing: string (nullable = true)\n",
      " |-- Shot power: string (nullable = true)\n",
      " |-- Sliding tackle: string (nullable = true)\n",
      " |-- Sprint speed: string (nullable = true)\n",
      " |-- Stamina: string (nullable = true)\n",
      " |-- Standing tackle: string (nullable = true)\n",
      " |-- Strength: string (nullable = true)\n",
      " |-- Vision: string (nullable = true)\n",
      " |-- Volleys: string (nullable = true)\n",
      " |-- CAM: double (nullable = true)\n",
      " |-- CB: double (nullable = true)\n",
      " |-- CDM: double (nullable = true)\n",
      " |-- CF: double (nullable = true)\n",
      " |-- CM: double (nullable = true)\n",
      " |-- ID: integer (nullable = true)\n",
      " |-- LAM: double (nullable = true)\n",
      " |-- LB: double (nullable = true)\n",
      " |-- LCB: double (nullable = true)\n",
      " |-- LCM: double (nullable = true)\n",
      " |-- LDM: double (nullable = true)\n",
      " |-- LF: double (nullable = true)\n",
      " |-- LM: double (nullable = true)\n",
      " |-- LS: double (nullable = true)\n",
      " |-- LW: double (nullable = true)\n",
      " |-- LWB: double (nullable = true)\n",
      " |-- Preferred Positions: string (nullable = true)\n",
      " |-- RAM: double (nullable = true)\n",
      " |-- RB: double (nullable = true)\n",
      " |-- RCB: double (nullable = true)\n",
      " |-- RCM: double (nullable = true)\n",
      " |-- RDM: double (nullable = true)\n",
      " |-- RF: double (nullable = true)\n",
      " |-- RM: double (nullable = true)\n",
      " |-- RS: double (nullable = true)\n",
      " |-- RW: double (nullable = true)\n",
      " |-- RWB: double (nullable = true)\n",
      " |-- ST: double (nullable = true)\n",
      "\n",
      "+---+-----------------+---+--------------------+-----------+--------------------+-------+---------+-------------------+--------------------+------+-----+-------+------------+----------+-------+-------+------------+---------+--------+-----+---------+---------+------------------+---------+-----------+----------+--------------+-----------+----------------+-------------+-------+------------+----------+-------+---------+-----------+---------+-------------+----------+--------------+------------+-------+---------------+--------+------+-------+----+----+----+----+----+------+----+----+----+----+----+----+----+----+----+----+-------------------+----+----+----+----+----+----+----+----+----+----+----+\n",
      "|_c0|             Name|Age|               Photo|Nationality|                Flag|Overall|Potential|               Club|           Club Logo| Value| Wage|Special|Acceleration|Aggression|Agility|Balance|Ball control|Composure|Crossing|Curve|Dribbling|Finishing|Free kick accuracy|GK diving|GK handling|GK kicking|GK positioning|GK reflexes|Heading accuracy|Interceptions|Jumping|Long passing|Long shots|Marking|Penalties|Positioning|Reactions|Short passing|Shot power|Sliding tackle|Sprint speed|Stamina|Standing tackle|Strength|Vision|Volleys| CAM|  CB| CDM|  CF|  CM|    ID| LAM|  LB| LCB| LCM| LDM|  LF|  LM|  LS|  LW| LWB|Preferred Positions| RAM|  RB| RCB| RCM| RDM|  RF|  RM|  RS|  RW| RWB|  ST|\n",
      "+---+-----------------+---+--------------------+-----------+--------------------+-------+---------+-------------------+--------------------+------+-----+-------+------------+----------+-------+-------+------------+---------+--------+-----+---------+---------+------------------+---------+-----------+----------+--------------+-----------+----------------+-------------+-------+------------+----------+-------+---------+-----------+---------+-------------+----------+--------------+------------+-------+---------------+--------+------+-------+----+----+----+----+----+------+----+----+----+----+----+----+----+----+----+----+-------------------+----+----+----+----+----+----+----+----+----+----+----+\n",
      "|  0|Cristiano Ronaldo| 32|https://cdn.sofif...|   Portugal|https://cdn.sofif...|     94|       94|     Real Madrid CF|https://cdn.sofif...|€95.5M|€565K|   2228|          89|        63|     89|     63|          93|       95|      85|   81|       91|       94|                76|        7|         11|        15|            14|         11|              88|           29|     95|          77|        92|     22|       85|         95|       96|           83|        94|            23|          91|     92|             31|      80|    85|     88|89.0|53.0|62.0|91.0|82.0| 20801|89.0|61.0|53.0|82.0|62.0|91.0|89.0|92.0|91.0|66.0|             ST LW |89.0|61.0|53.0|82.0|62.0|91.0|89.0|92.0|91.0|66.0|92.0|\n",
      "|  1|         L. Messi| 30|https://cdn.sofif...|  Argentina|https://cdn.sofif...|     93|       93|       FC Barcelona|https://cdn.sofif...| €105M|€565K|   2154|          92|        48|     90|     95|          95|       96|      77|   89|       97|       95|                90|        6|         11|        15|            14|          8|              71|           22|     68|          87|        88|     13|       74|         93|       95|           88|        85|            26|          87|     73|             28|      59|    90|     85|92.0|45.0|59.0|92.0|84.0|158023|92.0|57.0|45.0|84.0|59.0|92.0|90.0|88.0|91.0|62.0|                RW |92.0|57.0|45.0|84.0|59.0|92.0|90.0|88.0|91.0|62.0|88.0|\n",
      "|  2|           Neymar| 25|https://cdn.sofif...|     Brazil|https://cdn.sofif...|     92|       94|Paris Saint-Germain|https://cdn.sofif...| €123M|€280K|   2100|          94|        56|     96|     82|          95|       92|      75|   81|       96|       89|                84|        9|          9|        15|            15|         11|              62|           36|     61|          75|        77|     21|       81|         90|       88|           81|        80|            33|          90|     78|             24|      53|    80|     83|88.0|46.0|59.0|88.0|79.0|190871|88.0|59.0|46.0|79.0|59.0|88.0|87.0|84.0|89.0|64.0|                LW |88.0|59.0|46.0|79.0|59.0|88.0|87.0|84.0|89.0|64.0|84.0|\n",
      "|  3|        L. Suárez| 30|https://cdn.sofif...|    Uruguay|https://cdn.sofif...|     92|       92|       FC Barcelona|https://cdn.sofif...|  €97M|€510K|   2291|          88|        78|     86|     60|          91|       83|      77|   86|       86|       94|                84|       27|         25|        31|            33|         37|              77|           41|     69|          64|        86|     30|       85|         92|       93|           83|        87|            38|          77|     89|             45|      80|    84|     88|87.0|58.0|65.0|88.0|80.0|176580|87.0|64.0|58.0|80.0|65.0|88.0|85.0|88.0|87.0|68.0|                ST |87.0|64.0|58.0|80.0|65.0|88.0|85.0|88.0|87.0|68.0|88.0|\n",
      "|  4|         M. Neuer| 31|https://cdn.sofif...|    Germany|https://cdn.sofif...|     92|       92|   FC Bayern Munich|https://cdn.sofif...|  €61M|€230K|   1493|          58|        29|     52|     35|          48|       70|      15|   14|       30|       13|                11|       91|         90|        95|            91|         89|              25|           30|     78|          59|        16|     10|       47|         12|       85|           55|        25|            11|          61|     44|             10|      83|    70|     11|null|null|null|null|null|167495|null|null|null|null|null|null|null|null|null|null|                GK |null|null|null|null|null|null|null|null|null|null|null|\n",
      "|  5|   R. Lewandowski| 28|https://cdn.sofif...|     Poland|https://cdn.sofif...|     91|       91|   FC Bayern Munich|https://cdn.sofif...|  €92M|€355K|   2143|          79|        80|     78|     80|          89|       87|      62|   77|       85|       91|                84|       15|          6|        12|             8|         10|              85|           39|     84|          65|        83|     25|       81|         91|       91|           83|        88|            19|          83|     79|             42|      84|    78|     87|84.0|57.0|62.0|87.0|78.0|188545|84.0|58.0|57.0|78.0|62.0|87.0|82.0|88.0|84.0|61.0|                ST |84.0|58.0|57.0|78.0|62.0|87.0|82.0|88.0|84.0|61.0|88.0|\n",
      "|  6|           De Gea| 26|https://cdn.sofif...|      Spain|https://cdn.sofif...|     90|       92|  Manchester United|https://cdn.sofif...|€64.5M|€215K|   1458|          57|        38|     60|     43|          42|       64|      17|   21|       18|       13|                19|       90|         85|        87|            86|         90|              21|           30|     67|          51|        12|     13|       40|         12|       88|           50|        31|            13|          58|     40|             21|      64|    68|     13|null|null|null|null|null|193080|null|null|null|null|null|null|null|null|null|null|                GK |null|null|null|null|null|null|null|null|null|null|null|\n",
      "|  7|        E. Hazard| 26|https://cdn.sofif...|    Belgium|https://cdn.sofif...|     90|       91|            Chelsea|https://cdn.sofif...|€90.5M|€295K|   2096|          93|        54|     93|     91|          92|       87|      80|   82|       93|       83|                79|       11|         12|         6|             8|          8|              57|           41|     59|          81|        82|     25|       86|         85|       85|           86|        79|            22|          87|     79|             27|      65|    86|     79|88.0|47.0|61.0|87.0|81.0|183277|88.0|59.0|47.0|81.0|61.0|87.0|87.0|82.0|88.0|64.0|                LW |88.0|59.0|47.0|81.0|61.0|87.0|87.0|82.0|88.0|64.0|82.0|\n",
      "|  8|         T. Kroos| 27|https://cdn.sofif...|    Germany|https://cdn.sofif...|     90|       90|     Real Madrid CF|https://cdn.sofif...|  €79M|€340K|   2165|          60|        60|     71|     69|          89|       85|      85|   85|       79|       76|                84|       10|         11|        13|             7|         10|              54|           85|     32|          93|        90|     63|       73|         79|       86|           90|        87|            69|          52|     77|             82|      74|    88|     82|83.0|72.0|82.0|81.0|87.0|182521|83.0|76.0|72.0|87.0|82.0|81.0|81.0|77.0|80.0|78.0|            CDM CM |83.0|76.0|72.0|87.0|82.0|81.0|81.0|77.0|80.0|78.0|77.0|\n",
      "|  9|       G. Higuaín| 29|https://cdn.sofif...|  Argentina|https://cdn.sofif...|     90|       90|           Juventus|https://cdn.sofif...|  €77M|€275K|   1961|          78|        50|     75|     69|          85|       86|      68|   74|       84|       91|                62|        5|         12|         7|             5|         10|              86|           20|     79|          59|        82|     12|       70|         92|       88|           75|        88|            18|          80|     72|             22|      85|    70|     88|81.0|46.0|52.0|84.0|71.0|167664|81.0|51.0|46.0|71.0|52.0|84.0|79.0|87.0|82.0|55.0|                ST |81.0|51.0|46.0|71.0|52.0|84.0|79.0|87.0|82.0|55.0|87.0|\n",
      "+---+-----------------+---+--------------------+-----------+--------------------+-------+---------+-------------------+--------------------+------+-----+-------+------------+----------+-------+-------+------------+---------+--------+-----+---------+---------+------------------+---------+-----------+----------+--------------+-----------+----------------+-------------+-------+------------+----------+-------+---------+-----------+---------+-------------+----------+--------------+------------+-------+---------------+--------+------+-------+----+----+----+----+----+------+----+----+----+----+----+----+----+----+----+----+-------------------+----+----+----+----+----+----+----+----+----+----+----+\n",
      "only showing top 10 rows\n",
      "\n",
      "There are 17981 rows in the fifa_df DataFrame\n"
     ]
    }
   ],
   "source": [
    "file_path='big_data_fundamentals_pyspark_datasets/Fifa2018_dataset.csv'\n",
    "# Load the Dataframe\n",
    "fifa_df = spark.read.csv(file_path, header=True, inferSchema=True)\n",
    "\n",
    "# Check the schema of columns\n",
    "fifa_df.printSchema()\n",
    "\n",
    "# Show the first 10 observations\n",
    "fifa_df.show(10)\n",
    "\n",
    "# Print the total number of rows\n",
    "print(\"There are {} rows in the fifa_df DataFrame\".format(fifa_df.count()))"
   ]
  },
  {
   "cell_type": "code",
   "execution_count": 28,
   "id": "941c1bd0",
   "metadata": {},
   "outputs": [
    {
     "name": "stdout",
     "output_type": "stream",
     "text": [
      "+-------+-----------------+\n",
      "|summary|              Age|\n",
      "+-------+-----------------+\n",
      "|  count|             1140|\n",
      "|   mean|24.20263157894737|\n",
      "| stddev|4.197096712293752|\n",
      "|    min|               16|\n",
      "|    max|               36|\n",
      "+-------+-----------------+\n",
      "\n"
     ]
    }
   ],
   "source": [
    "# Create a temporary view of fifa_df\n",
    "fifa_df.createOrReplaceTempView('fifa_df_table')\n",
    "\n",
    "# Construct the \"query\"\n",
    "query = '''SELECT Age FROM fifa_df_table WHERE Nationality == \"Germany\"'''\n",
    "\n",
    "# Apply the SQL \"query\"\n",
    "fifa_df_germany_age = spark.sql(query)\n",
    "\n",
    "# Generate basic statistics\n",
    "fifa_df_germany_age.describe().show()"
   ]
  },
  {
   "attachments": {},
   "cell_type": "markdown",
   "id": "4d8dd787",
   "metadata": {},
   "source": [
    "Part 3: Data visualization\n",
    "\n",
    "Data visualization is important for exploratory data analysis (EDA). PySpark DataFrame is a perfect for data visualization compared to RDDs because of its inherent structure and schema.\n",
    "\n",
    "In this third part, you'll create a histogram of the ages of all the players from Germany from the DataFrame that you created in the previous exercise. For this, you'll first convert the PySpark DataFrame into Pandas DataFrame and use matplotlib's plot() function to create a density plot of ages of all players from Germany."
   ]
  },
  {
   "cell_type": "code",
   "execution_count": 29,
   "id": "9d9d0f8b",
   "metadata": {},
   "outputs": [
    {
     "data": {
      "image/png": "[encoded data removed]",
      "text/plain": [
       "<Figure size 432x288 with 1 Axes>"
      ]
     },
     "metadata": {
      "needs_background": "light"
     },
     "output_type": "display_data"
    }
   ],
   "source": [
    "# Convert fifa_df to fifa_df_germany_age_pandas DataFrame\n",
    "fifa_df_germany_age_pandas = fifa_df_germany_age.toPandas()\n",
    "\n",
    "# Plot the 'Age' density of Germany Players\n",
    "fifa_df_germany_age_pandas.plot(kind='density')\n",
    "plt.show()"
   ]
  },
  {
   "attachments": {},
   "cell_type": "markdown",
   "id": "51ee19e1",
   "metadata": {},
   "source": [
    "## Overview of PySpark MLlib  \n",
    "Machine learning is a scientific discipline that explores the construction and study of algorithms that can learn from data.  \n",
    "* MLlib is a component of ApacheSpark for machine learning\n",
    "* Varios tool provided by MLlib include:  \n",
    "   - ML Algorithms: collaborative filtering, classification, and clustering\n",
    "   - Featurization: feature extraction, transformation, dimensionality reduction, and selection\n",
    "   - Pipelines: tools for constructing, evaluating, and tuning ML Pipelines\n",
    "* Scikit-learn algorithms only work for small datasets on a single machine\n",
    "* Spark's MLlib algorithms are designed for parallel processing on a cluster\n",
    "* pyspark.mllib is the builtin library for RDD-based API  \n",
    "* Supports languages such as Scala, R, and Java \n",
    "* Provides a high-level API to buil machine learning pipelines  \n",
    "  "
   ]
  },
  {
   "attachments": {
    "pyspar_mllib.png": {
     "image/png": "[encoded data removed]"
    }
   },
   "cell_type": "markdown",
   "id": "685ef07b",
   "metadata": {},
   "source": [
    "![pyspar_mllib.png](attachment:pyspar_mllib.png)"
   ]
  },
  {
   "attachments": {},
   "cell_type": "markdown",
   "id": "a1766e1c",
   "metadata": {},
   "source": [
    "**The three C's of machine learning in PySpark MLlib**  \n",
    "Collaborative filtering, classification, and clustering.  \n",
    "* Collaborative filtering (recommender engines): Produce recommendations  \n",
    "* Classification: Identifying to which of a set of categories a new observation\n",
    "* Clustering: Groups data based on similar characteristics\n",
    "  \n",
    "  \n",
    "from pyspark.mllib.recommendation import ALS  \n",
    "from pyspark.mllib.classification import LogisticRegressioWithLBFGS  \n",
    "from pyspark.mllib.clustering import KMeans"
   ]
  },
  {
   "attachments": {},
   "cell_type": "markdown",
   "id": "09be971c",
   "metadata": {},
   "source": [
    "PySpark MLlib algorithms\n",
    "\n",
    "Before using any Machine learning algorithms in PySpark shell, you'll have to import the submodules of pyspark.mllib library and then choose the appropriate class that is needed for a specific machine learning task. "
   ]
  },
  {
   "cell_type": "code",
   "execution_count": 10,
   "id": "838ff664",
   "metadata": {},
   "outputs": [],
   "source": [
    "# Import the library for ALS\n",
    "from pyspark.sql.functions import broadcast\n",
    "from pyspark.mllib.recommendation import ALS, MatrixFactorizationModel, Rating\n",
    "\n",
    "# Import the library for Logistic Regression\n",
    "from pyspark.mllib.classification import LogisticRegressionWithLBFGS\n",
    "\n",
    "# Import the library for Kmeans\n",
    "from pyspark.mllib.clustering import KMeans"
   ]
  },
  {
   "attachments": {},
   "cell_type": "markdown",
   "id": "ba5d465c",
   "metadata": {},
   "source": [
    "### Collaborative filtering  \n",
    "* It is a method of making automatic predictions about the interests of a user by collecting preferences or taste information from many users  \n",
    "* It is one of the most common used algorithms in recommender systems\n",
    "* It has two approaches: \n",
    "  - User-user collaborative filterin: finds users that are similar to the target user  \n",
    "  - Item-item collaborative filterin: fins recommend items that are similar to items with the target user    \n",
    "    \n",
    "* The rating class is a wrapper around tuple (user, product, and rating)  \n",
    "* Useful for parsing the RDD and creating a tuple of user, product, and rating\n",
    "  \n",
    "from pyspark.mllib.recommendation import Rating    \n",
    "r = Rating(user=1, product=2,rating=5.0)    \n",
    "(r[0],r[1],r[2])    \n",
    "  \n",
    "* Splitting data into training and testing sets is important for evaluating predictive modeling\n",
    "* Typically a large portion of data is assigned to training compared to testing data\n",
    "* PySpark's randomSplit() method randomly splits with the provided weights and returns multiple RDDs \n",
    "* The Alternating Leat Squares (ALS) algorithm avaliable in spark.mllib helps to find products that the customers might like, based on their previous purchases or ratings  \n",
    "* ALS.train(ratings, rank, iterations)  \n",
    "* Predicting the ratings for the user and product pairs  \n",
    "* predictAll() method returns a list of predicted ratings for input user and product pair \n",
    "* the method takes in an RDD withput ratings to generate the ratings  \n",
    "* For evaluating the model, we can use Mean Squared Error (MSE), which is the average value of the square of actual rating - predicted rating.  "
   ]
  },
  {
   "attachments": {},
   "cell_type": "markdown",
   "id": "770bcda8",
   "metadata": {},
   "source": [
    "Loading Movie Lens dataset into RDDs\n",
    "\n",
    "Collaborative filtering is a technique for recommender systems wherein users' ratings and interactions with various products are used to recommend new ones. With the advent of Machine Learning and parallelized processing of data, Recommender systems have become widely popular in recent years, and are utilized in a variety of areas including movies, music, news, books, research articles, search queries, social tags. In this 3-part exercise, your goal is to develop a simple movie recommendation system using PySpark MLlib using a subset of MovieLens 100k dataset.\n",
    "\n",
    "In the first part, you'll first load the MovieLens data (ratings.csv) into RDD and from each line in the RDD which is formatted as userId,movieId,rating,timestamp, you'll need to map the MovieLens data to a Ratings object (userID, productID, rating) after removing timestamp column and finally you'll split the RDD into training and test RDDs."
   ]
  },
  {
   "cell_type": "code",
   "execution_count": 11,
   "id": "73f31ea1",
   "metadata": {},
   "outputs": [],
   "source": [
    "file_path='big_data_fundamentals_pyspark_datasets/ratings.csv'\n",
    "# Load the data into RDD\n",
    "data = spark.sparkContext.textFile(file_path)\n",
    "\n",
    "# Split the RDD \n",
    "ratings = data.map(lambda l: l.split(','))\n",
    "\n",
    "# Transform the ratings RDD \n",
    "ratings_final = ratings.map(lambda line: Rating(int(line[0]), int(line[1]), float(line[2])))\n",
    "\n",
    "# Split the data into training and test\n",
    "training_data, test_data = ratings_final.randomSplit([0.8, 0.2])"
   ]
  },
  {
   "cell_type": "code",
   "execution_count": 14,
   "id": "7a01b328",
   "metadata": {},
   "outputs": [
    {
     "data": {
      "text/plain": [
       "['1,31,2.5,1260759144',\n",
       " '1,1029,3.0,1260759179',\n",
       " '1,1061,3.0,1260759182',\n",
       " '1,1129,2.0,1260759185',\n",
       " '1,1172,4.0,1260759205',\n",
       " '1,1263,2.0,1260759151',\n",
       " '1,1287,2.0,1260759187',\n",
       " '1,1293,2.0,1260759148']"
      ]
     },
     "execution_count": 14,
     "metadata": {},
     "output_type": "execute_result"
    }
   ],
   "source": [
    "data.take(8)"
   ]
  },
  {
   "attachments": {},
   "cell_type": "markdown",
   "id": "8b47622a",
   "metadata": {},
   "source": [
    "Model training and predictions\n",
    "\n",
    "After splitting the data into training and test data, in the second part of the exercise, you'll train the ALS algorithm using the training data. PySpark MLlib's ALS algorithm has the following mandatory parameters - rank (the number of latent factors in the model) and iterations (number of iterations to run). After training the ALS model, you can use the model to predict the ratings from the test data. For this, you will provide the user and item columns from the test dataset and finally return the list of 2 rows of predictAll() output. "
   ]
  },
  {
   "cell_type": "code",
   "execution_count": 12,
   "id": "61cbedc4",
   "metadata": {},
   "outputs": [
    {
     "data": {
      "text/plain": [
       "[Rating(user=547, product=45208, rating=0.14621504224735316),\n",
       " Rating(user=648, product=3456, rating=2.0747920036843426)]"
      ]
     },
     "execution_count": 12,
     "metadata": {},
     "output_type": "execute_result"
    }
   ],
   "source": [
    "# Create the ALS model on the training data\n",
    "model = ALS.train(training_data, rank=10, iterations=10)\n",
    "\n",
    "# Drop the ratings column \n",
    "testdata_no_rating = test_data.map(lambda p: (p[0], p[1]))\n",
    "\n",
    "# Predict the model  \n",
    "predictions = model.predictAll(testdata_no_rating)\n",
    "\n",
    "# Return the first 2 rows of the RDD\n",
    "predictions.take(2)"
   ]
  },
  {
   "attachments": {},
   "cell_type": "markdown",
   "id": "5de0c453",
   "metadata": {},
   "source": [
    "Model evaluation using MSE\n",
    "\n",
    "After generating the predicted ratings from the test data using ALS model, in this final part of the exercise, you'll prepare the data for calculating Mean Square Error (MSE) of the model. The MSE is the average value of (original rating – predicted rating)**2 for all users and indicates the absolute fit of the model to the data. To do this, first, you'll organize both the ratings and prediction RDDs to make a tuple of ((user, product), rating)), then join the ratings RDD with prediction RDD and finally apply a squared difference function along with mean() to get the MSE."
   ]
  },
  {
   "cell_type": "code",
   "execution_count": 13,
   "id": "44dff480",
   "metadata": {},
   "outputs": [
    {
     "name": "stdout",
     "output_type": "stream",
     "text": [
      "Mean Squared Error of the model for the test data = 1.36\n"
     ]
    }
   ],
   "source": [
    "# Prepare ratings data\n",
    "rates = ratings_final.map(lambda r: ((r[0], r[1]), r[2]))\n",
    "\n",
    "# Prepare predictions data\n",
    "preds = predictions.map(lambda r: ((r[0], r[1]), r[2]))\n",
    "\n",
    "# Join the ratings data with predictions data\n",
    "rates_and_preds = rates.join(preds)\n",
    "\n",
    "# Calculate and print MSE\n",
    "MSE = rates_and_preds.map(lambda r: (r[1][0] - r[1][1])**2).mean()\n",
    "print(\"Mean Squared Error of the model for the test data = {:.2f}\".format(MSE))"
   ]
  },
  {
   "attachments": {},
   "cell_type": "markdown",
   "id": "97e549e0",
   "metadata": {},
   "source": [
    "### Classification \n",
    "* Classification is a popular machine learning algorithm that identifies which category an item belongs to.  \n",
    "* Binary classification, and multi-class classification  \n",
    "* PySpark supports various methods for binary classification such as linear SVMs, logistic regression, decision trees, random forests, gradient-boosted trees, naive Bayes\n",
    "* In multiclass classification, we want to classify entities into more than two categories. PySpark supports various methods such as logistic regression, decision trees, random forests, naive Bayes."
   ]
  },
  {
   "attachments": {},
   "cell_type": "markdown",
   "id": "3dfbf72e",
   "metadata": {},
   "source": [
    "* Logistic regression predicts a binary response based on somre variable. It fits the logistic function $sig(t)=\\frac{1}{1+e^{-t}}$.    \n",
    "** Working with vectors**  \n",
    "* Pyspark MLlib contains specific data types Vectors and LabelledPoint\n",
    "* Two types of Vectors:\n",
    "    - Dense Vector: store all their entries in an array of floating point numbers\n",
    "    - Sparse Vector: store only the nonzero values and their indices  \n",
    "E.g.  \n",
    "denseVec=Vectors.dense([1.0,2.0,3.0])  \n",
    "denseVec=Vectors.sparse(4,{1:1.0,3:5.5}) \n",
    "\n",
    "**LabelledPoint() in PySpark MLlib**  \n",
    "* A LabeledPoint is a wrapper for input features and predicted value  \n",
    "* For binary classification of Logistic Regression, a label is either 0 (negative) or 1 (positive).   \n",
    "positive=LabeledPoint(1.0,[1.0,0.0,3.0])\n",
    "negative=LabeledPoint(0.0,[2.0,1.0,1.0])   \n",
    "* HashingTF() algorithm is used to map feature value to indices in the feature vector  \n",
    "from pyspark.mllib.feature impor hashingTF\n",
    "   "
   ]
  },
  {
   "attachments": {},
   "cell_type": "markdown",
   "id": "9b6cf9ff",
   "metadata": {},
   "source": [
    "**Logistic Regression using LogisticRegressionWithLBFGS**  \n",
    "* In Pyspark MLlib is achieved using LogisticRegressionWithLBFGS class"
   ]
  },
  {
   "attachments": {},
   "cell_type": "markdown",
   "id": "741e63cd",
   "metadata": {},
   "source": [
    "Loading spam and non-spam data\n",
    "\n",
    "Logistic Regression is a popular method to predict a categorical response. Probably one of the most common applications of the logistic regression is the message or email spam classification. In this 3-part exercise, you'll create an email spam classifier with logistic regression using Spark MLlib. Here are the brief steps for creating a spam classifier.\n",
    "\n",
    "*    Create an RDD of strings representing email.\n",
    "*    Run MLlib’s feature extraction algorithms to convert text into an RDD of vectors.\n",
    "*    Call a classification algorithm on the RDD of vectors to return a model object to classify new points.\n",
    "*    Evaluate the model on a test dataset using one of MLlib’s evaluation functions.\n",
    "\n",
    "In the first part of the exercise, you'll load the 'spam' and 'ham' (non-spam) files into RDDs, split the emails into individual words and look at the first element in each of the RDD."
   ]
  },
  {
   "cell_type": "code",
   "execution_count": 29,
   "id": "72ea1e7b",
   "metadata": {},
   "outputs": [
    {
     "name": "stdout",
     "output_type": "stream",
     "text": [
      "The first element in spam_words is You\n",
      "The first element in non_spam_words is Rofl.\n"
     ]
    }
   ],
   "source": [
    "file_path_spam='big_data_fundamentals_pyspark_datasets/spam.txt'\n",
    "file_path_non_spam='big_data_fundamentals_pyspark_datasets/ham.txt'\n",
    "# Load the datasets into RDDs\n",
    "spam_rdd = spark.sparkContext.textFile(file_path_spam)\n",
    "non_spam_rdd = spark.sparkContext.textFile(file_path_non_spam)\n",
    "\n",
    "# Split the email messages into words\n",
    "spam_words = spam_rdd.flatMap(lambda email: email.split(' '))\n",
    "non_spam_words = non_spam_rdd.flatMap(lambda email: email.split(' '))\n",
    "\n",
    "# Print the first element in the split RDD\n",
    "print(\"The first element in spam_words is\", spam_words.first())\n",
    "print(\"The first element in non_spam_words is\", non_spam_words.first())"
   ]
  },
  {
   "attachments": {},
   "cell_type": "markdown",
   "id": "9d74b36c",
   "metadata": {},
   "source": [
    "Feature hashing and LabelPoint\n",
    "\n",
    "After splitting the emails into words, our raw data set of 'spam' and 'non-spam' is currently composed of 1-line messages consisting of spam and non-spam messages. In order to classify these messages, we need to convert text into features.\n",
    "\n",
    "In the second part of the exercise, you'll first create a HashingTF() instance to map text to vectors of 200 features, then for each message in 'spam' and 'non-spam' files you'll split them into words, and each word is mapped to one feature. These are the features that will be used to decide whether a message is 'spam' or 'non-spam'. Next, you'll create labels for features. For a valid message, the label will be 0 (i.e. the message is not spam) and for a 'spam' message, the label will be 1 (i.e. the message is spam). Finally, you'll combine both the labeled datasets."
   ]
  },
  {
   "cell_type": "code",
   "execution_count": 41,
   "id": "a5a326a2",
   "metadata": {},
   "outputs": [],
   "source": [
    "from pyspark.mllib.feature import HashingTF\n",
    "from pyspark.mllib.regression import LabeledPoint\n",
    "import pandas as pd\n",
    "# Create a HashingTf instance with 200 features\n",
    "tf = HashingTF(numFeatures=200)\n",
    "\n",
    "# Map each word to one feature\n",
    "spam_features = tf.transform(spam_words)\n",
    "non_spam_features = tf.transform(non_spam_words)\n",
    "\n",
    "# Label the features: 1 for spam, 0 for non-spam\n",
    "spam_samples = spam_features.map(lambda features:LabeledPoint(1, features))\n",
    "non_spam_samples = non_spam_features.map(lambda features:LabeledPoint(0, features))\n",
    "\n",
    "# Combine the two datasets\n",
    "samples = spam_samples.union(non_spam_samples)"
   ]
  },
  {
   "attachments": {},
   "cell_type": "markdown",
   "id": "705df27f",
   "metadata": {},
   "source": [
    "Logistic Regression model training\n",
    "\n",
    "After creating labels and features for the data, we’re ready to build a model that can learn from it (training). But before you train the model, in this final part of the exercise, you'll split the data into training and test, run Logistic Regression model on the training data, and finally check the accuracy of the model trained on training data."
   ]
  },
  {
   "cell_type": "code",
   "execution_count": 42,
   "id": "6daa729b",
   "metadata": {},
   "outputs": [
    {
     "name": "stdout",
     "output_type": "stream",
     "text": [
      "Model accuracy : 0.82\n"
     ]
    }
   ],
   "source": [
    "from pyspark.mllib.classification import LogisticRegressionWithLBFGS, LogisticRegressionModel\n",
    "from pyspark.mllib.regression import LabeledPoint\n",
    "# Split the data into training and testing\n",
    "train_samples,test_samples = samples.randomSplit([0.8, 0.2])\n",
    "\n",
    "# Train the model\n",
    "model = LogisticRegressionWithLBFGS.train(train_samples,numClasses=2)\n",
    "\n",
    "# Create a prediction label from the test data\n",
    "predictions = model.predict(test_samples.map(lambda x: x.features))\n",
    "\n",
    "# Combine original labels with the predicted labels\n",
    "labels_and_preds = test_samples.map(lambda x: x.label).zip(predictions)\n",
    "\n",
    "# Check the accuracy of the model on the test data\n",
    "accuracy = labels_and_preds.filter(lambda x: x[0] == x[1]).count() / float(test_samples.count())\n",
    "print(\"Model accuracy : {:.2f}\".format(accuracy))"
   ]
  },
  {
   "attachments": {},
   "cell_type": "markdown",
   "id": "50f80d10",
   "metadata": {},
   "source": [
    "### Clustering  \n",
    "* Clustering is a kind of unsupervised learning method to group unlabeled data together into groups  \n",
    "* It can be used to make sense of unlabeled data\n",
    "* PySpark MLlib library currently supports clustering models such as: K-means, Gaussian mixture, Power iteration clustering (PIC), Bisectin k-means, Streaming k-means  \n",
    "* K-means clustering takes data point in an input data and will identify which data points belong to each one of the clusters.   \n",
    "* The first step in implementing K-means clustering algorithm using PySpark MLlib is loading the numerical data into an RDD, and then parsing the data based on a delimiter. \n",
    "* Training K-means model is done using KMeans.train() method    \n",
    "from pyspark.mllib.clusterin import KMeans  \n",
    "model=KMeans.train(RDD,k=2,maxIterations=10)  \n",
    "model.clusterCenters  \n",
    "* Evaluate the model by the error function. Unfortunately, PySpark K-means algorithm doesn't have a method already, so we have to write a function by ourselves.  "
   ]
  },
  {
   "attachments": {},
   "cell_type": "markdown",
   "id": "2b018da7",
   "metadata": {},
   "source": [
    "As we know, plotting libraries does not work directly on RDDs and DataFrames. Then, to visualize clusters:  \n",
    "wine_data_df=spark.createDataFrame(RDD,schema=[\"col1\",\"col2\"])  \n",
    "wine_data_df_pandas=wine_data_df.toPandas()  \n",
    "clusters_centers_pandas=pd.DataFrame(model.clusterCenters,columns=[\"col1\",\"col2\"])  \n",
    "plt.scatter(clusters_centers_pandas['col1'],clusters_centers_pandas['col2'],color=\"red\",marker=\"x\")  "
   ]
  },
  {
   "attachments": {},
   "cell_type": "markdown",
   "id": "e82c74ef",
   "metadata": {},
   "source": [
    "Loading and parsing the 5000 points data\n",
    "\n",
    "Clustering is the unsupervised learning task that involves grouping objects into clusters of high similarity. Unlike the supervised tasks, where data is labeled, clustering can be used to make sense of unlabeled data. PySpark MLlib includes the popular K-means algorithm for clustering. In this 3 part exercise, you'll find out how many clusters are there in a dataset containing 5000 rows and 2 columns. For this you'll first load the data into an RDD, parse the RDD based on the delimiter, run the KMeans model, evaluate the model and finally visualize the clusters.\n",
    "\n",
    "In the first part, you'll load the data into RDD, parse the RDD based on the delimiter and convert the string type of the data to an integer."
   ]
  },
  {
   "cell_type": "code",
   "execution_count": 43,
   "id": "9237adeb",
   "metadata": {},
   "outputs": [
    {
     "name": "stdout",
     "output_type": "stream",
     "text": [
      "There are 5000 rows in the rdd_split_int dataset\n"
     ]
    }
   ],
   "source": [
    "file_path='big_data_fundamentals_pyspark_datasets/5000_points.txt'\n",
    "# Load the dataset into an RDD\n",
    "clusterRDD = spark.sparkContext.textFile(file_path)\n",
    "\n",
    "# Split the RDD based on tab\n",
    "rdd_split = clusterRDD.map(lambda x: x.split(\"\\t\"))\n",
    "\n",
    "# Transform the split RDD by creating a list of integers\n",
    "rdd_split_int = rdd_split.map(lambda x: [int(x[0]), int(x[1])])\n",
    "\n",
    "# Count the number of rows in RDD \n",
    "print(\"There are {} rows in the rdd_split_int dataset\".format(rdd_split_int.count()))"
   ]
  },
  {
   "cell_type": "code",
   "execution_count": 44,
   "id": "53a00227",
   "metadata": {},
   "outputs": [
    {
     "name": "stdout",
     "output_type": "stream",
     "text": [
      "The cluster 13 has Within Set Sum of Squared Error 252060331.1260039\n",
      "The cluster 14 has Within Set Sum of Squared Error 215808893.2796594\n",
      "The cluster 15 has Within Set Sum of Squared Error 169394691.52639425\n",
      "The cluster 16 has Within Set Sum of Squared Error 168103213.0429197\n"
     ]
    }
   ],
   "source": [
    "from math import sqrt\n",
    "def error(point):\n",
    "    center=model.centers[model.predict(point)]\n",
    "    return sqrt(sum([x**2 for x in (point-center)]))\n",
    "\n",
    "from pyspark.mllib.clustering import KMeans\n",
    "# Train the model with clusters from 13 to 16 and compute WSSSE\n",
    "for clst in range(13, 17):\n",
    "    model = KMeans.train(rdd_split_int, clst, seed=1)\n",
    "    WSSSE = rdd_split_int.map(lambda point: error(point)).reduce(lambda x, y: x + y)\n",
    "    print(\"The cluster {} has Within Set Sum of Squared Error {}\".format(clst, WSSSE))\n",
    "\n",
    "# Train the model again with the best k\n",
    "model = KMeans.train(rdd_split_int, k=15, seed=1)\n",
    "\n",
    "# Get cluster centers\n",
    "cluster_centers = model.clusterCenters"
   ]
  },
  {
   "attachments": {},
   "cell_type": "markdown",
   "id": "a02ea12c",
   "metadata": {},
   "source": [
    "Visualizing clusters\n",
    "\n",
    "You just trained the k-means model with an optimum k value (k=15) and generated cluster centers (centroids). In this final exercise, you will visualize the clusters and the centroids by overlaying them. This will indicate how well the clustering worked (ideally, the clusters should be distinct from each other and centroids should be at the center of their respective clusters).\n",
    "\n",
    "To achieve this, you will first convert the rdd_split_int RDD into a Spark DataFrame, and then into Pandas DataFrame which can be used for plotting. Similarly, you will convert cluster_centers into a Pandas DataFrame. Once both the DataFrames are created, you will create scatter plots using Matplotlib."
   ]
  },
  {
   "cell_type": "code",
   "execution_count": 45,
   "id": "c84997e5",
   "metadata": {},
   "outputs": [
    {
     "data": {
      "image/png": "[encoded data removed]",
      "text/plain": [
       "<Figure size 432x288 with 1 Axes>"
      ]
     },
     "metadata": {
      "needs_background": "light"
     },
     "output_type": "display_data"
    }
   ],
   "source": [
    "import matplotlib.pyplot as plt\n",
    "import pandas as pd\n",
    "# Convert rdd_split_int RDD into Spark DataFrame and then to Pandas DataFrame\n",
    "rdd_split_int_df_pandas = spark.createDataFrame(rdd_split_int, schema=[\"col1\", \"col2\"]).toPandas()\n",
    "\n",
    "# Convert cluster_centers to a pandas DataFrame\n",
    "cluster_centers_pandas = pd.DataFrame(cluster_centers, columns=[\"col1\", \"col2\"])\n",
    "\n",
    "# Create an overlaid scatter plot of clusters and centroids\n",
    "plt.scatter(rdd_split_int_df_pandas[\"col1\"], rdd_split_int_df_pandas[\"col2\"])\n",
    "plt.scatter(cluster_centers_pandas[\"col1\"], cluster_centers_pandas[\"col2\"], color=\"red\", marker=\"x\")\n",
    "plt.show()"
   ]
  }
 ],
 "metadata": {
  "kernelspec": {
   "display_name": "Python 3 (ipykernel)",
   "language": "python",
   "name": "python3"
  },
  "language_info": {
   "codemirror_mode": {
    "name": "ipython",
    "version": 3
   },
   "file_extension": ".py",
   "mimetype": "text/x-python",
   "name": "python",
   "nbconvert_exporter": "python",
   "pygments_lexer": "ipython3",
   "version": "3.9.12"
  }
 },
 "nbformat": 4,
 "nbformat_minor": 5
}
