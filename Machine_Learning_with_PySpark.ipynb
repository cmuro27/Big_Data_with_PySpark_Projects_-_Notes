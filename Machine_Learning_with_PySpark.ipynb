{
  "nbformat": 4,
  "nbformat_minor": 0,
  "metadata": {
    "colab": {
      "provenance": [],
      "mount_file_id": "1VInZCrjwq8D7BGCYaTEbkrHDyywyunxp",
      "authorship_tag": "ABX9TyMPLeti8t5TXfm+sWwhv06U",
      "include_colab_link": true
    },
    "kernelspec": {
      "name": "python3",
      "display_name": "Python 3"
    },
    "language_info": {
      "name": "python"
    }
  },
  "cells": [
    {
      "cell_type": "markdown",
      "metadata": {
        "id": "view-in-github",
        "colab_type": "text"
      },
      "source": [
        "<a href=\"https://colab.research.google.com/github/cmuro27/Big_Data_with_PySpark_Projects_-_Notes/blob/main/Machine_Learning_with_PySpark.ipynb\" target=\"_parent\"><img src=\"https://colab.research.google.com/assets/colab-badge.svg\" alt=\"Open In Colab\"/></a>"
      ]
    },
    {
      "cell_type": "markdown",
      "source": [
        "# Machine Learning with PySpark - DataCamp \n",
        "### Notes by César Muro"
      ],
      "metadata": {
        "id": "hA3KtgJEr3-j"
      }
    },
    {
      "cell_type": "markdown",
      "source": [
        "The datasets are in the corresponding folder in the folder \"datasets\" of this repository. \n",
        "\n",
        "Many times in the exercises that were already running machine learning, the data was already processed. Here I had the good practice of having to process them on my own. Besides, I used the large dataset of flights, not the small one as in the course."
      ],
      "metadata": {
        "id": "vTpSSFk1rr_M"
      }
    },
    {
      "cell_type": "code",
      "source": [
        "# I'm using Google Colab, that is why this chunk.\n",
        "!pip install pyspark p4j"
      ],
      "metadata": {
        "colab": {
          "base_uri": "https://localhost:8080/"
        },
        "id": "oHon-hGDtr1K",
        "outputId": "d9e13ffd-cdc1-4881-d9e3-a7753b9cb7ec"
      },
      "execution_count": 1,
      "outputs": [
        {
          "output_type": "stream",
          "name": "stdout",
          "text": [
            "Looking in indexes: https://pypi.org/simple, https://us-python.pkg.dev/colab-wheels/public/simple/\n",
            "Collecting pyspark\n",
            "  Downloading pyspark-3.3.2.tar.gz (281.4 MB)\n",
            "\u001b[2K     \u001b[90m━━━━━━━━━━━━━━━━━━━━━━━━━━━━━━━━━━━━━━━\u001b[0m \u001b[32m281.4/281.4 MB\u001b[0m \u001b[31m4.6 MB/s\u001b[0m eta \u001b[36m0:00:00\u001b[0m\n",
            "\u001b[?25h  Preparing metadata (setup.py) ... \u001b[?25l\u001b[?25hdone\n",
            "Collecting p4j\n",
            "  Downloading P4J-0.27.tar.gz (510 kB)\n",
            "\u001b[2K     \u001b[90m━━━━━━━━━━━━━━━━━━━━━━━━━━━━━━━━━━━━━━\u001b[0m \u001b[32m510.1/510.1 KB\u001b[0m \u001b[31m29.9 MB/s\u001b[0m eta \u001b[36m0:00:00\u001b[0m\n",
            "\u001b[?25h  Preparing metadata (setup.py) ... \u001b[?25l\u001b[?25hdone\n",
            "Collecting py4j==0.10.9.5\n",
            "  Downloading py4j-0.10.9.5-py2.py3-none-any.whl (199 kB)\n",
            "\u001b[2K     \u001b[90m━━━━━━━━━━━━━━━━━━━━━━━━━━━━━━━━━━━━━━\u001b[0m \u001b[32m199.7/199.7 KB\u001b[0m \u001b[31m22.0 MB/s\u001b[0m eta \u001b[36m0:00:00\u001b[0m\n",
            "\u001b[?25hRequirement already satisfied: numpy>=1.9.0 in /usr/local/lib/python3.9/dist-packages (from p4j) (1.22.4)\n",
            "Building wheels for collected packages: pyspark, p4j\n",
            "  Building wheel for pyspark (setup.py) ... \u001b[?25l\u001b[?25hdone\n",
            "  Created wheel for pyspark: filename=pyspark-3.3.2-py2.py3-none-any.whl size=281824028 sha256=49b7574647f27c34bbac2c91f9242aa148a6b41c278b14f63d72cfef862e34cc\n",
            "  Stored in directory: /root/.cache/pip/wheels/6c/e3/9b/0525ce8a69478916513509d43693511463c6468db0de237c86\n",
            "  Building wheel for p4j (setup.py) ... \u001b[?25l\u001b[?25hdone\n",
            "  Created wheel for p4j: filename=P4J-0.27-cp39-cp39-linux_x86_64.whl size=1530320 sha256=3f33db70d81acaf468ab87aa6e650b8e8f5b8fb0f341f1457abbadfd928025e7\n",
            "  Stored in directory: /root/.cache/pip/wheels/4c/62/b3/c538fe0fff0522cef2f02d531728c3790517792068a39b6a7c\n",
            "Successfully built pyspark p4j\n",
            "Installing collected packages: py4j, pyspark, p4j\n",
            "  Attempting uninstall: py4j\n",
            "    Found existing installation: py4j 0.10.9.7\n",
            "    Uninstalling py4j-0.10.9.7:\n",
            "      Successfully uninstalled py4j-0.10.9.7\n",
            "Successfully installed p4j-0.27 py4j-0.10.9.5 pyspark-3.3.2\n"
          ]
        }
      ]
    },
    {
      "cell_type": "code",
      "source": [
        "from pyspark.sql import SparkSession\n",
        "spark= SparkSession.builder.getOrCreate()"
      ],
      "metadata": {
        "id": "fMayjJx3tX9p"
      },
      "execution_count": null,
      "outputs": []
    },
    {
      "cell_type": "markdown",
      "source": [
        "Machine Learning: The computer literally learns from examples.  \n",
        "\n",
        "Machine learning problems are generally less esoteric than finding the perfect waffle recipe.    \n",
        "\n",
        "The performance of a Machine Learning model depends on data. In general, more data is a good thing. If an algorithm is able to train on a larger set of data, then its ability to generalize to new data will inevitably improve. However, there are some practical constraints. If the data can fit entirely into RAM then the algorithm can operate efficiently. What happens when those data no longer fit into memory? \n",
        "The computer will start to use virtual memory and data will be \"paged\" back and forth between RAM and disk. Performance plummets.  \n",
        "An option is to distribute the problem across multiple computers in a cluster. Handle the large dataset it is divoded into partitions which are processed separately. Ideally each data partition can fit into RAM on a single computer in the cluster. This is the approach used by Spark.  \n",
        "  \n",
        "What is Spark?     \n",
        "Spark is a general purpose framework for cluster computing. It is popular for two main reasons. It is generally much faster than other Big Data technologies. It has a developer-friendly interface which hides much of the complexity of distributed computing. \n",
        "\n"
      ],
      "metadata": {
        "id": "3wBYyLTgrznk"
      }
    },
    {
      "cell_type": "markdown",
      "source": [
        "The cluster itself consists of one or more nodes. Each node is a computer with CPU, RAM and physical storage.  \n",
        "A cluster manager allocates resource and coordinates activity across the cluster. Every application on the Spark cluster has a driver program.  \n",
        "Using the SPARK API, the drive communicates with the cluster manager, which in turn distributes work to the nodes.  \n",
        "On each node Spark launches an executor procees which persists for the duration of the application.  \n",
        "Work is divided up into tasks, which are somply units of computation. The executors run tasks in multiple threads across the cores in a node. When working with Spark you normally don't need to worry *too* much about the details of the cluster. Spark sets up all of that infrastructure for you and handles all interactions within the cluster. However, it's still useful to know how it works under the hood.  "
      ],
      "metadata": {
        "id": "p198OtgVyMai"
      }
    },
    {
      "cell_type": "markdown",
      "source": [
        "**Connecting to Spark**  \n",
        "The connection with Spark is established by the driver, which can be written in either Java, Scala, Python or R.  \n",
        "  \n",
        "Spark functionality avalaible in Python through pyspark.   \n",
        " \n",
        "In addition to pyspark there are:\n",
        "* Structured data - pyspark.sql\n",
        "* Streaming Data - pyspark.streaming\n",
        "* Machine Learning - pyspark.mllib and pyspark.ml \n",
        "\n",
        "We need to tell Spark where the cluster is located. You can either connect to a remote cluster in whic case you need to specify a Spark URL, which gives the network location of the cluste'r master node. Spark URL- spark://<IP address | DNS name>:<port>. \n",
        "Examples:  \n",
        "* local - only 1 core;\n",
        "* local[4] - 4 cores; or\n",
        "* local[*] - all avaliable cores. "
      ],
      "metadata": {
        "id": "jZ927DC8zf4S"
      }
    },
    {
      "cell_type": "markdown",
      "source": [
        "**Creating a SparkSession**  \n",
        "spark= SparkSession.builder.master('local[*]').appName('first_spark_application').getOrCreate()"
      ],
      "metadata": {
        "id": "_AQVaeVF3LMs"
      }
    },
    {
      "cell_type": "markdown",
      "source": [
        "It is good practice to stop the SparkSession.  \n",
        "spark.stop()"
      ],
      "metadata": {
        "id": "onZ7k-Mw3j2D"
      }
    },
    {
      "cell_type": "code",
      "source": [
        "spark.stop()"
      ],
      "metadata": {
        "id": "ABqW7AnN40ST"
      },
      "execution_count": null,
      "outputs": []
    },
    {
      "cell_type": "code",
      "source": [
        "from pyspark.sql import SparkSession\n",
        "spark = SparkSession.builder \\\n",
        "                    .master('local[*]') \\\n",
        "                    .appName('test') \\\n",
        "                    .getOrCreate()\n",
        "print(spark.version)"
      ],
      "metadata": {
        "colab": {
          "base_uri": "https://localhost:8080/"
        },
        "id": "N4DtLtLC44Oj",
        "outputId": "1f33dfd5-2903-4fb4-e760-ec95e11284a7"
      },
      "execution_count": 2,
      "outputs": [
        {
          "output_type": "stream",
          "name": "stdout",
          "text": [
            "3.3.2\n"
          ]
        }
      ]
    },
    {
      "cell_type": "markdown",
      "source": [
        "**Loading data**  \n",
        "Spark represents tabular data using the DataFrame class. The data are captured as rows (or \"records\"), each of which is broken down into one or more columns (or \"fields\").  \n",
        "Selected methods:  \n",
        "* count()  \n",
        "* show()  \n",
        "* printSchema()  \n",
        "Selected attributes  \n",
        "* dtypes  \n",
        "  \n",
        "The printSchema() method and the dtypes attribute give different views on column types. This is really scratching the surface of what's possible with a DataFrame. You can find out more by consulting the extensive documentation. \n",
        "  \n",
        "Reading data from CSV  \n",
        "The .csv method reads a Csv file and returns a DataFrame.  \n",
        "  \n",
        "cars = spark.read.csv('cars.csv', header=True, sep=',', inferSchema=True, nullValue=)  \n",
        "\n",
        "InferSchema - deduce column datatypes from data. \n",
        "nullValue - placeholder for missing data  \n",
        "\n",
        "cars.printSchema()     \n",
        "\n",
        "The csv() method treats all columns as strings by default. We can infer the column types from the data or manually specify the types.    \n",
        "\n",
        "Dealing with missing data. Using the nullValue argument:  \n",
        "cars = spark.read.csv('cars.csv', header=True, sep=',', inferSchema=True, nullValue='NA')   \n",
        "\n",
        "If inferring column type is not successful then you have the option of specifying the type of each column in an explicit schema. \n",
        "\n",
        "schema = StructType([ StrcutField(\"maker\", StringType()), StructField(\"model\", StringType()),..., StructField(\"rpm\", IntegerType()), StructField(\"consumption\", DoubleType()) ])\n",
        "\n",
        "cars = spark.read.csv('cars.csv', header=True, sep=',', schema=schema, nullValue='NA')           "
      ],
      "metadata": {
        "id": "TeIQHtgU5F78"
      }
    },
    {
      "cell_type": "code",
      "source": [
        "# Read csv\n",
        "flights= spark.read.csv('/content/drive/MyDrive/Physics/Books_articles_works/Programming/Individual_projects/Machine learning notes and projects/machine_learning_with_pyspark/flights-larger.csv', header=True, inferSchema=True, nullValue='NA' )\n",
        "print(\"The data contain %d records.\" % flights.count())\n",
        "print(flights.show(5))\n",
        "print(flights.dtypes)"
      ],
      "metadata": {
        "colab": {
          "base_uri": "https://localhost:8080/"
        },
        "id": "c3dolTb3_e_C",
        "outputId": "89833a85-8f1b-4cb6-b239-985a708f6b5d"
      },
      "execution_count": null,
      "outputs": [
        {
          "output_type": "stream",
          "name": "stdout",
          "text": [
            "The data contain 275000 records.\n",
            "+---+---+---+-------+------+---+----+------+--------+-----+\n",
            "|mon|dom|dow|carrier|flight|org|mile|depart|duration|delay|\n",
            "+---+---+---+-------+------+---+----+------+--------+-----+\n",
            "| 10| 10|  1|     OO|  5836|ORD| 157|  8.18|      51|   27|\n",
            "|  1|  4|  1|     OO|  5866|ORD| 466|  15.5|     102| null|\n",
            "| 11| 22|  1|     OO|  6016|ORD| 738|  7.17|     127|  -19|\n",
            "|  2| 14|  5|     B6|   199|JFK|2248| 21.17|     365|   60|\n",
            "|  5| 25|  3|     WN|  1675|SJC| 386| 12.92|      85|   22|\n",
            "+---+---+---+-------+------+---+----+------+--------+-----+\n",
            "only showing top 5 rows\n",
            "\n",
            "None\n",
            "[('mon', 'int'), ('dom', 'int'), ('dow', 'int'), ('carrier', 'string'), ('flight', 'int'), ('org', 'string'), ('mile', 'int'), ('depart', 'double'), ('duration', 'int'), ('delay', 'int')]\n"
          ]
        }
      ]
    },
    {
      "cell_type": "markdown",
      "source": [
        "Loading SMS spam data\n",
        "\n",
        "You've seen that it's possible to infer data types directly from the data. Sometimes it's convenient to have direct control over the column types. You do this by defining an explicit schema.\n",
        "\n",
        "The file sms.csv contains a selection of SMS messages which have been classified as either 'spam' or 'ham'. These data have been adapted from the UCI Machine Learning Repository. There are a total of 5574 SMS, of which 747 have been labelled as spam."
      ],
      "metadata": {
        "id": "pY4yYyUSBRzV"
      }
    },
    {
      "cell_type": "code",
      "source": [
        "from pyspark.sql.types import StructType, StructField, IntegerType, StringType\n",
        "\n",
        "# Specify column names and types\n",
        "schema = StructType([\n",
        "    StructField(\"id\", IntegerType()),\n",
        "    StructField(\"text\", StringType()),\n",
        "    StructField(\"label\", IntegerType())\n",
        "])\n",
        "\n",
        "# Load data from a delimited file\n",
        "sms = spark.read.csv('/content/drive/MyDrive/Physics/Books_articles_works/Programming/Individual_projects/Machine learning notes and projects/machine_learning_with_pyspark/sms.csv', sep=';', header=False, schema=schema)\n",
        "\n",
        "# Print schema of DataFrame\n",
        "sms.printSchema()"
      ],
      "metadata": {
        "id": "GAhd5nquMFJd",
        "colab": {
          "base_uri": "https://localhost:8080/"
        },
        "outputId": "7ca576b0-9ecc-4ca1-a58a-f42a713ca11c"
      },
      "execution_count": null,
      "outputs": [
        {
          "output_type": "stream",
          "name": "stdout",
          "text": [
            "root\n",
            " |-- id: integer (nullable = true)\n",
            " |-- text: string (nullable = true)\n",
            " |-- label: integer (nullable = true)\n",
            "\n"
          ]
        }
      ]
    },
    {
      "cell_type": "markdown",
      "source": [
        "## Classification  \n",
        "**Dropping columns**:  \n",
        "\\# Either drop the columns you don¿t want  \n",
        "cars=cars.drop('maker','model')  \n",
        "  \n",
        "\\# ... or select the columns you want to retain  \n",
        "cars = cars.select('origin','type', 'cyl', 'size', 'weight', 'lenght', 'rpm', 'consumption')\n",
        "  \n",
        " **Filtering out missing data**  \n",
        " \\# How many missing values?  \n",
        " cars.filter('cyl is NULL').count() \n",
        "\n",
        " Drop records with missing values in the cylinders column     \n",
        " cars= cars.filter('cyl IS NOT NULL')  \n",
        "\n",
        "Drop records with missing values in any columns  \n",
        "cars=cars.dropna() \n",
        "  \n",
        "**Mutating columns**  \n",
        "from pyspar.sql.function import round  \n",
        "cars=cars.withColumn('mass', round(cars.weight/2.205,0 ))  \n",
        "cars = cars.withColumn('length', round(cars.length* 0.0254, 3))  \n",
        "  \n",
        "**Indexing categorical data**\n",
        "from pyspark.mlfeature import StringIndexer  \n",
        "indexer= StringIndexer(inputCol='type', outputCol='type_idx')    \n",
        "indexer= indexer.fit(cars)  \n",
        "\\# Create column with index values \n",
        "cars= indexer.transform(cars)  \n",
        "  \n",
        "**Assembling columns**   \n",
        "Single vector predictors. Use a vector assembler to transform data\n",
        "from pyspark.sql.ml.feature import VectorAssembler  \n",
        "assembler= VectorAssembler(inputCols=['cyl', 'size' ], outputCol='features')    \n",
        "assembler.transform(cars)"
      ],
      "metadata": {
        "id": "Bh94en5182z0"
      }
    },
    {
      "cell_type": "markdown",
      "source": [
        "Removing columns and rows\n",
        "\n",
        "You previously loaded airline flight data from a CSV file. You're going to develop a model which will predict whether or not a given flight will be delayed.\n",
        "\n",
        "In this exercise you need to trim those data down by:\n",
        "\n",
        "*    removing an uninformative column and\n",
        "*    removing rows which do not have information about whether or not a flight was delayed.\n",
        "\n",
        "The data are available as flights."
      ],
      "metadata": {
        "id": "bgBr6xibgCRS"
      }
    },
    {
      "cell_type": "code",
      "source": [
        "# Remove the 'flight' column\n",
        "flights_drop_column = flights.drop('flight')\n",
        "\n",
        "# Number of records with missing 'delay' values\n",
        "flights_drop_column.filter('delay IS NULL').count()\n",
        "\n",
        "# Remove records with missing 'delay' values\n",
        "flights_valid_delay = flights_drop_column.filter('delay IS NOT NULL')\n",
        "\n",
        "# Remove records with missing values in any column and get the number of remaining rows\n",
        "flights_none_missing = flights_valid_delay.dropna()\n",
        "print(flights_none_missing.count())"
      ],
      "metadata": {
        "colab": {
          "base_uri": "https://localhost:8080/"
        },
        "id": "sR2Rqmv7gHGp",
        "outputId": "f84e8fff-d9d1-455e-8467-06ddc1688495"
      },
      "execution_count": null,
      "outputs": [
        {
          "output_type": "stream",
          "name": "stdout",
          "text": [
            "258289\n"
          ]
        }
      ]
    },
    {
      "cell_type": "markdown",
      "source": [
        "Column manipulation\n",
        "\n",
        "The Federal Aviation Administration (FAA) considers a flight to be \"delayed\" when it arrives 15 minutes or more after its scheduled time.\n",
        "\n",
        "The next step of preparing the flight data has two parts:\n",
        "\n",
        "*    convert the units of distance, replacing the mile column with a kmcolumn; and\n",
        "*    create a Boolean column indicating whether or not a flight was delayed.\n"
      ],
      "metadata": {
        "id": "f07t2vhknrvD"
      }
    },
    {
      "cell_type": "code",
      "source": [
        "# Import the required function\n",
        "from pyspark.sql.functions import round\n",
        "\n",
        "# Convert 'mile' to 'km' and drop 'mile' column (1 mile is equivalent to 1.60934 km)\n",
        "flights_km = flights_none_missing.withColumn('km', round(flights_none_missing.mile * 1.60934, 0)) \\\n",
        "                    .drop('mile')\n",
        "\n",
        "# Create 'label' column indicating whether flight delayed (1) or not (0)\n",
        "flights_km = flights_km.withColumn('label', (flights_none_missing.delay>=15).cast('integer'))\n",
        "\n",
        "# Check first five records\n",
        "flights_km.show(5)"
      ],
      "metadata": {
        "colab": {
          "base_uri": "https://localhost:8080/"
        },
        "id": "1s-xCCdTpGd8",
        "outputId": "348b4b58-f2d5-4876-bf13-9e18fd87143d"
      },
      "execution_count": null,
      "outputs": [
        {
          "output_type": "stream",
          "name": "stdout",
          "text": [
            "+---+---+---+-------+---+------+--------+-----+------+-----+\n",
            "|mon|dom|dow|carrier|org|depart|duration|delay|    km|label|\n",
            "+---+---+---+-------+---+------+--------+-----+------+-----+\n",
            "| 10| 10|  1|     OO|ORD|  8.18|      51|   27| 253.0|    1|\n",
            "| 11| 22|  1|     OO|ORD|  7.17|     127|  -19|1188.0|    0|\n",
            "|  2| 14|  5|     B6|JFK| 21.17|     365|   60|3618.0|    1|\n",
            "|  5| 25|  3|     WN|SJC| 12.92|      85|   22| 621.0|    1|\n",
            "|  3| 28|  1|     B6|LGA| 13.33|     182|   70|1732.0|    1|\n",
            "+---+---+---+-------+---+------+--------+-----+------+-----+\n",
            "only showing top 5 rows\n",
            "\n"
          ]
        }
      ]
    },
    {
      "cell_type": "markdown",
      "source": [
        "Categorical columns\n",
        "\n",
        "In the flights data there are two columns, carrier and org, which hold categorical data. You need to transform those columns into indexed numerical values."
      ],
      "metadata": {
        "id": "18vHrHLppTum"
      }
    },
    {
      "cell_type": "code",
      "source": [
        "from pyspark.ml.feature import StringIndexer\n",
        "\n",
        "# Create an indexer\n",
        "indexer = StringIndexer(inputCol='carrier', outputCol='carrier_idx')\n",
        "\n",
        "# Indexer identifies categories in the data\n",
        "indexer_model = indexer.fit(flights_km)\n",
        "\n",
        "# Indexer creates a new column with numeric index values\n",
        "flights_indexed = indexer_model.transform(flights_km)\n",
        "\n",
        "# Repeat the process for the other categorical feature\n",
        "flights_indexed = StringIndexer(inputCol='org', outputCol='org_idx').fit(flights_indexed).transform(flights_indexed)\n",
        "flights_indexed.show(5)"
      ],
      "metadata": {
        "colab": {
          "base_uri": "https://localhost:8080/"
        },
        "id": "01VafuM5pWRb",
        "outputId": "ae580749-7196-4f2e-9137-50bc14b091d9"
      },
      "execution_count": null,
      "outputs": [
        {
          "output_type": "stream",
          "name": "stdout",
          "text": [
            "+---+---+---+-------+---+------+--------+-----+------+-----+-----------+-------+\n",
            "|mon|dom|dow|carrier|org|depart|duration|delay|    km|label|carrier_idx|org_idx|\n",
            "+---+---+---+-------+---+------+--------+-----+------+-----+-----------+-------+\n",
            "| 10| 10|  1|     OO|ORD|  8.18|      51|   27| 253.0|    1|        2.0|    0.0|\n",
            "| 11| 22|  1|     OO|ORD|  7.17|     127|  -19|1188.0|    0|        2.0|    0.0|\n",
            "|  2| 14|  5|     B6|JFK| 21.17|     365|   60|3618.0|    1|        4.0|    2.0|\n",
            "|  5| 25|  3|     WN|SJC| 12.92|      85|   22| 621.0|    1|        3.0|    5.0|\n",
            "|  3| 28|  1|     B6|LGA| 13.33|     182|   70|1732.0|    1|        4.0|    3.0|\n",
            "+---+---+---+-------+---+------+--------+-----+------+-----+-----------+-------+\n",
            "only showing top 5 rows\n",
            "\n"
          ]
        }
      ]
    },
    {
      "cell_type": "code",
      "source": [
        "flights=flights_indexed.select('mon','dom','dow','carrier_idx','org_idx','km','depart','duration','delay','label')"
      ],
      "metadata": {
        "id": "E7Z1OMestZcI"
      },
      "execution_count": null,
      "outputs": []
    },
    {
      "cell_type": "markdown",
      "source": [
        "Assembling columns\n",
        "\n",
        "The final stage of data preparation is to consolidate all of the predictor columns into a single column."
      ],
      "metadata": {
        "id": "40SjdqJeq9yg"
      }
    },
    {
      "cell_type": "code",
      "source": [
        "# Import the necessary class\n",
        "from pyspark.ml.feature import VectorAssembler\n",
        "\n",
        "# Create an assembler object\n",
        "assembler = VectorAssembler(inputCols=['mon','dom','dow','carrier_idx','org_idx','km','depart','duration'], outputCol='features')\n",
        "\n",
        "# Consolidate predictor columns\n",
        "flights_assembled = assembler.transform(flights)\n",
        "\n",
        "# Check the resulting column\n",
        "flights_assembled.select('features', 'delay').show(5, truncate=False)"
      ],
      "metadata": {
        "colab": {
          "base_uri": "https://localhost:8080/"
        },
        "id": "MVQvsIBVxvmd",
        "outputId": "88252bff-9bb5-4503-b7f0-b198947dbc55"
      },
      "execution_count": null,
      "outputs": [
        {
          "output_type": "stream",
          "name": "stdout",
          "text": [
            "+-----------------------------------------+-----+\n",
            "|features                                 |delay|\n",
            "+-----------------------------------------+-----+\n",
            "|[10.0,10.0,1.0,2.0,0.0,253.0,8.18,51.0]  |27   |\n",
            "|[11.0,22.0,1.0,2.0,0.0,1188.0,7.17,127.0]|-19  |\n",
            "|[2.0,14.0,5.0,4.0,2.0,3618.0,21.17,365.0]|60   |\n",
            "|[5.0,25.0,3.0,3.0,5.0,621.0,12.92,85.0]  |22   |\n",
            "|[3.0,28.0,1.0,4.0,3.0,1732.0,13.33,182.0]|70   |\n",
            "+-----------------------------------------+-----+\n",
            "only showing top 5 rows\n",
            "\n"
          ]
        }
      ]
    },
    {
      "cell_type": "markdown",
      "source": [
        "### Decision tree  \n",
        "A decision tree is constructed using an algorithm called \"Recursive Partitioning\". We depart from a root node. We split the data into two groups once identified the most informative predictor. And this is where the recursion kicks in: you then apply exactly the same procedure on each of the child nodes, selecting the most informative predictor and splitting again. The depth of each branch of the tree need not be the same. If the number of records in a node falls below a threshold or the purity of a node is above a threshold, then you might stop splitting.   \n",
        "  \n",
        "We consolidate in our cleaning in a column called 'features'  which will be used to predict label.  \n",
        "\n",
        "We split the data into training and testing sets  \n",
        "train, test = cars.randomSplit([0.8,0.2], seed=23)  \n",
        "\n",
        "Build a decision tree model  \n",
        "from pyspark.ml.classification import DecisionTreeClassifier  \n",
        "tree = DecisionTreeClassifier()  \n",
        "tree_model = tree.fit(cars_train)  \n",
        "prediction = tree_model.transform(cars_test)  \n",
        "  \n",
        "A confusion matrix is a tablew which describes performance of a model on testing data\n",
        "prediction,groupBt(\"label\",\"prediction\").count().show()  "
      ],
      "metadata": {
        "id": "M4FEc-LM2IDe"
      }
    },
    {
      "cell_type": "markdown",
      "source": [
        "Train/test split\n",
        "\n",
        "To objectively assess a Machine Learning model you need to be able to test it on an independent set of data. You can't use the same data that you used to train the model: of course the model will perform (relatively) well on those data!\n",
        "\n",
        "You will split the data into two components:"
      ],
      "metadata": {
        "id": "CouFRjcR4ikg"
      }
    },
    {
      "cell_type": "code",
      "source": [
        "# Split into training and testing sets in a 80:20 ratio\n",
        "flights_train, flights_test = flights_assembled.randomSplit([0.8,0.2], seed=43)\n",
        "\n",
        "# Check that training set has around 80% of records\n",
        "training_ratio = flights_train.count() / flights.count()\n",
        "print(training_ratio)"
      ],
      "metadata": {
        "colab": {
          "base_uri": "https://localhost:8080/"
        },
        "id": "ToitfOON5ha5",
        "outputId": "7c622fb4-971a-404e-9be1-1194c07af613"
      },
      "execution_count": null,
      "outputs": [
        {
          "output_type": "stream",
          "name": "stdout",
          "text": [
            "0.8005915853946548\n"
          ]
        }
      ]
    },
    {
      "cell_type": "markdown",
      "source": [
        "Build a Decision Tree\n",
        "\n",
        "Now that you've split the flights data into training and testing sets, you can use the training set to fit a Decision Tree model.\n",
        "\n",
        "The data are available as flights_train and flights_test."
      ],
      "metadata": {
        "id": "YXW123t456IJ"
      }
    },
    {
      "cell_type": "code",
      "source": [
        "flights_train.show(5)"
      ],
      "metadata": {
        "colab": {
          "base_uri": "https://localhost:8080/"
        },
        "id": "m1xEPtTM7OjX",
        "outputId": "dff076e2-7aa5-4585-81cd-3a1f70fb5db3"
      },
      "execution_count": null,
      "outputs": [
        {
          "output_type": "stream",
          "name": "stdout",
          "text": [
            "+---+---+---+-----------+-------+-----+------+--------+-----+-----+--------------------+\n",
            "|mon|dom|dow|carrier_idx|org_idx|   km|depart|duration|delay|label|            features|\n",
            "+---+---+---+-----------+-------+-----+------+--------+-----+-----+--------------------+\n",
            "|  0|  1|  2|        0.0|    0.0|378.0|  7.58|      75|   42|    1|[0.0,1.0,2.0,0.0,...|\n",
            "|  0|  1|  2|        0.0|    0.0|378.0| 13.33|      76|   79|    1|[0.0,1.0,2.0,0.0,...|\n",
            "|  0|  1|  2|        0.0|    0.0|378.0| 18.27|      79|   41|    1|[0.0,1.0,2.0,0.0,...|\n",
            "|  0|  1|  2|        0.0|    0.0|386.0| 13.17|      68|   68|    1|[0.0,1.0,2.0,0.0,...|\n",
            "|  0|  1|  2|        0.0|    0.0|476.0| 16.08|      75|   58|    1|[0.0,1.0,2.0,0.0,...|\n",
            "+---+---+---+-----------+-------+-----+------+--------+-----+-----+--------------------+\n",
            "only showing top 5 rows\n",
            "\n"
          ]
        }
      ]
    },
    {
      "cell_type": "code",
      "source": [
        "# Import the Decision Tree Classifier \n",
        "from pyspark.ml.classification import DecisionTreeClassifier\n",
        "\n",
        "# Create a classifier object and fit to the training data\n",
        "tree = DecisionTreeClassifier()\n",
        "tree_model = tree.fit(flights_train)\n",
        "\n",
        "# Create predictions for the testing data and take a look at the predictions\n",
        "prediction = tree_model.transform(flights_test)\n",
        "prediction.select('label', 'prediction', 'probability').show(5, False)"
      ],
      "metadata": {
        "colab": {
          "base_uri": "https://localhost:8080/"
        },
        "id": "ii5AtCeI6dih",
        "outputId": "fdf647cd-634b-4c60-e306-ac8bf4a54929"
      },
      "execution_count": null,
      "outputs": [
        {
          "output_type": "stream",
          "name": "stdout",
          "text": [
            "+-----+----------+----------------------------------------+\n",
            "|label|prediction|probability                             |\n",
            "+-----+----------+----------------------------------------+\n",
            "|1    |1.0       |[0.38617219122634283,0.6138278087736572]|\n",
            "|1    |1.0       |[0.38617219122634283,0.6138278087736572]|\n",
            "|1    |1.0       |[0.38617219122634283,0.6138278087736572]|\n",
            "|1    |0.0       |[0.5099521289997481,0.49004787100025193]|\n",
            "|1    |0.0       |[0.5099521289997481,0.49004787100025193]|\n",
            "+-----+----------+----------------------------------------+\n",
            "only showing top 5 rows\n",
            "\n"
          ]
        }
      ]
    },
    {
      "cell_type": "markdown",
      "source": [
        "Evaluate the Decision Tree\n",
        "\n",
        "You can assess the quality of your model by evaluating how well it performs on the testing data. Because the model was not trained on these data, this represents an objective assessment of the model.\n",
        "\n",
        "A confusion matrix gives a useful breakdown of predictions versus known values. It has four cells which represent the counts of:\n",
        "\n",
        "*    True Negatives (TN) — model predicts negative outcome & known outcome is negative\n",
        "*    True Positives (TP) — model predicts positive outcome & known outcome is positive\n",
        "*    False Negatives (FN) — model predicts negative outcome but known outcome is positive\n",
        "*    False Positives (FP) — model predicts positive outcome but known outcome is negative.\n",
        "\n",
        "These counts (TN, TP, FN and FP) should sum to the number of records in the testing data, which is only a subset of the flights data. You can compare to the number of records in the tests data, which is flights_test.count()."
      ],
      "metadata": {
        "id": "dZFifdJS8OL6"
      }
    },
    {
      "cell_type": "code",
      "source": [
        "# Create a confusion matrix\n",
        "prediction.groupBy('label', 'prediction').count().show()\n",
        "\n",
        "# Calculate the elements of the confusion matrix\n",
        "# Calculate the elements of the confusion matrix\n",
        "TN = prediction.filter('prediction = 0 AND label = prediction').count()\n",
        "TP = prediction.filter('prediction = 1 AND label = prediction').count()\n",
        "FN = prediction.filter('prediction = 0 AND label != prediction').count()\n",
        "FP = prediction.filter('prediction = 1 AND label != prediction').count()\n",
        "\n",
        "# Accuracy measures the proportion of correct predictions\n",
        "accuracy = (TN+TP)/(TN + TP + FN + FP)\n",
        "print(accuracy)"
      ],
      "metadata": {
        "colab": {
          "base_uri": "https://localhost:8080/"
        },
        "id": "ZwfesPPBAqaM",
        "outputId": "9334fa98-98f0-46a1-9817-6cb6af96095d"
      },
      "execution_count": null,
      "outputs": [
        {
          "output_type": "stream",
          "name": "stdout",
          "text": [
            "+-----+----------+-----+\n",
            "|label|prediction|count|\n",
            "+-----+----------+-----+\n",
            "|    1|       0.0| 9892|\n",
            "|    0|       0.0|16399|\n",
            "|    1|       1.0|16161|\n",
            "|    0|       1.0| 9053|\n",
            "+-----+----------+-----+\n",
            "\n",
            "0.6321716338219591\n"
          ]
        }
      ]
    },
    {
      "cell_type": "markdown",
      "source": [
        "The accuracy is decent but there are a lot of false predictions. We can make this model better!"
      ],
      "metadata": {
        "id": "vk-47w6EpV1A"
      }
    },
    {
      "cell_type": "code",
      "source": [
        "print('Hola')"
      ],
      "metadata": {
        "colab": {
          "base_uri": "https://localhost:8080/"
        },
        "id": "fedbCm-HJ6zW",
        "outputId": "66be3a3f-4c1e-4cc3-80f6-c7ae368b2713"
      },
      "execution_count": null,
      "outputs": [
        {
          "output_type": "stream",
          "name": "stdout",
          "text": [
            "Hola\n"
          ]
        }
      ]
    },
    {
      "cell_type": "markdown",
      "source": [
        "### Logistic Regression  \n",
        "It uses a logistic function to model a binary target. The x-axis is a linear combination of predictor. Since the value of the logistic function is a number between zero and one, it is often thought of as a probability. It is compared to a treshold, which is 0.5. \n",
        "  \n",
        "**Build a Logistic Regression model**  \n",
        "from pyspark.ml.classification import LogisticRegression  \n",
        "logistic = LogisticRegression()    \n",
        "logistic = logistic.fit(cars_train)  \n",
        "prediction = logistic.transform(cars_test)  \n",
        "\n",
        "**Precision and recall**\n",
        "Consult the confusion matrix.  \n",
        "* Precision is the proportion of positive predictions which are correct. TP/(TP+FP) \n",
        "* Recall is the proportion of positive targets which are correctly predicted. TP/(TP+FN).  \n",
        "  \n",
        "**Weighted metrics**  \n",
        "from pyspark.sql.evaluation import MulticlassClassificationEvaluator  \n",
        "evaluator= MulticlassClassificationEvaluator()  \n",
        "evaluator.evaluate(prediciton, {evaluator.metricName; 'weightedPrecision'})   \n",
        "Other metrics:  \n",
        "* weightRecall\n",
        "* accuracy \n",
        "* f1\n",
        "ROC = \"Receiver operating Characteristic\"\n",
        "* tp vs fp\n",
        "* treshold = 0\n",
        "* treshold = 1\n",
        "\n"
      ],
      "metadata": {
        "id": "F5ZTNFwwDAw0"
      }
    },
    {
      "cell_type": "markdown",
      "source": [
        "Build a Logistic Regression model\n",
        "\n",
        "You've already built a Decision Tree model using the flights data. Now you're going to create a Logistic Regression model on the same data.\n",
        "\n",
        "The objective is to predict whether a flight is likely to be delayed by at least 15 minutes (label 1) or not (label 0).\n",
        "\n",
        "Although you have a variety of predictors at your disposal, you'll only use the mon, depart and duration columns for the moment. These are numerical features which can immediately be used for a Logistic Regression model. You'll need to do a little more work before you can include categorical features. Stay tuned!"
      ],
      "metadata": {
        "id": "6WnBhgm0RBy-"
      }
    },
    {
      "cell_type": "code",
      "source": [
        "from pyspark.ml.feature import VectorAssembler\n",
        "\n",
        "flights_logistic=flights.select(['mon','depart','duration','label'])\n",
        "assembler=VectorAssembler(inputCols=['mon','depart','duration'],outputCol='features')\n",
        "flights_logistic_ensembled=assembler.transform(flights_logistic)\n",
        "\n",
        "flights_logistic_train, flights_logistic_test = flights_logistic_ensembled.randomSplit([0.8,0.2], seed=42)\n"
      ],
      "metadata": {
        "id": "SSNcTO84RLMk"
      },
      "execution_count": null,
      "outputs": []
    },
    {
      "cell_type": "code",
      "source": [
        "flights_logistic_train.show(4)"
      ],
      "metadata": {
        "colab": {
          "base_uri": "https://localhost:8080/"
        },
        "id": "QT2j25r8bzeN",
        "outputId": "e41f7d51-1ede-4acb-cea1-e77ffea1f9c7"
      },
      "execution_count": null,
      "outputs": [
        {
          "output_type": "stream",
          "name": "stdout",
          "text": [
            "+---+------+--------+-----+----------------+\n",
            "|mon|depart|duration|label|        features|\n",
            "+---+------+--------+-----+----------------+\n",
            "|  0|  0.25|     308|    0|[0.0,0.25,308.0]|\n",
            "|  0|  0.25|     308|    0|[0.0,0.25,308.0]|\n",
            "|  0|  0.25|     308|    0|[0.0,0.25,308.0]|\n",
            "|  0|  0.25|     308|    1|[0.0,0.25,308.0]|\n",
            "+---+------+--------+-----+----------------+\n",
            "only showing top 4 rows\n",
            "\n"
          ]
        }
      ]
    },
    {
      "cell_type": "code",
      "source": [
        "# Import the logistic regression class\n",
        "from pyspark.ml.classification import LogisticRegression\n",
        "\n",
        "# Create a classifier object and train on training data\n",
        "logistic = LogisticRegression().fit(flights_logistic_train)\n",
        "\n",
        "# Create predictions for the testing data and show confusion matrix\n",
        "prediction = logistic.transform(flights_logistic_test)\n",
        "prediction.groupBy('label', 'prediction').count().show()"
      ],
      "metadata": {
        "colab": {
          "base_uri": "https://localhost:8080/"
        },
        "id": "szmNTdmBT74W",
        "outputId": "c00129c4-2b7d-4656-afbc-a40ce15c691a"
      },
      "execution_count": null,
      "outputs": [
        {
          "output_type": "stream",
          "name": "stdout",
          "text": [
            "+-----+----------+-----+\n",
            "|label|prediction|count|\n",
            "+-----+----------+-----+\n",
            "|    1|       0.0|10501|\n",
            "|    0|       0.0|14588|\n",
            "|    1|       1.0|15826|\n",
            "|    0|       1.0|10811|\n",
            "+-----+----------+-----+\n",
            "\n"
          ]
        }
      ]
    },
    {
      "cell_type": "markdown",
      "source": [
        "Evaluate the Logistic Regression model\n",
        "\n",
        "Accuracy is generally not a very reliable metric because it can be biased by the most common target class.\n",
        "\n",
        "There are two other useful metrics:\n",
        "\n",
        " *   precision and\n",
        " *   recall.\n",
        "\n",
        "Check the slides for this lesson to get the relevant expressions.\n",
        "\n",
        "Precision is the proportion of positive predictions which are correct. For all flights which are predicted to be delayed, what proportion is actually delayed?\n",
        "\n",
        "Recall is the proportion of positives outcomes which are correctly predicted. For all delayed flights, what proportion is correctly predicted by the model?\n",
        "\n",
        "The precision and recall are generally formulated in terms of the positive target class. But it's also possible to calculate weighted versions of these metrics which look at both target classes."
      ],
      "metadata": {
        "id": "VNOF6hX0ccR5"
      }
    },
    {
      "cell_type": "code",
      "source": [
        "TN = prediction.filter('prediction = 0 AND label = prediction').count()\n",
        "TP = prediction.filter('prediction = 1 AND label = prediction').count()\n",
        "FN = prediction.filter('prediction = 0 AND label != prediction').count()\n",
        "FP = prediction.filter('prediction = 1 AND label != prediction').count()"
      ],
      "metadata": {
        "id": "UJSmUWQ-cfXk"
      },
      "execution_count": null,
      "outputs": []
    },
    {
      "cell_type": "code",
      "source": [
        "from pyspark.ml.evaluation import MulticlassClassificationEvaluator, BinaryClassificationEvaluator\n",
        "\n",
        "# Calculate precision and recall\n",
        "precision = TP/(TP+FP)\n",
        "recall = TP/(TP+FN)\n",
        "print('precision = {:.2f}\\nrecall    = {:.2f}'.format(precision, recall))\n",
        "\n",
        "# Find weighted precision\n",
        "multi_evaluator = MulticlassClassificationEvaluator()\n",
        "weighted_precision = multi_evaluator.evaluate(prediction, {multi_evaluator.metricName: \"weightedPrecision\"})\n",
        "\n",
        "# Find AUC\n",
        "binary_evaluator = BinaryClassificationEvaluator()\n",
        "auc = binary_evaluator.evaluate(prediction, {binary_evaluator.metricName: 'areaUnderROC'})"
      ],
      "metadata": {
        "colab": {
          "base_uri": "https://localhost:8080/"
        },
        "id": "3MfY-6k6cpXj",
        "outputId": "3791975c-b4e0-4f4b-a752-ed211c688c7f"
      },
      "execution_count": null,
      "outputs": [
        {
          "output_type": "stream",
          "name": "stdout",
          "text": [
            "precision = 0.59\n",
            "recall    = 0.60\n"
          ]
        }
      ]
    },
    {
      "cell_type": "code",
      "source": [
        "print(\"We hace a area under Roc of: \",auc)"
      ],
      "metadata": {
        "colab": {
          "base_uri": "https://localhost:8080/"
        },
        "id": "-qvIao6Zf42T",
        "outputId": "5483cbb4-099a-42e0-e8e7-6cb46994da99"
      },
      "execution_count": null,
      "outputs": [
        {
          "output_type": "stream",
          "name": "stdout",
          "text": [
            "We hace a area under Roc of:  0.623161235427964\n"
          ]
        }
      ]
    },
    {
      "cell_type": "markdown",
      "source": [
        "**Turning text into tables**  \n",
        "It is said that 80% of Machine Learning is data preparation.  \n",
        "Before using ML algorithms we need to take unstructured text data and convert it to tables.  \n",
        "  \n",
        "First the text is split into words or tokens. You then remove short or common words that do not convey too much information. The table will then indicate the number of times that each of the remaining words occurred in the text. This table is also known as a \"term-document matrix\". There are some nuances to the process, but that's the central idea.   \n",
        "  \n",
        "Removing puntuaction:  \n",
        "from pyspark.sql.functions import regexp_replace  \n",
        "\\# Regular expression (REGEX) to match commas and hyphens  \n",
        "REGEX = '[,\\\\-]'  \n",
        "books=books.withColumn('text', regexp_replace(books.text, REGEX, ' '))  "
      ],
      "metadata": {
        "id": "0yaJaUpyhl7T"
      }
    },
    {
      "cell_type": "markdown",
      "source": [
        "Text to tokens:  \n",
        "from pyspark.ml.feature import Tokenizer  \n",
        "books = Tokenizer(input='text', outputCol='tokens').transform(books)  \n",
        "  \n",
        "What are stop words? They are the common words, and they convey very little information. We have to remove them.  \n",
        "from pyspark.ml.feature import StopWordsRemover  \n",
        "\n",
        "stopwords= StopWordsRemover()   \n",
        "stopwords.getStopWords()  \n",
        "\n",
        "Since you didn't give the input and output column names earlier, you specify them now and then apply the transform method. You could also have given these names when you created the remover.   \n",
        "\n",
        "stopwords= stopwords.setInputCol('tokens').setOutputCol('words')  \n",
        "books=stopwords.transform(books)  \n",
        "  \n",
        "Feature hashing:  \n",
        "Convert words into numbers  \n",
        "from pyspar.ml.feature import HashinTF  \n",
        "hasher=HashingTF(inputCol='words',outputCol='hash', numFeatures=32)  \n",
        "books= hasher.transform(books) "
      ],
      "metadata": {
        "id": "haYHg3ITi76I"
      }
    },
    {
      "cell_type": "markdown",
      "source": [
        "The final step is to account for some words occurring frequently across many documents. If a word appears in many documents then it's probably going to be less useful for building a classifier. We want to weight the number of counts for a word in a particular document against how frequently that word occurs across all documents. To do this you reduce the effective count for more common words, giving what is known as the \"inverse document frequency\". "
      ],
      "metadata": {
        "id": "fKT6EyLckyw1"
      }
    },
    {
      "cell_type": "markdown",
      "source": [
        "from pyspark.ml.feature import IDF  \n",
        "books = IDF(inputCol='hash', outputCol='features').fit(books).transform(books)"
      ],
      "metadata": {
        "id": "QxTeSjL_k7V2"
      }
    },
    {
      "cell_type": "markdown",
      "source": [
        "Punctuation, numbers and tokens\n",
        "\n",
        "At the end of the previous chapter you loaded a dataset of SMS messages which had been labeled as either \"spam\" (label 1) or \"ham\" (label 0). You're now going to use those data to build a classifier model.\n",
        "\n",
        "But first you'll need to prepare the SMS messages as follows:\n",
        "\n",
        "*    remove punctuation and numbers\n",
        "*    tokenize (split into individual words)\n",
        "*    remove stop words\n",
        "*    apply the hashing trick\n",
        "*    convert to TF-IDF representation.\n",
        "\n",
        "In this exercise you'll remove punctuation and numbers, then tokenize the messages."
      ],
      "metadata": {
        "id": "a6eht1y6mU4f"
      }
    },
    {
      "cell_type": "code",
      "source": [
        "from pyspark.sql.functions import regexp_replace\n",
        "from pyspark.ml.feature import Tokenizer\n",
        "\n",
        "# Remove punctuation (REGEX provided) and numbers\n",
        "wrangled = sms.withColumn('text', regexp_replace(sms.text, '[_():;,.!?\\\\-]',' '))\n",
        "wrangled = wrangled.withColumn('text', regexp_replace(wrangled.text, '[0-9]', ' '))\n",
        "\n",
        "# Mege multiple spaces  \n",
        "wrangled = wrangled.withColumn('text', regexp_replace(wrangled.text,  ' +', ' '))\n",
        "\n",
        "# Split the text into words  \n",
        "wrangled = Tokenizer(inputCol='text', outputCol='words').transform(wrangled)  \n",
        "\n",
        "wrangled.show(4, truncate=False)"
      ],
      "metadata": {
        "colab": {
          "base_uri": "https://localhost:8080/"
        },
        "id": "f-lcCMxPmdb1",
        "outputId": "d5f6e003-c36d-4a28-bc9e-923832c8a29c"
      },
      "execution_count": null,
      "outputs": [
        {
          "output_type": "stream",
          "name": "stdout",
          "text": [
            "+---+----------------------------------+-----+------------------------------------------+\n",
            "|id |text                              |label|words                                     |\n",
            "+---+----------------------------------+-----+------------------------------------------+\n",
            "|1  |Sorry I'll call later in meeting  |0    |[sorry, i'll, call, later, in, meeting]   |\n",
            "|2  |Dont worry I guess he's busy      |0    |[dont, worry, i, guess, he's, busy]       |\n",
            "|3  |Call FREEPHONE now                |1    |[call, freephone, now]                    |\n",
            "|4  |Win a cash prize or a prize worth |1    |[win, a, cash, prize, or, a, prize, worth]|\n",
            "+---+----------------------------------+-----+------------------------------------------+\n",
            "only showing top 4 rows\n",
            "\n"
          ]
        }
      ]
    },
    {
      "cell_type": "markdown",
      "source": [
        "Stop words and hashing\n",
        "\n",
        "The next steps will be to remove stop words and then apply the hashing trick, converting the results into a TF-IDF.\n",
        "\n",
        "A quick reminder about these concepts:\n",
        "\n",
        "*    The hashing trick provides a fast and space-efficient way to map a very large (possibly infinite) set of items (in this case, all words contained in the SMS messages) onto a smaller, finite number of values.\n",
        " *   The TF-IDF matrix reflects how important a word is to each document. It takes into account both the frequency of the word within each document but also the frequency of the word across all of the documents in the collection.\n",
        "\n",
        "The tokenized SMS data are stored in sms in a column named words. You've cleaned up the handling of spaces in the data so that the tokenized text is neater."
      ],
      "metadata": {
        "id": "0Mi_BYHFpMWO"
      }
    },
    {
      "cell_type": "code",
      "source": [
        "sms=wrangled.select('id','words','label')"
      ],
      "metadata": {
        "id": "-lh317HOqq9p"
      },
      "execution_count": null,
      "outputs": []
    },
    {
      "cell_type": "code",
      "source": [
        "sms.show(4)"
      ],
      "metadata": {
        "colab": {
          "base_uri": "https://localhost:8080/",
          "height": 166
        },
        "id": "8dz6yHnOrFDo",
        "outputId": "0d48d452-a562-43e9-f4ce-c9e3ccdb298f"
      },
      "execution_count": null,
      "outputs": [
        {
          "output_type": "error",
          "ename": "NameError",
          "evalue": "ignored",
          "traceback": [
            "\u001b[0;31m---------------------------------------------------------------------------\u001b[0m",
            "\u001b[0;31mNameError\u001b[0m                                 Traceback (most recent call last)",
            "\u001b[0;32m<ipython-input-1-3bcba7100c1b>\u001b[0m in \u001b[0;36m<module>\u001b[0;34m\u001b[0m\n\u001b[0;32m----> 1\u001b[0;31m \u001b[0msms\u001b[0m\u001b[0;34m.\u001b[0m\u001b[0mshow\u001b[0m\u001b[0;34m(\u001b[0m\u001b[0;36m4\u001b[0m\u001b[0;34m)\u001b[0m\u001b[0;34m\u001b[0m\u001b[0;34m\u001b[0m\u001b[0m\n\u001b[0m",
            "\u001b[0;31mNameError\u001b[0m: name 'sms' is not defined"
          ]
        }
      ]
    },
    {
      "cell_type": "code",
      "source": [
        "from pyspark.ml.feature import StopWordsRemover, HashingTF, IDF\n",
        "\n",
        "# Remove stop words.\n",
        "wrangled = StopWordsRemover(inputCol='words', outputCol='terms')\\\n",
        "      .transform(sms)\n",
        "\n",
        "# Apply the hashing trick\n",
        "wrangled = HashingTF(inputCol='terms', outputCol='hash', numFeatures=1024)\\\n",
        "      .transform(wrangled)\n",
        "\n",
        "# Convert hashed symbols to TF-IDF\n",
        "tf_idf = IDF(inputCol=\"hash\", outputCol=\"features\")\\\n",
        "      .fit(wrangled).transform(wrangled)\n",
        "      \n",
        "tf_idf.select('terms', 'features').show(4, truncate=False)"
      ],
      "metadata": {
        "colab": {
          "base_uri": "https://localhost:8080/"
        },
        "id": "ofgXy1HCqqZj",
        "outputId": "8e6a28b4-fabb-4a4c-a16d-ea236e380fab"
      },
      "execution_count": null,
      "outputs": [
        {
          "output_type": "stream",
          "name": "stdout",
          "text": [
            "+--------------------------------+----------------------------------------------------------------------------------------------------+\n",
            "|terms                           |features                                                                                            |\n",
            "+--------------------------------+----------------------------------------------------------------------------------------------------+\n",
            "|[sorry, call, later, meeting]   |(1024,[138,384,577,996],[2.273418200008753,3.6288353225642043,3.5890949939146903,4.104259019279279])|\n",
            "|[dont, worry, guess, busy]      |(1024,[215,233,276,329],[3.9913186080986836,3.3790235241678332,4.734227298217693,4.58299632849377]) |\n",
            "|[call, freephone]               |(1024,[133,138],[5.367951058306837,2.273418200008753])                                              |\n",
            "|[win, cash, prize, prize, worth]|(1024,[31,47,62,389],[3.6632029660684124,4.754846585420428,4.072170704727778,7.064594791043114])    |\n",
            "+--------------------------------+----------------------------------------------------------------------------------------------------+\n",
            "only showing top 4 rows\n",
            "\n"
          ]
        }
      ]
    },
    {
      "cell_type": "markdown",
      "source": [
        "Training a spam classifier\n",
        "\n",
        "The SMS data have now been prepared for building a classifier. Specifically, this is what you have done:\n",
        "\n",
        "*    removed numbers and punctuation\n",
        "*    split the messages into words (or \"tokens\")\n",
        "*    removed stop words\n",
        "*    applied the hashing trick and\n",
        "*    converted to a TF-IDF representation.\n",
        "\n",
        "Next you'll need to split the TF-IDF data into training and testing sets. Then you'll use the training data to fit a Logistic Regression model and finally evaluate the performance of that model on the testing data."
      ],
      "metadata": {
        "id": "AWjSKaXxrbqx"
      }
    },
    {
      "cell_type": "code",
      "source": [
        "# Split the data into training and testing sets\n",
        "from pyspark.ml.classification import LogisticRegression\n",
        "\n",
        "sms_train, sms_test = tf_idf.randomSplit([0.8,0.2],seed=40)  \n",
        "logistic= LogisticRegression(regParam=0.2).fit(sms_train)  \n",
        "prediction=logistic.transform(sms_test)\n",
        "\n",
        "prediction.groupBy('label', 'prediction').count().show()"
      ],
      "metadata": {
        "colab": {
          "base_uri": "https://localhost:8080/"
        },
        "id": "pdNtXWwyrhQr",
        "outputId": "f49c917e-7f01-4a77-c312-c78f8163e289"
      },
      "execution_count": null,
      "outputs": [
        {
          "output_type": "stream",
          "name": "stdout",
          "text": [
            "+-----+----------+-----+\n",
            "|label|prediction|count|\n",
            "+-----+----------+-----+\n",
            "|    1|       0.0|   42|\n",
            "|    0|       0.0|  931|\n",
            "|    1|       1.0|  119|\n",
            "|    0|       1.0|    1|\n",
            "+-----+----------+-----+\n",
            "\n"
          ]
        }
      ]
    },
    {
      "cell_type": "markdown",
      "source": [
        "\n",
        "## Regression  \n",
        "**One-Hot Encoding**  \n",
        "We need to convert the index values into a format in which you can perform meaningful mathematical operations. We use binary value, or dummy variables, for each element of a categorical variable. Binary values then indicate the presence,1, or absence, 0, of the corresponding level. More level then more columns.  \n",
        "\n",
        "Dummy variables: sparse represenation. Store column index and value.  \n",
        "\n",
        "from pyspark.ml.feature import OneHotEncoder  \n",
        "onehot= OneHotEncoder(inputCols=['type_idx'], outputCols=['type_dummy'])     \n",
        "onehot= onehot.fit(cars)  \n",
        "onehot.categorySizes  \n",
        "  \n",
        "cars= onehot.transform(cars)  \n",
        "  \n",
        "Dense versus sparse  \n",
        "from pyspark.mllib.linalg import DenseVector, SparseVector  \n",
        " \n",
        "Sparse represenation is essentail for effective one-hot encoding on large data sets "
      ],
      "metadata": {
        "id": "kGwjkfmntc1i"
      }
    },
    {
      "cell_type": "markdown",
      "source": [
        "Encoding flight origin\n",
        "\n",
        "The org column in the flights data is a categorical variable giving the airport from which a flight departs.\n",
        "\n",
        "*    ORD — O'Hare International Airport (Chicago)\n",
        " *   SFO — San Francisco International Airport\n",
        "*    JFK — John F Kennedy International Airport (New York)\n",
        "*    LGA — La Guardia Airport (New York)\n",
        "*    SMF — Sacramento\n",
        "*    SJC — San Jose\n",
        "*    OGG — Kahului (Hawaii)\n",
        "\n",
        "Obviously this is only a small subset of airports. Nevertheless, since this is a categorical variable, it needs to be one-hot encoded before it can be used in a regression model."
      ],
      "metadata": {
        "id": "0XVH7x-K2UdL"
      }
    },
    {
      "cell_type": "code",
      "source": [
        "# import the dataset\n",
        "flights= spark.read.csv('/content/drive/MyDrive/Physics/Books_articles_works/Programming/Individual_projects/Machine learning notes and projects/machine_learning_with_pyspark/flights-larger.csv', header=True, inferSchema=True, nullValue='NA' )\n"
      ],
      "metadata": {
        "id": "deJmPAOw2nra"
      },
      "execution_count": null,
      "outputs": []
    },
    {
      "cell_type": "code",
      "source": [
        "from pyspark.ml.feature import StringIndexer\n",
        "\n",
        "indexer = StringIndexer(inputCol='org',outputCol='org_idx')\n",
        "indexer_model = indexer.fit(flights)\n",
        "flights_indexed = indexer_model.transform(flights)\n",
        "\n",
        "\n",
        "flights_indexed.show(5)"
      ],
      "metadata": {
        "colab": {
          "base_uri": "https://localhost:8080/"
        },
        "id": "GH_nQ0qg2xoQ",
        "outputId": "7949ddb2-9557-4a28-933c-2d461cee9b44"
      },
      "execution_count": null,
      "outputs": [
        {
          "output_type": "stream",
          "name": "stdout",
          "text": [
            "+---+---+---+-------+------+---+----+------+--------+-----+-------+\n",
            "|mon|dom|dow|carrier|flight|org|mile|depart|duration|delay|org_idx|\n",
            "+---+---+---+-------+------+---+----+------+--------+-----+-------+\n",
            "| 10| 10|  1|     OO|  5836|ORD| 157|  8.18|      51|   27|    0.0|\n",
            "|  1|  4|  1|     OO|  5866|ORD| 466|  15.5|     102| null|    0.0|\n",
            "| 11| 22|  1|     OO|  6016|ORD| 738|  7.17|     127|  -19|    0.0|\n",
            "|  2| 14|  5|     B6|   199|JFK|2248| 21.17|     365|   60|    2.0|\n",
            "|  5| 25|  3|     WN|  1675|SJC| 386| 12.92|      85|   22|    5.0|\n",
            "+---+---+---+-------+------+---+----+------+--------+-----+-------+\n",
            "only showing top 5 rows\n",
            "\n"
          ]
        }
      ]
    },
    {
      "cell_type": "code",
      "source": [
        "# Import the one hot encoder class\n",
        "from pyspark.ml.feature import OneHotEncoder\n",
        "\n",
        "# Create an instance of the one hot encoder\n",
        "onehot = OneHotEncoder(inputCols=['org_idx'], outputCols=['org_dummy'])\n",
        "\n",
        "# Apply the one hot encoder to the flights data\n",
        "onehot = onehot.fit(flights_indexed)\n",
        "flights_onehot = onehot.transform(flights_indexed)\n",
        "\n",
        "# Check the results\n",
        "flights_onehot.select('org', 'org_idx', 'org_dummy').distinct().sort('org_idx').show()"
      ],
      "metadata": {
        "colab": {
          "base_uri": "https://localhost:8080/"
        },
        "id": "A-2NgCFj5FGa",
        "outputId": "4870b8b3-063a-44c7-a248-d2a6636c92a0"
      },
      "execution_count": null,
      "outputs": [
        {
          "output_type": "stream",
          "name": "stdout",
          "text": [
            "+---+-------+-------------+\n",
            "|org|org_idx|    org_dummy|\n",
            "+---+-------+-------------+\n",
            "|ORD|    0.0|(7,[0],[1.0])|\n",
            "|SFO|    1.0|(7,[1],[1.0])|\n",
            "|JFK|    2.0|(7,[2],[1.0])|\n",
            "|LGA|    3.0|(7,[3],[1.0])|\n",
            "|SMF|    4.0|(7,[4],[1.0])|\n",
            "|SJC|    5.0|(7,[5],[1.0])|\n",
            "|TUS|    6.0|(7,[6],[1.0])|\n",
            "|OGG|    7.0|    (7,[],[])|\n",
            "+---+-------+-------------+\n",
            "\n"
          ]
        }
      ]
    },
    {
      "cell_type": "markdown",
      "source": [
        "**Regression**  \n",
        "The best model is found by minimizing a loss function, which is an equation that describes how ell the model fits the data.  \n",
        "The mean squared error loss function:  \n",
        "$$ MSE = \\frac{1}{N} \\sum_{i=1}^{N}(y_{i}-\\hat{y}_{i})^{2}  $$\n",
        "By minimizing the loss function we minimize the average residual pr the average distance between observed and modeled values.  \n",
        "  \n",
        "For linear regression  \n",
        "from pyspark.ml.regression import LinearRegression  \n",
        "regression= Linear Regression(labelCol='consumption')  \n",
        "  \n",
        "\\# Fit the model \n",
        "\n",
        "regression = regression.fit(train_set)  \n",
        "\n",
        "\\# predict on cars test  \n",
        "predicitons= regression.transform(test_set)\n",
        "\n",
        "\\# calculate rmse  \n",
        "from pyspark.ml.evaluation import RegressionEvaluator  \n",
        "RegressionEvaluator(labelCol=).evaluate(predictions)"
      ],
      "metadata": {
        "id": "N4y5ySev6OBw"
      }
    },
    {
      "cell_type": "markdown",
      "source": [
        "A RegressionEvaluator can also calculate the following metrics\n",
        "* mae, mean absolute error\n",
        "* r2\n",
        "* mse mean square error  \n",
        "\n",
        "A smaller rmse, always indicates better predicitons"
      ],
      "metadata": {
        "id": "aZq0QjCi9yXJ"
      }
    },
    {
      "cell_type": "markdown",
      "source": [
        "Flight duration model: Just distance\n",
        "\n",
        "In this exercise you'll build a regression model to predict flight duration (the duration column).\n",
        "\n",
        "For the moment you'll keep the model simple, including only the distance of the flight (the km column) as a predictor.\n",
        "\n",
        "The data are in flights. The first few records are displayed in the terminal. These data have also been split into training and testing sets and are available as flights_train and flights_test."
      ],
      "metadata": {
        "id": "GUPHIoAQ-kKt"
      }
    },
    {
      "cell_type": "code",
      "source": [
        "flights_onehot.show(4)"
      ],
      "metadata": {
        "colab": {
          "base_uri": "https://localhost:8080/"
        },
        "id": "_4jKa4sN-sN0",
        "outputId": "da971bcb-44bc-4e49-c1be-0bb81d70de5d"
      },
      "execution_count": null,
      "outputs": [
        {
          "output_type": "stream",
          "name": "stdout",
          "text": [
            "+---+---+---+-------+------+---+----+------+--------+-----+-------+-------------+\n",
            "|mon|dom|dow|carrier|flight|org|mile|depart|duration|delay|org_idx|    org_dummy|\n",
            "+---+---+---+-------+------+---+----+------+--------+-----+-------+-------------+\n",
            "| 10| 10|  1|     OO|  5836|ORD| 157|  8.18|      51|   27|    0.0|(7,[0],[1.0])|\n",
            "|  1|  4|  1|     OO|  5866|ORD| 466|  15.5|     102| null|    0.0|(7,[0],[1.0])|\n",
            "| 11| 22|  1|     OO|  6016|ORD| 738|  7.17|     127|  -19|    0.0|(7,[0],[1.0])|\n",
            "|  2| 14|  5|     B6|   199|JFK|2248| 21.17|     365|   60|    2.0|(7,[2],[1.0])|\n",
            "+---+---+---+-------+------+---+----+------+--------+-----+-------+-------------+\n",
            "only showing top 4 rows\n",
            "\n"
          ]
        }
      ]
    },
    {
      "cell_type": "markdown",
      "source": [
        "Flight duration model: Adding origin airport\n",
        "\n",
        "Some airports are busier than others. Some airports are bigger than others too. Flights departing from large or busy airports are likely to spend more time taxiing or waiting for their takeoff slot. So it stands to reason that the duration of a flight might depend not only on the distance being covered but also the airport from which the flight departs.\n",
        "\n",
        "You are going to make the regression model a little more sophisticated by including the departure airport as a predictor."
      ],
      "metadata": {
        "id": "JPhnw4XIJ5sl"
      }
    },
    {
      "cell_type": "code",
      "source": [
        "from pyspark.sql.functions import round\n",
        "flights_first_model = flights_onehot.withColumn('km', round(flights_onehot.mile*1.60934,0) ).drop('mile','dom','mon','dow','carrier','flight','org')\n",
        "flights_first_model.show(4)"
      ],
      "metadata": {
        "colab": {
          "base_uri": "https://localhost:8080/"
        },
        "id": "pKTlfcXq-jdb",
        "outputId": "367db73e-ff2c-4ee3-a167-d9b247aa536c"
      },
      "execution_count": null,
      "outputs": [
        {
          "output_type": "stream",
          "name": "stdout",
          "text": [
            "+------+--------+-----+-------+-------------+------+\n",
            "|depart|duration|delay|org_idx|    org_dummy|    km|\n",
            "+------+--------+-----+-------+-------------+------+\n",
            "|  8.18|      51|   27|    0.0|(7,[0],[1.0])| 253.0|\n",
            "|  15.5|     102| null|    0.0|(7,[0],[1.0])| 750.0|\n",
            "|  7.17|     127|  -19|    0.0|(7,[0],[1.0])|1188.0|\n",
            "| 21.17|     365|   60|    2.0|(7,[2],[1.0])|3618.0|\n",
            "+------+--------+-----+-------+-------------+------+\n",
            "only showing top 4 rows\n",
            "\n"
          ]
        }
      ]
    },
    {
      "cell_type": "code",
      "source": [
        "# Import the necessary class\n",
        "from pyspark.ml.feature import VectorAssembler\n",
        "assembler = VectorAssembler(inputCols=['depart','km','org_dummy'],outputCol='features')\n",
        "flights_linear_ensembled=assembler.transform(flights_first_model)\n",
        "\n",
        "flights_train, flights_test = flights_linear_ensembled.randomSplit([0.8,0.2], seed=42)\n"
      ],
      "metadata": {
        "id": "qs5Amk-NJrX8"
      },
      "execution_count": null,
      "outputs": []
    },
    {
      "cell_type": "code",
      "source": [
        "from pyspark.ml.regression import LinearRegression\n",
        "regression = LinearRegression(labelCol='duration').fit(flights_train)\n",
        "predictions = regression.transform(flights_test)\n",
        "\n",
        "predictions.select('duration','prediction').show(5, False)"
      ],
      "metadata": {
        "colab": {
          "base_uri": "https://localhost:8080/"
        },
        "id": "rJt9fTzcNgMA",
        "outputId": "8d8e8c59-1f74-4062-f107-f0cc4bbb6ee8"
      },
      "execution_count": null,
      "outputs": [
        {
          "output_type": "stream",
          "name": "stdout",
          "text": [
            "+--------+-----------------+\n",
            "|duration|prediction       |\n",
            "+--------+-----------------+\n",
            "|308     |331.3077543233163|\n",
            "|308     |331.3077543233163|\n",
            "|308     |331.3077543233163|\n",
            "|310     |331.3077543233163|\n",
            "|310     |331.3077543233163|\n",
            "+--------+-----------------+\n",
            "only showing top 5 rows\n",
            "\n"
          ]
        }
      ]
    },
    {
      "cell_type": "code",
      "source": [
        "from pyspark.ml.evaluation import RegressionEvaluator\n",
        "# Calculate the RMSE\n",
        "RegressionEvaluator(labelCol='duration').evaluate(predictions)"
      ],
      "metadata": {
        "colab": {
          "base_uri": "https://localhost:8080/"
        },
        "id": "dIGeWGrlPbam",
        "outputId": "0eba5183-a680-4060-9750-197f0605dd9e"
      },
      "execution_count": null,
      "outputs": [
        {
          "output_type": "execute_result",
          "data": {
            "text/plain": [
              "11.121581197597875"
            ]
          },
          "metadata": {},
          "execution_count": 19
        }
      ]
    },
    {
      "cell_type": "code",
      "source": [
        "regression.coefficients"
      ],
      "metadata": {
        "colab": {
          "base_uri": "https://localhost:8080/"
        },
        "id": "Suj1cnfJSziF",
        "outputId": "efed2504-a3ea-457d-a2f3-266795478783"
      },
      "execution_count": null,
      "outputs": [
        {
          "output_type": "execute_result",
          "data": {
            "text/plain": [
              "DenseVector([0.1502, 0.0744, 28.1959, 20.3157, 52.6834, 46.8384, 15.815, 18.0604, 18.1995])"
            ]
          },
          "metadata": {},
          "execution_count": 21
        }
      ]
    },
    {
      "cell_type": "code",
      "source": [
        "# Average speed in km per hour\n",
        "avg_speed_hour = 60 / regression.coefficients[1]\n",
        "print(avg_speed_hour)\n",
        "\n",
        "# Average minutes on ground at OGG\n",
        "inter = regression.intercept\n",
        "print(inter)\n",
        "\n",
        "# Average minutes on ground at JFK\n",
        "avg_ground_jfk = inter + regression.coefficients[4]\n",
        "print(avg_ground_jfk)\n",
        "\n",
        "# Average minutes on ground at LGA\n",
        "avg_ground_lga = inter + regression.coefficients[5]\n",
        "print(avg_ground_lga)"
      ],
      "metadata": {
        "colab": {
          "base_uri": "https://localhost:8080/"
        },
        "id": "ixuWvIZQR_6_",
        "outputId": "ebf511ef-64fe-42d7-bd7b-0546164fefc9"
      },
      "execution_count": null,
      "outputs": [
        {
          "output_type": "stream",
          "name": "stdout",
          "text": [
            "806.9468225922255\n",
            "13.799676566313796\n",
            "66.48302929150638\n",
            "60.63811997925713\n"
          ]
        }
      ]
    },
    {
      "cell_type": "markdown",
      "source": [
        "**Bucketing & Engineering**  \n",
        "The largest improvements in Machine Learning model performance are often achieved by carefully manipulating features.  \n",
        "\n",
        "It is often convenient to convert a continuous variable, like age or height, into discrete values.  This can be done by assigning values to buckets or bins with well defined boundaries. The buckets might have uniform or variable width. \n",
        "\n",
        "RPM buckets:  \n",
        "from pyspark.ml.feature import Bucketizer  \n",
        "bucketizer = Bucketizer(splits[3500,4500,6000,6500], inputCol=\"rpm\", outputCol='rpm_bin')  \n",
        "\n",
        "\\# Apply buckets to rpm column  \n",
        "bucketed = bucketizer.transform(cars)  \n",
        "\n",
        "The result is a new column with the discrete bucket values.\n",
        "Before we can use these index values, they first need to be one hot encoded"
      ],
      "metadata": {
        "id": "cf757kLNTJVO"
      }
    },
    {
      "cell_type": "markdown",
      "source": [
        "More feature engineering:  \n",
        "Operation on a single column: \n",
        "* log()\n",
        "* sqrt()\n",
        "* pow()\n",
        "  \n",
        "Operations on two columns:\n",
        "* product\n",
        "* ratio  "
      ],
      "metadata": {
        "id": "B87I2SLnWZGP"
      }
    },
    {
      "cell_type": "markdown",
      "source": [
        "Bucketing departure time\n",
        "\n",
        "Time of day data are a challenge with regression models. They are also a great candidate for bucketing.\n",
        "\n",
        "In this lesson you will convert the flight departure times from numeric values between 0 (corresponding to 00:00) and 24 (corresponding to 24:00) to binned values. You'll then take those binned values and one-hot encode them."
      ],
      "metadata": {
        "id": "W6XW9-SjW8sZ"
      }
    },
    {
      "cell_type": "code",
      "source": [
        "# Preparation for the following exercise  \n",
        "flights= spark.read.csv('/content/drive/MyDrive/Physics/Books_articles_works/Programming/Individual_projects/Machine learning notes and projects/machine_learning_with_pyspark/flights-larger.csv', header=True, inferSchema=True, nullValue='NA' )\n",
        "# Remove the 'flight' column\n",
        "flights_drop_column = flights.drop('flight')\n",
        "\n",
        "\n",
        "# Remove records with missing 'delay' values\n",
        "flights_valid_delay = flights_drop_column.filter('delay IS NOT NULL')\n",
        "\n",
        "# Remove records with missing values in any column and get the number of remaining rows\n",
        "flights_none_missing = flights_valid_delay.dropna()\n",
        "\n",
        "\n",
        "# Import the required function\n",
        "\n",
        "from pyspark.sql.functions import round\n",
        "\n",
        "# Convert 'mile' to 'km' and drop 'mile' column (1 mile is equivalent to 1.60934 km)\n",
        "flights_km = flights_none_missing.withColumn('km', round(flights_none_missing.mile * 1.60934, 0)) \\\n",
        "                    .drop('mile')\n",
        "\n",
        "# Create 'label' column indicating whether flight delayed (1) or not (0)\n",
        "#flights_km = flights_km.withColumn('label', (flights_none_missing.delay>=15).cast('integer'))\n",
        "\n",
        "from pyspark.ml.feature import StringIndexer\n",
        "\n",
        "indexer = StringIndexer(inputCol='org',outputCol='org_idx')\n",
        "indexer_model = indexer.fit(flights_km)\n",
        "flights_indexed = indexer_model.transform(flights_km)\n",
        "\n",
        "# Import the one hot encoder class\n",
        "from pyspark.ml.feature import OneHotEncoder\n",
        "\n",
        "# Create an instance of the one hot encoder\n",
        "onehot = OneHotEncoder(inputCols=['org_idx'], outputCols=['org_dummy'])\n",
        "\n",
        "# Apply the one hot encoder to the flights data\n",
        "onehot = onehot.fit(flights_indexed)\n",
        "flights_onehot = onehot.transform(flights_indexed)\n",
        "\n",
        "from pyspark.ml.feature import Bucketizer\n",
        "\n",
        "# Create buckets at 3 hour intervals through the day\n",
        "buckets = Bucketizer(splits=[0, 3, 6, 9, 12, 15, 18, 21, 24], inputCol='depart', outputCol='depart_bucket')\n",
        "\n",
        "# Bucket the departure times\n",
        "bucketed = buckets.transform(flights_onehot)\n",
        "\n",
        "# Create a one-hot encoder\n",
        "onehot = OneHotEncoder(inputCols=['depart_bucket'], outputCols=['depart_dummy'])\n",
        "\n",
        "# One-hot encode the bucketed departure times\n",
        "flights_onehot_final = onehot.fit(bucketed).transform(bucketed)\n",
        "\n",
        "# Assembling the features\n",
        "from pyspark.ml.feature import VectorAssembler\n",
        "assembler = VectorAssembler(inputCols=['km', 'org_dummy','depart_dummy'],outputCol='features')\n",
        "\n",
        "flights_linear_ensembled=assembler.transform(flights_onehot_final)\n",
        "\n",
        "flights_train, flights_test = flights_linear_ensembled.randomSplit([0.8,0.2], seed=42)\n"
      ],
      "metadata": {
        "id": "DrckXCzOW-zD"
      },
      "execution_count": null,
      "outputs": []
    },
    {
      "cell_type": "code",
      "source": [
        "from pyspark.ml.regression import LinearRegressionModel\n",
        "regression = LinearRegression(labelCol='duration').fit(flights_train)\n",
        "predictions = regression.transform(flights_test)\n",
        "predictions.select('duration','prediction').show(5, False)\n"
      ],
      "metadata": {
        "colab": {
          "base_uri": "https://localhost:8080/"
        },
        "id": "_M8t_lIXbVMJ",
        "outputId": "1e89188d-7319-49e9-a300-e8014f5e8ebe"
      },
      "execution_count": null,
      "outputs": [
        {
          "output_type": "stream",
          "name": "stdout",
          "text": [
            "+--------+------------------+\n",
            "|duration|prediction        |\n",
            "+--------+------------------+\n",
            "|225     |257.98136102105076|\n",
            "|185     |184.08144426008522|\n",
            "|379     |367.16408906438136|\n",
            "|170     |151.11179447952122|\n",
            "|190     |196.43193102856978|\n",
            "+--------+------------------+\n",
            "only showing top 5 rows\n",
            "\n"
          ]
        }
      ]
    },
    {
      "cell_type": "markdown",
      "source": [
        "Flight duration model: Adding departure time\n",
        "\n",
        "In the previous exercise the departure time was bucketed and converted to dummy variables. Now you're going to include those dummy variables in a regression model for flight duration.\n",
        "\n",
        "The data are in flights. The km, org_dummy and depart_dummy columns have been assembled into features, where km is index 0, org_dummy runs from index 1 to 7 and depart_dummy from index 8 to 14.\n",
        "\n",
        "The data have been split into training and testing sets and a linear regression model, regression, has been built on the training data. Predictions have been made on the testing data and are available as predictions."
      ],
      "metadata": {
        "id": "YFlPsE53aH7R"
      }
    },
    {
      "cell_type": "code",
      "source": [
        "# Find the RMSE on testing data\n",
        "from pyspark.ml.evaluation import RegressionEvaluator\n",
        "rmse = RegressionEvaluator(labelCol='duration').evaluate(predictions)\n",
        "print(\"The test RMSE is\", rmse)\n",
        "\n",
        "# Average minutes on ground at OGG for flights departing between 21:00 and 24:00\n",
        "avg_eve_ogg = regression.intercept\n",
        "print(avg_eve_ogg)\n",
        "\n",
        "# Average minutes on ground at OGG for flights departing between 03:00 and 06:00\n",
        "avg_night_ogg = regression.intercept + regression.coefficients[8]\n",
        "print(avg_night_ogg)\n",
        "\n",
        "# Average minutes on ground at JFK for flights departing between 03:00 and 06:00\n",
        "avg_night_jfk = regression.intercept + regression.coefficients[1] + regression.coefficients[8]\n",
        "print(avg_night_jfk)"
      ],
      "metadata": {
        "colab": {
          "base_uri": "https://localhost:8080/"
        },
        "id": "PflK-BxZbCJw",
        "outputId": "bbc0b46f-d7ae-44ec-d1b3-737bd694e40d"
      },
      "execution_count": null,
      "outputs": [
        {
          "output_type": "stream",
          "name": "stdout",
          "text": [
            "The test RMSE is 10.722938480854477\n",
            "10.118074686544054\n",
            "-4.427693845749994\n",
            "22.93268137003077\n"
          ]
        }
      ]
    },
    {
      "cell_type": "markdown",
      "source": [
        "**Regularization**  \n",
        "A linear regression model attempts to derive a coefficient for each feature in the data. The coefficients quantify the effect of the corresponding features.  \n",
        "\n",
        "Ideally you want to create a parsimonious model: one that has just the minimum requiere number of predictors. The obvious solution is to simply select the \"best\" subset of columns.  \n",
        " \n",
        "Approaches for feature selection. We explore penalize regression. The basic idea is that the model is penalized for having too many coefficients.  \n",
        "Add a regularization term which depends on coefficients\n",
        "  \n",
        "$$MSE = \\frac{1}{N} \\sum_{i=1}^{N}(y_{i}-\\hat{y}_{i})^{2}+\\lambda f(\\beta) $$ \n",
        "\n",
        " * Lasso - absolute value of the coefficients\n",
        " * Ridge - square of the coefficients  \n",
        "  \n",
        "\n",
        " Both will shrink the coefficients of unimportant predictors. \n",
        " The strenght of the regularization is determined by the paramater $\\lambda$: \n",
        " * $\\lambda=0$ - no regularization\n",
        " * $\\lambda = ∞$ - complete regularization (all coefficients zero)  \n",
        "   \n",
        "     \n",
        " Example Ridge regression: \n",
        " \\# alpha = 0 | lambda = 0.1 -> Ridge \n",
        " ridge= LinearRegression(labelCol='target',elasticNetParam=0,regParam=0.1)  \n",
        " ridge.fit(train_set)  \n",
        "  \n",
        "\n",
        "  Example Lasso regression: \n",
        " \\# alpha = 1 | lambda = 0.1 -> Lasso \n",
        " ridge= LinearRegression(labelCol='target',elasticNetParam=1,regParam=0.1)  \n",
        " ridge.fit(train_set) "
      ],
      "metadata": {
        "id": "fbIH_nyMiXhF"
      }
    },
    {
      "cell_type": "markdown",
      "source": [
        "Flight duration model: More features!\n",
        "\n",
        "Let's add more features to our model. This will not necessarily result in a better model. Adding some features might improve the model. Adding other features might make it worse.\n",
        "\n",
        "More features will always make the model more complicated and difficult to interpret.\n",
        "\n",
        "These are the features you'll include in the next model:\n",
        "\n",
        " *   km\n",
        " *   org (origin airport, one-hot encoded, 8 levels)\n",
        " *   depart (departure time, binned in 3 hour intervals, one-hot encoded, 8 levels)    \n",
        " \n",
        "*  dow (departure day of week, one-hot encoded, 7 levels) and  \n",
        "\n",
        "*  mon (departure month, one-hot encoded, 12 levels).\n",
        "\n",
        "These have been assembled into the features column, which is a sparse representation of 32 columns (remember one-hot encoding produces a number of columns which is one fewer than the number of levels).\n",
        "\n",
        "The data are available as flights, randomly split into flights_train and flights_test."
      ],
      "metadata": {
        "id": "oOhsDRl4moxD"
      }
    },
    {
      "cell_type": "code",
      "source": [
        "# To prepare the data for this exercise, we can depart from the dataframe flights_onehot_final\n",
        "flights_onehot_final.show(3)"
      ],
      "metadata": {
        "colab": {
          "base_uri": "https://localhost:8080/"
        },
        "id": "2CiATBDLbN7A",
        "outputId": "1660eb40-2bd4-49f9-b2dc-0febf3f26f11"
      },
      "execution_count": null,
      "outputs": [
        {
          "output_type": "stream",
          "name": "stdout",
          "text": [
            "+---+---+---+-------+---+------+--------+-----+------+-------+-------------+-------------+-------------+\n",
            "|mon|dom|dow|carrier|org|depart|duration|delay|    km|org_idx|    org_dummy|depart_bucket| depart_dummy|\n",
            "+---+---+---+-------+---+------+--------+-----+------+-------+-------------+-------------+-------------+\n",
            "| 10| 10|  1|     OO|ORD|  8.18|      51|   27| 253.0|    0.0|(7,[0],[1.0])|          2.0|(7,[2],[1.0])|\n",
            "| 11| 22|  1|     OO|ORD|  7.17|     127|  -19|1188.0|    0.0|(7,[0],[1.0])|          2.0|(7,[2],[1.0])|\n",
            "|  2| 14|  5|     B6|JFK| 21.17|     365|   60|3618.0|    2.0|(7,[2],[1.0])|          7.0|    (7,[],[])|\n",
            "+---+---+---+-------+---+------+--------+-----+------+-------+-------------+-------------+-------------+\n",
            "only showing top 3 rows\n",
            "\n"
          ]
        }
      ]
    },
    {
      "cell_type": "code",
      "source": [
        "# Then, we need to one hot depart and mon and assemble\n",
        "# hasta ahora voy sabiendo que mierdas eran mon y dow, ja\n",
        "from pyspark.ml.feature import OneHotEncoder, VectorAssembler\n",
        "one = OneHotEncoder(inputCols=['dow','mon'],outputCols=['dow_dummy','mon_dummy'])\n",
        "flights_regularization = one.fit(flights_onehot_final).transform(flights_onehot_final)\n",
        "\n",
        "assembler = VectorAssembler(inputCols=['km','org_dummy','depart_dummy','dow_dummy','mon_dummy'],outputCol='features')\n",
        "\n",
        "flights_regularization_assembled = assembler.transform(flights_regularization)\n",
        "\n",
        "flights_train, flights_test = flights_regularization_assembled.randomSplit([0.8,0.2],seed=32)"
      ],
      "metadata": {
        "id": "Woq79BpDn5rC"
      },
      "execution_count": null,
      "outputs": []
    },
    {
      "cell_type": "code",
      "source": [
        "from pyspark.ml.regression import LinearRegression\n",
        "from pyspark.ml.evaluation import RegressionEvaluator\n",
        "\n",
        "# Fit linear regression model to training data\n",
        "regression = LinearRegression(labelCol='duration').fit(flights_train)\n",
        "\n",
        "# Make predictions on testing data\n",
        "predictions = regression.transform(flights_test)\n",
        "\n",
        "# Calculate the RMSE on testing data\n",
        "rmse = RegressionEvaluator(labelCol='duration').evaluate(predictions)\n",
        "print(\"The test RMSE is\", rmse)\n",
        "\n",
        "# Look at the model coefficients\n",
        "coeffs = regression.coefficients\n",
        "print(coeffs)"
      ],
      "metadata": {
        "colab": {
          "base_uri": "https://localhost:8080/"
        },
        "id": "D4FgHW8mpu_d",
        "outputId": "3ed66f7b-8b67-4fd6-8d21-5374a83e2f73"
      },
      "execution_count": null,
      "outputs": [
        {
          "output_type": "stream",
          "name": "stdout",
          "text": [
            "The test RMSE is 10.64928079778294\n",
            "[0.07433706538079154,27.59607582867783,20.39049876469964,52.264356691192546,46.45258307215499,15.537400075394615,17.698836216477197,17.79802770733942,-14.372614374041811,0.24711753620045443,4.1444076002256445,7.077370544760745,4.767194404207318,8.867414225705039,9.008201593556448,0.00977089297573646,-0.13386694503102886,-0.15754357229429392,-0.08857355352782736,-0.05330158080827858,-0.09901200626828384,-1.6118737270736343,-1.9712724964046104,-2.028704227156197,-3.2801841872516833,-3.988715495637323,-3.835297146135713,-3.935081523787711,-3.9540004048671604,-3.7982220108560103,-2.5439972061924623,-0.4331608498458585]\n"
          ]
        }
      ]
    },
    {
      "cell_type": "markdown",
      "source": [
        "Flight duration model: Regularization!\n",
        "\n",
        "In the previous exercise you added more predictors to the flight duration model. The model performed well on testing data, but with so many coefficients it was difficult to interpret.\n",
        "\n",
        "In this exercise you'll use Lasso regression (regularized with a L1 penalty) to create a more parsimonious model. Many of the coefficients in the resulting model will be set to zero. This means that only a subset of the predictors actually contribute to the model. Despite the simpler model, it still produces a good RMSE on the testing data.\n",
        "\n",
        "You'll use a specific value for the regularization strength. Later you'll learn how to find the best value using cross validation.\n",
        "\n",
        "The data (same as previous exercise) are available as flights, randomly split into flights_train and flights_test.\n",
        "\n",
        "There are two parameters for this model, λ (regParam) and α (elasticNetParam), where α determines the type of regularization and λ gives the strength of regularization."
      ],
      "metadata": {
        "id": "OaHrSVmYrfFW"
      }
    },
    {
      "cell_type": "code",
      "source": [
        "from pyspark.ml.regression import LinearRegression\n",
        "from pyspark.ml.evaluation import RegressionEvaluator\n",
        "\n",
        "# Fit Lasso model (λ = 1, α = 1) to training data\n",
        "regression = LinearRegression(labelCol='duration', regParam=1, elasticNetParam=1).fit(flights_train)\n",
        "\n",
        "# Calculate the RMSE on testing data\n",
        "rmse = RegressionEvaluator(labelCol='duration').evaluate(regression.transform(flights_test))\n",
        "print(\"The test RMSE is\", rmse)\n",
        "\n",
        "# Look at the model coefficients\n",
        "coeffs = regression.coefficients\n",
        "print(coeffs)\n",
        "\n",
        "# Number of zero coefficients\n",
        "zero_coeff = sum([beta == 0 for beta in regression.coefficients])\n",
        "print(\"Number of coefficients equal to 0:\", zero_coeff)"
      ],
      "metadata": {
        "colab": {
          "base_uri": "https://localhost:8080/"
        },
        "id": "wZJj-KhKrigk",
        "outputId": "ee5fe496-4c41-4cc8-dece-cee0ddac547a"
      },
      "execution_count": null,
      "outputs": [
        {
          "output_type": "stream",
          "name": "stdout",
          "text": [
            "The test RMSE is 11.605345763094599\n",
            "[0.07351091909682127,5.6372138292313,0.0,29.298454617440633,22.360942805240093,-2.0167871520980203,0.0,0.0,0.0,0.0,0.0,0.0,0.0,0.9957784611144251,1.2834934086703345,0.0,0.0,0.0,0.0,0.0,0.0,0.0,0.0,0.0,0.0,0.0,0.0,0.0,0.0,0.0,0.0,0.0]\n",
            "Number of coefficients equal to 0: 25\n"
          ]
        }
      ]
    },
    {
      "cell_type": "markdown",
      "source": [
        "It was better the previous model."
      ],
      "metadata": {
        "id": "VDTTky-DuCl2"
      }
    },
    {
      "cell_type": "markdown",
      "source": [
        "## Pipeline"
      ],
      "metadata": {
        "id": "l8kgYD3OuF4b"
      }
    },
    {
      "cell_type": "markdown",
      "source": [
        "Leakage?  \n",
        " .fit() only for training data  \n",
        " .transform() for training & test data  \n",
        "      \n",
        " Leakage occurs whenever a fit() method is applied to testing data. \n",
        "\n",
        " A pipeline is a mechanism to combine a series of steps. Rather than apply each of the steps individually, they are all grouped together and applied as a single unit.      \n",
        "Recall the previous steps:  \n",
        "indexer= Stringindexer(inputCol='type', outputCol='type_idx')  \n",
        "onehot= OneHotEncoder(inputCols=['type_idx'], outputCols=['type_dummy'] )  \n",
        "assemble = VectorAssemble([inputCols=[], outputCols='features')  \n",
        "regression= LinearRegression(labelCol=)\n",
        "  \n",
        "A pipeline makes training and testing a complicate model a lot easier  \n",
        "from pyspark.ml import Pipeline  \n",
        "pipeline = Pipeline(stages=[indexer, onehot, assemble, regression])  \n",
        "  \n",
        "pipeline = pipeline.fit(cars_train)  \n",
        "predicitons = pipeline.transform(cars_test)  \n",
        "\n",
        " \\# Access individual stages  \n",
        " pipeline.stages[3]   "
      ],
      "metadata": {
        "id": "mmTPSJ72uhl8"
      }
    },
    {
      "cell_type": "markdown",
      "source": [
        "Flight duration model: Pipeline stages\n",
        "\n",
        "You're going to create the stages for the flights duration model pipeline. You will use these in the next exercise to build a pipeline and to create a regression model.\n",
        "\n",
        "The StringIndexer, OneHotEncoder, VectorAssembler and LinearRegression classes are already imported."
      ],
      "metadata": {
        "id": "A0ACReJDQuqf"
      }
    },
    {
      "cell_type": "code",
      "source": [
        "from pyspark.ml.feature import StringIndexer, OneHotEncoder, VectorAssembler\n",
        "from pyspark.ml.regression import LinearRegression\n",
        "# Preparation for the following exercise  \n",
        "flights= spark.read.csv('/content/drive/MyDrive/Physics/Books_articles_works/Programming/Individual_projects/Machine learning notes and projects/machine_learning_with_pyspark/flights-larger.csv', header=True, inferSchema=True, nullValue='NA' )\n",
        "# Remove the 'flight' column\n",
        "flights_drop_column = flights.drop('flight')\n",
        "\n",
        "\n",
        "# Remove records with missing 'delay' values\n",
        "flights_valid_delay = flights_drop_column.filter('delay IS NOT NULL')\n",
        "\n",
        "# Remove records with missing values in any column and get the number of remaining rows\n",
        "flights_none_missing = flights_valid_delay.dropna()\n",
        "\n",
        "\n",
        "# Import the required function\n",
        "\n",
        "from pyspark.sql.functions import round\n",
        "\n",
        "# Convert 'mile' to 'km' and drop 'mile' column (1 mile is equivalent to 1.60934 km)\n",
        "flights_km = flights_none_missing.withColumn('km', round(flights_none_missing.mile * 1.60934, 0)) \\\n",
        "                    .drop('mile')\n",
        "\n",
        "# Convert categorical strings to index values\n",
        "indexer = StringIndexer(inputCol='org',outputCol='org_idx')\n",
        "\n",
        "# One-hot encode index values\n",
        "onehot = OneHotEncoder(\n",
        "    inputCols=['org_idx','dow'],\n",
        "    outputCols=['org_dummy','dow_dummy']\n",
        ")\n",
        "\n",
        "# Assemble predictors into a single column\n",
        "assembler = VectorAssembler(inputCols=['km','org_dummy','dow_dummy'], outputCol='features')\n",
        "\n",
        "# A linear regression object\n",
        "regression = LinearRegression(labelCol='duration')"
      ],
      "metadata": {
        "id": "jA79AUiZQ3b3"
      },
      "execution_count": null,
      "outputs": []
    },
    {
      "cell_type": "markdown",
      "source": [
        "Flight duration model: Pipeline model\n",
        "\n",
        "You're now ready to put those stages together in a pipeline.\n",
        "\n",
        "You'll construct the pipeline and then train the pipeline on the training data. This will apply each of the individual stages in the pipeline to the training data in turn. None of the stages will be exposed to the testing data at all: there will be no leakage!\n",
        "\n",
        "Once the entire pipeline has been trained it will then be used to make predictions on the testing data.\n",
        "\n",
        "The data are available as flights, which has been randomly split into flights_train and flights_test."
      ],
      "metadata": {
        "id": "9XryKVqaSKSP"
      }
    },
    {
      "cell_type": "code",
      "source": [
        "flights_train, flights_test =  flights_km.randomSplit([0.8,0.2], seed=42)  \n",
        "# Import class for creating a pipeline\n",
        "from pyspark.ml import Pipeline\n",
        "\n",
        "# Construct a pipeline\n",
        "pipeline = Pipeline(stages=[indexer,onehot,assembler,regression])\n",
        "\n",
        "# Train the pipeline on the training data\n",
        "pipeline = pipeline.fit(flights_train)\n",
        "\n",
        "# Make predictions on the testing data\n",
        "predictions = pipeline.transform(flights_test)"
      ],
      "metadata": {
        "id": "4btzlAkYSQFS"
      },
      "execution_count": null,
      "outputs": []
    },
    {
      "cell_type": "markdown",
      "source": [
        "SMS spam pipeline\n",
        "\n",
        "You haven't looked at the SMS data for quite a while. Last time we did the following:\n",
        "\n",
        "*    split the text into tokens\n",
        "*    removed stop words\n",
        "*    applied the hashing trick\n",
        "*    converted the data from counts to IDF and\n",
        "*    trained a logistic regression model.\n",
        "\n",
        "Each of these steps was done independently. This seems like a great application for a pipeline!"
      ],
      "metadata": {
        "id": "FNImkH0sTnNv"
      }
    },
    {
      "cell_type": "code",
      "source": [
        "from pyspark.sql.types import StructType, StructField, IntegerType, StringType\n",
        "\n",
        "# Specify column names and types\n",
        "schema = StructType([\n",
        "    StructField(\"id\", IntegerType()),\n",
        "    StructField(\"text\", StringType()),\n",
        "    StructField(\"label\", IntegerType())\n",
        "])\n",
        "\n",
        "# Load data from a delimited file\n",
        "sms = spark.read.csv('/content/drive/MyDrive/Physics/Books_articles_works/Programming/Individual_projects/Machine learning notes and projects/machine_learning_with_pyspark/sms.csv', sep=';', header=False, schema=schema)\n",
        "\n",
        "# Print schema of DataFrame\n",
        "sms.printSchema()"
      ],
      "metadata": {
        "colab": {
          "base_uri": "https://localhost:8080/"
        },
        "id": "bjQP9WxoTjiS",
        "outputId": "7fc0ca78-5119-40f1-9061-411acbe95cde"
      },
      "execution_count": null,
      "outputs": [
        {
          "output_type": "stream",
          "name": "stdout",
          "text": [
            "root\n",
            " |-- id: integer (nullable = true)\n",
            " |-- text: string (nullable = true)\n",
            " |-- label: integer (nullable = true)\n",
            "\n"
          ]
        }
      ]
    },
    {
      "cell_type": "code",
      "source": [
        "from pyspark.ml.feature import Tokenizer, StopWordsRemover, HashingTF, IDF\n",
        "from pyspark.ml.classification import LogisticRegression\n",
        "\n",
        "# Break text into tokens at non-word characters\n",
        "tokenizer = Tokenizer(inputCol='text', outputCol='words')\n",
        "\n",
        "# Remove stop words\n",
        "remover = StopWordsRemover(inputCol=tokenizer.getOutputCol(), outputCol='terms')\n",
        "\n",
        "# Apply the hashing trick and transform to TF-IDF\n",
        "hasher = HashingTF(inputCol=remover.getOutputCol(), outputCol=\"hash\")\n",
        "idf = IDF(inputCol=hasher.getOutputCol(), outputCol=\"features\")\n",
        "\n",
        "# Create a logistic regression object and add everything to a pipeline\n",
        "logistic = LogisticRegression()\n",
        "pipeline = Pipeline(stages=[tokenizer, remover, hasher, idf, logistic])"
      ],
      "metadata": {
        "id": "yUbUbG8hT4jv"
      },
      "execution_count": null,
      "outputs": []
    },
    {
      "cell_type": "markdown",
      "source": [
        "**Cross validation**  \n",
        "We start we the full data. We split the training data into folds. The number of folds, n-folds cross validation.  \n",
        "  \n",
        "Once the training data have been split into folds you can start cross-validating. First keep aside the data in the first fold. Train a model on the remaining four folds. Then evaluate that model on the data from the first fold. This will give the first value for the evaluation metric. \n",
        "\n",
        "Next you move onto the second fold, where the same process is repeated: data in the second fold are set aside for testing while the remaining four folds are used to train a model. That model is tested on the second fold data, yielding the second value for the evaluation metric. \n",
        "  \n",
        "You repeat the process for the remaining folds. Each of the folds is used in turn as testing data and you end up with as many values for the evaluation metric as there are folds. At this point you are in a position to calculate the average of the evaluation metric over all folds, which is a much more robust measure of model performance than a single value.   \n"
      ],
      "metadata": {
        "id": "Cy75lYDxTZIo"
      }
    },
    {
      "cell_type": "markdown",
      "source": [
        "Estimator and evaluator:  \n",
        "  \n",
        "regression = LinearRegression(labelCol=)  \n",
        "evaluator = RegressionEvaluator(labelCol=)  \n",
        "    \n",
        "from pyspark.ml.tuning import CrossValidator, ParamGridBuilder  \n",
        "  \n",
        "params=  ParamGridBuilder().build()  \n",
        "cv = CrossValidator(estimator=regression, estimatorParmMaps=params, evaluator=evaluator, numFolds=10, seed=13)  \n",
        "  \n",
        "cv = cv.fit(train_data)  \n",
        "cv.avgMetrics  \n"
      ],
      "metadata": {
        "id": "J9whEpGRWA6O"
      }
    },
    {
      "cell_type": "markdown",
      "source": [
        "Cross-validators act like models:  \n",
        "\\# Make predictions on the original testing data  \n",
        "evaluator.evaluate(cv.transform(test_data))  "
      ],
      "metadata": {
        "id": "xBh75fyKXFND"
      }
    },
    {
      "cell_type": "markdown",
      "source": [
        "Cross validating simple flight duration model\n",
        "\n",
        "You've already built a few models for predicting flight duration and evaluated them with a simple train/test split. However, cross-validation provides a much better way to evaluate model performance.\n",
        "\n",
        "In this exercise you're going to train a simple model for flight duration using cross-validation. Travel time is usually strongly correlated with distance, so using the km column alone should give a decent model.\n",
        "\n",
        "The data have been randomly split into flights_train and flights_test."
      ],
      "metadata": {
        "id": "cDyr9CWwXiMp"
      }
    },
    {
      "cell_type": "code",
      "source": [
        "from pyspark.ml.feature import StringIndexer, OneHotEncoder, VectorAssembler\n",
        "from pyspark.ml.regression import LinearRegression\n",
        "from pyspark.ml.evaluation import RegressionEvaluator\n",
        "from pyspark.ml.tuning import ParamGridBuilder, CrossValidator\n",
        "from pyspark.sql.functions import round\n",
        "from pyspark.ml import Pipeline\n",
        "\n",
        "\n",
        "# Complete preparation from importing the data \n",
        "flights= spark.read.csv('/content/drive/MyDrive/Physics/Books_articles_works/Programming/Individual_projects/Machine learning notes and projects/machine_learning_with_pyspark/flights-larger.csv', header=True, inferSchema=True, nullValue='NA' )\n",
        "\n",
        "# Remove the 'flight' column\n",
        "flights_drop_column = flights.drop('flight')\n",
        "\n",
        "\n",
        "# Remove records with missing 'delay' values\n",
        "flights_valid_delay = flights_drop_column.filter('delay IS NOT NULL')\n",
        "\n",
        "# Remove records with missing values in any column and get the number of remaining rows\n",
        "flights_none_missing = flights_valid_delay.dropna()\n",
        "\n",
        "\n",
        "# Convert 'mile' to 'km' and drop 'mile' column (1 mile is equivalent to 1.60934 km)\n",
        "flights_km = flights_none_missing.withColumn('km', round(flights_none_missing.mile * 1.60934, 0)) \\\n",
        "                    .drop('mile')\n",
        "\n",
        "\n",
        "# Create an indexer for the org field\n",
        "indexer = StringIndexer(inputCol='org',outputCol='org_idx')\n",
        "\n",
        "\n",
        "# Create an one-hot encoder for the indexed org field\n",
        "onehot = OneHotEncoder(\n",
        "    inputCols=['org_idx','dow','mon'],\n",
        "    outputCols=['org_dummy','dow_dummy','mon_dummy']\n",
        ")\n",
        "\n",
        "\n",
        "# Assemble the km and one-hot encoded fields\n",
        "assembler = VectorAssembler(inputCols=['km','org_dummy','dow_dummy','mon_dummy'], outputCol='features')\n",
        "\n",
        "# Create an empty parameter grid\n",
        "params = ParamGridBuilder().build()\n",
        "\n",
        "# Create objects for building and evaluating a regression model\n",
        "regression = LinearRegression(labelCol='duration')\n",
        "evaluator = RegressionEvaluator(labelCol='duration')\n",
        "\n",
        "# Create a pipeline and cross-validator.\n",
        "pipeline = Pipeline(stages=[indexer, onehot, assembler, regression])\n",
        "cv = CrossValidator(estimator=pipeline,\n",
        "          estimatorParamMaps=params, numFolds=3, seed=13,\n",
        "          evaluator=evaluator)\n",
        "\n",
        "flights_train, flights_test =  flights_km.randomSplit([0.8,0.2], seed=42)  \n",
        "\n",
        "cv = cv.fit(flights_train)"
      ],
      "metadata": {
        "id": "THhnaIFfVRLN"
      },
      "execution_count": null,
      "outputs": []
    },
    {
      "cell_type": "code",
      "source": [
        "cv.avgMetrics"
      ],
      "metadata": {
        "colab": {
          "base_uri": "https://localhost:8080/"
        },
        "id": "9iFBmuwoaE5U",
        "outputId": "a0389ea5-3980-49ed-d0fe-53014f58737f"
      },
      "execution_count": null,
      "outputs": [
        {
          "output_type": "execute_result",
          "data": {
            "text/plain": [
              "[10.95693170732792]"
            ]
          },
          "metadata": {},
          "execution_count": 7
        }
      ]
    },
    {
      "cell_type": "code",
      "source": [
        "evaluator.evaluate(cv.transform(flights_test))"
      ],
      "metadata": {
        "colab": {
          "base_uri": "https://localhost:8080/"
        },
        "id": "dAB4Bq2XaSBk",
        "outputId": "7fc12a81-7acb-4ae7-fafc-5cac2ff5e0b9"
      },
      "execution_count": null,
      "outputs": [
        {
          "output_type": "execute_result",
          "data": {
            "text/plain": [
              "10.94712972913171"
            ]
          },
          "metadata": {},
          "execution_count": 8
        }
      ]
    },
    {
      "cell_type": "markdown",
      "source": [
        "**Grid Search**   \n",
        "The optimal choice of parameters will depend on the data and the modeling goal.  \n",
        "Just getting a single estimate of RMSE is not very robust.  \n",
        "  \n",
        "We can systematically evaluate a model across a grid of parameter values using a technique known as grid search.  \n",
        "\n",
        "from pyspark.ml.tuning import ParamGridBuilder  \n",
        "params = ParamGridBuilder()  \n",
        "params = params.addGrid(regression.fitIntercept, [True, False])  \n",
        "params = params.build()  \n",
        "\n"
      ],
      "metadata": {
        "id": "CHphlTpaV9qh"
      }
    },
    {
      "cell_type": "markdown",
      "source": [
        "**The best model & parameters**    \n",
        "Our goal is to get the best model  \n",
        "\\# Access best model    \n",
        "cv.bestModel  \n",
        "  \n",
        "Or just use the cross validator object:  \n",
        "predictions = cv.transform(test_data)  \n",
        "\n",
        "Retrieve the best parameter  \n",
        "cv.bestModel.explainParam('fitIntercept')    \n",
        "  \n",
        "**A more complicated grid**  \n",
        "params = ParamGridBuilder().addGrid(regression.fitIntercept, [True, False]).addGrid(regression.regParam, [0.001, 0.01, 0.1,1,10]).addGrid(regressiion.elasticNetParam, [0,0.25,0.5,0.75,1]).build()  \n",
        "\n",
        "print(' Number of models to be tested': len(params))  \n"
      ],
      "metadata": {
        "id": "de2Tb37kcdcl"
      }
    },
    {
      "cell_type": "markdown",
      "source": [
        "Optimizing flights linear regression\n",
        "\n",
        "Up until now you've been using the default hyper-parameters when building your models. In this exercise you'll use cross validation to choose an optimal (or close to optimal) set of model hyper-parameters.\n",
        "\n",
        "The following have already been created:\n",
        "\n",
        "*    regression — a LinearRegression object\n",
        "*    pipeline — a pipeline with string indexer, one-hot encoder, vector assembler and linear regression and\n",
        "*    evaluator — a RegressionEvaluator object"
      ],
      "metadata": {
        "id": "M0j40dsQeZ9U"
      }
    },
    {
      "cell_type": "code",
      "source": [
        "from pyspark.ml.feature import StringIndexer, OneHotEncoder, VectorAssembler\n",
        "from pyspark.ml.regression import LinearRegression\n",
        "from pyspark.ml.evaluation import RegressionEvaluator\n",
        "from pyspark.ml.tuning import ParamGridBuilder, CrossValidator\n",
        "from pyspark.sql.functions import round\n",
        "from pyspark.ml import Pipeline\n",
        "\n",
        "# Create an indexer for the org field\n",
        "indexer = StringIndexer(inputCol='org',outputCol='org_idx')\n",
        "\n",
        "\n",
        "# Create an one-hot encoder for the indexed org field\n",
        "onehot = OneHotEncoder(\n",
        "    inputCols=['org_idx','dow','mon'],\n",
        "    outputCols=['org_dummy','dow_dummy','mon_dummy']\n",
        ")\n",
        "\n",
        "\n",
        "# Assemble the km and one-hot encoded fields\n",
        "assembler = VectorAssembler(inputCols=['km','org_dummy','dow_dummy','mon_dummy'], outputCol='features')\n",
        "\n",
        "# Create parameter grid\n",
        "params = ParamGridBuilder()\n",
        "\n",
        "# Add grids for two parameters\n",
        "params = params.addGrid(regression.regParam, [0.01, 0.1, 1.0, 10.0]) \\\n",
        "               .addGrid(regression.elasticNetParam, [0.0,0.5,1.0])\n",
        "\n",
        "# Build the parameter grid\n",
        "params = params.build()\n",
        "\n",
        "print('Number of models to be tested: ', len(params))\n",
        "\n",
        "# Create objects for building and evaluating a regression model\n",
        "regression = LinearRegression(labelCol='duration')\n",
        "evaluator = RegressionEvaluator(labelCol='duration')\n",
        "\n",
        "# Create a pipeline and cross-validator.\n",
        "pipeline = Pipeline(stages=[indexer, onehot, assembler, regression])\n",
        "\n",
        "# Create cross-validator\n",
        "cv = CrossValidator(estimator=pipeline, estimatorParamMaps=params, evaluator=evaluator, numFolds=5)\n",
        "\n",
        "flights_train, flights_test =  flights_km.randomSplit([0.8,0.2], seed=42)  \n",
        "\n",
        "cv = cv.fit(flights_train)"
      ],
      "metadata": {
        "colab": {
          "base_uri": "https://localhost:8080/"
        },
        "id": "Mgzb223bfrHn",
        "outputId": "a4ab9f01-30c5-4fcf-d539-c169d919c5fe"
      },
      "execution_count": null,
      "outputs": [
        {
          "output_type": "stream",
          "name": "stdout",
          "text": [
            "Number of models to be tested:  12\n"
          ]
        }
      ]
    },
    {
      "cell_type": "markdown",
      "source": [
        "Dissecting the best flight duration model\n",
        "\n",
        "You just set up a CrossValidator to find good parameters for the linear regression model predicting flight duration.\n",
        "\n",
        "The model pipeline has multiple stages (objects of type StringIndexer, OneHotEncoder, VectorAssembler and LinearRegression), which operate in sequence. The stages are available as the stages attribute on the pipeline object. They are represented by a list and the stages are executed in the sequence in which they appear in the list.\n",
        "\n",
        "Now you're going to take a closer look at the pipeline, split out the stages and use it to make predictions on the testing data."
      ],
      "metadata": {
        "id": "xVGV2gYAgVwo"
      }
    },
    {
      "cell_type": "code",
      "source": [
        "# Get the best model from cross validation\n",
        "best_model = cv.bestModel\n",
        "\n",
        "# Look at the stages in the best model\n",
        "print(best_model.stages)\n",
        "\n",
        "# Get the parameters for the LinearRegression object in the best model\n",
        "best_model.stages[3].extractParamMap()\n",
        "\n",
        "# Generate predictions on testing data using the best model then calculate RMSE\n",
        "predictions = best_model.transform(flights_test)\n",
        "print(\"RMSE =\", evaluator.evaluate(predictions))"
      ],
      "metadata": {
        "colab": {
          "base_uri": "https://localhost:8080/"
        },
        "id": "tx_r19_phH5o",
        "outputId": "1efbae31-2241-45db-b2a0-b007ba12ede2"
      },
      "execution_count": null,
      "outputs": [
        {
          "output_type": "stream",
          "name": "stdout",
          "text": [
            "[StringIndexerModel: uid=StringIndexer_1233b7da7ed7, handleInvalid=error, OneHotEncoderModel: uid=OneHotEncoder_ccde20101d66, dropLast=true, handleInvalid=error, numInputCols=3, numOutputCols=3, VectorAssembler_2427d2141f1c, LinearRegressionModel: uid=LinearRegression_7439d4c57af7, numFeatures=25]\n",
            "RMSE = 10.94712972913171\n"
          ]
        }
      ]
    },
    {
      "cell_type": "markdown",
      "source": [
        "We have add more features that in the exercises of the course, besides employing a larger dataset. We have better models than in the course but we did not improve significantly the previous ones created."
      ],
      "metadata": {
        "id": "prROvnAqhb6i"
      }
    },
    {
      "cell_type": "markdown",
      "source": [
        "SMS spam optimised\n",
        "\n",
        "The pipeline you built earlier for the SMS spam model used the default parameters for all of the elements in the pipeline. It's very unlikely that these parameters will give a particularly good model though. In this exercise you're going to run the pipeline for a selection of parameter values. We're going to do this in a systematic way: the values for each of the parameters will be laid out on a grid and then pipeline will systematically run across each point in the grid.\n",
        "\n",
        "In this exercise you'll set up a parameter grid which can be used with cross validation to choose a good set of parameters for the SMS spam classifier."
      ],
      "metadata": {
        "id": "YF9_90GaqURP"
      }
    },
    {
      "cell_type": "code",
      "source": [
        "from pyspark.sql.types import StructType, StructField, IntegerType, StringType\n",
        "\n",
        "\n",
        "# Specify column names and types\n",
        "schema = StructType([\n",
        "    StructField(\"id\", IntegerType()),\n",
        "    StructField(\"text\", StringType()),\n",
        "    StructField(\"label\", IntegerType())\n",
        "])\n",
        "\n",
        "# Load data from a delimited file\n",
        "sms = spark.read.csv('/content/drive/MyDrive/Physics/Books_articles_works/Programming/Individual_projects/Machine learning notes and projects/machine_learning_with_pyspark/sms.csv', sep=';', header=False, schema=schema)\n",
        "\n",
        "# Print schema of DataFrame\n",
        "sms.printSchema()"
      ],
      "metadata": {
        "colab": {
          "base_uri": "https://localhost:8080/"
        },
        "id": "09_tZaV7qfkf",
        "outputId": "e4daaf4d-493d-4cfa-dcfe-fd486b3eafdd"
      },
      "execution_count": 3,
      "outputs": [
        {
          "output_type": "stream",
          "name": "stdout",
          "text": [
            "root\n",
            " |-- id: integer (nullable = true)\n",
            " |-- text: string (nullable = true)\n",
            " |-- label: integer (nullable = true)\n",
            "\n"
          ]
        }
      ]
    },
    {
      "cell_type": "code",
      "source": [
        "from pyspark.ml.feature import HashingTF, IDF, Tokenizer, StopWordsRemover\n",
        "from pyspark.ml.classification import LogisticRegression\n",
        "from pyspark.ml import Pipeline\n",
        "from pyspark.ml.tuning import ParamGridBuilder, CrossValidator\n",
        "\n",
        "# Break text into tokens at non-word characters\n",
        "tokenizer = Tokenizer(inputCol='text', outputCol='words')\n",
        "\n",
        "# Remove stop words\n",
        "remover = StopWordsRemover(inputCol=tokenizer.getOutputCol(), outputCol='terms')\n",
        "\n",
        "# Apply the hashing trick and transform to TF-IDF\n",
        "hasher = HashingTF(inputCol=remover.getOutputCol(), outputCol=\"hash\")\n",
        "idf = IDF(inputCol=hasher.getOutputCol(), outputCol=\"features\")\n",
        "\n",
        "# Create a logistic regression object and add everything to a pipeline\n",
        "logistic = LogisticRegression()\n",
        "\n",
        "# Create parameter grid\n",
        "params = ParamGridBuilder()\n",
        "\n",
        "# Add grid for hashing trick parameters\n",
        "params = params.addGrid(hasher.numFeatures, [1024, 4096, 16384]) \\\n",
        "               .addGrid(hasher.binary, [True,False])\n",
        "\n",
        "# Add grid for logistic regression parameters\n",
        "params = params.addGrid(logistic.regParam, [0.01,0.1,1.0,10.0]) \\\n",
        "               .addGrid(logistic.elasticNetParam, [0.0,0.5,1.0])\n",
        "\n",
        "# Build parameter grid\n",
        "params = params.build()  \n",
        "\n",
        "# Build the pipeline\n",
        "pipeline = Pipeline(stages=[tokenizer, remover, hasher, idf, logistic])"
      ],
      "metadata": {
        "id": "V7lppqaqtbG_"
      },
      "execution_count": 7,
      "outputs": []
    },
    {
      "cell_type": "markdown",
      "source": [
        "**Ensemble**  \n",
        "How models can be combined to form a collection or \"ensemble\" which is more powerful than each of the individuals alone.  \n",
        "  \n",
        "An ensemble is a collection of models.  \n",
        "\n",
        "Diversity and independence are important because the best collective decisions are the product of siagreement and contest, not consensus or compromise.  \n",
        "\n",
        "Random Forest:  \n",
        "Random Forest - an ensemble of decision trees.  \n",
        "* Each tree trained on random sibset of data\n",
        "* random subset of features used for splitting at each node\n",
        "* all of the trees operate in parallel\n",
        "\n",
        "In pyspark:  \n",
        "from pyspark.ml.classification import RandomForestClassifier  \n",
        "forest = RandomForestClassifier(numTrees=5)    \n",
        "forest = forest.fit(train_data)  \n",
        "\\# make predictions  \n",
        "predictions = forest.transform(test_data)  \n",
        "\\# Feature importances  \n",
        "forest.featureImportances\n",
        "  \n",
        "\n"
      ],
      "metadata": {
        "id": "ZV_2cLUAt68E"
      }
    },
    {
      "cell_type": "markdown",
      "source": [
        "Gradient-Boosted trees:    \n",
        "To build a collection of diverse models, but the approach is slightly different. Rather than building a set of trees that operate in parallel, now we build trees which work in series. The boosting algorithm works iteratively.  \n",
        "  \n",
        " from pyspark.ml.classification import GBTClassifier  \n",
        " gbt = GBTClassifier(maxIter=10)    \n",
        " gbt = gbt.fit(train_data)   "
      ],
      "metadata": {
        "id": "jBbO7vDg2x1Y"
      }
    },
    {
      "cell_type": "markdown",
      "source": [
        "Delayed flights with Gradient-Boosted Trees\n",
        "\n",
        "You've previously built a classifier for flights likely to be delayed using a Decision Tree. In this exercise you'll compare a Decision Tree model to a Gradient-Boosted Trees model.\n",
        "\n",
        "The flights data have been randomly split into flights_train and flights_test."
      ],
      "metadata": {
        "id": "pKOUBJf43l9H"
      }
    },
    {
      "cell_type": "code",
      "source": [
        "flights= spark.read.csv('/content/drive/MyDrive/Physics/Books_articles_works/Programming/Individual_projects/Machine learning notes and projects/machine_learning_with_pyspark/flights-larger.csv', header=True, inferSchema=True, nullValue='NA' )\n",
        "# Remove the 'flight' column\n",
        "flights_drop_column = flights.drop('flight')\n",
        "\n",
        "\n",
        "# Remove records with missing 'delay' values\n",
        "flights_valid_delay = flights_drop_column.filter('delay IS NOT NULL')\n",
        "\n",
        "# Remove records with missing values in any column and get the number of remaining rows\n",
        "flights_none_missing = flights_valid_delay.dropna()\n",
        "\n",
        "\n",
        "# Import the required function\n",
        "\n",
        "from pyspark.sql.functions import round\n",
        "\n",
        "# Convert 'mile' to 'km' and drop 'mile' column (1 mile is equivalent to 1.60934 km)\n",
        "flights_km = flights_none_missing.withColumn('km', round(flights_none_missing.mile * 1.60934, 0)) \\\n",
        "                    .drop('mile')\n",
        "\n",
        "# Create 'label' column indicating whether flight delayed (1) or not (0)\n",
        "flights_km = flights_km.withColumn('label', (flights_none_missing.delay>=15).cast('integer'))\n",
        "\n",
        "from pyspark.ml.feature import StringIndexer\n",
        "\n",
        "# Create an indexer\n",
        "indexer = StringIndexer(inputCol='carrier', outputCol='carrier_idx')\n",
        "\n",
        "# Indexer identifies categories in the data\n",
        "indexer_model = indexer.fit(flights_km)\n",
        "\n",
        "# Indexer creates a new column with numeric index values\n",
        "flights_indexed = indexer_model.transform(flights_km)\n",
        "\n",
        "# Repeat the process for the other categorical feature\n",
        "flights_indexed = StringIndexer(inputCol='org', outputCol='org_idx').fit(flights_indexed).transform(flights_indexed)\n",
        "\n",
        "# Import the necessary class\n",
        "from pyspark.ml.feature import VectorAssembler\n",
        "\n",
        "# Create an assembler object\n",
        "assembler = VectorAssembler(inputCols=['mon','dom','dow','carrier_idx','org_idx','km','depart','duration'], outputCol='features')\n",
        "\n",
        "\n",
        "# Consolidate predictor columns\n",
        "flights_assembled = assembler.transform(flights_indexed)\n",
        "\n",
        "# Split into training and testing sets in a 80:20 ratio\n",
        "flights_train, flights_test = flights_assembled.randomSplit([0.8,0.2], seed=43)"
      ],
      "metadata": {
        "id": "ZX9vGg5T6KAb"
      },
      "execution_count": 8,
      "outputs": []
    },
    {
      "cell_type": "code",
      "source": [
        "# Import the classes required\n",
        "from pyspark.ml.classification import DecisionTreeClassifier, GBTClassifier\n",
        "from pyspark.ml.evaluation import BinaryClassificationEvaluator\n",
        "\n",
        "# Create model objects and train on training data\n",
        "tree = DecisionTreeClassifier().fit(flights_train)\n",
        "gbt = GBTClassifier().fit(flights_train)\n",
        "\n",
        "# Compare AUC on testing data\n",
        "evaluator = BinaryClassificationEvaluator()\n",
        "print(evaluator.evaluate(tree.transform(flights_test)))\n",
        "print(evaluator.evaluate(gbt.transform(flights_test)))\n",
        "\n",
        "# Find the number of trees and the relative importance of features\n",
        "print(gbt.getNumTrees)\n",
        "print(gbt.featureImportances)"
      ],
      "metadata": {
        "colab": {
          "base_uri": "https://localhost:8080/"
        },
        "id": "JWdpThZS3lRx",
        "outputId": "8a72933c-3f1f-4c80-a848-3f6a4acf5124"
      },
      "execution_count": 9,
      "outputs": [
        {
          "output_type": "stream",
          "name": "stdout",
          "text": [
            "0.6067455054047322\n",
            "0.7241151635852179\n",
            "20\n",
            "(8,[0,1,2,3,4,5,6,7],[0.27611662785347646,0.15879100856112788,0.11563336197558523,0.07892271458395149,0.16523321455112502,0.056096907809597536,0.1389320255736285,0.010274139091507884])\n"
          ]
        }
      ]
    },
    {
      "cell_type": "code",
      "source": [
        "from pyspark.ml.classification import RandomForestClassifier\n",
        "# Create a random forest classifier\n",
        "forest = RandomForestClassifier()\n",
        "\n",
        "# Create a parameter grid\n",
        "params = ParamGridBuilder() \\\n",
        "            .addGrid(forest.featureSubsetStrategy, ['all', 'onethird', 'sqrt', 'log2']) \\\n",
        "            .addGrid(forest.maxDepth, [2, 5, 10]) \\\n",
        "            .build()\n",
        "\n",
        "# Create a binary classification evaluator\n",
        "evaluator = BinaryClassificationEvaluator()\n",
        "\n",
        "# Create a cross-validator\n",
        "cv = CrossValidator(estimator=forest, estimatorParamMaps=params, evaluator=evaluator, numFolds=5)\n",
        "\n",
        "cv = cv.fit(flights_train)"
      ],
      "metadata": {
        "id": "BaL2DBl-taWX"
      },
      "execution_count": 10,
      "outputs": []
    },
    {
      "cell_type": "markdown",
      "source": [
        "Evaluating Random Forest\n",
        "\n",
        "In this final exercise you'll be evaluating the results of cross-validation on a Random Forest model.\n",
        "\n",
        "The following have already been created:\n",
        "\n",
        "*    cv - a cross-validator which has already been fit to the training data\n",
        " *   evaluator — a BinaryClassificationEvaluator object and\n",
        " *   flights_test — the testing data.\n"
      ],
      "metadata": {
        "id": "qsEWQ3yrBavg"
      }
    },
    {
      "cell_type": "code",
      "source": [
        "from pyspark.ml.evaluation import BinaryClassificationEvaluator\n",
        "evaluator = BinaryClassificationEvaluator()\n",
        "\n",
        "# Average AUC for each parameter combination in grid\n",
        "print(cv.avgMetrics)\n",
        "\n",
        "# Average AUC for the best model\n",
        "print(max(cv.avgMetrics))\n",
        "\n",
        "# What's the optimal parameter value for maxDepth?\n",
        "print(cv.bestModel.explainParam('maxDepth'))\n",
        "# What's the optimal parameter value for featureSubsetStrategy?\n",
        "print(cv.bestModel.explainParam('featureSubsetStrategy'))\n",
        "\n",
        "# AUC for best model on testing data\n",
        "print(evaluator.evaluate(cv.transform(flights_test)))"
      ],
      "metadata": {
        "colab": {
          "base_uri": "https://localhost:8080/"
        },
        "id": "8WSHpUcCBFSK",
        "outputId": "3d3ed972-5a33-4278-be98-eed31736a409"
      },
      "execution_count": 11,
      "outputs": [
        {
          "output_type": "stream",
          "name": "stdout",
          "text": [
            "[0.6201115052383643, 0.6818275880915822, 0.7367342743421353, 0.6614670704766494, 0.6866884989952823, 0.7310671610479339, 0.6614670704766493, 0.6866857639146802, 0.7310680021832129, 0.6614670704766493, 0.6866852357971351, 0.7310681521639675]\n",
            "0.7367342743421353\n",
            "maxDepth: Maximum depth of the tree. (>= 0) E.g., depth 0 means 1 leaf node; depth 1 means 1 internal node + 2 leaf nodes. Must be in range [0, 30]. (default: 5, current: 10)\n",
            "featureSubsetStrategy: The number of features to consider for splits at each tree node. Supported options: 'auto' (choose automatically for task: If numTrees == 1, set to 'all'. If numTrees > 1 (forest), set to 'sqrt' for classification and to 'onethird' for regression), 'all' (use all features), 'onethird' (use 1/3 of the features), 'sqrt' (use sqrt(number of features)), 'log2' (use log2(number of features)), 'n' (when n is in the range (0, 1.0], use n * number of features. When n is in the range (1, number of features), use n features). default = 'auto' (default: auto, current: all)\n",
            "0.736230426964434\n"
          ]
        }
      ]
    }
  ]
}